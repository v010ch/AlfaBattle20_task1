{
 "cells": [
  {
   "cell_type": "code",
   "execution_count": 1,
   "metadata": {},
   "outputs": [
    {
     "name": "stderr",
     "output_type": "stream",
     "text": [
      "C:\\Users\\_v010ch_\\Anaconda3\\lib\\site-packages\\tqdm\\std.py:697: FutureWarning: The Panel class is removed from pandas. Accessing it from the top-level namespace will also be removed in the next version\n",
      "  from pandas import Panel\n"
     ]
    }
   ],
   "source": [
    "import os\n",
    "from glob import glob\n",
    "\n",
    "import pandas as pd\n",
    "import numpy as np\n",
    "from collections import Counter\n",
    "\n",
    "import pickle\n",
    "import gc\n",
    "\n",
    "from tqdm import tqdm\n",
    "tqdm.pandas()"
   ]
  },
  {
   "cell_type": "code",
   "execution_count": 2,
   "metadata": {},
   "outputs": [],
   "source": [
    "import catboost as cb"
   ]
  },
  {
   "cell_type": "code",
   "execution_count": 3,
   "metadata": {},
   "outputs": [],
   "source": [
    "DATA = './data'\n",
    "DATA_OWN = './data_own'\n",
    "CLICKSTREAM = 'alfabattle2_abattle_clickstream'\n",
    "MODELS = './models'\n",
    "UTILS = './utils'\n",
    "SUBM = './submissions'"
   ]
  },
  {
   "cell_type": "code",
   "execution_count": null,
   "metadata": {},
   "outputs": [],
   "source": []
  },
  {
   "cell_type": "code",
   "execution_count": null,
   "metadata": {},
   "outputs": [],
   "source": []
  },
  {
   "cell_type": "code",
   "execution_count": 4,
   "metadata": {},
   "outputs": [
    {
     "data": {
      "text/html": [
       "<div>\n",
       "<style scoped>\n",
       "    .dataframe tbody tr th:only-of-type {\n",
       "        vertical-align: middle;\n",
       "    }\n",
       "\n",
       "    .dataframe tbody tr th {\n",
       "        vertical-align: top;\n",
       "    }\n",
       "\n",
       "    .dataframe thead th {\n",
       "        text-align: right;\n",
       "    }\n",
       "</style>\n",
       "<table border=\"1\" class=\"dataframe\">\n",
       "  <thead>\n",
       "    <tr style=\"text-align: right;\">\n",
       "      <th></th>\n",
       "      <th>client_pin</th>\n",
       "      <th>timestamp</th>\n",
       "    </tr>\n",
       "  </thead>\n",
       "  <tbody>\n",
       "    <tr>\n",
       "      <th>0</th>\n",
       "      <td>f0c674b2bb4dc64be607029271d706ec</td>\n",
       "      <td>2020-08-01 00:00:53</td>\n",
       "    </tr>\n",
       "    <tr>\n",
       "      <th>1</th>\n",
       "      <td>90725b54ce77576883813d87749df6bd</td>\n",
       "      <td>2020-08-01 00:02:57</td>\n",
       "    </tr>\n",
       "    <tr>\n",
       "      <th>2</th>\n",
       "      <td>eb0f82d74c7b7bd5eafbd5b5f8cb3e2a</td>\n",
       "      <td>2020-08-01 00:03:14</td>\n",
       "    </tr>\n",
       "    <tr>\n",
       "      <th>3</th>\n",
       "      <td>831bf4c0ecccc55e536b8cfb9153d672</td>\n",
       "      <td>2020-08-01 00:04:44</td>\n",
       "    </tr>\n",
       "    <tr>\n",
       "      <th>4</th>\n",
       "      <td>3f1a5a1c492ce877af833113e59c5797</td>\n",
       "      <td>2020-08-01 00:06:40</td>\n",
       "    </tr>\n",
       "  </tbody>\n",
       "</table>\n",
       "</div>"
      ],
      "text/plain": [
       "                         client_pin           timestamp\n",
       "0  f0c674b2bb4dc64be607029271d706ec 2020-08-01 00:00:53\n",
       "1  90725b54ce77576883813d87749df6bd 2020-08-01 00:02:57\n",
       "2  eb0f82d74c7b7bd5eafbd5b5f8cb3e2a 2020-08-01 00:03:14\n",
       "3  831bf4c0ecccc55e536b8cfb9153d672 2020-08-01 00:04:44\n",
       "4  3f1a5a1c492ce877af833113e59c5797 2020-08-01 00:06:40"
      ]
     },
     "execution_count": 4,
     "metadata": {},
     "output_type": "execute_result"
    }
   ],
   "source": [
    "data_pred = pd.read_csv(os.path.join(DATA, 'alfabattle2_prediction_session_timestamp.csv'), parse_dates=['timestamp'])\n",
    "data_pred.head()"
   ]
  },
  {
   "cell_type": "code",
   "execution_count": 21,
   "metadata": {},
   "outputs": [
    {
     "data": {
      "text/plain": [
       "(79268, 26)"
      ]
     },
     "execution_count": 21,
     "metadata": {},
     "output_type": "execute_result"
    }
   ],
   "source": [
    "data_pred.shape"
   ]
  },
  {
   "cell_type": "code",
   "execution_count": 5,
   "metadata": {},
   "outputs": [],
   "source": [
    "def get_time_of_day(inp_hour):\n",
    "    if (inp_hour >= 12) and (inp_hour < 18):\n",
    "        return 'day'\n",
    "    elif (inp_hour >= 6) and (inp_hour < 12):\n",
    "        return 'morning'\n",
    "    elif (inp_hour >= 18) and (inp_hour <= 23):\n",
    "        return 'evening'\n",
    "    else:\n",
    "        return 'night'"
   ]
  },
  {
   "cell_type": "code",
   "execution_count": 6,
   "metadata": {},
   "outputs": [
    {
     "name": "stdout",
     "output_type": "stream",
     "text": [
      "Wall time: 741 ms\n"
     ]
    }
   ],
   "source": [
    "%%time\n",
    "data_pred['dom']  = data_pred.timestamp.apply(lambda x: x.day)\n",
    "data_pred['dow']  = data_pred.timestamp.apply(lambda x: x.weekday())\n",
    "data_pred['hour'] = data_pred.timestamp.apply(lambda x: x.hour)\n",
    "data_pred['tod']  = data_pred.hour.apply(get_time_of_day)"
   ]
  },
  {
   "cell_type": "code",
   "execution_count": 7,
   "metadata": {},
   "outputs": [
    {
     "data": {
      "text/html": [
       "<div>\n",
       "<style scoped>\n",
       "    .dataframe tbody tr th:only-of-type {\n",
       "        vertical-align: middle;\n",
       "    }\n",
       "\n",
       "    .dataframe tbody tr th {\n",
       "        vertical-align: top;\n",
       "    }\n",
       "\n",
       "    .dataframe thead th {\n",
       "        text-align: right;\n",
       "    }\n",
       "</style>\n",
       "<table border=\"1\" class=\"dataframe\">\n",
       "  <thead>\n",
       "    <tr style=\"text-align: right;\">\n",
       "      <th></th>\n",
       "      <th>client_pin</th>\n",
       "      <th>timestamp</th>\n",
       "      <th>dom</th>\n",
       "      <th>dow</th>\n",
       "      <th>hour</th>\n",
       "      <th>tod</th>\n",
       "    </tr>\n",
       "  </thead>\n",
       "  <tbody>\n",
       "    <tr>\n",
       "      <th>0</th>\n",
       "      <td>f0c674b2bb4dc64be607029271d706ec</td>\n",
       "      <td>2020-08-01 00:00:53</td>\n",
       "      <td>1</td>\n",
       "      <td>5</td>\n",
       "      <td>0</td>\n",
       "      <td>night</td>\n",
       "    </tr>\n",
       "    <tr>\n",
       "      <th>1</th>\n",
       "      <td>90725b54ce77576883813d87749df6bd</td>\n",
       "      <td>2020-08-01 00:02:57</td>\n",
       "      <td>1</td>\n",
       "      <td>5</td>\n",
       "      <td>0</td>\n",
       "      <td>night</td>\n",
       "    </tr>\n",
       "    <tr>\n",
       "      <th>2</th>\n",
       "      <td>eb0f82d74c7b7bd5eafbd5b5f8cb3e2a</td>\n",
       "      <td>2020-08-01 00:03:14</td>\n",
       "      <td>1</td>\n",
       "      <td>5</td>\n",
       "      <td>0</td>\n",
       "      <td>night</td>\n",
       "    </tr>\n",
       "    <tr>\n",
       "      <th>3</th>\n",
       "      <td>831bf4c0ecccc55e536b8cfb9153d672</td>\n",
       "      <td>2020-08-01 00:04:44</td>\n",
       "      <td>1</td>\n",
       "      <td>5</td>\n",
       "      <td>0</td>\n",
       "      <td>night</td>\n",
       "    </tr>\n",
       "    <tr>\n",
       "      <th>4</th>\n",
       "      <td>3f1a5a1c492ce877af833113e59c5797</td>\n",
       "      <td>2020-08-01 00:06:40</td>\n",
       "      <td>1</td>\n",
       "      <td>5</td>\n",
       "      <td>0</td>\n",
       "      <td>night</td>\n",
       "    </tr>\n",
       "  </tbody>\n",
       "</table>\n",
       "</div>"
      ],
      "text/plain": [
       "                         client_pin           timestamp  dom  dow  hour    tod\n",
       "0  f0c674b2bb4dc64be607029271d706ec 2020-08-01 00:00:53    1    5     0  night\n",
       "1  90725b54ce77576883813d87749df6bd 2020-08-01 00:02:57    1    5     0  night\n",
       "2  eb0f82d74c7b7bd5eafbd5b5f8cb3e2a 2020-08-01 00:03:14    1    5     0  night\n",
       "3  831bf4c0ecccc55e536b8cfb9153d672 2020-08-01 00:04:44    1    5     0  night\n",
       "4  3f1a5a1c492ce877af833113e59c5797 2020-08-01 00:06:40    1    5     0  night"
      ]
     },
     "execution_count": 7,
     "metadata": {},
     "output_type": "execute_result"
    }
   ],
   "source": [
    "data_pred.head()"
   ]
  },
  {
   "cell_type": "code",
   "execution_count": 8,
   "metadata": {},
   "outputs": [
    {
     "data": {
      "text/plain": [
       "False"
      ]
     },
     "execution_count": 8,
     "metadata": {},
     "output_type": "execute_result"
    }
   ],
   "source": [
    "data_pred.isnull().values.any()"
   ]
  },
  {
   "cell_type": "markdown",
   "metadata": {},
   "source": [
    "loading LabelBinarizer"
   ]
  },
  {
   "cell_type": "code",
   "execution_count": 9,
   "metadata": {},
   "outputs": [],
   "source": [
    "#lb_dom  = pickle.load(open((os.path.join(UTILS, 'lb_dom.pkl')),  'rb'))\n",
    "#lb_dow  = pickle.load(open((os.path.join(UTILS, 'lb_dow.pkl')),  'rb'))\n",
    "#b_hour = pickle.load(open((os.path.join(UTILS, 'lb_hour.pkl')), 'rb'))\n",
    "#b_tod  = pickle.load(open((os.path.join(UTILS, 'lb_tod.pkl')),  'rb'))"
   ]
  },
  {
   "cell_type": "code",
   "execution_count": 10,
   "metadata": {},
   "outputs": [],
   "source": [
    "#dom_features  = ['dom_'  + str(el) for el in lb_dom.classes_]\n",
    "#dow_features  = ['dow_'  + str(el) for el in lb_dow.classes_]\n",
    "#hour_features = ['hour_' + str(el) for el in lb_hour.classes_]\n",
    "#tod_features  = ['tod_'  + str(el) for el in lb_tod.classes_]"
   ]
  },
  {
   "cell_type": "code",
   "execution_count": null,
   "metadata": {},
   "outputs": [],
   "source": []
  },
  {
   "cell_type": "code",
   "execution_count": null,
   "metadata": {},
   "outputs": [],
   "source": []
  },
  {
   "cell_type": "markdown",
   "metadata": {},
   "source": [
    "merge data with statistics"
   ]
  },
  {
   "cell_type": "code",
   "execution_count": 20,
   "metadata": {},
   "outputs": [
    {
     "name": "stdout",
     "output_type": "stream",
     "text": [
      "False False False\n"
     ]
    }
   ],
   "source": [
    "client_freq_targ = pd.read_csv(os.path.join(DATA_OWN, 'client_freq.csv'))\n",
    "client_diff_freq_dow = pd.read_csv(os.path.join(DATA_OWN, 'client_diff_freq_dow.csv'))\n",
    "client_diff_freq_tod = pd.read_csv(os.path.join(DATA_OWN, 'client_diff_freq_tod.csv'))\n",
    "print(client_freq_targ.isnull().values.any(), client_diff_freq_dow.isnull().values.any(), client_diff_freq_tod.isnull().values.any())"
   ]
  },
  {
   "cell_type": "code",
   "execution_count": 12,
   "metadata": {},
   "outputs": [
    {
     "data": {
      "text/plain": [
       "(Index(['client_pin', 'dow', 'dow_diff_client_freq_main_screen',\n",
       "        'dow_diff_client_freq_statement', 'dow_diff_client_freq_credit_info',\n",
       "        'dow_diff_client_freq_own_transfer',\n",
       "        'dow_diff_client_freq_mobile_recharge',\n",
       "        'dow_diff_client_freq_phone_money_transfer',\n",
       "        'dow_diff_client_freq_card2card_transfer', 'dow_diff_client_freq_chat',\n",
       "        'dow_diff_client_freq_card_recharge', 'dow_diff_client_freq_invest'],\n",
       "       dtype='object'),\n",
       " Index(['client_pin', 'tod', 'tod_diff_client_freq_main_screen',\n",
       "        'tod_diff_client_freq_statement', 'tod_diff_client_freq_credit_info',\n",
       "        'tod_diff_client_freq_own_transfer',\n",
       "        'tod_diff_client_freq_mobile_recharge',\n",
       "        'tod_diff_client_freq_phone_money_transfer',\n",
       "        'tod_diff_client_freq_card2card_transfer', 'tod_diff_client_freq_chat',\n",
       "        'tod_diff_client_freq_card_recharge', 'tod_diff_client_freq_invest'],\n",
       "       dtype='object'))"
      ]
     },
     "execution_count": 12,
     "metadata": {},
     "output_type": "execute_result"
    }
   ],
   "source": [
    "col = ['client_pin', 'dow']\n",
    "col.extend(['dow_'+el for el in client_diff_freq_dow.keys()[2:]])\n",
    "client_diff_freq_dow.columns = col\n",
    "\n",
    "\n",
    "col = ['client_pin', 'tod']\n",
    "col.extend(['tod_'+el for el in client_diff_freq_tod.keys()[2:]])\n",
    "client_diff_freq_tod.columns = col\n",
    "client_diff_freq_dow.keys(), client_diff_freq_tod.keys()"
   ]
  },
  {
   "cell_type": "code",
   "execution_count": 13,
   "metadata": {},
   "outputs": [
    {
     "name": "stdout",
     "output_type": "stream",
     "text": [
      "False\n",
      "True\n"
     ]
    }
   ],
   "source": [
    "data_pred = data_pred.merge(client_freq_targ, how= 'left', on='client_pin', validate='many_to_one')\n",
    "print(data_pred.isnull().values.any())\n",
    "data_pred = pd.merge(data_pred, client_diff_freq_dow,  how='left', left_on=['client_pin', 'dow'], right_on = ['client_pin','dow'])\n",
    "print(data_pred.isnull().values.any())\n",
    "#data_pred = pd.merge(data_pred, client_diff_freq_tod,  how='left', left_on=['client_pin', 'tod'], right_on = ['client_pin','tod'])\n",
    "#print(data_pred.isnull().values.any())\n"
   ]
  },
  {
   "cell_type": "code",
   "execution_count": 19,
   "metadata": {},
   "outputs": [
    {
     "name": "stdout",
     "output_type": "stream",
     "text": [
      "                             client_pin           timestamp  dom  dow  hour  \\\n",
      "0      f0c674b2bb4dc64be607029271d706ec 2020-08-01 00:00:53    1    5     0   \n",
      "2      eb0f82d74c7b7bd5eafbd5b5f8cb3e2a 2020-08-01 00:03:14    1    5     0   \n",
      "5      610c27a803518da6b285c95a659f1c3a 2020-08-01 00:11:50    1    5     0   \n",
      "11     cc4e4df0f49795fa89717cc2fafc3722 2020-08-01 00:30:27    1    5     0   \n",
      "12     51490b5a022b696a320fa763762fbf15 2020-08-01 00:31:39    1    5     0   \n",
      "...                                 ...                 ...  ...  ...   ...   \n",
      "79217  5171b0dfd23d7f497f8fef976bf8ece4 2020-09-30 22:46:11   30    2    22   \n",
      "79221  99e4d20e581fe0dcbbac25f9f2df2365 2020-09-30 22:51:48   30    2    22   \n",
      "79222  b8f5fcae5c81570ddb6eb8a12628f75c 2020-09-30 22:53:09   30    2    22   \n",
      "79248  23b4992c27b17a2ebd5366036e77a8f4 2020-09-30 23:19:34   30    2    23   \n",
      "79267  e2f0cede9e3bc3d6ed7c77c4e08af136 2020-09-30 23:58:32   30    2    23   \n",
      "\n",
      "           tod  client_freq_main_screen  client_freq_statement  \\\n",
      "0        night                 0.000000               0.000000   \n",
      "2        night                 0.181818               0.363636   \n",
      "5        night                 0.363636               0.454545   \n",
      "11       night                 0.000000               0.000000   \n",
      "12       night                 0.000000               0.500000   \n",
      "...        ...                      ...                    ...   \n",
      "79217  evening                 0.125000               0.000000   \n",
      "79221  evening                 0.166667               0.000000   \n",
      "79222  evening                 0.000000               0.000000   \n",
      "79248  evening                 0.000000               0.230769   \n",
      "79267  evening                 0.500000               0.500000   \n",
      "\n",
      "       client_freq_credit_info  client_freq_own_transfer  ...  \\\n",
      "0                     0.500000                  0.000000  ...   \n",
      "2                     0.272727                  0.090909  ...   \n",
      "5                     0.000000                  0.000000  ...   \n",
      "11                    0.000000                  1.000000  ...   \n",
      "12                    0.000000                  0.000000  ...   \n",
      "...                        ...                       ...  ...   \n",
      "79217                 0.750000                  0.000000  ...   \n",
      "79221                 0.666667                  0.000000  ...   \n",
      "79222                 0.000000                  0.000000  ...   \n",
      "79248                 0.000000                  0.384615  ...   \n",
      "79267                 0.000000                  0.000000  ...   \n",
      "\n",
      "       dow_diff_client_freq_main_screen  dow_diff_client_freq_statement  \\\n",
      "0                                   NaN                             NaN   \n",
      "2                                   NaN                             NaN   \n",
      "5                                   NaN                             NaN   \n",
      "11                                  NaN                             NaN   \n",
      "12                                  NaN                             NaN   \n",
      "...                                 ...                             ...   \n",
      "79217                               NaN                             NaN   \n",
      "79221                               NaN                             NaN   \n",
      "79222                               NaN                             NaN   \n",
      "79248                               NaN                             NaN   \n",
      "79267                               NaN                             NaN   \n",
      "\n",
      "       dow_diff_client_freq_credit_info  dow_diff_client_freq_own_transfer  \\\n",
      "0                                   NaN                                NaN   \n",
      "2                                   NaN                                NaN   \n",
      "5                                   NaN                                NaN   \n",
      "11                                  NaN                                NaN   \n",
      "12                                  NaN                                NaN   \n",
      "...                                 ...                                ...   \n",
      "79217                               NaN                                NaN   \n",
      "79221                               NaN                                NaN   \n",
      "79222                               NaN                                NaN   \n",
      "79248                               NaN                                NaN   \n",
      "79267                               NaN                                NaN   \n",
      "\n",
      "       dow_diff_client_freq_mobile_recharge  \\\n",
      "0                                       NaN   \n",
      "2                                       NaN   \n",
      "5                                       NaN   \n",
      "11                                      NaN   \n",
      "12                                      NaN   \n",
      "...                                     ...   \n",
      "79217                                   NaN   \n",
      "79221                                   NaN   \n",
      "79222                                   NaN   \n",
      "79248                                   NaN   \n",
      "79267                                   NaN   \n",
      "\n",
      "       dow_diff_client_freq_phone_money_transfer  \\\n",
      "0                                            NaN   \n",
      "2                                            NaN   \n",
      "5                                            NaN   \n",
      "11                                           NaN   \n",
      "12                                           NaN   \n",
      "...                                          ...   \n",
      "79217                                        NaN   \n",
      "79221                                        NaN   \n",
      "79222                                        NaN   \n",
      "79248                                        NaN   \n",
      "79267                                        NaN   \n",
      "\n",
      "       dow_diff_client_freq_card2card_transfer  dow_diff_client_freq_chat  \\\n",
      "0                                          NaN                        NaN   \n",
      "2                                          NaN                        NaN   \n",
      "5                                          NaN                        NaN   \n",
      "11                                         NaN                        NaN   \n",
      "12                                         NaN                        NaN   \n",
      "...                                        ...                        ...   \n",
      "79217                                      NaN                        NaN   \n",
      "79221                                      NaN                        NaN   \n",
      "79222                                      NaN                        NaN   \n",
      "79248                                      NaN                        NaN   \n",
      "79267                                      NaN                        NaN   \n",
      "\n",
      "       dow_diff_client_freq_card_recharge  dow_diff_client_freq_invest  \n",
      "0                                     NaN                          NaN  \n",
      "2                                     NaN                          NaN  \n",
      "5                                     NaN                          NaN  \n",
      "11                                    NaN                          NaN  \n",
      "12                                    NaN                          NaN  \n",
      "...                                   ...                          ...  \n",
      "79217                                 NaN                          NaN  \n",
      "79221                                 NaN                          NaN  \n",
      "79222                                 NaN                          NaN  \n",
      "79248                                 NaN                          NaN  \n",
      "79267                                 NaN                          NaN  \n",
      "\n",
      "[8815 rows x 26 columns]\n"
     ]
    }
   ],
   "source": [
    "is_NaN = data_pred.isnull()\n",
    "row_has_NaN = is_NaN.any(axis=1)\n",
    "rows_with_NaN = data_pred[row_has_NaN]\n",
    "\n",
    "print(rows_with_NaN)"
   ]
  },
  {
   "cell_type": "code",
   "execution_count": null,
   "metadata": {},
   "outputs": [],
   "source": [
    "data_pred.fillna(0, inplace = True)\n",
    "data_pred.isnull().values.any()"
   ]
  },
  {
   "cell_type": "code",
   "execution_count": null,
   "metadata": {},
   "outputs": [],
   "source": [
    "client_freq_features = ['client_freq_main_screen', 'client_freq_statement',\n",
    "       'client_freq_credit_info', 'client_freq_own_transfer',\n",
    "       'client_freq_mobile_recharge', 'client_freq_phone_money_transfer',\n",
    "       'client_freq_card2card_transfer', 'client_freq_chat',\n",
    "       'client_freq_card_recharge', 'client_freq_invest']"
   ]
  },
  {
   "cell_type": "code",
   "execution_count": null,
   "metadata": {},
   "outputs": [],
   "source": [
    "glob_diff_freq_dom  = pd.read_csv(os.path.join(DATA_OWN, 'glob_diff_freq_dom.csv'))\n",
    "glob_diff_freq_dow  = pd.read_csv(os.path.join(DATA_OWN, 'glob_diff_freq_dow.csv'))\n",
    "glob_diff_freq_hour = pd.read_csv(os.path.join(DATA_OWN, 'glob_diff_freq_hour.csv'))\n",
    "glob_diff_freq_tod  = pd.read_csv(os.path.join(DATA_OWN, 'glob_diff_freq_tod.csv'))"
   ]
  },
  {
   "cell_type": "code",
   "execution_count": null,
   "metadata": {},
   "outputs": [],
   "source": [
    "glob_diff_freq_dom.columns  = ['dom_'  + el for el in glob_diff_freq_dom.keys()]\n",
    "glob_diff_freq_dow.columns  = ['dow_'  + el for el in glob_diff_freq_dow.keys()]\n",
    "glob_diff_freq_hour.columns = ['hour_' + el for el in glob_diff_freq_hour.keys()]\n",
    "glob_diff_freq_tod.columns  = ['tod_'  + el for el in glob_diff_freq_tod.keys()]"
   ]
  },
  {
   "cell_type": "code",
   "execution_count": null,
   "metadata": {},
   "outputs": [],
   "source": [
    "glob_diff_freq_dom = glob_diff_freq_dom.rename(  columns={'dom_dom': 'dom'})\n",
    "glob_diff_freq_dow = glob_diff_freq_dow.rename(  columns={'dow_dow': 'dow'})\n",
    "glob_diff_freq_hour = glob_diff_freq_hour.rename(columns={'hour_hour': 'hour'})\n",
    "glob_diff_freq_tod = glob_diff_freq_tod.rename(  columns={'tod_tod': 'tod'})\n",
    "\n",
    "#glob_freq_dom.keys(), glob_freq_dow.keys(), glob_freq_hour.keys(), glob_freq_tod.keys(), "
   ]
  },
  {
   "cell_type": "code",
   "execution_count": null,
   "metadata": {},
   "outputs": [],
   "source": [
    "dom_diff_freq_features  = [el for el in glob_diff_freq_dom.keys()[1:]]\n",
    "dow_diff_freq_features  = [el for el in glob_diff_freq_dow.keys()[1:]]\n",
    "hour_diff_freq_features = [el for el in glob_diff_freq_hour.keys()[1:]]\n",
    "tod_diff_freq_features  = [el for el in glob_diff_freq_tod.keys()[1:]]"
   ]
  },
  {
   "cell_type": "code",
   "execution_count": null,
   "metadata": {},
   "outputs": [],
   "source": [
    "data_pred.isnull().values.any()"
   ]
  },
  {
   "cell_type": "code",
   "execution_count": null,
   "metadata": {},
   "outputs": [],
   "source": [
    "data_pred.shape"
   ]
  },
  {
   "cell_type": "code",
   "execution_count": null,
   "metadata": {},
   "outputs": [],
   "source": [
    "data_pred = data_pred.merge(glob_diff_freq_dom, how= 'left', on='dom', validate='many_to_one')\n",
    "data_pred = data_pred.merge(glob_diff_freq_dow, how= 'left', on='dow', validate='many_to_one')\n",
    "data_pred = data_pred.merge(glob_diff_freq_hour, how= 'left', on='hour', validate='many_to_one')\n",
    "data_pred = data_pred.merge(glob_diff_freq_tod, how= 'left', on='tod', validate='many_to_one')\n",
    "data_pred.shape"
   ]
  },
  {
   "cell_type": "code",
   "execution_count": null,
   "metadata": {},
   "outputs": [],
   "source": [
    "data_pred.isnull().values.any()"
   ]
  },
  {
   "cell_type": "markdown",
   "metadata": {},
   "source": [
    "## saving "
   ]
  },
  {
   "cell_type": "code",
   "execution_count": null,
   "metadata": {},
   "outputs": [],
   "source": [
    "%%time\n",
    "data_pred.to_csv(os.path.join(DATA_OWN, 'data_pred.csv'))"
   ]
  },
  {
   "cell_type": "code",
   "execution_count": null,
   "metadata": {},
   "outputs": [],
   "source": []
  },
  {
   "cell_type": "code",
   "execution_count": null,
   "metadata": {},
   "outputs": [],
   "source": [
    "using_features = pickle.load(open(os.path.join(DATA_OWN, 'using_features.pkl'), 'rb'))"
   ]
  },
  {
   "cell_type": "code",
   "execution_count": null,
   "metadata": {},
   "outputs": [],
   "source": [
    "clf_sgd = pickle.load(open(os.path.join(MODELS, 'clf_sgd.pkl'), 'rb'))"
   ]
  },
  {
   "cell_type": "code",
   "execution_count": null,
   "metadata": {},
   "outputs": [],
   "source": [
    "pred_sgd = clf_sgd.predict(data_pred[using_features])"
   ]
  },
  {
   "cell_type": "code",
   "execution_count": null,
   "metadata": {},
   "outputs": [],
   "source": [
    "data_pred.fillna(0, inplace = True)"
   ]
  },
  {
   "cell_type": "code",
   "execution_count": null,
   "metadata": {},
   "outputs": [],
   "source": []
  },
  {
   "cell_type": "code",
   "execution_count": null,
   "metadata": {},
   "outputs": [],
   "source": []
  }
 ],
 "metadata": {
  "kernelspec": {
   "display_name": "Python 3",
   "language": "python",
   "name": "python3"
  },
  "language_info": {
   "codemirror_mode": {
    "name": "ipython",
    "version": 3
   },
   "file_extension": ".py",
   "mimetype": "text/x-python",
   "name": "python",
   "nbconvert_exporter": "python",
   "pygments_lexer": "ipython3",
   "version": "3.7.9"
  }
 },
 "nbformat": 4,
 "nbformat_minor": 4
}
