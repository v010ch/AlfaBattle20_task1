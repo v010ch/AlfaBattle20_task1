{
 "cells": [
  {
   "cell_type": "code",
   "execution_count": 45,
   "metadata": {},
   "outputs": [
    {
     "name": "stderr",
     "output_type": "stream",
     "text": [
      "C:\\Users\\_v010ch_\\Anaconda3\\lib\\site-packages\\tqdm\\std.py:697: FutureWarning: The Panel class is removed from pandas. Accessing it from the top-level namespace will also be removed in the next version\n",
      "  from pandas import Panel\n"
     ]
    }
   ],
   "source": [
    "import os\n",
    "import pandas as pd\n",
    "import numpy as np\n",
    "from glob import glob\n",
    "from tqdm import tqdm\n",
    "tqdm.pandas()\n",
    "\n",
    "import pickle\n",
    "import pyarrow.parquet as pq"
   ]
  },
  {
   "cell_type": "code",
   "execution_count": 141,
   "metadata": {},
   "outputs": [],
   "source": [
    "import ipyparallel\n",
    "# ipcluster nbextension enable --user"
   ]
  },
  {
   "cell_type": "code",
   "execution_count": 2,
   "metadata": {},
   "outputs": [],
   "source": [
    "DATA = './data'\n",
    "DATA_OWN = './data_own'\n",
    "CLICKSTREAM = 'alfabattle2_abattle_clickstream'"
   ]
  },
  {
   "cell_type": "raw",
   "metadata": {},
   "source": [
    "Если в test поставить последнюю  по времени, транзакцию из train, то получим 0.36081 на LB"
   ]
  },
  {
   "cell_type": "raw",
   "metadata": {},
   "source": [
    "Как вариант, эти таймштуки можно различными преобразованиями (фурье и т.д.) превратить в картинки, а дальше как на работе))"
   ]
  },
  {
   "cell_type": "raw",
   "metadata": {},
   "source": [
    "hour_diff"
   ]
  },
  {
   "cell_type": "raw",
   "metadata": {},
   "source": [
    "типа hour_diff_mean одна из сильных фичей"
   ]
  },
  {
   "cell_type": "raw",
   "metadata": {},
   "source": [
    "Есть файлик, в имени которого есть \"train\". В нём для каждого клиента есть набор сессий (1) с multi_class_target.\n",
    "\n",
    "Есть файлики в формате parquet, в них для каждого клиента есть набор сессий (2).\n",
    "\n",
    "Набор (2) содержит в себе весь набор (1), но набор (2) почти в два раза больше набора (1)\n",
    "\n",
    "\n",
    "1) left join (2) по идее должно решать эту проблему"
   ]
  },
  {
   "cell_type": "code",
   "execution_count": null,
   "metadata": {},
   "outputs": [],
   "source": []
  },
  {
   "cell_type": "code",
   "execution_count": 44,
   "metadata": {},
   "outputs": [],
   "source": [
    "FTRS = ['last_target'# last known target for this user (by last session)\n",
    "        ,'last_moment_invest'\n",
    "        ,'last_moment_mobile_recharge'\n",
    "        ,'last_moment_statement'\n",
    "        ,'last_moment_chat'\n",
    "        ,'last_moment_card2card_transfer'\n",
    "        ,'last_moment_phone_money_transfer'\n",
    "        ,'last_moment_card_recharge'\n",
    "        ,'last_moment_main_screen'\n",
    "        ,'last_moment_own_transfer'\n",
    "        ,'last_moment_credit_info'\n",
    "        \n",
    "         #most frequent in this \n",
    "        ,'mf_dow'    # day of week\n",
    "        ,'mf_dom'    # day of month\n",
    "        ,'mf_pod'    # part of day\n",
    "        \n",
    "        #most frequent for this user in this \n",
    "         'mf_this_user_dow'    # day of week\n",
    "        ,'mf_this_user_dom'    # day of month\n",
    "        ,'mf_this_user_pod'    # part of day\n",
    "        \n",
    "        # days from last goal was a \n",
    "        ,'days_since_last_invest'        # invest\n",
    "        ,'days_since_last_statement'     # statement\n",
    "        ,'days_since_last_chat'          # chat\n",
    "        ,'days_since_last_card_recharge' # card_recharge\n",
    "        ,'days_since_last_main_screen'   # main_screen\n",
    "        ,'days_since_last_own_transfer'  # own_transfer\n",
    "        ,'days_since_last_credit_info'   # credit_info\n",
    "        ,'days_since_last_mobile_recharge'      # mobile_recharge\n",
    "        ,'days_since_last_card2card_transfer'   # card2card_transfer\n",
    "        ,'days_since_last_phone_money_transfer' # phone_money_transfer\n",
    "    \n",
    "        \n",
    "        #, last several days\n",
    "       ]"
   ]
  },
  {
   "cell_type": "raw",
   "metadata": {},
   "source": [
    "invest                  8055\n",
    "mobile_recharge         8028\n",
    "statement               7995\n",
    "chat                    7989\n",
    "card2card_transfer      7965\n",
    "phone_money_transfer    7941\n",
    "card_recharge           7936\n",
    "main_screen             7893\n",
    "own_transfer            7759\n",
    "credit_info             7707"
   ]
  },
  {
   "cell_type": "code",
   "execution_count": 30,
   "metadata": {},
   "outputs": [],
   "source": [
    "possible_targets = ['invest', 'mobile_recharge', 'statement', 'chat', 'card2card_transfer', \n",
    "                    'phone_money_transfer', 'card_recharge', 'main_screen', 'own_transfer', \n",
    "                    'credit_info']"
   ]
  },
  {
   "cell_type": "code",
   "execution_count": null,
   "metadata": {},
   "outputs": [],
   "source": []
  },
  {
   "cell_type": "code",
   "execution_count": 5,
   "metadata": {},
   "outputs": [],
   "source": [
    "files = sorted(glob(os.path.join(DATA, CLICKSTREAM, 'part*')))\n",
    "#files"
   ]
  },
  {
   "cell_type": "code",
   "execution_count": null,
   "metadata": {},
   "outputs": [],
   "source": [
    "sample = pd.read_csv(os.path.join(DATA, 'alfabattle2_abattle_sample_prediction.csv'))\n",
    "test   = pd.read_csv(os.path.join(DATA, 'alfabattle2_prediction_session_timestamp.csv'))"
   ]
  },
  {
   "cell_type": "code",
   "execution_count": 58,
   "metadata": {},
   "outputs": [],
   "source": [
    "targets_df = pd.read_csv(os.path.join(DATA, 'alfabattle2_abattle_train_target.csv'), parse_dates=['timestamp'])\n",
    "targets_df.sort_values(by='timestamp', ascending = True, inplace = True)"
   ]
  },
  {
   "cell_type": "code",
   "execution_count": 7,
   "metadata": {},
   "outputs": [],
   "source": [
    "# session wich has a target\n",
    "sess_with_target = list(targets_df.session_id.values)\n",
    "uniq_client_pin = list(targets_df.client_pin.unique())"
   ]
  },
  {
   "cell_type": "code",
   "execution_count": 46,
   "metadata": {},
   "outputs": [],
   "source": [
    "summarize_df = pd.DataFrame(index = range(len(uniq_client_pin)), columns = FTRS)"
   ]
  },
  {
   "cell_type": "code",
   "execution_count": 47,
   "metadata": {},
   "outputs": [],
   "source": [
    "summarize_df['client_pin'] = uniq_client_pin"
   ]
  },
  {
   "cell_type": "code",
   "execution_count": 137,
   "metadata": {},
   "outputs": [
    {
     "data": {
      "text/plain": [
       "(12468595, 15)"
      ]
     },
     "execution_count": 137,
     "metadata": {},
     "output_type": "execute_result"
    }
   ],
   "source": [
    "data = pd.read_parquet(files[0])\n",
    "data.sort_values(by='timestamp', ascending=True, inplace = True)\n",
    "data.shape"
   ]
  },
  {
   "cell_type": "code",
   "execution_count": 138,
   "metadata": {},
   "outputs": [
    {
     "data": {
      "text/plain": [
       "8211"
      ]
     },
     "execution_count": 138,
     "metadata": {},
     "output_type": "execute_result"
    }
   ],
   "source": [
    "len(data.client.unique())"
   ]
  },
  {
   "cell_type": "code",
   "execution_count": null,
   "metadata": {},
   "outputs": [],
   "source": []
  },
  {
   "cell_type": "code",
   "execution_count": null,
   "metadata": {},
   "outputs": [],
   "source": []
  },
  {
   "cell_type": "code",
   "execution_count": 139,
   "metadata": {},
   "outputs": [
    {
     "name": "stderr",
     "output_type": "stream",
     "text": [
      "  5%|███▉                                                                         | 414/8211 [28:47<9:02:23,  4.17s/it]\n"
     ]
    },
    {
     "ename": "IndexError",
     "evalue": "index 0 is out of bounds for axis 0 with size 0",
     "output_type": "error",
     "traceback": [
      "\u001b[1;31m---------------------------------------------------------------------------\u001b[0m",
      "\u001b[1;31mIndexError\u001b[0m                                Traceback (most recent call last)",
      "\u001b[1;32m<ipython-input-139-6fa4ce0b5fdc>\u001b[0m in \u001b[0;36m<module>\u001b[1;34m\u001b[0m\n\u001b[0;32m      2\u001b[0m \u001b[1;33m\u001b[0m\u001b[0m\n\u001b[0;32m      3\u001b[0m \u001b[1;32mfor\u001b[0m \u001b[0mclient\u001b[0m \u001b[1;32min\u001b[0m \u001b[0mtqdm\u001b[0m\u001b[1;33m(\u001b[0m\u001b[0mdata\u001b[0m\u001b[1;33m.\u001b[0m\u001b[0mclient\u001b[0m\u001b[1;33m.\u001b[0m\u001b[0munique\u001b[0m\u001b[1;33m(\u001b[0m\u001b[1;33m)\u001b[0m\u001b[1;33m)\u001b[0m\u001b[1;33m:\u001b[0m\u001b[1;33m\u001b[0m\u001b[1;33m\u001b[0m\u001b[0m\n\u001b[1;32m----> 4\u001b[1;33m     \u001b[0mindex\u001b[0m \u001b[1;33m=\u001b[0m \u001b[0mint\u001b[0m\u001b[1;33m(\u001b[0m\u001b[0msummarize_df\u001b[0m\u001b[1;33m[\u001b[0m\u001b[0msummarize_df\u001b[0m\u001b[1;33m.\u001b[0m\u001b[0mclient_pin\u001b[0m \u001b[1;33m==\u001b[0m \u001b[0mclient\u001b[0m\u001b[1;33m]\u001b[0m\u001b[1;33m.\u001b[0m\u001b[0mindex\u001b[0m\u001b[1;33m[\u001b[0m\u001b[1;36m0\u001b[0m\u001b[1;33m]\u001b[0m\u001b[1;33m)\u001b[0m\u001b[1;33m\u001b[0m\u001b[1;33m\u001b[0m\u001b[0m\n\u001b[0m\u001b[0;32m      5\u001b[0m     \u001b[1;31m#print(index)\u001b[0m\u001b[1;33m\u001b[0m\u001b[1;33m\u001b[0m\u001b[1;33m\u001b[0m\u001b[0m\n\u001b[0;32m      6\u001b[0m     \u001b[1;32mfor\u001b[0m \u001b[0mtarg\u001b[0m \u001b[1;32min\u001b[0m \u001b[0mpossible_targets\u001b[0m\u001b[1;33m:\u001b[0m\u001b[1;33m\u001b[0m\u001b[1;33m\u001b[0m\u001b[0m\n",
      "\u001b[1;32m~\\Anaconda3\\lib\\site-packages\\pandas\\core\\indexes\\base.py\u001b[0m in \u001b[0;36m__getitem__\u001b[1;34m(self, key)\u001b[0m\n\u001b[0;32m   4099\u001b[0m         \u001b[1;32mif\u001b[0m \u001b[0mis_scalar\u001b[0m\u001b[1;33m(\u001b[0m\u001b[0mkey\u001b[0m\u001b[1;33m)\u001b[0m\u001b[1;33m:\u001b[0m\u001b[1;33m\u001b[0m\u001b[1;33m\u001b[0m\u001b[0m\n\u001b[0;32m   4100\u001b[0m             \u001b[0mkey\u001b[0m \u001b[1;33m=\u001b[0m \u001b[0mcom\u001b[0m\u001b[1;33m.\u001b[0m\u001b[0mcast_scalar_indexer\u001b[0m\u001b[1;33m(\u001b[0m\u001b[0mkey\u001b[0m\u001b[1;33m,\u001b[0m \u001b[0mwarn_float\u001b[0m\u001b[1;33m=\u001b[0m\u001b[1;32mTrue\u001b[0m\u001b[1;33m)\u001b[0m\u001b[1;33m\u001b[0m\u001b[1;33m\u001b[0m\u001b[0m\n\u001b[1;32m-> 4101\u001b[1;33m             \u001b[1;32mreturn\u001b[0m \u001b[0mgetitem\u001b[0m\u001b[1;33m(\u001b[0m\u001b[0mkey\u001b[0m\u001b[1;33m)\u001b[0m\u001b[1;33m\u001b[0m\u001b[1;33m\u001b[0m\u001b[0m\n\u001b[0m\u001b[0;32m   4102\u001b[0m \u001b[1;33m\u001b[0m\u001b[0m\n\u001b[0;32m   4103\u001b[0m         \u001b[1;32mif\u001b[0m \u001b[0misinstance\u001b[0m\u001b[1;33m(\u001b[0m\u001b[0mkey\u001b[0m\u001b[1;33m,\u001b[0m \u001b[0mslice\u001b[0m\u001b[1;33m)\u001b[0m\u001b[1;33m:\u001b[0m\u001b[1;33m\u001b[0m\u001b[1;33m\u001b[0m\u001b[0m\n",
      "\u001b[1;31mIndexError\u001b[0m: index 0 is out of bounds for axis 0 with size 0"
     ]
    }
   ],
   "source": [
    "timestamp = pd.Timestamp('2000-01-01')\n",
    "\n",
    "for client in tqdm(data.client.unique()):\n",
    "    index = int(summarize_df[summarize_df.client_pin == client].index[0])\n",
    "    #print(index)\n",
    "    for targ in possible_targets:\n",
    "        tmp_list = list(targets_df.query('client_pin == @client & multi_class_target == @targ').timestamp)\n",
    "        if len(tmp_list) == 0:\n",
    "            hrs_mean = 0.0\n",
    "            hrs_std = 0.0\n",
    "            last = timestamp\n",
    "        else:\n",
    "            diff_list = [0]*(len(tmp_list) - 1)\n",
    "            for idx in range(1, len(tmp_list)):\n",
    "                diff_list[idx - 1] = (tmp_list[idx] - tmp_list[idx-1]).total_seconds() // 3600\n",
    "\n",
    "            hrs_mean = np.mean(diff_list)\n",
    "            hrs_std = np.std(diff_list)\n",
    "            last = tmp_list[-1]\n",
    "            \n",
    "        summarize_df.loc[index, 'hrs_between_' + targ + '_mean'] = hrs_mean\n",
    "        summarize_df.loc[index, 'hrs_between_' + targ + '_std'] = hrs_std\n",
    "        summarize_df.loc[index, 'last_moment_' + targ] = last\n",
    "        \n",
    "    \n",
    "            \n",
    "print('done')    "
   ]
  },
  {
   "cell_type": "code",
   "execution_count": null,
   "metadata": {},
   "outputs": [],
   "source": []
  },
  {
   "cell_type": "code",
   "execution_count": 97,
   "metadata": {},
   "outputs": [
    {
     "data": {
      "text/html": [
       "<div>\n",
       "<style scoped>\n",
       "    .dataframe tbody tr th:only-of-type {\n",
       "        vertical-align: middle;\n",
       "    }\n",
       "\n",
       "    .dataframe tbody tr th {\n",
       "        vertical-align: top;\n",
       "    }\n",
       "\n",
       "    .dataframe thead th {\n",
       "        text-align: right;\n",
       "    }\n",
       "</style>\n",
       "<table border=\"1\" class=\"dataframe\">\n",
       "  <thead>\n",
       "    <tr style=\"text-align: right;\">\n",
       "      <th></th>\n",
       "      <th>last_target</th>\n",
       "      <th>last_moment_invest</th>\n",
       "      <th>last_moment_mobile_recharge</th>\n",
       "      <th>last_moment_statement</th>\n",
       "      <th>last_moment_chat</th>\n",
       "      <th>last_moment_card2card_transfer</th>\n",
       "      <th>last_moment_phone_money_transfer</th>\n",
       "      <th>last_moment_card_recharge</th>\n",
       "      <th>last_moment_main_screen</th>\n",
       "      <th>last_moment_own_transfer</th>\n",
       "      <th>...</th>\n",
       "      <th>hrs_between_phone_money_transfer_mean</th>\n",
       "      <th>hrs_between_phone_money_transfer_std</th>\n",
       "      <th>hrs_between_card_recharge_mean</th>\n",
       "      <th>hrs_between_card_recharge_std</th>\n",
       "      <th>hrs_between_main_screen_mean</th>\n",
       "      <th>hrs_between_main_screen_std</th>\n",
       "      <th>hrs_between_own_transfer_mean</th>\n",
       "      <th>hrs_between_own_transfer_std</th>\n",
       "      <th>hrs_between_credit_info_mean</th>\n",
       "      <th>hrs_between_credit_info_std</th>\n",
       "    </tr>\n",
       "  </thead>\n",
       "  <tbody>\n",
       "    <tr>\n",
       "      <th>20690</th>\n",
       "      <td>NaN</td>\n",
       "      <td>NaN</td>\n",
       "      <td>NaN</td>\n",
       "      <td>NaN</td>\n",
       "      <td>NaN</td>\n",
       "      <td>NaN</td>\n",
       "      <td>NaN</td>\n",
       "      <td>NaN</td>\n",
       "      <td>NaN</td>\n",
       "      <td>NaN</td>\n",
       "      <td>...</td>\n",
       "      <td>1203.0</td>\n",
       "      <td>1105.0</td>\n",
       "      <td>212.64</td>\n",
       "      <td>276.855324</td>\n",
       "      <td>183.551724</td>\n",
       "      <td>201.278772</td>\n",
       "      <td>1899.0</td>\n",
       "      <td>0.0</td>\n",
       "      <td>0.0</td>\n",
       "      <td>0.0</td>\n",
       "    </tr>\n",
       "  </tbody>\n",
       "</table>\n",
       "<p>1 rows × 47 columns</p>\n",
       "</div>"
      ],
      "text/plain": [
       "      last_target last_moment_invest last_moment_mobile_recharge  \\\n",
       "20690         NaN                NaN                         NaN   \n",
       "\n",
       "      last_moment_statement last_moment_chat last_moment_card2card_transfer  \\\n",
       "20690                   NaN              NaN                            NaN   \n",
       "\n",
       "      last_moment_phone_money_transfer last_moment_card_recharge  \\\n",
       "20690                              NaN                       NaN   \n",
       "\n",
       "      last_moment_main_screen last_moment_own_transfer  ...  \\\n",
       "20690                     NaN                      NaN  ...   \n",
       "\n",
       "      hrs_between_phone_money_transfer_mean  \\\n",
       "20690                                1203.0   \n",
       "\n",
       "      hrs_between_phone_money_transfer_std hrs_between_card_recharge_mean  \\\n",
       "20690                               1105.0                         212.64   \n",
       "\n",
       "      hrs_between_card_recharge_std hrs_between_main_screen_mean  \\\n",
       "20690                    276.855324                   183.551724   \n",
       "\n",
       "      hrs_between_main_screen_std hrs_between_own_transfer_mean  \\\n",
       "20690                  201.278772                        1899.0   \n",
       "\n",
       "      hrs_between_own_transfer_std hrs_between_credit_info_mean  \\\n",
       "20690                          0.0                          0.0   \n",
       "\n",
       "      hrs_between_credit_info_std  \n",
       "20690                         0.0  \n",
       "\n",
       "[1 rows x 47 columns]"
      ]
     },
     "execution_count": 97,
     "metadata": {},
     "output_type": "execute_result"
    }
   ],
   "source": [
    "summarize_df[summarize_df.client_pin == data.client.unique()[0]]"
   ]
  },
  {
   "cell_type": "code",
   "execution_count": null,
   "metadata": {},
   "outputs": [],
   "source": [
    "# calculate one in second"
   ]
  },
  {
   "cell_type": "code",
   "execution_count": 17,
   "metadata": {},
   "outputs": [
    {
     "name": "stderr",
     "output_type": "stream",
     "text": [
      "100%|██████████████████████████████████████████████████████████████████████████████████| 50/50 [00:37<00:00,  1.32it/s]"
     ]
    },
    {
     "name": "stdout",
     "output_type": "stream",
     "text": [
      "Wall time: 39 s\n"
     ]
    },
    {
     "name": "stderr",
     "output_type": "stream",
     "text": [
      "\n"
     ]
    }
   ],
   "source": [
    "%%time\n",
    "# collect statistic about every client\n",
    "cnt = 0\n",
    "everyday = []\n",
    "for client in tqdm(data.client.unique()[:50]):\n",
    "    # for each session\n",
    "    current = ''\n",
    "    weekend_start_hour = []\n",
    "    weekday_start_hour = []\n",
    "    everyday_cnt = []\n",
    "    for idx in data[data.client == client].index:\n",
    "        if  (data.loc[idx, 'session_id'] != current):# and (data.loc[idx, 'session_id'] in sess_with_target):\n",
    "            cnt+= 1\n",
    "            current = data.loc[idx, 'session_id']\n",
    "            if data.loc[idx, 'timestamp'].weekday() >= 5:\n",
    "                weekend_start_hour.append(data.loc[idx, 'timestamp'].hour)\n",
    "            else:\n",
    "                weekday_start_hour.append(data.loc[idx, 'timestamp'].hour)\n",
    "            \n",
    "            everyday_cnt.append(data.loc[idx, 'timestamp'].weekday())\n",
    "            \n",
    "    everyday.append(everyday_cnt)"
   ]
  },
  {
   "cell_type": "code",
   "execution_count": null,
   "metadata": {},
   "outputs": [],
   "source": []
  },
  {
   "cell_type": "code",
   "execution_count": null,
   "metadata": {},
   "outputs": [],
   "source": [
    "print(cnt)"
   ]
  },
  {
   "cell_type": "code",
   "execution_count": null,
   "metadata": {},
   "outputs": [],
   "source": [
    "len(data.session_id.unique())"
   ]
  },
  {
   "cell_type": "code",
   "execution_count": null,
   "metadata": {},
   "outputs": [],
   "source": [
    "pred_sess = ''\n",
    "dow = []\n",
    "dom = [] \n",
    "weekend_start_hour = []\n",
    "weekday_start_hour = []\n",
    "\n",
    "#for idx, el in enumerate(data.session_id):\n",
    "#for idx in tqdm(range(data.shape[0])):\n",
    "for idx in tqdm(range(5000)):\n",
    "    #if (el != pred_sess) and (el in sess_with_target):\n",
    "    if ( data.loc[idx, 'session_id'] != pred_sess) and (data.loc[idx, 'session_id'] in sess_with_target):\n",
    "        pred_sess = data.loc[idx, 'session_id']\n",
    "        if (data.loc[idx, 'timestamp'].weekday() >= 5):\n",
    "            weekend_start_hour    \n",
    "        #get start time\n",
    "        #start_hour.append(data.loc[idx, 'timestamp'].hour)\n",
    "        #get start day of week\n",
    "        #dow.append(data.loc[idx, 'timestamp'].weekday())\n",
    "        #get start day of month\n",
    "        #dom.append(data.loc[idx, 'timestamp'].day)\n",
    "        #print(el)\n",
    "        break"
   ]
  },
  {
   "cell_type": "code",
   "execution_count": null,
   "metadata": {},
   "outputs": [],
   "source": [
    "data.loc[0, 'timestamp'].weekday()"
   ]
  },
  {
   "cell_type": "code",
   "execution_count": null,
   "metadata": {},
   "outputs": [],
   "source": [
    "data_target[data_target.session_id == data.loc[0, 'session_id']]"
   ]
  },
  {
   "cell_type": "code",
   "execution_count": null,
   "metadata": {},
   "outputs": [],
   "source": [
    "data_target.keys()"
   ]
  },
  {
   "cell_type": "code",
   "execution_count": null,
   "metadata": {},
   "outputs": [],
   "source": [
    "data.loc[1920, 'session_id'] in sess_with_target"
   ]
  },
  {
   "cell_type": "code",
   "execution_count": null,
   "metadata": {},
   "outputs": [],
   "source": [
    "data.loc[1920, 'session_id']"
   ]
  },
  {
   "cell_type": "code",
   "execution_count": null,
   "metadata": {},
   "outputs": [],
   "source": [
    "%%time\n",
    "data_target['dow'] = data_target.timestamp.map(lambda x: x.weekday())\n",
    "data_target['dom'] = data_target.timestamp.map(lambda x: x.day)\n",
    "data_target['start_hour'] = data_target.timestamp.map(lambda x: x.hour)"
   ]
  },
  {
   "cell_type": "code",
   "execution_count": null,
   "metadata": {},
   "outputs": [],
   "source": [
    "data_target.head()"
   ]
  },
  {
   "cell_type": "code",
   "execution_count": null,
   "metadata": {},
   "outputs": [],
   "source": [
    "data_target.groupby('dow').multi_class_target.agg(pd.Series.mode)"
   ]
  },
  {
   "cell_type": "code",
   "execution_count": null,
   "metadata": {},
   "outputs": [],
   "source": [
    "realy = data_target.groupby('dow').multi_class_target.value_counts()"
   ]
  },
  {
   "cell_type": "code",
   "execution_count": null,
   "metadata": {},
   "outputs": [],
   "source": [
    "realy"
   ]
  },
  {
   "cell_type": "code",
   "execution_count": null,
   "metadata": {},
   "outputs": [],
   "source": [
    "data_target.groupby('dom').multi_class_target.agg(pd.Series.mode)"
   ]
  },
  {
   "cell_type": "code",
   "execution_count": null,
   "metadata": {},
   "outputs": [],
   "source": [
    "data_target.groupby('start_hour').multi_class_target.value_counts()"
   ]
  },
  {
   "cell_type": "code",
   "execution_count": null,
   "metadata": {},
   "outputs": [],
   "source": [
    "data_target.multi_class_target.value_counts().index[1]"
   ]
  },
  {
   "cell_type": "code",
   "execution_count": null,
   "metadata": {},
   "outputs": [],
   "source": []
  }
 ],
 "metadata": {
  "kernelspec": {
   "display_name": "Python 3",
   "language": "python",
   "name": "python3"
  },
  "language_info": {
   "codemirror_mode": {
    "name": "ipython",
    "version": 3
   },
   "file_extension": ".py",
   "mimetype": "text/x-python",
   "name": "python",
   "nbconvert_exporter": "python",
   "pygments_lexer": "ipython3",
   "version": "3.7.9"
  }
 },
 "nbformat": 4,
 "nbformat_minor": 4
}
