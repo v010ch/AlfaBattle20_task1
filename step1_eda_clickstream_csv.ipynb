{
 "cells": [
  {
   "cell_type": "code",
   "execution_count": 100,
   "metadata": {},
   "outputs": [],
   "source": [
    "import pandas as pd\n",
    "\n",
    "import os\n",
    "from glob import glob\n",
    "from collections import Counter\n",
    "import pickle\n",
    "\n",
    "#from tqdm import tqdm, tqdm_notebook\n",
    "from tqdm.notebook import trange, tqdm\n",
    "#tqdm.pandas()"
   ]
  },
  {
   "cell_type": "code",
   "execution_count": 19,
   "metadata": {},
   "outputs": [],
   "source": [
    "import pyarrow.parquet as pq"
   ]
  },
  {
   "cell_type": "code",
   "execution_count": 126,
   "metadata": {},
   "outputs": [
    {
     "name": "stdout",
     "output_type": "stream",
     "text": [
      "Populating the interactive namespace from numpy and matplotlib\n"
     ]
    },
    {
     "name": "stderr",
     "output_type": "stream",
     "text": [
      "C:\\Users\\_v010ch_\\Anaconda3\\lib\\site-packages\\IPython\\core\\magics\\pylab.py:160: UserWarning: pylab import has clobbered these variables: ['f']\n",
      "`%matplotlib` prevents importing * from pylab and numpy\n",
      "  \"\\n`%matplotlib` prevents importing * from pylab and numpy\"\n"
     ]
    }
   ],
   "source": [
    "%pylab inline"
   ]
  },
  {
   "cell_type": "code",
   "execution_count": 108,
   "metadata": {},
   "outputs": [],
   "source": [
    "DATA = './data'\n",
    "DATA_OWN = './data_own'\n",
    "CLICKSTREAM = 'alfabattle2_abattle_clickstream'"
   ]
  },
  {
   "cell_type": "markdown",
   "metadata": {},
   "source": [
    "#device_is_webview   always   True\n",
    "\n",
    "timestamp - дата и время совершения события    \n",
    "application_id - идентификатор приложения    \n",
    "client\t- Идентификатор клиента     \n",
    "session_id - Идентификатор сессии    \n",
    "event_type - Тип события    \n",
    "event_category - Категория события    \n",
    "event_name - Имя события    \n",
    "event_label - Дополнительный атрибут события    \n",
    "device_screen_name - Имя экрана на котором произошло событие    \n",
    "timezone - Часовой пояс    \n",
    "device_is_webview - Флаг того что страница открыта внутри webview    \n",
    "page_urlhost - Домен страницы    \n",
    "page_urlpath_full - Путь страницы    \n",
    "net_connection_type - Тип подключения    \n",
    "net_connection_tech - Технология подключения    "
   ]
  },
  {
   "cell_type": "code",
   "execution_count": 4,
   "metadata": {},
   "outputs": [
    {
     "data": {
      "text/plain": [
       "['./data\\\\alfabattle2_abattle_clickstream\\\\part-00000.parquet',\n",
       " './data\\\\alfabattle2_abattle_clickstream\\\\part-00001.parquet',\n",
       " './data\\\\alfabattle2_abattle_clickstream\\\\part-00002.parquet',\n",
       " './data\\\\alfabattle2_abattle_clickstream\\\\part-00003.parquet',\n",
       " './data\\\\alfabattle2_abattle_clickstream\\\\part-00004.parquet',\n",
       " './data\\\\alfabattle2_abattle_clickstream\\\\part-00005.parquet',\n",
       " './data\\\\alfabattle2_abattle_clickstream\\\\part-00006.parquet',\n",
       " './data\\\\alfabattle2_abattle_clickstream\\\\part-00007.parquet',\n",
       " './data\\\\alfabattle2_abattle_clickstream\\\\part-00008.parquet',\n",
       " './data\\\\alfabattle2_abattle_clickstream\\\\part-00009.parquet']"
      ]
     },
     "execution_count": 4,
     "metadata": {},
     "output_type": "execute_result"
    }
   ],
   "source": [
    "files = sorted(glob(os.path.join(DATA, CLICKSTREAM, 'part*')))\n",
    "files"
   ]
  },
  {
   "cell_type": "code",
   "execution_count": 5,
   "metadata": {},
   "outputs": [
    {
     "name": "stdout",
     "output_type": "stream",
     "text": [
      "Wall time: 12.2 s\n"
     ]
    },
    {
     "data": {
      "text/plain": [
       "(12468595, 15)"
      ]
     },
     "execution_count": 5,
     "metadata": {},
     "output_type": "execute_result"
    }
   ],
   "source": [
    "%%time\n",
    "data = pd.read_parquet(files[0])#, engine='fastparquet')\n",
    "data.shape"
   ]
  },
  {
   "cell_type": "code",
   "execution_count": 13,
   "metadata": {},
   "outputs": [
    {
     "data": {
      "text/plain": [
       "Index(['timestamp', 'application_id', 'client', 'session_id', 'event_type',\n",
       "       'event_category', 'event_name', 'event_label', 'device_screen_name',\n",
       "       'timezone', 'device_is_webview', 'page_urlhost', 'page_urlpath_full',\n",
       "       'net_connection_type', 'net_connection_tech'],\n",
       "      dtype='object')"
      ]
     },
     "execution_count": 13,
     "metadata": {},
     "output_type": "execute_result"
    }
   ],
   "source": [
    "data.keys()"
   ]
  },
  {
   "cell_type": "code",
   "execution_count": 27,
   "metadata": {},
   "outputs": [
    {
     "data": {
      "text/plain": [
       "array(['anketa', 'mobile', 'ncl', 'passport_metrics',\n",
       "       'retail-marketplace', 'retail-taxes-ui',\n",
       "       'retail-upsale-consent-ui', 'retail-upsale-ui',\n",
       "       'retail_cards_activation', 'retail_cards_insurance_antifraud_sale',\n",
       "       'retail_cards_pin_change', 'retail_credit_cards_insurance_sale',\n",
       "       'retail_debit_card_order',\n",
       "       'retail_digital_wealth_management_main_ui',\n",
       "       'retail_insurance_sale', 'retail_izk', 'retail_realty_insurance',\n",
       "       'retail_upsale_cards', 'retail_upsale_credit_holidays_ui',\n",
       "       'retail_upsale_documents_upload_ui', 'retail_upsale_ui',\n",
       "       'retail_upsale_verification', 'site'], dtype=object)"
      ]
     },
     "execution_count": 27,
     "metadata": {},
     "output_type": "execute_result"
    }
   ],
   "source": [
    "data.application_id.unique()"
   ]
  },
  {
   "cell_type": "code",
   "execution_count": 1,
   "metadata": {},
   "outputs": [],
   "source": [
    "#data.info()"
   ]
  },
  {
   "cell_type": "code",
   "execution_count": 14,
   "metadata": {},
   "outputs": [
    {
     "data": {
      "text/html": [
       "<div>\n",
       "<style scoped>\n",
       "    .dataframe tbody tr th:only-of-type {\n",
       "        vertical-align: middle;\n",
       "    }\n",
       "\n",
       "    .dataframe tbody tr th {\n",
       "        vertical-align: top;\n",
       "    }\n",
       "\n",
       "    .dataframe thead th {\n",
       "        text-align: right;\n",
       "    }\n",
       "</style>\n",
       "<table border=\"1\" class=\"dataframe\">\n",
       "  <thead>\n",
       "    <tr style=\"text-align: right;\">\n",
       "      <th></th>\n",
       "      <th>timestamp</th>\n",
       "      <th>application_id</th>\n",
       "      <th>client</th>\n",
       "      <th>session_id</th>\n",
       "      <th>event_type</th>\n",
       "      <th>event_category</th>\n",
       "      <th>event_name</th>\n",
       "      <th>event_label</th>\n",
       "      <th>device_screen_name</th>\n",
       "      <th>timezone</th>\n",
       "      <th>device_is_webview</th>\n",
       "      <th>page_urlhost</th>\n",
       "      <th>page_urlpath_full</th>\n",
       "      <th>net_connection_type</th>\n",
       "      <th>net_connection_tech</th>\n",
       "    </tr>\n",
       "  </thead>\n",
       "  <tbody>\n",
       "    <tr>\n",
       "      <th>0</th>\n",
       "      <td>2020-01-15 08:46:32.579</td>\n",
       "      <td>anketa</td>\n",
       "      <td>107efb4507525ce982e19331b36b0e2f</td>\n",
       "      <td>9a1366886da59ec85f0ef5e06f1e97f6</td>\n",
       "      <td>pv</td>\n",
       "      <td>None</td>\n",
       "      <td>None</td>\n",
       "      <td>None</td>\n",
       "      <td>None</td>\n",
       "      <td>Asia/Omsk</td>\n",
       "      <td>True</td>\n",
       "      <td>anketa.alfabank.ru</td>\n",
       "      <td>03eb3ceab6204f8b602f1863f7fbce01</td>\n",
       "      <td>None</td>\n",
       "      <td>None</td>\n",
       "    </tr>\n",
       "    <tr>\n",
       "      <th>1</th>\n",
       "      <td>2020-04-29 19:20:09.705</td>\n",
       "      <td>anketa</td>\n",
       "      <td>32dac9ab28a497a8061e02786bb3a95a</td>\n",
       "      <td>bdf7fc21e4e88d1b4f0838c80b21a1e3</td>\n",
       "      <td>pv</td>\n",
       "      <td>None</td>\n",
       "      <td>None</td>\n",
       "      <td>None</td>\n",
       "      <td>None</td>\n",
       "      <td>Asia/Yekaterinburg</td>\n",
       "      <td>True</td>\n",
       "      <td>anketa.alfabank.ru</td>\n",
       "      <td>03eb3ceab6204f8b602f1863f7fbce01</td>\n",
       "      <td>None</td>\n",
       "      <td>None</td>\n",
       "    </tr>\n",
       "    <tr>\n",
       "      <th>2</th>\n",
       "      <td>2020-02-21 03:21:24.058</td>\n",
       "      <td>anketa</td>\n",
       "      <td>489818f57087b59790435b3acf18018a</td>\n",
       "      <td>8bae6c4249db74dc0937e1ff00d61079</td>\n",
       "      <td>pv</td>\n",
       "      <td>None</td>\n",
       "      <td>None</td>\n",
       "      <td>None</td>\n",
       "      <td>None</td>\n",
       "      <td>Asia/Yakutsk</td>\n",
       "      <td>True</td>\n",
       "      <td>anketa.alfabank.ru</td>\n",
       "      <td>03eb3ceab6204f8b602f1863f7fbce01</td>\n",
       "      <td>None</td>\n",
       "      <td>None</td>\n",
       "    </tr>\n",
       "    <tr>\n",
       "      <th>3</th>\n",
       "      <td>2020-08-06 06:54:30.918</td>\n",
       "      <td>anketa</td>\n",
       "      <td>489818f57087b59790435b3acf18018a</td>\n",
       "      <td>3a95ba68795b745ca09ebee138b418ef</td>\n",
       "      <td>pv</td>\n",
       "      <td>None</td>\n",
       "      <td>None</td>\n",
       "      <td>None</td>\n",
       "      <td>None</td>\n",
       "      <td>Asia/Yakutsk</td>\n",
       "      <td>True</td>\n",
       "      <td>anketa.alfabank.ru</td>\n",
       "      <td>03eb3ceab6204f8b602f1863f7fbce01</td>\n",
       "      <td>None</td>\n",
       "      <td>None</td>\n",
       "    </tr>\n",
       "    <tr>\n",
       "      <th>4</th>\n",
       "      <td>2020-02-28 18:51:56.452</td>\n",
       "      <td>anketa</td>\n",
       "      <td>6dde48ffeb6d354628303c9d9b6721be</td>\n",
       "      <td>1db024ef087161f30a3c981cb32bb565</td>\n",
       "      <td>pv</td>\n",
       "      <td>None</td>\n",
       "      <td>None</td>\n",
       "      <td>None</td>\n",
       "      <td>None</td>\n",
       "      <td>Asia/Omsk</td>\n",
       "      <td>True</td>\n",
       "      <td>anketa.alfabank.ru</td>\n",
       "      <td>03eb3ceab6204f8b602f1863f7fbce01</td>\n",
       "      <td>None</td>\n",
       "      <td>None</td>\n",
       "    </tr>\n",
       "  </tbody>\n",
       "</table>\n",
       "</div>"
      ],
      "text/plain": [
       "                timestamp application_id                            client  \\\n",
       "0 2020-01-15 08:46:32.579         anketa  107efb4507525ce982e19331b36b0e2f   \n",
       "1 2020-04-29 19:20:09.705         anketa  32dac9ab28a497a8061e02786bb3a95a   \n",
       "2 2020-02-21 03:21:24.058         anketa  489818f57087b59790435b3acf18018a   \n",
       "3 2020-08-06 06:54:30.918         anketa  489818f57087b59790435b3acf18018a   \n",
       "4 2020-02-28 18:51:56.452         anketa  6dde48ffeb6d354628303c9d9b6721be   \n",
       "\n",
       "                         session_id event_type event_category event_name  \\\n",
       "0  9a1366886da59ec85f0ef5e06f1e97f6         pv           None       None   \n",
       "1  bdf7fc21e4e88d1b4f0838c80b21a1e3         pv           None       None   \n",
       "2  8bae6c4249db74dc0937e1ff00d61079         pv           None       None   \n",
       "3  3a95ba68795b745ca09ebee138b418ef         pv           None       None   \n",
       "4  1db024ef087161f30a3c981cb32bb565         pv           None       None   \n",
       "\n",
       "  event_label device_screen_name            timezone device_is_webview  \\\n",
       "0        None               None           Asia/Omsk              True   \n",
       "1        None               None  Asia/Yekaterinburg              True   \n",
       "2        None               None        Asia/Yakutsk              True   \n",
       "3        None               None        Asia/Yakutsk              True   \n",
       "4        None               None           Asia/Omsk              True   \n",
       "\n",
       "         page_urlhost                 page_urlpath_full net_connection_type  \\\n",
       "0  anketa.alfabank.ru  03eb3ceab6204f8b602f1863f7fbce01                None   \n",
       "1  anketa.alfabank.ru  03eb3ceab6204f8b602f1863f7fbce01                None   \n",
       "2  anketa.alfabank.ru  03eb3ceab6204f8b602f1863f7fbce01                None   \n",
       "3  anketa.alfabank.ru  03eb3ceab6204f8b602f1863f7fbce01                None   \n",
       "4  anketa.alfabank.ru  03eb3ceab6204f8b602f1863f7fbce01                None   \n",
       "\n",
       "  net_connection_tech  \n",
       "0                None  \n",
       "1                None  \n",
       "2                None  \n",
       "3                None  \n",
       "4                None  "
      ]
     },
     "execution_count": 14,
     "metadata": {},
     "output_type": "execute_result"
    }
   ],
   "source": [
    "data.head()"
   ]
  },
  {
   "cell_type": "code",
   "execution_count": 15,
   "metadata": {},
   "outputs": [],
   "source": [
    "cat_columns = ['application_id', 'event_type', 'device_is_webview', 'page_urlhost', 'net_connection_type', 'net_connection_tech']\n",
    "# event_category - 355\n",
    "# event_name - 10396\n",
    "# event_label - 6370\n",
    "# device_screen_name - 536\n",
    "# timezone - 169\n",
    "# page_urlpath_full - 14208\n",
    "# "
   ]
  },
  {
   "cell_type": "code",
   "execution_count": 16,
   "metadata": {},
   "outputs": [
    {
     "data": {
      "text/plain": [
       "Index(['LTE', 'HSPA+', 'EDGE', 'HSPA', 'HSUPA', 'UMTS', 'LTE_CA', 'HSDPA',\n",
       "       'GPRS', 'IWLAN', 'UNKNOWN', 'DC_HSPAP', 'GSM', 'TD_SCDMA'],\n",
       "      dtype='object')"
      ]
     },
     "execution_count": 16,
     "metadata": {},
     "output_type": "execute_result"
    }
   ],
   "source": [
    "data.net_connection_tech.value_counts().keys()"
   ]
  },
  {
   "cell_type": "code",
   "execution_count": 17,
   "metadata": {},
   "outputs": [
    {
     "ename": "NameError",
     "evalue": "name 'df' is not defined",
     "output_type": "error",
     "traceback": [
      "\u001b[1;31m---------------------------------------------------------------------------\u001b[0m",
      "\u001b[1;31mNameError\u001b[0m                                 Traceback (most recent call last)",
      "\u001b[1;32m<ipython-input-17-5cc0934cc03c>\u001b[0m in \u001b[0;36m<module>\u001b[1;34m\u001b[0m\n\u001b[1;32m----> 1\u001b[1;33m \u001b[0mdf\u001b[0m\u001b[1;33m.\u001b[0m\u001b[0mdtypes\u001b[0m\u001b[1;33m\u001b[0m\u001b[1;33m\u001b[0m\u001b[0m\n\u001b[0m",
      "\u001b[1;31mNameError\u001b[0m: name 'df' is not defined"
     ]
    }
   ],
   "source": [
    "df.dtypes"
   ]
  },
  {
   "cell_type": "code",
   "execution_count": 65,
   "metadata": {},
   "outputs": [],
   "source": [
    "dft = pq.read_table(files[0], use_pandas_metadata=True)\n",
    "df = dft.to_pandas(categories=cat_columns )"
   ]
  },
  {
   "cell_type": "raw",
   "metadata": {},
   "source": [
    "for el in files:\n",
    "    #data = pd.read_parquet(el, columns = cat_columns)\n",
    "    #print(data.shape)\n",
    "    #print(data.dtypes)\n",
    "    dft = pq.read_table(el, use_pandas_metadata=True)\n",
    "    df = dft.to_pandas(categories=cat_columns )\n",
    "    \n",
    "    print(df.application_id.value_counts())\n",
    "    \n",
    "    #for col_el in cat_columns:\n",
    "        \n",
    "    \n",
    "    \n",
    "    del df"
   ]
  },
  {
   "cell_type": "code",
   "execution_count": 27,
   "metadata": {},
   "outputs": [],
   "source": [
    "del data"
   ]
  },
  {
   "cell_type": "code",
   "execution_count": null,
   "metadata": {},
   "outputs": [],
   "source": []
  },
  {
   "cell_type": "code",
   "execution_count": 21,
   "metadata": {},
   "outputs": [],
   "source": [
    "def get_freq_dict(paths_to_files, column_of_interest):\n",
    "    \n",
    "    size_full = 0\n",
    "    #col_data = Counter()\n",
    "    col_data = []\n",
    "    for file in tqdm(paths_to_files):\n",
    "        tmp_data = pd.read_parquet(file)\n",
    "        #tmp_data = tmp_data[column_of_interest]    \n",
    "        \n",
    "        #for idx in range(tmp_data.shape[0]):\n",
    "        #col_data += Counter(tmp_data)\n",
    "        col_data += list(tmp_data[column_of_interest])\n",
    "        #kjhjhk  up  kjjkjkj.k\n",
    "        size_full += tmp_data.shape[0]\n",
    "        del tmp_data\n",
    "    \n",
    "    print(size_full)\n",
    "    #print(len(set(col_data)))\n",
    "    col_data = Counter(col_data)\n",
    "    freq_dict = {}\n",
    "    for idx, el in enumerate(col_data.most_common()):\n",
    "        freq_dict[el[0]] = (idx, el[1])\n",
    "        \n",
    "    #{'site': n, 'site2: m, 'site3': k}\n",
    "    return freq_dict"
   ]
  },
  {
   "cell_type": "code",
   "execution_count": 109,
   "metadata": {},
   "outputs": [
    {
     "data": {
      "application/vnd.jupyter.widget-view+json": {
       "model_id": "949c8c72475d4be78d918fa2b943974d",
       "version_major": 2,
       "version_minor": 0
      },
      "text/plain": [
       "HBox(children=(HTML(value=''), FloatProgress(value=0.0, max=10.0), HTML(value='')))"
      ]
     },
     "metadata": {},
     "output_type": "display_data"
    },
    {
     "name": "stdout",
     "output_type": "stream",
     "text": [
      "\n",
      "120025286\n",
      "Wall time: 2min 22s\n"
     ]
    },
    {
     "data": {
      "text/plain": [
       "14"
      ]
     },
     "execution_count": 109,
     "metadata": {},
     "output_type": "execute_result"
    }
   ],
   "source": [
    "%%time\n",
    "site_freq = get_freq_dict(files, 'page_urlhost')\n",
    "len(site_freq)"
   ]
  },
  {
   "cell_type": "code",
   "execution_count": 30,
   "metadata": {},
   "outputs": [
    {
     "data": {
      "text/plain": [
       "False"
      ]
     },
     "execution_count": 30,
     "metadata": {},
     "output_type": "execute_result"
    }
   ],
   "source": [
    "'LTE' in site_freq"
   ]
  },
  {
   "cell_type": "code",
   "execution_count": null,
   "metadata": {},
   "outputs": [],
   "source": [
    "'timestamp', 'application_id', 'client', 'session_id', 'event_type',\n",
    "'event_category', 'event_name', 'event_label', 'device_screen_name',\n",
    "'timezone', 'device_is_webview', 'page_urlhost', 'page_urlpath_full',\n",
    "'net_connection_type', 'net_connection_tech'"
   ]
  },
  {
   "cell_type": "markdown",
   "metadata": {},
   "source": [
    "120.025.286 total records\n",
    "\n",
    "\n",
    "131.676 page_urlpath_full    \n",
    "14 page_urlhost    \n",
    "23 application_id    \n",
    "80.376 client    \n",
    "9.676.500 session_id    \n",
    "5 event_type    \n",
    "376 event_category    \n",
    "83.163 event_name    \n",
    "36.678 event_label    \n",
    "607 device_screen_name    \n",
    "302 timezone    \n",
    "2 device_is_webview    \n",
    "4 net_connection_type    \n",
    "18 net_connection_tech    "
   ]
  },
  {
   "cell_type": "markdown",
   "metadata": {},
   "source": [
    "old data\n",
    "\n",
    "120.025.286 total records\n",
    "\n",
    "131.677   page_urlpath_full    \n",
    "15 page_urlhost    \n",
    "23       application_id    \n",
    "80.376    client    \n",
    "9.676.500  session_id    \n",
    "5 event_type    \n",
    "377 event_category    \n",
    "83.160 event_name    \n",
    "36.679 event_label    \n",
    "608 device_screen_name    \n"
   ]
  },
  {
   "cell_type": "code",
   "execution_count": 5,
   "metadata": {},
   "outputs": [],
   "source": [
    "def check_ft_changed_in_sess(paths_to_files, col_of_interest):\n",
    "    \n",
    "    \n",
    "    ret_list  = []\n",
    "   \n",
    "    for file in tqdm(paths_to_files):\n",
    "        tmp_data = pd.read_parquet(file)[['session_id', col_of_interest]]\n",
    "        #print(tmp_data.keys())\n",
    "        #tmp_data = tmp_data[['session_id', col_of_interest]]\n",
    "        \n",
    "        \n",
    "        for sess in tqdm(set(tmp_data.session_id), leave = False):\n",
    "            tmp_df = tmp_data[tmp_data.session_id == sess]\n",
    "            \n",
    "            ret_list.append(len(set(tmp_df[col_of_interest])))\n",
    "            \n",
    "            \n",
    "        del tmp_data\n",
    "        \n",
    "    return  ret_list"
   ]
  },
  {
   "cell_type": "code",
   "execution_count": null,
   "metadata": {},
   "outputs": [
    {
     "data": {
      "application/vnd.jupyter.widget-view+json": {
       "model_id": "699d9945a8564d0598add953f1d9a007",
       "version_major": 2,
       "version_minor": 0
      },
      "text/plain": [
       "HBox(children=(HTML(value=''), FloatProgress(value=0.0, max=10.0), HTML(value='')))"
      ]
     },
     "metadata": {},
     "output_type": "display_data"
    },
    {
     "data": {
      "application/vnd.jupyter.widget-view+json": {
       "model_id": "b9a82f517ade4dffbe0947e0ce160fa4",
       "version_major": 2,
       "version_minor": 0
      },
      "text/plain": [
       "HBox(children=(HTML(value=''), FloatProgress(value=0.0, max=1004032.0), HTML(value='')))"
      ]
     },
     "metadata": {},
     "output_type": "display_data"
    }
   ],
   "source": [
    "list_all_changes = check_ft_changed_in_sess(files, 'application_id')"
   ]
  },
  {
   "cell_type": "code",
   "execution_count": null,
   "metadata": {},
   "outputs": [],
   "source": []
  },
  {
   "cell_type": "code",
   "execution_count": 38,
   "metadata": {},
   "outputs": [
    {
     "name": "stdout",
     "output_type": "stream",
     "text": [
      "Wall time: 1.99 s\n"
     ]
    },
    {
     "data": {
      "text/html": [
       "<div>\n",
       "<style scoped>\n",
       "    .dataframe tbody tr th:only-of-type {\n",
       "        vertical-align: middle;\n",
       "    }\n",
       "\n",
       "    .dataframe tbody tr th {\n",
       "        vertical-align: top;\n",
       "    }\n",
       "\n",
       "    .dataframe thead th {\n",
       "        text-align: right;\n",
       "    }\n",
       "</style>\n",
       "<table border=\"1\" class=\"dataframe\">\n",
       "  <thead>\n",
       "    <tr style=\"text-align: right;\">\n",
       "      <th></th>\n",
       "      <th>timestamp</th>\n",
       "      <th>application_id</th>\n",
       "      <th>client</th>\n",
       "      <th>session_id</th>\n",
       "      <th>event_type</th>\n",
       "      <th>event_category</th>\n",
       "      <th>event_name</th>\n",
       "      <th>event_label</th>\n",
       "      <th>device_screen_name</th>\n",
       "      <th>timezone</th>\n",
       "      <th>device_is_webview</th>\n",
       "      <th>page_urlhost</th>\n",
       "      <th>page_urlpath_full</th>\n",
       "      <th>net_connection_type</th>\n",
       "      <th>net_connection_tech</th>\n",
       "    </tr>\n",
       "  </thead>\n",
       "  <tbody>\n",
       "    <tr>\n",
       "      <th>67</th>\n",
       "      <td>2020-01-11 08:42:11</td>\n",
       "      <td>anketa</td>\n",
       "      <td>dd3bb70474c68d6e00eb3ce4ed885cfa</td>\n",
       "      <td>5b145a41510b7af3d717ff6a8243ebe8</td>\n",
       "      <td>pv</td>\n",
       "      <td>None</td>\n",
       "      <td>None</td>\n",
       "      <td>None</td>\n",
       "      <td>None</td>\n",
       "      <td>Europe/Minsk</td>\n",
       "      <td>True</td>\n",
       "      <td>anketa.alfabank.ru</td>\n",
       "      <td>11784dfa89ede18b5557a2444a9212e7</td>\n",
       "      <td>None</td>\n",
       "      <td>None</td>\n",
       "    </tr>\n",
       "    <tr>\n",
       "      <th>68</th>\n",
       "      <td>2020-01-11 08:43:32</td>\n",
       "      <td>anketa</td>\n",
       "      <td>dd3bb70474c68d6e00eb3ce4ed885cfa</td>\n",
       "      <td>5b145a41510b7af3d717ff6a8243ebe8</td>\n",
       "      <td>pv</td>\n",
       "      <td>None</td>\n",
       "      <td>None</td>\n",
       "      <td>None</td>\n",
       "      <td>None</td>\n",
       "      <td>Europe/Minsk</td>\n",
       "      <td>True</td>\n",
       "      <td>anketa.alfabank.ru</td>\n",
       "      <td>11784dfa89ede18b5557a2444a9212e7</td>\n",
       "      <td>None</td>\n",
       "      <td>None</td>\n",
       "    </tr>\n",
       "    <tr>\n",
       "      <th>69</th>\n",
       "      <td>2020-01-11 08:43:38</td>\n",
       "      <td>anketa</td>\n",
       "      <td>dd3bb70474c68d6e00eb3ce4ed885cfa</td>\n",
       "      <td>5b145a41510b7af3d717ff6a8243ebe8</td>\n",
       "      <td>pv</td>\n",
       "      <td>None</td>\n",
       "      <td>None</td>\n",
       "      <td>None</td>\n",
       "      <td>None</td>\n",
       "      <td>Europe/Minsk</td>\n",
       "      <td>True</td>\n",
       "      <td>anketa.alfabank.ru</td>\n",
       "      <td>11784dfa89ede18b5557a2444a9212e7</td>\n",
       "      <td>None</td>\n",
       "      <td>None</td>\n",
       "    </tr>\n",
       "    <tr>\n",
       "      <th>84</th>\n",
       "      <td>2020-01-11 08:45:12</td>\n",
       "      <td>anketa</td>\n",
       "      <td>dd3bb70474c68d6e00eb3ce4ed885cfa</td>\n",
       "      <td>5b145a41510b7af3d717ff6a8243ebe8</td>\n",
       "      <td>pv</td>\n",
       "      <td>None</td>\n",
       "      <td>None</td>\n",
       "      <td>None</td>\n",
       "      <td>None</td>\n",
       "      <td>Europe/Minsk</td>\n",
       "      <td>True</td>\n",
       "      <td>anketa.alfabank.ru</td>\n",
       "      <td>18b582a11608d7d6a3a8bffe2dc21727</td>\n",
       "      <td>None</td>\n",
       "      <td>None</td>\n",
       "    </tr>\n",
       "    <tr>\n",
       "      <th>98</th>\n",
       "      <td>2020-01-11 08:42:53</td>\n",
       "      <td>anketa</td>\n",
       "      <td>dd3bb70474c68d6e00eb3ce4ed885cfa</td>\n",
       "      <td>5b145a41510b7af3d717ff6a8243ebe8</td>\n",
       "      <td>pv</td>\n",
       "      <td>None</td>\n",
       "      <td>None</td>\n",
       "      <td>None</td>\n",
       "      <td>None</td>\n",
       "      <td>Europe/Minsk</td>\n",
       "      <td>True</td>\n",
       "      <td>anketa.alfabank.ru</td>\n",
       "      <td>22f2ed984aa1a47addecf975ea9cf93c</td>\n",
       "      <td>None</td>\n",
       "      <td>None</td>\n",
       "    </tr>\n",
       "    <tr>\n",
       "      <th>...</th>\n",
       "      <td>...</td>\n",
       "      <td>...</td>\n",
       "      <td>...</td>\n",
       "      <td>...</td>\n",
       "      <td>...</td>\n",
       "      <td>...</td>\n",
       "      <td>...</td>\n",
       "      <td>...</td>\n",
       "      <td>...</td>\n",
       "      <td>...</td>\n",
       "      <td>...</td>\n",
       "      <td>...</td>\n",
       "      <td>...</td>\n",
       "      <td>...</td>\n",
       "      <td>...</td>\n",
       "    </tr>\n",
       "    <tr>\n",
       "      <th>11894332</th>\n",
       "      <td>2020-01-11 08:37:15</td>\n",
       "      <td>mobile</td>\n",
       "      <td>dd3bb70474c68d6e00eb3ce4ed885cfa</td>\n",
       "      <td>5b145a41510b7af3d717ff6a8243ebe8</td>\n",
       "      <td>sv</td>\n",
       "      <td>None</td>\n",
       "      <td>None</td>\n",
       "      <td>None</td>\n",
       "      <td>SignUpBannerActivity</td>\n",
       "      <td>Europe/Moscow</td>\n",
       "      <td>None</td>\n",
       "      <td>None</td>\n",
       "      <td>None</td>\n",
       "      <td>wifi</td>\n",
       "      <td>None</td>\n",
       "    </tr>\n",
       "    <tr>\n",
       "      <th>11894333</th>\n",
       "      <td>2020-01-11 08:45:25</td>\n",
       "      <td>mobile</td>\n",
       "      <td>dd3bb70474c68d6e00eb3ce4ed885cfa</td>\n",
       "      <td>5b145a41510b7af3d717ff6a8243ebe8</td>\n",
       "      <td>sv</td>\n",
       "      <td>None</td>\n",
       "      <td>None</td>\n",
       "      <td>None</td>\n",
       "      <td>SignUpBannerActivity</td>\n",
       "      <td>Europe/Moscow</td>\n",
       "      <td>None</td>\n",
       "      <td>None</td>\n",
       "      <td>None</td>\n",
       "      <td>wifi</td>\n",
       "      <td>None</td>\n",
       "    </tr>\n",
       "    <tr>\n",
       "      <th>11894334</th>\n",
       "      <td>2020-01-11 08:45:48</td>\n",
       "      <td>mobile</td>\n",
       "      <td>dd3bb70474c68d6e00eb3ce4ed885cfa</td>\n",
       "      <td>5b145a41510b7af3d717ff6a8243ebe8</td>\n",
       "      <td>sv</td>\n",
       "      <td>None</td>\n",
       "      <td>None</td>\n",
       "      <td>None</td>\n",
       "      <td>SignUpBannerActivity</td>\n",
       "      <td>Europe/Moscow</td>\n",
       "      <td>None</td>\n",
       "      <td>None</td>\n",
       "      <td>None</td>\n",
       "      <td>wifi</td>\n",
       "      <td>None</td>\n",
       "    </tr>\n",
       "    <tr>\n",
       "      <th>12066144</th>\n",
       "      <td>2020-01-11 08:45:44</td>\n",
       "      <td>mobile</td>\n",
       "      <td>dd3bb70474c68d6e00eb3ce4ed885cfa</td>\n",
       "      <td>5b145a41510b7af3d717ff6a8243ebe8</td>\n",
       "      <td>sv</td>\n",
       "      <td>None</td>\n",
       "      <td>None</td>\n",
       "      <td>None</td>\n",
       "      <td>UserProfileActivity</td>\n",
       "      <td>Europe/Moscow</td>\n",
       "      <td>None</td>\n",
       "      <td>None</td>\n",
       "      <td>None</td>\n",
       "      <td>wifi</td>\n",
       "      <td>None</td>\n",
       "    </tr>\n",
       "    <tr>\n",
       "      <th>12101480</th>\n",
       "      <td>2020-01-11 08:37:28</td>\n",
       "      <td>mobile</td>\n",
       "      <td>dd3bb70474c68d6e00eb3ce4ed885cfa</td>\n",
       "      <td>5b145a41510b7af3d717ff6a8243ebe8</td>\n",
       "      <td>sv</td>\n",
       "      <td>None</td>\n",
       "      <td>None</td>\n",
       "      <td>None</td>\n",
       "      <td>WebQuestionnaireActivity</td>\n",
       "      <td>Europe/Moscow</td>\n",
       "      <td>None</td>\n",
       "      <td>None</td>\n",
       "      <td>None</td>\n",
       "      <td>wifi</td>\n",
       "      <td>None</td>\n",
       "    </tr>\n",
       "  </tbody>\n",
       "</table>\n",
       "<p>187 rows × 15 columns</p>\n",
       "</div>"
      ],
      "text/plain": [
       "                   timestamp application_id                            client  \\\n",
       "67       2020-01-11 08:42:11         anketa  dd3bb70474c68d6e00eb3ce4ed885cfa   \n",
       "68       2020-01-11 08:43:32         anketa  dd3bb70474c68d6e00eb3ce4ed885cfa   \n",
       "69       2020-01-11 08:43:38         anketa  dd3bb70474c68d6e00eb3ce4ed885cfa   \n",
       "84       2020-01-11 08:45:12         anketa  dd3bb70474c68d6e00eb3ce4ed885cfa   \n",
       "98       2020-01-11 08:42:53         anketa  dd3bb70474c68d6e00eb3ce4ed885cfa   \n",
       "...                      ...            ...                               ...   \n",
       "11894332 2020-01-11 08:37:15         mobile  dd3bb70474c68d6e00eb3ce4ed885cfa   \n",
       "11894333 2020-01-11 08:45:25         mobile  dd3bb70474c68d6e00eb3ce4ed885cfa   \n",
       "11894334 2020-01-11 08:45:48         mobile  dd3bb70474c68d6e00eb3ce4ed885cfa   \n",
       "12066144 2020-01-11 08:45:44         mobile  dd3bb70474c68d6e00eb3ce4ed885cfa   \n",
       "12101480 2020-01-11 08:37:28         mobile  dd3bb70474c68d6e00eb3ce4ed885cfa   \n",
       "\n",
       "                                session_id event_type event_category  \\\n",
       "67        5b145a41510b7af3d717ff6a8243ebe8         pv           None   \n",
       "68        5b145a41510b7af3d717ff6a8243ebe8         pv           None   \n",
       "69        5b145a41510b7af3d717ff6a8243ebe8         pv           None   \n",
       "84        5b145a41510b7af3d717ff6a8243ebe8         pv           None   \n",
       "98        5b145a41510b7af3d717ff6a8243ebe8         pv           None   \n",
       "...                                    ...        ...            ...   \n",
       "11894332  5b145a41510b7af3d717ff6a8243ebe8         sv           None   \n",
       "11894333  5b145a41510b7af3d717ff6a8243ebe8         sv           None   \n",
       "11894334  5b145a41510b7af3d717ff6a8243ebe8         sv           None   \n",
       "12066144  5b145a41510b7af3d717ff6a8243ebe8         sv           None   \n",
       "12101480  5b145a41510b7af3d717ff6a8243ebe8         sv           None   \n",
       "\n",
       "         event_name event_label        device_screen_name       timezone  \\\n",
       "67             None        None                      None   Europe/Minsk   \n",
       "68             None        None                      None   Europe/Minsk   \n",
       "69             None        None                      None   Europe/Minsk   \n",
       "84             None        None                      None   Europe/Minsk   \n",
       "98             None        None                      None   Europe/Minsk   \n",
       "...             ...         ...                       ...            ...   \n",
       "11894332       None        None      SignUpBannerActivity  Europe/Moscow   \n",
       "11894333       None        None      SignUpBannerActivity  Europe/Moscow   \n",
       "11894334       None        None      SignUpBannerActivity  Europe/Moscow   \n",
       "12066144       None        None       UserProfileActivity  Europe/Moscow   \n",
       "12101480       None        None  WebQuestionnaireActivity  Europe/Moscow   \n",
       "\n",
       "         device_is_webview        page_urlhost  \\\n",
       "67                    True  anketa.alfabank.ru   \n",
       "68                    True  anketa.alfabank.ru   \n",
       "69                    True  anketa.alfabank.ru   \n",
       "84                    True  anketa.alfabank.ru   \n",
       "98                    True  anketa.alfabank.ru   \n",
       "...                    ...                 ...   \n",
       "11894332              None                None   \n",
       "11894333              None                None   \n",
       "11894334              None                None   \n",
       "12066144              None                None   \n",
       "12101480              None                None   \n",
       "\n",
       "                         page_urlpath_full net_connection_type  \\\n",
       "67        11784dfa89ede18b5557a2444a9212e7                None   \n",
       "68        11784dfa89ede18b5557a2444a9212e7                None   \n",
       "69        11784dfa89ede18b5557a2444a9212e7                None   \n",
       "84        18b582a11608d7d6a3a8bffe2dc21727                None   \n",
       "98        22f2ed984aa1a47addecf975ea9cf93c                None   \n",
       "...                                    ...                 ...   \n",
       "11894332                              None                wifi   \n",
       "11894333                              None                wifi   \n",
       "11894334                              None                wifi   \n",
       "12066144                              None                wifi   \n",
       "12101480                              None                wifi   \n",
       "\n",
       "         net_connection_tech  \n",
       "67                      None  \n",
       "68                      None  \n",
       "69                      None  \n",
       "84                      None  \n",
       "98                      None  \n",
       "...                      ...  \n",
       "11894332                None  \n",
       "11894333                None  \n",
       "11894334                None  \n",
       "12066144                None  \n",
       "12101480                None  \n",
       "\n",
       "[187 rows x 15 columns]"
      ]
     },
     "execution_count": 38,
     "metadata": {},
     "output_type": "execute_result"
    }
   ],
   "source": [
    "%%time\n",
    "data[data.session_id == '5b145a41510b7af3d717ff6a8243ebe8']"
   ]
  },
  {
   "cell_type": "code",
   "execution_count": null,
   "metadata": {},
   "outputs": [],
   "source": []
  },
  {
   "cell_type": "code",
   "execution_count": 7,
   "metadata": {},
   "outputs": [
    {
     "data": {
      "text/plain": [
       "'./data'"
      ]
     },
     "execution_count": 7,
     "metadata": {},
     "output_type": "execute_result"
    }
   ],
   "source": [
    "DATA"
   ]
  },
  {
   "cell_type": "code",
   "execution_count": 20,
   "metadata": {},
   "outputs": [
    {
     "data": {
      "text/plain": [
       "(5065350, 4)"
      ]
     },
     "execution_count": 20,
     "metadata": {},
     "output_type": "execute_result"
    }
   ],
   "source": [
    "sub = pd.read_csv(os.path.join(DATA, 'alfabattle2_abattle_train_target.csv'))\n",
    "sub.shape"
   ]
  },
  {
   "cell_type": "code",
   "execution_count": 15,
   "metadata": {},
   "outputs": [
    {
     "data": {
      "text/html": [
       "<div>\n",
       "<style scoped>\n",
       "    .dataframe tbody tr th:only-of-type {\n",
       "        vertical-align: middle;\n",
       "    }\n",
       "\n",
       "    .dataframe tbody tr th {\n",
       "        vertical-align: top;\n",
       "    }\n",
       "\n",
       "    .dataframe thead th {\n",
       "        text-align: right;\n",
       "    }\n",
       "</style>\n",
       "<table border=\"1\" class=\"dataframe\">\n",
       "  <thead>\n",
       "    <tr style=\"text-align: right;\">\n",
       "      <th></th>\n",
       "      <th>session_id</th>\n",
       "      <th>client_pin</th>\n",
       "      <th>timestamp</th>\n",
       "      <th>multi_class_target</th>\n",
       "    </tr>\n",
       "  </thead>\n",
       "  <tbody>\n",
       "    <tr>\n",
       "      <th>0</th>\n",
       "      <td>0000029e72e5fcde6a9f29c3a3ed198f</td>\n",
       "      <td>7cf9221322a0e2fdefb1b998b8f2ab29</td>\n",
       "      <td>2020-06-15 14:01:12</td>\n",
       "      <td>main_screen</td>\n",
       "    </tr>\n",
       "    <tr>\n",
       "      <th>1</th>\n",
       "      <td>00063dffa47b0fe5556b2b9e8beddb6a</td>\n",
       "      <td>5f16c0ab27a806fd08db3122921adf3a</td>\n",
       "      <td>2020-03-21 12:59:34</td>\n",
       "      <td>invest</td>\n",
       "    </tr>\n",
       "    <tr>\n",
       "      <th>2</th>\n",
       "      <td>0007857f36d268ec46fcb7305538a1c7</td>\n",
       "      <td>ec868fc2b388293cf10e18ee9518d72f</td>\n",
       "      <td>2020-01-24 18:18:55</td>\n",
       "      <td>statement</td>\n",
       "    </tr>\n",
       "  </tbody>\n",
       "</table>\n",
       "</div>"
      ],
      "text/plain": [
       "                         session_id                        client_pin  \\\n",
       "0  0000029e72e5fcde6a9f29c3a3ed198f  7cf9221322a0e2fdefb1b998b8f2ab29   \n",
       "1  00063dffa47b0fe5556b2b9e8beddb6a  5f16c0ab27a806fd08db3122921adf3a   \n",
       "2  0007857f36d268ec46fcb7305538a1c7  ec868fc2b388293cf10e18ee9518d72f   \n",
       "\n",
       "             timestamp multi_class_target  \n",
       "0  2020-06-15 14:01:12        main_screen  \n",
       "1  2020-03-21 12:59:34             invest  \n",
       "2  2020-01-24 18:18:55          statement  "
      ]
     },
     "execution_count": 15,
     "metadata": {},
     "output_type": "execute_result"
    }
   ],
   "source": [
    "sub.head(3)"
   ]
  },
  {
   "cell_type": "code",
   "execution_count": 9,
   "metadata": {},
   "outputs": [
    {
     "data": {
      "text/plain": [
       "main_screen             2280763\n",
       "statement                922569\n",
       "credit_info              498698\n",
       "own_transfer             290077\n",
       "mobile_recharge          266485\n",
       "phone_money_transfer     232911\n",
       "card2card_transfer       193378\n",
       "chat                     184775\n",
       "card_recharge            138616\n",
       "invest                    57078\n",
       "Name: multi_class_target, dtype: int64"
      ]
     },
     "execution_count": 9,
     "metadata": {},
     "output_type": "execute_result"
    }
   ],
   "source": [
    "sub.multi_class_target.value_counts()"
   ]
  },
  {
   "cell_type": "code",
   "execution_count": 23,
   "metadata": {},
   "outputs": [
    {
     "data": {
      "text/plain": [
       "<AxesSubplot:>"
      ]
     },
     "execution_count": 23,
     "metadata": {},
     "output_type": "execute_result"
    },
    {
     "data": {
      "image/png": "[encoded data removed]",
      "text/plain": [
       "<Figure size 432x288 with 1 Axes>"
      ]
     },
     "metadata": {
      "needs_background": "light"
     },
     "output_type": "display_data"
    }
   ],
   "source": [
    "sub.multi_class_target.hist()"
   ]
  },
  {
   "cell_type": "code",
   "execution_count": 34,
   "metadata": {},
   "outputs": [
    {
     "data": {
      "text/plain": [
       "(79268, 2)"
      ]
     },
     "execution_count": 34,
     "metadata": {},
     "output_type": "execute_result"
    }
   ],
   "source": [
    "sample_pred = pd.read_csv(os.path.join(DATA, 'alfabattle2_abattle_sample_prediction.csv'))\n",
    "sample_pred.shape"
   ]
  },
  {
   "cell_type": "code",
   "execution_count": 14,
   "metadata": {},
   "outputs": [
    {
     "data": {
      "text/html": [
       "<div>\n",
       "<style scoped>\n",
       "    .dataframe tbody tr th:only-of-type {\n",
       "        vertical-align: middle;\n",
       "    }\n",
       "\n",
       "    .dataframe tbody tr th {\n",
       "        vertical-align: top;\n",
       "    }\n",
       "\n",
       "    .dataframe thead th {\n",
       "        text-align: right;\n",
       "    }\n",
       "</style>\n",
       "<table border=\"1\" class=\"dataframe\">\n",
       "  <thead>\n",
       "    <tr style=\"text-align: right;\">\n",
       "      <th></th>\n",
       "      <th>client_pin</th>\n",
       "      <th>prediction</th>\n",
       "    </tr>\n",
       "  </thead>\n",
       "  <tbody>\n",
       "    <tr>\n",
       "      <th>0</th>\n",
       "      <td>f0c674b2bb4dc64be607029271d706ec</td>\n",
       "      <td>credit_info</td>\n",
       "    </tr>\n",
       "    <tr>\n",
       "      <th>1</th>\n",
       "      <td>90725b54ce77576883813d87749df6bd</td>\n",
       "      <td>credit_info</td>\n",
       "    </tr>\n",
       "    <tr>\n",
       "      <th>2</th>\n",
       "      <td>eb0f82d74c7b7bd5eafbd5b5f8cb3e2a</td>\n",
       "      <td>own_transfer</td>\n",
       "    </tr>\n",
       "  </tbody>\n",
       "</table>\n",
       "</div>"
      ],
      "text/plain": [
       "                         client_pin    prediction\n",
       "0  f0c674b2bb4dc64be607029271d706ec   credit_info\n",
       "1  90725b54ce77576883813d87749df6bd   credit_info\n",
       "2  eb0f82d74c7b7bd5eafbd5b5f8cb3e2a  own_transfer"
      ]
     },
     "execution_count": 14,
     "metadata": {},
     "output_type": "execute_result"
    }
   ],
   "source": [
    "sample_pred.head(3)"
   ]
  },
  {
   "cell_type": "code",
   "execution_count": 12,
   "metadata": {},
   "outputs": [
    {
     "data": {
      "text/plain": [
       "invest                  8055\n",
       "mobile_recharge         8028\n",
       "statement               7995\n",
       "chat                    7989\n",
       "card2card_transfer      7965\n",
       "phone_money_transfer    7941\n",
       "card_recharge           7936\n",
       "main_screen             7893\n",
       "own_transfer            7759\n",
       "credit_info             7707\n",
       "Name: prediction, dtype: int64"
      ]
     },
     "execution_count": 12,
     "metadata": {},
     "output_type": "execute_result"
    }
   ],
   "source": [
    "sample_pred.prediction.value_counts()"
   ]
  },
  {
   "cell_type": "code",
   "execution_count": 24,
   "metadata": {},
   "outputs": [
    {
     "data": {
      "text/plain": [
       "<AxesSubplot:>"
      ]
     },
     "execution_count": 24,
     "metadata": {},
     "output_type": "execute_result"
    },
    {
     "data": {
      "image/png": "[encoded data removed]",
      "text/plain": [
       "<Figure size 432x288 with 1 Axes>"
      ]
     },
     "metadata": {
      "needs_background": "light"
     },
     "output_type": "display_data"
    }
   ],
   "source": [
    "sample_pred.prediction.hist()"
   ]
  },
  {
   "cell_type": "code",
   "execution_count": 27,
   "metadata": {},
   "outputs": [
    {
     "data": {
      "text/plain": [
       "(79268, 2)"
      ]
     },
     "execution_count": 27,
     "metadata": {},
     "output_type": "execute_result"
    }
   ],
   "source": [
    "hz = pd.read_csv(os.path.join(DATA, 'alfabattle2_prediction_session_timestamp.csv'))\n",
    "hz.shape"
   ]
  },
  {
   "cell_type": "code",
   "execution_count": 29,
   "metadata": {},
   "outputs": [
    {
     "data": {
      "text/html": [
       "<div>\n",
       "<style scoped>\n",
       "    .dataframe tbody tr th:only-of-type {\n",
       "        vertical-align: middle;\n",
       "    }\n",
       "\n",
       "    .dataframe tbody tr th {\n",
       "        vertical-align: top;\n",
       "    }\n",
       "\n",
       "    .dataframe thead th {\n",
       "        text-align: right;\n",
       "    }\n",
       "</style>\n",
       "<table border=\"1\" class=\"dataframe\">\n",
       "  <thead>\n",
       "    <tr style=\"text-align: right;\">\n",
       "      <th></th>\n",
       "      <th>client_pin</th>\n",
       "      <th>timestamp</th>\n",
       "    </tr>\n",
       "  </thead>\n",
       "  <tbody>\n",
       "    <tr>\n",
       "      <th>0</th>\n",
       "      <td>f0c674b2bb4dc64be607029271d706ec</td>\n",
       "      <td>2020-08-01 00:00:53</td>\n",
       "    </tr>\n",
       "    <tr>\n",
       "      <th>1</th>\n",
       "      <td>90725b54ce77576883813d87749df6bd</td>\n",
       "      <td>2020-08-01 00:02:57</td>\n",
       "    </tr>\n",
       "    <tr>\n",
       "      <th>2</th>\n",
       "      <td>eb0f82d74c7b7bd5eafbd5b5f8cb3e2a</td>\n",
       "      <td>2020-08-01 00:03:14</td>\n",
       "    </tr>\n",
       "  </tbody>\n",
       "</table>\n",
       "</div>"
      ],
      "text/plain": [
       "                         client_pin            timestamp\n",
       "0  f0c674b2bb4dc64be607029271d706ec  2020-08-01 00:00:53\n",
       "1  90725b54ce77576883813d87749df6bd  2020-08-01 00:02:57\n",
       "2  eb0f82d74c7b7bd5eafbd5b5f8cb3e2a  2020-08-01 00:03:14"
      ]
     },
     "execution_count": 29,
     "metadata": {},
     "output_type": "execute_result"
    }
   ],
   "source": [
    "hz.head(3)"
   ]
  },
  {
   "cell_type": "code",
   "execution_count": 32,
   "metadata": {},
   "outputs": [],
   "source": [
    "same = 0\n",
    "for el in hz.index:\n",
    "    if hz.loc[el, 'client_pin'] in site_freq:\n",
    "        same += 1"
   ]
  },
  {
   "cell_type": "code",
   "execution_count": 33,
   "metadata": {},
   "outputs": [
    {
     "data": {
      "text/plain": [
       "79268"
      ]
     },
     "execution_count": 33,
     "metadata": {},
     "output_type": "execute_result"
    }
   ],
   "source": [
    "same"
   ]
  },
  {
   "cell_type": "code",
   "execution_count": 35,
   "metadata": {},
   "outputs": [],
   "source": [
    "same2 = 0\n",
    "for el in hz.index:\n",
    "    if sample_pred.loc[el, 'client_pin'] in site_freq:\n",
    "        same2 += 1"
   ]
  },
  {
   "cell_type": "code",
   "execution_count": 36,
   "metadata": {},
   "outputs": [
    {
     "data": {
      "text/plain": [
       "79268"
      ]
     },
     "execution_count": 36,
     "metadata": {},
     "output_type": "execute_result"
    }
   ],
   "source": [
    "same2"
   ]
  },
  {
   "cell_type": "code",
   "execution_count": 91,
   "metadata": {},
   "outputs": [],
   "source": [
    "answer_time_chack = data.groupby(['client', 'session_id']).timestamp.agg(min_val = 'min', max_val = 'max')"
   ]
  },
  {
   "cell_type": "code",
   "execution_count": 42,
   "metadata": {},
   "outputs": [
    {
     "data": {
      "text/html": [
       "<div>\n",
       "<style scoped>\n",
       "    .dataframe tbody tr th:only-of-type {\n",
       "        vertical-align: middle;\n",
       "    }\n",
       "\n",
       "    .dataframe tbody tr th {\n",
       "        vertical-align: top;\n",
       "    }\n",
       "\n",
       "    .dataframe thead th {\n",
       "        text-align: right;\n",
       "    }\n",
       "</style>\n",
       "<table border=\"1\" class=\"dataframe\">\n",
       "  <thead>\n",
       "    <tr style=\"text-align: right;\">\n",
       "      <th></th>\n",
       "      <th>client_pin</th>\n",
       "      <th>timestamp</th>\n",
       "    </tr>\n",
       "  </thead>\n",
       "  <tbody>\n",
       "    <tr>\n",
       "      <th>0</th>\n",
       "      <td>f0c674b2bb4dc64be607029271d706ec</td>\n",
       "      <td>2020-08-01 00:00:53</td>\n",
       "    </tr>\n",
       "    <tr>\n",
       "      <th>1</th>\n",
       "      <td>90725b54ce77576883813d87749df6bd</td>\n",
       "      <td>2020-08-01 00:02:57</td>\n",
       "    </tr>\n",
       "    <tr>\n",
       "      <th>2</th>\n",
       "      <td>eb0f82d74c7b7bd5eafbd5b5f8cb3e2a</td>\n",
       "      <td>2020-08-01 00:03:14</td>\n",
       "    </tr>\n",
       "    <tr>\n",
       "      <th>3</th>\n",
       "      <td>831bf4c0ecccc55e536b8cfb9153d672</td>\n",
       "      <td>2020-08-01 00:04:44</td>\n",
       "    </tr>\n",
       "    <tr>\n",
       "      <th>4</th>\n",
       "      <td>3f1a5a1c492ce877af833113e59c5797</td>\n",
       "      <td>2020-08-01 00:06:40</td>\n",
       "    </tr>\n",
       "  </tbody>\n",
       "</table>\n",
       "</div>"
      ],
      "text/plain": [
       "                         client_pin            timestamp\n",
       "0  f0c674b2bb4dc64be607029271d706ec  2020-08-01 00:00:53\n",
       "1  90725b54ce77576883813d87749df6bd  2020-08-01 00:02:57\n",
       "2  eb0f82d74c7b7bd5eafbd5b5f8cb3e2a  2020-08-01 00:03:14\n",
       "3  831bf4c0ecccc55e536b8cfb9153d672  2020-08-01 00:04:44\n",
       "4  3f1a5a1c492ce877af833113e59c5797  2020-08-01 00:06:40"
      ]
     },
     "execution_count": 42,
     "metadata": {},
     "output_type": "execute_result"
    }
   ],
   "source": [
    "hz.head()"
   ]
  },
  {
   "cell_type": "code",
   "execution_count": 93,
   "metadata": {},
   "outputs": [
    {
     "ename": "AttributeError",
     "evalue": "'MultiIndex' object has no attribute 'client'",
     "output_type": "error",
     "traceback": [
      "\u001b[1;31m---------------------------------------------------------------------------\u001b[0m",
      "\u001b[1;31mAttributeError\u001b[0m                            Traceback (most recent call last)",
      "\u001b[1;32m<ipython-input-93-4bcc2866436f>\u001b[0m in \u001b[0;36m<module>\u001b[1;34m\u001b[0m\n\u001b[1;32m----> 1\u001b[1;33m \u001b[0manswer_time_chack\u001b[0m\u001b[1;33m.\u001b[0m\u001b[0mindex\u001b[0m\u001b[1;33m.\u001b[0m\u001b[0mclient\u001b[0m\u001b[1;33m\u001b[0m\u001b[1;33m\u001b[0m\u001b[0m\n\u001b[0m",
      "\u001b[1;31mAttributeError\u001b[0m: 'MultiIndex' object has no attribute 'client'"
     ]
    }
   ],
   "source": [
    "answer_time_chack.index.client"
   ]
  },
  {
   "cell_type": "code",
   "execution_count": 99,
   "metadata": {},
   "outputs": [
    {
     "data": {
      "text/plain": [
       "session_id\n",
       "408d1bede65fe206e6a96236b5b7926c   2020-07-26 20:09:58.759\n",
       "566e499407182adf4b549b81b7b1454f   2020-07-27 00:40:30.024\n",
       "37caf3c7cee2803aa7dba1dc6ed9eec2   2020-08-05 00:08:22.010\n",
       "5d49e593e92ff8eb427e807764c5e1aa   2020-09-17 13:13:16.331\n",
       "54b583b9c395ec1206ce6988d540d239   2020-09-17 13:30:47.705\n",
       "230bbd2be4ec56aff09c57566b248e86   2020-09-17 23:46:15.821\n",
       "66efb9ad86d8f8c9dc7d1297d10eefe5   2020-09-19 17:52:54.407\n",
       "9c0fa5115ffdd366016b48bd50809e0b   2020-09-19 22:06:24.259\n",
       "6cfa431ddea45e1c02083c56b7ebe823   2020-09-20 04:59:43.947\n",
       "7a41df4af4f15134c054bd0fe643feaf   2020-09-20 06:12:52.494\n",
       "13c9eab5215d015776acb80675f9d70d   2020-09-20 10:23:22.583\n",
       "48069522f65b7d4d6ae045613acd056b   2020-09-20 22:04:18.748\n",
       "d02905c40b2c9af9107cc784a28d8e2e   2020-09-21 15:08:11.196\n",
       "c0ce6653c05a71331f00cfa056bd408c   2020-09-21 17:19:20.949\n",
       "2ee80c0a0d2a9a37c3c95c001508b198   2020-09-23 09:16:01.391\n",
       "d350f1a18636fc9b6d3af1d1456975b0   2020-09-23 21:49:20.069\n",
       "bc26f28b4846da59b3f9734938544125   2020-09-23 22:08:36.067\n",
       "ad3babfc636a9bf5150d3ed22157a2b3   2020-09-24 13:32:08.148\n",
       "Name: max_val, dtype: datetime64[ns]"
      ]
     },
     "execution_count": 99,
     "metadata": {},
     "output_type": "execute_result"
    }
   ],
   "source": [
    "answer_time_chack.loc[('0014a49ec89e3a43098375b107f8ff2e')].max_val.sort_values()"
   ]
  },
  {
   "cell_type": "code",
   "execution_count": 87,
   "metadata": {},
   "outputs": [
    {
     "data": {
      "text/html": [
       "<div>\n",
       "<style scoped>\n",
       "    .dataframe tbody tr th:only-of-type {\n",
       "        vertical-align: middle;\n",
       "    }\n",
       "\n",
       "    .dataframe tbody tr th {\n",
       "        vertical-align: top;\n",
       "    }\n",
       "\n",
       "    .dataframe thead th {\n",
       "        text-align: right;\n",
       "    }\n",
       "</style>\n",
       "<table border=\"1\" class=\"dataframe\">\n",
       "  <thead>\n",
       "    <tr style=\"text-align: right;\">\n",
       "      <th></th>\n",
       "      <th>client_pin</th>\n",
       "      <th>timestamp</th>\n",
       "    </tr>\n",
       "  </thead>\n",
       "  <tbody>\n",
       "    <tr>\n",
       "      <th>70673</th>\n",
       "      <td>0014a49ec89e3a43098375b107f8ff2e</td>\n",
       "      <td>2020-09-24 22:17:46</td>\n",
       "    </tr>\n",
       "  </tbody>\n",
       "</table>\n",
       "</div>"
      ],
      "text/plain": [
       "                             client_pin            timestamp\n",
       "70673  0014a49ec89e3a43098375b107f8ff2e  2020-09-24 22:17:46"
      ]
     },
     "execution_count": 87,
     "metadata": {},
     "output_type": "execute_result"
    }
   ],
   "source": [
    "hz[hz.client_pin == '0014a49ec89e3a43098375b107f8ff2e']"
   ]
  },
  {
   "cell_type": "code",
   "execution_count": 6,
   "metadata": {},
   "outputs": [
    {
     "data": {
      "text/plain": [
       "Index(['timestamp', 'application_id', 'client', 'session_id', 'event_type',\n",
       "       'event_category', 'event_name', 'event_label', 'device_screen_name',\n",
       "       'timezone', 'device_is_webview', 'page_urlhost', 'page_urlpath_full',\n",
       "       'net_connection_type', 'net_connection_tech'],\n",
       "      dtype='object')"
      ]
     },
     "execution_count": 6,
     "metadata": {},
     "output_type": "execute_result"
    }
   ],
   "source": [
    "data.keys()"
   ]
  },
  {
   "cell_type": "code",
   "execution_count": 17,
   "metadata": {},
   "outputs": [
    {
     "name": "stdout",
     "output_type": "stream",
     "text": [
      "Wall time: 5.01 s\n"
     ]
    },
    {
     "data": {
      "text/html": [
       "<div>\n",
       "<style scoped>\n",
       "    .dataframe tbody tr th:only-of-type {\n",
       "        vertical-align: middle;\n",
       "    }\n",
       "\n",
       "    .dataframe tbody tr th {\n",
       "        vertical-align: top;\n",
       "    }\n",
       "\n",
       "    .dataframe thead th {\n",
       "        text-align: right;\n",
       "    }\n",
       "</style>\n",
       "<table border=\"1\" class=\"dataframe\">\n",
       "  <thead>\n",
       "    <tr style=\"text-align: right;\">\n",
       "      <th></th>\n",
       "      <th>min</th>\n",
       "      <th>max</th>\n",
       "      <th>size</th>\n",
       "    </tr>\n",
       "    <tr>\n",
       "      <th>session_id</th>\n",
       "      <th></th>\n",
       "      <th></th>\n",
       "      <th></th>\n",
       "    </tr>\n",
       "  </thead>\n",
       "  <tbody>\n",
       "    <tr>\n",
       "      <th>000011b33bb3d581fbbbcdadccb1d18e</th>\n",
       "      <td>2020-06-07 14:03:32.443</td>\n",
       "      <td>2020-06-07 14:03:46.822</td>\n",
       "      <td>9</td>\n",
       "    </tr>\n",
       "    <tr>\n",
       "      <th>0000161c6e8fba292c7b840f36d1b54c</th>\n",
       "      <td>2020-04-02 20:23:09.265</td>\n",
       "      <td>2020-04-02 20:30:39.608</td>\n",
       "      <td>11</td>\n",
       "    </tr>\n",
       "    <tr>\n",
       "      <th>00002c5dd9668ba4aba57ee532413481</th>\n",
       "      <td>2020-02-03 09:31:50.172</td>\n",
       "      <td>2020-02-03 09:31:53.490</td>\n",
       "      <td>2</td>\n",
       "    </tr>\n",
       "    <tr>\n",
       "      <th>000035c9654643a6fe4dfe21dde5a96b</th>\n",
       "      <td>2020-06-06 12:57:22.479</td>\n",
       "      <td>2020-06-06 12:58:21.641</td>\n",
       "      <td>24</td>\n",
       "    </tr>\n",
       "    <tr>\n",
       "      <th>00003f1c616d1e8d6643eb2602524118</th>\n",
       "      <td>2020-04-17 05:42:01.808</td>\n",
       "      <td>2020-04-17 05:42:39.135</td>\n",
       "      <td>21</td>\n",
       "    </tr>\n",
       "    <tr>\n",
       "      <th>...</th>\n",
       "      <td>...</td>\n",
       "      <td>...</td>\n",
       "      <td>...</td>\n",
       "    </tr>\n",
       "    <tr>\n",
       "      <th>ffffc4ddb56a5fba494cf975d37fe44e</th>\n",
       "      <td>2020-08-15 11:48:46.999</td>\n",
       "      <td>2020-08-15 11:49:17.881</td>\n",
       "      <td>12</td>\n",
       "    </tr>\n",
       "    <tr>\n",
       "      <th>ffffc72c4f99eaa09a6bc1eb2af01749</th>\n",
       "      <td>2020-02-17 22:32:19.287</td>\n",
       "      <td>2020-02-17 22:32:31.350</td>\n",
       "      <td>3</td>\n",
       "    </tr>\n",
       "    <tr>\n",
       "      <th>ffffe70156fd4035798fa61136852739</th>\n",
       "      <td>2020-02-06 14:49:46.581</td>\n",
       "      <td>2020-02-06 14:50:08.288</td>\n",
       "      <td>9</td>\n",
       "    </tr>\n",
       "    <tr>\n",
       "      <th>ffffe94e99f278a9e8c68b11f662e73a</th>\n",
       "      <td>2020-07-29 20:03:10.013</td>\n",
       "      <td>2020-07-29 20:03:32.902</td>\n",
       "      <td>10</td>\n",
       "    </tr>\n",
       "    <tr>\n",
       "      <th>fffffea04f16bbe3c310907eef731e0a</th>\n",
       "      <td>2020-02-10 20:09:56.930</td>\n",
       "      <td>2020-02-10 20:33:10.663</td>\n",
       "      <td>43</td>\n",
       "    </tr>\n",
       "  </tbody>\n",
       "</table>\n",
       "<p>1004032 rows × 3 columns</p>\n",
       "</div>"
      ],
      "text/plain": [
       "                                                     min  \\\n",
       "session_id                                                 \n",
       "000011b33bb3d581fbbbcdadccb1d18e 2020-06-07 14:03:32.443   \n",
       "0000161c6e8fba292c7b840f36d1b54c 2020-04-02 20:23:09.265   \n",
       "00002c5dd9668ba4aba57ee532413481 2020-02-03 09:31:50.172   \n",
       "000035c9654643a6fe4dfe21dde5a96b 2020-06-06 12:57:22.479   \n",
       "00003f1c616d1e8d6643eb2602524118 2020-04-17 05:42:01.808   \n",
       "...                                                  ...   \n",
       "ffffc4ddb56a5fba494cf975d37fe44e 2020-08-15 11:48:46.999   \n",
       "ffffc72c4f99eaa09a6bc1eb2af01749 2020-02-17 22:32:19.287   \n",
       "ffffe70156fd4035798fa61136852739 2020-02-06 14:49:46.581   \n",
       "ffffe94e99f278a9e8c68b11f662e73a 2020-07-29 20:03:10.013   \n",
       "fffffea04f16bbe3c310907eef731e0a 2020-02-10 20:09:56.930   \n",
       "\n",
       "                                                     max  size  \n",
       "session_id                                                      \n",
       "000011b33bb3d581fbbbcdadccb1d18e 2020-06-07 14:03:46.822     9  \n",
       "0000161c6e8fba292c7b840f36d1b54c 2020-04-02 20:30:39.608    11  \n",
       "00002c5dd9668ba4aba57ee532413481 2020-02-03 09:31:53.490     2  \n",
       "000035c9654643a6fe4dfe21dde5a96b 2020-06-06 12:58:21.641    24  \n",
       "00003f1c616d1e8d6643eb2602524118 2020-04-17 05:42:39.135    21  \n",
       "...                                                  ...   ...  \n",
       "ffffc4ddb56a5fba494cf975d37fe44e 2020-08-15 11:49:17.881    12  \n",
       "ffffc72c4f99eaa09a6bc1eb2af01749 2020-02-17 22:32:31.350     3  \n",
       "ffffe70156fd4035798fa61136852739 2020-02-06 14:50:08.288     9  \n",
       "ffffe94e99f278a9e8c68b11f662e73a 2020-07-29 20:03:32.902    10  \n",
       "fffffea04f16bbe3c310907eef731e0a 2020-02-10 20:33:10.663    43  \n",
       "\n",
       "[1004032 rows x 3 columns]"
      ]
     },
     "execution_count": 17,
     "metadata": {},
     "output_type": "execute_result"
    }
   ],
   "source": [
    "%%time\n",
    "data.groupby('session_id').timestamp.agg(['min', 'max', 'size'])"
   ]
  },
  {
   "cell_type": "code",
   "execution_count": 102,
   "metadata": {},
   "outputs": [
    {
     "data": {
      "application/vnd.jupyter.widget-view+json": {
       "model_id": "f32e3303ae424c099b6d736cfe0cf1de",
       "version_major": 2,
       "version_minor": 0
      },
      "text/plain": [
       "HBox(children=(HTML(value=''), FloatProgress(value=1.0, bar_style='info', layout=Layout(width='20px'), max=1.0…"
      ]
     },
     "metadata": {},
     "output_type": "display_data"
    },
    {
     "name": "stdout",
     "output_type": "stream",
     "text": [
      "\n"
     ]
    }
   ],
   "source": [
    "sess_file = []\n",
    "for idx, file in tqdm(enumerate(files)):\n",
    "    tmp_data = pd.read_parquet(file)\n",
    "    tmp_sess_list = []\n",
    "    sess_file.append( list(set(tmp_data.session_id)))"
   ]
  },
  {
   "cell_type": "code",
   "execution_count": 105,
   "metadata": {},
   "outputs": [
    {
     "data": {
      "text/plain": [
       "1004032"
      ]
     },
     "execution_count": 105,
     "metadata": {},
     "output_type": "execute_result"
    }
   ],
   "source": [
    "len(sess_file[0])"
   ]
  },
  {
   "cell_type": "code",
   "execution_count": 110,
   "metadata": {},
   "outputs": [],
   "source": [
    "with open(os.path.join(DATA_OWN, 'sess_files.pickle'), 'wb') as f:\n",
    "    pickle.dump(sess_file, f)"
   ]
  },
  {
   "cell_type": "code",
   "execution_count": 111,
   "metadata": {},
   "outputs": [],
   "source": [
    "with open(os.path.join(DATA_OWN, 'site_freq.pickle'), 'wb') as f:\n",
    "    pickle.dump(site_freq, f)"
   ]
  },
  {
   "cell_type": "code",
   "execution_count": 113,
   "metadata": {},
   "outputs": [
    {
     "data": {
      "text/plain": [
       "0           9a1366886da59ec85f0ef5e06f1e97f6\n",
       "1           bdf7fc21e4e88d1b4f0838c80b21a1e3\n",
       "2           8bae6c4249db74dc0937e1ff00d61079\n",
       "3           3a95ba68795b745ca09ebee138b418ef\n",
       "4           1db024ef087161f30a3c981cb32bb565\n",
       "                          ...               \n",
       "12468590    9d8aa6c49464f07a45a2b496eee5b193\n",
       "12468591    5cd056f98664561704ef58ae59a6124d\n",
       "12468592    42b9a039ec978fdc0f6dcc6cf7f97f0c\n",
       "12468593    c03f01cc074be9a693648654dc0e5e57\n",
       "12468594    c03f01cc074be9a693648654dc0e5e57\n",
       "Name: session_id, Length: 12468595, dtype: object"
      ]
     },
     "execution_count": 113,
     "metadata": {},
     "output_type": "execute_result"
    }
   ],
   "source": [
    "data.session_id.apply(lambda x: site_freq)"
   ]
  },
  {
   "cell_type": "code",
   "execution_count": 114,
   "metadata": {},
   "outputs": [
    {
     "data": {
      "text/plain": [
       "{None: (0, 115670971),\n",
       " 'online.alfabank.ru': (1, 1995913),\n",
       " 'click.alfabank.ru': (2, 1072271),\n",
       " 'anketa.alfabank.ru': (3, 646126),\n",
       " 'alfabank.ru': (4, 575552),\n",
       " 'ipoteka.alfabank.ru': (5, 50101),\n",
       " 'travel.alfabank.ru': (6, 13977),\n",
       " 'family.alfabank.ru': (7, 92),\n",
       " 'partner.alfabank.ru': (8, 81),\n",
       " 'private.auth.alfabank.ru': (9, 62),\n",
       " 'investments.alfabank.ru': (10, 57),\n",
       " 'business.auth.alfabank.ru': (11, 55),\n",
       " 'AlfaBank.ru': (12, 26),\n",
       " 'my.alfabank.ru': (13, 2)}"
      ]
     },
     "execution_count": 114,
     "metadata": {},
     "output_type": "execute_result"
    }
   ],
   "source": [
    "site_freq"
   ]
  },
  {
   "cell_type": "code",
   "execution_count": null,
   "metadata": {},
   "outputs": [],
   "source": [
    "invest                  8055\n",
    "mobile_recharge         8028\n",
    "statement               7995\n",
    "chat                    7989\n",
    "card2card_transfer      7965\n",
    "phone_money_transfer    7941\n",
    "card_recharge           7936\n",
    "main_screen             7893\n",
    "own_transfer            7759\n",
    "credit_info             7707"
   ]
  },
  {
   "cell_type": "code",
   "execution_count": 124,
   "metadata": {},
   "outputs": [
    {
     "data": {
      "application/vnd.jupyter.widget-view+json": {
       "model_id": "6b7f4322b84b4cc5ac2e46237976a675",
       "version_major": 2,
       "version_minor": 0
      },
      "text/plain": [
       "HBox(children=(HTML(value=''), FloatProgress(value=1.0, bar_style='info', layout=Layout(width='20px'), max=1.0…"
      ]
     },
     "metadata": {},
     "output_type": "display_data"
    },
    {
     "name": "stdout",
     "output_type": "stream",
     "text": [
      "\n"
     ]
    },
    {
     "data": {
      "application/vnd.jupyter.widget-view+json": {
       "model_id": "3f9de22b464f43caa240d4e6be85785b",
       "version_major": 2,
       "version_minor": 0
      },
      "text/plain": [
       "HBox(children=(HTML(value=''), FloatProgress(value=1.0, bar_style='info', layout=Layout(width='20px'), max=1.0…"
      ]
     },
     "metadata": {},
     "output_type": "display_data"
    },
    {
     "name": "stdout",
     "output_type": "stream",
     "text": [
      "\n"
     ]
    },
    {
     "data": {
      "application/vnd.jupyter.widget-view+json": {
       "model_id": "231d4ee50ba2472a95134d53ce8c8391",
       "version_major": 2,
       "version_minor": 0
      },
      "text/plain": [
       "HBox(children=(HTML(value=''), FloatProgress(value=1.0, bar_style='info', layout=Layout(width='20px'), max=1.0…"
      ]
     },
     "metadata": {},
     "output_type": "display_data"
    },
    {
     "name": "stdout",
     "output_type": "stream",
     "text": [
      "\n"
     ]
    },
    {
     "data": {
      "application/vnd.jupyter.widget-view+json": {
       "model_id": "6e952f7ab32d4865aec21acd785ccc87",
       "version_major": 2,
       "version_minor": 0
      },
      "text/plain": [
       "HBox(children=(HTML(value=''), FloatProgress(value=1.0, bar_style='info', layout=Layout(width='20px'), max=1.0…"
      ]
     },
     "metadata": {},
     "output_type": "display_data"
    },
    {
     "name": "stdout",
     "output_type": "stream",
     "text": [
      "\n"
     ]
    },
    {
     "data": {
      "application/vnd.jupyter.widget-view+json": {
       "model_id": "10a7adcb572b403f82f01a438da5c387",
       "version_major": 2,
       "version_minor": 0
      },
      "text/plain": [
       "HBox(children=(HTML(value=''), FloatProgress(value=1.0, bar_style='info', layout=Layout(width='20px'), max=1.0…"
      ]
     },
     "metadata": {},
     "output_type": "display_data"
    },
    {
     "name": "stdout",
     "output_type": "stream",
     "text": [
      "\n"
     ]
    },
    {
     "data": {
      "application/vnd.jupyter.widget-view+json": {
       "model_id": "59e4621496a04c2cab53d1d38e9f4c4c",
       "version_major": 2,
       "version_minor": 0
      },
      "text/plain": [
       "HBox(children=(HTML(value=''), FloatProgress(value=1.0, bar_style='info', layout=Layout(width='20px'), max=1.0…"
      ]
     },
     "metadata": {},
     "output_type": "display_data"
    },
    {
     "name": "stdout",
     "output_type": "stream",
     "text": [
      "\n"
     ]
    },
    {
     "data": {
      "application/vnd.jupyter.widget-view+json": {
       "model_id": "6c512c8e70534a6d9ed4ca552334f263",
       "version_major": 2,
       "version_minor": 0
      },
      "text/plain": [
       "HBox(children=(HTML(value=''), FloatProgress(value=1.0, bar_style='info', layout=Layout(width='20px'), max=1.0…"
      ]
     },
     "metadata": {},
     "output_type": "display_data"
    },
    {
     "name": "stdout",
     "output_type": "stream",
     "text": [
      "\n"
     ]
    },
    {
     "data": {
      "application/vnd.jupyter.widget-view+json": {
       "model_id": "9a4c3729117848fd9d822697cdb69ac2",
       "version_major": 2,
       "version_minor": 0
      },
      "text/plain": [
       "HBox(children=(HTML(value=''), FloatProgress(value=1.0, bar_style='info', layout=Layout(width='20px'), max=1.0…"
      ]
     },
     "metadata": {},
     "output_type": "display_data"
    },
    {
     "name": "stdout",
     "output_type": "stream",
     "text": [
      "\n"
     ]
    },
    {
     "data": {
      "application/vnd.jupyter.widget-view+json": {
       "model_id": "907b710153774fe79196e65f8602032c",
       "version_major": 2,
       "version_minor": 0
      },
      "text/plain": [
       "HBox(children=(HTML(value=''), FloatProgress(value=1.0, bar_style='info', layout=Layout(width='20px'), max=1.0…"
      ]
     },
     "metadata": {},
     "output_type": "display_data"
    },
    {
     "name": "stdout",
     "output_type": "stream",
     "text": [
      "\n"
     ]
    },
    {
     "data": {
      "application/vnd.jupyter.widget-view+json": {
       "model_id": "36b668c5ce864644bb068914127ffcb2",
       "version_major": 2,
       "version_minor": 0
      },
      "text/plain": [
       "HBox(children=(HTML(value=''), FloatProgress(value=1.0, bar_style='info', layout=Layout(width='20px'), max=1.0…"
      ]
     },
     "metadata": {},
     "output_type": "display_data"
    },
    {
     "name": "stdout",
     "output_type": "stream",
     "text": [
      "\n",
      "Wall time: 56min 33s\n"
     ]
    }
   ],
   "source": [
    "%%time\n",
    "\n",
    "first_site = []\n",
    "second_site = []\n",
    "sess_len = []\n",
    "sess_id = ''\n",
    "\n",
    "for file in (files):\n",
    "    sess_tmp = []\n",
    "    tmp_data = pd.read_parquet(file)\n",
    "    for idx, el in tqdm(enumerate(tmp_data.session_id)):\n",
    "        #if el not in sess_tmp:\n",
    "        if el != sess_id:\n",
    "            #sess_tmp.append(el)\n",
    "            sess_id = el\n",
    "            first_site.append(tmp_data.loc[idx, 'page_urlhost'])\n",
    "            if (idx+1) < tmp_data.shape[0]:\n",
    "                second_site.append(tmp_data.loc[idx+1, 'page_urlhost'])\n",
    "            else:\n",
    "                second_site.append('None')\n",
    "            "
   ]
  },
  {
   "cell_type": "code",
   "execution_count": null,
   "metadata": {},
   "outputs": [],
   "source": []
  },
  {
   "cell_type": "code",
   "execution_count": 125,
   "metadata": {},
   "outputs": [],
   "source": [
    "with open(os.path.join(DATA_OWN, 'first_site.pickle'), 'wb') as f:\n",
    "    pickle.dump(first_site, f)\n",
    "    \n",
    "with open(os.path.join(DATA_OWN, 'second_site.pickle'), 'wb') as f:\n",
    "    pickle.dump(second_site, f)"
   ]
  },
  {
   "cell_type": "code",
   "execution_count": null,
   "metadata": {},
   "outputs": [],
   "source": [
    "hist(second_site)"
   ]
  },
  {
   "cell_type": "code",
   "execution_count": null,
   "metadata": {},
   "outputs": [],
   "source": []
  }
 ],
 "metadata": {
  "kernelspec": {
   "display_name": "Python 3",
   "language": "python",
   "name": "python3"
  },
  "language_info": {
   "codemirror_mode": {
    "name": "ipython",
    "version": 3
   },
   "file_extension": ".py",
   "mimetype": "text/x-python",
   "name": "python",
   "nbconvert_exporter": "python",
   "pygments_lexer": "ipython3",
   "version": "3.7.9"
  }
 },
 "nbformat": 4,
 "nbformat_minor": 4
}
