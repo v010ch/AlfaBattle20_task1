{
 "cells": [
  {
   "cell_type": "code",
   "execution_count": 32,
   "metadata": {},
   "outputs": [
    {
     "name": "stderr",
     "output_type": "stream",
     "text": [
      "C:\\Users\\_v010ch_\\Anaconda3\\lib\\site-packages\\tqdm\\std.py:697: FutureWarning: The Panel class is removed from pandas. Accessing it from the top-level namespace will also be removed in the next version\n",
      "  from pandas import Panel\n"
     ]
    }
   ],
   "source": [
    "import os\n",
    "from glob import glob\n",
    "\n",
    "import pandas as pd\n",
    "import numpy as np\n",
    "from collections import Counter\n",
    "\n",
    "import pickle\n",
    "import gc\n",
    "\n",
    "from tqdm import tqdm\n",
    "tqdm.pandas()"
   ]
  },
  {
   "cell_type": "code",
   "execution_count": 33,
   "metadata": {},
   "outputs": [],
   "source": [
    "DATA = './data'\n",
    "DATA_OWN = './data_own'\n",
    "CLICKSTREAM = 'alfabattle2_abattle_clickstream'\n",
    "MODELS = './models'\n",
    "UTILS = './utils'\n",
    "SUBM = './submissions'"
   ]
  },
  {
   "cell_type": "code",
   "execution_count": null,
   "metadata": {},
   "outputs": [],
   "source": []
  },
  {
   "cell_type": "code",
   "execution_count": null,
   "metadata": {},
   "outputs": [],
   "source": []
  },
  {
   "cell_type": "markdown",
   "metadata": {},
   "source": [
    "### Correction if client never used predicted function"
   ]
  },
  {
   "cell_type": "code",
   "execution_count": 34,
   "metadata": {},
   "outputs": [],
   "source": [
    "load_col_for_check = ['client_pin', 'timestamp']\n",
    "data_corr = pd.read_csv(os.path.join(DATA_OWN, 'data_pred.csv'),  usecols=load_col_for_check, parse_dates=['timestamp'])"
   ]
  },
  {
   "cell_type": "code",
   "execution_count": 35,
   "metadata": {},
   "outputs": [],
   "source": [
    "subm = pd.read_csv(os.path.join(SUBM, 'subm_client_6diff_lt_relat_mlp.csv'))"
   ]
  },
  {
   "cell_type": "code",
   "execution_count": 36,
   "metadata": {},
   "outputs": [],
   "source": [
    "#for idx in data.index:\n",
    "#    if data.loc[0].client_pin != subm.loc[0].client_pin:\n",
    "#       print('What?')"
   ]
  },
  {
   "cell_type": "code",
   "execution_count": 37,
   "metadata": {},
   "outputs": [
    {
     "data": {
      "text/html": [
       "<div>\n",
       "<style scoped>\n",
       "    .dataframe tbody tr th:only-of-type {\n",
       "        vertical-align: middle;\n",
       "    }\n",
       "\n",
       "    .dataframe tbody tr th {\n",
       "        vertical-align: top;\n",
       "    }\n",
       "\n",
       "    .dataframe thead th {\n",
       "        text-align: right;\n",
       "    }\n",
       "</style>\n",
       "<table border=\"1\" class=\"dataframe\">\n",
       "  <thead>\n",
       "    <tr style=\"text-align: right;\">\n",
       "      <th></th>\n",
       "      <th>client_pin</th>\n",
       "      <th>mean_main_screen</th>\n",
       "      <th>mean_statement</th>\n",
       "      <th>mean_credit_info</th>\n",
       "      <th>mean_own_transfer</th>\n",
       "      <th>mean_mobile_recharge</th>\n",
       "      <th>mean_phone_money_transfer</th>\n",
       "      <th>mean_card2card_transfer</th>\n",
       "      <th>mean_chat</th>\n",
       "      <th>mean_card_recharge</th>\n",
       "      <th>mean_invest</th>\n",
       "    </tr>\n",
       "  </thead>\n",
       "  <tbody>\n",
       "    <tr>\n",
       "      <th>79263</th>\n",
       "      <td>f2c4e22ecd806d691e24fa00fded6d9d</td>\n",
       "      <td>2.222591</td>\n",
       "      <td>0.0</td>\n",
       "      <td>0.0</td>\n",
       "      <td>0.0</td>\n",
       "      <td>0.0</td>\n",
       "      <td>4.810209</td>\n",
       "      <td>0.0</td>\n",
       "      <td>0.0000</td>\n",
       "      <td>0.0000</td>\n",
       "      <td>0.0000</td>\n",
       "    </tr>\n",
       "    <tr>\n",
       "      <th>79264</th>\n",
       "      <td>e01e7a15cec5168d0eee370c70851f38</td>\n",
       "      <td>0.000000</td>\n",
       "      <td>0.0</td>\n",
       "      <td>0.0</td>\n",
       "      <td>0.0</td>\n",
       "      <td>0.0</td>\n",
       "      <td>0.000000</td>\n",
       "      <td>0.0</td>\n",
       "      <td>0.0000</td>\n",
       "      <td>0.0000</td>\n",
       "      <td>13.1461</td>\n",
       "    </tr>\n",
       "    <tr>\n",
       "      <th>79265</th>\n",
       "      <td>d1007b6356164d9150b57f35e42b7812</td>\n",
       "      <td>0.000000</td>\n",
       "      <td>0.0</td>\n",
       "      <td>0.0</td>\n",
       "      <td>0.0</td>\n",
       "      <td>0.0</td>\n",
       "      <td>0.000000</td>\n",
       "      <td>0.0</td>\n",
       "      <td>3.1257</td>\n",
       "      <td>0.0000</td>\n",
       "      <td>0.0000</td>\n",
       "    </tr>\n",
       "    <tr>\n",
       "      <th>79266</th>\n",
       "      <td>9193bff6506617d47c92d3029807ea2a</td>\n",
       "      <td>0.000000</td>\n",
       "      <td>0.0</td>\n",
       "      <td>0.0</td>\n",
       "      <td>0.0</td>\n",
       "      <td>0.0</td>\n",
       "      <td>0.000000</td>\n",
       "      <td>0.0</td>\n",
       "      <td>0.0000</td>\n",
       "      <td>1.1089</td>\n",
       "      <td>0.0000</td>\n",
       "    </tr>\n",
       "    <tr>\n",
       "      <th>79267</th>\n",
       "      <td>1021464b1a37f1f1c1bff1cc9dd24cf1</td>\n",
       "      <td>0.203350</td>\n",
       "      <td>0.0</td>\n",
       "      <td>0.0</td>\n",
       "      <td>0.0</td>\n",
       "      <td>0.0</td>\n",
       "      <td>0.000000</td>\n",
       "      <td>0.0</td>\n",
       "      <td>0.0000</td>\n",
       "      <td>0.0000</td>\n",
       "      <td>0.0000</td>\n",
       "    </tr>\n",
       "  </tbody>\n",
       "</table>\n",
       "</div>"
      ],
      "text/plain": [
       "                             client_pin  mean_main_screen  mean_statement  \\\n",
       "79263  f2c4e22ecd806d691e24fa00fded6d9d          2.222591             0.0   \n",
       "79264  e01e7a15cec5168d0eee370c70851f38          0.000000             0.0   \n",
       "79265  d1007b6356164d9150b57f35e42b7812          0.000000             0.0   \n",
       "79266  9193bff6506617d47c92d3029807ea2a          0.000000             0.0   \n",
       "79267  1021464b1a37f1f1c1bff1cc9dd24cf1          0.203350             0.0   \n",
       "\n",
       "       mean_credit_info  mean_own_transfer  mean_mobile_recharge  \\\n",
       "79263               0.0                0.0                   0.0   \n",
       "79264               0.0                0.0                   0.0   \n",
       "79265               0.0                0.0                   0.0   \n",
       "79266               0.0                0.0                   0.0   \n",
       "79267               0.0                0.0                   0.0   \n",
       "\n",
       "       mean_phone_money_transfer  mean_card2card_transfer  mean_chat  \\\n",
       "79263                   4.810209                      0.0     0.0000   \n",
       "79264                   0.000000                      0.0     0.0000   \n",
       "79265                   0.000000                      0.0     3.1257   \n",
       "79266                   0.000000                      0.0     0.0000   \n",
       "79267                   0.000000                      0.0     0.0000   \n",
       "\n",
       "       mean_card_recharge  mean_invest  \n",
       "79263              0.0000       0.0000  \n",
       "79264              0.0000      13.1461  \n",
       "79265              0.0000       0.0000  \n",
       "79266              1.1089       0.0000  \n",
       "79267              0.0000       0.0000  "
      ]
     },
     "execution_count": 37,
     "metadata": {},
     "output_type": "execute_result"
    }
   ],
   "source": [
    "client_used_target_df = pd.read_csv(os.path.join(DATA_OWN, 'client_target_time_mean.csv'))\n",
    "client_used_target_df.drop('Unnamed: 0', axis = 1, inplace = True)\n",
    "client_used_target_df.tail()"
   ]
  },
  {
   "cell_type": "code",
   "execution_count": 38,
   "metadata": {},
   "outputs": [
    {
     "data": {
      "text/html": [
       "<div>\n",
       "<style scoped>\n",
       "    .dataframe tbody tr th:only-of-type {\n",
       "        vertical-align: middle;\n",
       "    }\n",
       "\n",
       "    .dataframe tbody tr th {\n",
       "        vertical-align: top;\n",
       "    }\n",
       "\n",
       "    .dataframe thead th {\n",
       "        text-align: right;\n",
       "    }\n",
       "</style>\n",
       "<table border=\"1\" class=\"dataframe\">\n",
       "  <thead>\n",
       "    <tr style=\"text-align: right;\">\n",
       "      <th></th>\n",
       "      <th>client_pin</th>\n",
       "      <th>timestamp</th>\n",
       "      <th>last_target_begore</th>\n",
       "    </tr>\n",
       "  </thead>\n",
       "  <tbody>\n",
       "    <tr>\n",
       "      <th>0</th>\n",
       "      <td>000033b6509acd1c8eb0d06ebd2e1de9</td>\n",
       "      <td>2020-02-02 22:31:04</td>\n",
       "      <td>first_appear</td>\n",
       "    </tr>\n",
       "    <tr>\n",
       "      <th>1</th>\n",
       "      <td>000033b6509acd1c8eb0d06ebd2e1de9</td>\n",
       "      <td>2020-02-19 18:37:26</td>\n",
       "      <td>statement</td>\n",
       "    </tr>\n",
       "    <tr>\n",
       "      <th>2</th>\n",
       "      <td>000033b6509acd1c8eb0d06ebd2e1de9</td>\n",
       "      <td>2020-02-22 23:18:45</td>\n",
       "      <td>main_screen</td>\n",
       "    </tr>\n",
       "    <tr>\n",
       "      <th>3</th>\n",
       "      <td>000033b6509acd1c8eb0d06ebd2e1de9</td>\n",
       "      <td>2020-02-27 17:29:57</td>\n",
       "      <td>main_screen</td>\n",
       "    </tr>\n",
       "    <tr>\n",
       "      <th>4</th>\n",
       "      <td>000033b6509acd1c8eb0d06ebd2e1de9</td>\n",
       "      <td>2020-03-04 22:39:45</td>\n",
       "      <td>main_screen</td>\n",
       "    </tr>\n",
       "  </tbody>\n",
       "</table>\n",
       "</div>"
      ],
      "text/plain": [
       "                         client_pin           timestamp last_target_begore\n",
       "0  000033b6509acd1c8eb0d06ebd2e1de9 2020-02-02 22:31:04       first_appear\n",
       "1  000033b6509acd1c8eb0d06ebd2e1de9 2020-02-19 18:37:26          statement\n",
       "2  000033b6509acd1c8eb0d06ebd2e1de9 2020-02-22 23:18:45        main_screen\n",
       "3  000033b6509acd1c8eb0d06ebd2e1de9 2020-02-27 17:29:57        main_screen\n",
       "4  000033b6509acd1c8eb0d06ebd2e1de9 2020-03-04 22:39:45        main_screen"
      ]
     },
     "execution_count": 38,
     "metadata": {},
     "output_type": "execute_result"
    }
   ],
   "source": [
    "last_target = pd.read_csv(os.path.join(DATA_OWN, 'last_target_begore.csv'), parse_dates=['timestamp'])\n",
    "last_target.drop('Unnamed: 0', axis = 1, inplace = True)\n",
    "last_target.head()"
   ]
  },
  {
   "cell_type": "code",
   "execution_count": 39,
   "metadata": {},
   "outputs": [],
   "source": [
    "#data_check['predicted'] = pred_sgd_full\n",
    "data_corr = data_corr.merge(subm, how='left', on='client_pin', validate='one_to_one')\n",
    "data_corr = data_corr.merge(last_target, how='left', on=['client_pin', 'timestamp'], validate='one_to_one')\n",
    "data_corr = data_corr.merge(client_used_target_df, how='left', on='client_pin', validate='many_to_one')"
   ]
  },
  {
   "cell_type": "code",
   "execution_count": 40,
   "metadata": {},
   "outputs": [
    {
     "data": {
      "text/html": [
       "<div>\n",
       "<style scoped>\n",
       "    .dataframe tbody tr th:only-of-type {\n",
       "        vertical-align: middle;\n",
       "    }\n",
       "\n",
       "    .dataframe tbody tr th {\n",
       "        vertical-align: top;\n",
       "    }\n",
       "\n",
       "    .dataframe thead th {\n",
       "        text-align: right;\n",
       "    }\n",
       "</style>\n",
       "<table border=\"1\" class=\"dataframe\">\n",
       "  <thead>\n",
       "    <tr style=\"text-align: right;\">\n",
       "      <th></th>\n",
       "      <th>client_pin</th>\n",
       "      <th>timestamp</th>\n",
       "      <th>prediction</th>\n",
       "      <th>last_target_begore</th>\n",
       "      <th>mean_main_screen</th>\n",
       "      <th>mean_statement</th>\n",
       "      <th>mean_credit_info</th>\n",
       "      <th>mean_own_transfer</th>\n",
       "      <th>mean_mobile_recharge</th>\n",
       "      <th>mean_phone_money_transfer</th>\n",
       "      <th>mean_card2card_transfer</th>\n",
       "      <th>mean_chat</th>\n",
       "      <th>mean_card_recharge</th>\n",
       "      <th>mean_invest</th>\n",
       "    </tr>\n",
       "  </thead>\n",
       "  <tbody>\n",
       "    <tr>\n",
       "      <th>0</th>\n",
       "      <td>f0c674b2bb4dc64be607029271d706ec</td>\n",
       "      <td>2020-08-01 00:00:53</td>\n",
       "      <td>credit_info</td>\n",
       "      <td>credit_info</td>\n",
       "      <td>0.000000</td>\n",
       "      <td>0.000000</td>\n",
       "      <td>138.763740</td>\n",
       "      <td>0.000000</td>\n",
       "      <td>0.000000</td>\n",
       "      <td>0.000000</td>\n",
       "      <td>0.00000</td>\n",
       "      <td>0.000000</td>\n",
       "      <td>229.9785</td>\n",
       "      <td>0.0</td>\n",
       "    </tr>\n",
       "    <tr>\n",
       "      <th>1</th>\n",
       "      <td>90725b54ce77576883813d87749df6bd</td>\n",
       "      <td>2020-08-01 00:02:57</td>\n",
       "      <td>statement</td>\n",
       "      <td>main_screen</td>\n",
       "      <td>704.800725</td>\n",
       "      <td>352.050050</td>\n",
       "      <td>1194.990009</td>\n",
       "      <td>1501.724528</td>\n",
       "      <td>903.154519</td>\n",
       "      <td>1000.167013</td>\n",
       "      <td>0.00000</td>\n",
       "      <td>1325.883169</td>\n",
       "      <td>0.0000</td>\n",
       "      <td>0.0</td>\n",
       "    </tr>\n",
       "    <tr>\n",
       "      <th>2</th>\n",
       "      <td>eb0f82d74c7b7bd5eafbd5b5f8cb3e2a</td>\n",
       "      <td>2020-08-01 00:03:14</td>\n",
       "      <td>main_screen</td>\n",
       "      <td>main_screen</td>\n",
       "      <td>337.308083</td>\n",
       "      <td>442.294533</td>\n",
       "      <td>126.567058</td>\n",
       "      <td>446.234258</td>\n",
       "      <td>0.000000</td>\n",
       "      <td>0.000000</td>\n",
       "      <td>0.00000</td>\n",
       "      <td>520.799683</td>\n",
       "      <td>0.0000</td>\n",
       "      <td>0.0</td>\n",
       "    </tr>\n",
       "    <tr>\n",
       "      <th>3</th>\n",
       "      <td>831bf4c0ecccc55e536b8cfb9153d672</td>\n",
       "      <td>2020-08-01 00:04:44</td>\n",
       "      <td>statement</td>\n",
       "      <td>statement</td>\n",
       "      <td>0.000000</td>\n",
       "      <td>577.283240</td>\n",
       "      <td>1275.399950</td>\n",
       "      <td>0.000000</td>\n",
       "      <td>0.000000</td>\n",
       "      <td>0.000000</td>\n",
       "      <td>1303.23885</td>\n",
       "      <td>0.000000</td>\n",
       "      <td>0.0000</td>\n",
       "      <td>0.0</td>\n",
       "    </tr>\n",
       "    <tr>\n",
       "      <th>4</th>\n",
       "      <td>3f1a5a1c492ce877af833113e59c5797</td>\n",
       "      <td>2020-08-01 00:06:40</td>\n",
       "      <td>main_screen</td>\n",
       "      <td>main_screen</td>\n",
       "      <td>372.908882</td>\n",
       "      <td>420.156229</td>\n",
       "      <td>0.000000</td>\n",
       "      <td>0.000000</td>\n",
       "      <td>476.626439</td>\n",
       "      <td>0.000000</td>\n",
       "      <td>0.00000</td>\n",
       "      <td>692.842282</td>\n",
       "      <td>0.0000</td>\n",
       "      <td>0.0</td>\n",
       "    </tr>\n",
       "  </tbody>\n",
       "</table>\n",
       "</div>"
      ],
      "text/plain": [
       "                         client_pin           timestamp   prediction  \\\n",
       "0  f0c674b2bb4dc64be607029271d706ec 2020-08-01 00:00:53  credit_info   \n",
       "1  90725b54ce77576883813d87749df6bd 2020-08-01 00:02:57    statement   \n",
       "2  eb0f82d74c7b7bd5eafbd5b5f8cb3e2a 2020-08-01 00:03:14  main_screen   \n",
       "3  831bf4c0ecccc55e536b8cfb9153d672 2020-08-01 00:04:44    statement   \n",
       "4  3f1a5a1c492ce877af833113e59c5797 2020-08-01 00:06:40  main_screen   \n",
       "\n",
       "  last_target_begore  mean_main_screen  mean_statement  mean_credit_info  \\\n",
       "0        credit_info          0.000000        0.000000        138.763740   \n",
       "1        main_screen        704.800725      352.050050       1194.990009   \n",
       "2        main_screen        337.308083      442.294533        126.567058   \n",
       "3          statement          0.000000      577.283240       1275.399950   \n",
       "4        main_screen        372.908882      420.156229          0.000000   \n",
       "\n",
       "   mean_own_transfer  mean_mobile_recharge  mean_phone_money_transfer  \\\n",
       "0           0.000000              0.000000                   0.000000   \n",
       "1        1501.724528            903.154519                1000.167013   \n",
       "2         446.234258              0.000000                   0.000000   \n",
       "3           0.000000              0.000000                   0.000000   \n",
       "4           0.000000            476.626439                   0.000000   \n",
       "\n",
       "   mean_card2card_transfer    mean_chat  mean_card_recharge  mean_invest  \n",
       "0                  0.00000     0.000000            229.9785          0.0  \n",
       "1                  0.00000  1325.883169              0.0000          0.0  \n",
       "2                  0.00000   520.799683              0.0000          0.0  \n",
       "3               1303.23885     0.000000              0.0000          0.0  \n",
       "4                  0.00000   692.842282              0.0000          0.0  "
      ]
     },
     "execution_count": 40,
     "metadata": {},
     "output_type": "execute_result"
    }
   ],
   "source": [
    "data_corr.head()"
   ]
  },
  {
   "cell_type": "code",
   "execution_count": 41,
   "metadata": {},
   "outputs": [],
   "source": [
    "def correct_low_info_client_predict(inp_row):\n",
    "    \n",
    "    global n_corrected\n",
    "    \n",
    "    if inp_row['mean_' + inp_row.prediction] == 0:\n",
    "        n_corrected += 1\n",
    "        return inp_row.last_target_begore\n",
    "    else:\n",
    "        return inp_row.prediction"
   ]
  },
  {
   "cell_type": "code",
   "execution_count": 42,
   "metadata": {},
   "outputs": [],
   "source": [
    "def check_client_low_info(inp_data):\n",
    "    \n",
    "    inp_data['corr_prediction'] = inp_data.progress_apply(correct_low_info_client_predict, axis = 1)\n",
    "    \n",
    "    return inp_data.corr_prediction"
   ]
  },
  {
   "cell_type": "code",
   "execution_count": 43,
   "metadata": {},
   "outputs": [
    {
     "name": "stderr",
     "output_type": "stream",
     "text": [
      "100%|█████████████████████████████████████████████████████████████████████████| 79268/79268 [00:01<00:00, 41925.90it/s]"
     ]
    },
    {
     "name": "stdout",
     "output_type": "stream",
     "text": [
      "98\n",
      "Wall time: 1.9 s\n"
     ]
    },
    {
     "name": "stderr",
     "output_type": "stream",
     "text": [
      "\n"
     ]
    }
   ],
   "source": [
    "%%time\n",
    "\n",
    "n_corrected = 0\n",
    "pred_new = check_client_low_info(data_corr)\n",
    "print(n_corrected)"
   ]
  },
  {
   "cell_type": "code",
   "execution_count": 45,
   "metadata": {},
   "outputs": [],
   "source": [
    "subm.prediction = pred_new"
   ]
  },
  {
   "cell_type": "code",
   "execution_count": 46,
   "metadata": {},
   "outputs": [],
   "source": [
    "subm.to_csv(os.path.join(SUBM, 'subm_client_6diff_lt_relat_corr_mlp.csv'), index = False)"
   ]
  },
  {
   "cell_type": "code",
   "execution_count": null,
   "metadata": {},
   "outputs": [],
   "source": []
  }
 ],
 "metadata": {
  "kernelspec": {
   "display_name": "Python 3",
   "language": "python",
   "name": "python3"
  },
  "language_info": {
   "codemirror_mode": {
    "name": "ipython",
    "version": 3
   },
   "file_extension": ".py",
   "mimetype": "text/x-python",
   "name": "python",
   "nbconvert_exporter": "python",
   "pygments_lexer": "ipython3",
   "version": "3.7.9"
  }
 },
 "nbformat": 4,
 "nbformat_minor": 4
}
