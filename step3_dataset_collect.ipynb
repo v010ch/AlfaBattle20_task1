{
 "cells": [
  {
   "cell_type": "code",
   "execution_count": 1,
   "metadata": {},
   "outputs": [
    {
     "name": "stderr",
     "output_type": "stream",
     "text": [
      "/home/voloch/.local/lib/python3.7/site-packages/tqdm/std.py:668: FutureWarning: The Panel class is removed from pandas. Accessing it from the top-level namespace will also be removed in the next version\n",
      "  from pandas import Panel\n"
     ]
    }
   ],
   "source": [
    "import os\n",
    "from glob import glob\n",
    "import pandas as pd\n",
    "import numpy as np\n",
    "import itertools\n",
    "from collections import Counter\n",
    "\n",
    "\n",
    "import pickle\n",
    "import gc\n",
    "\n",
    "from tqdm import tqdm\n",
    "tqdm.pandas()"
   ]
  },
  {
   "cell_type": "code",
   "execution_count": 2,
   "metadata": {},
   "outputs": [],
   "source": [
    "from sklearn.preprocessing import LabelBinarizer, OneHotEncoder\n",
    "\n",
    "from sklearn.model_selection import GridSearchCV\n",
    "from sklearn.model_selection import train_test_split\n",
    "\n",
    "from sklearn.metrics import f1_score, make_scorer"
   ]
  },
  {
   "cell_type": "code",
   "execution_count": 56,
   "metadata": {},
   "outputs": [],
   "source": [
    "from sklearn.linear_model import SGDClassifier\n",
    "from sklearn.neural_network import MLPClassifier\n",
    "from sklearn.neighbors import KNeighborsClassifier\n",
    "from sklearn.svm import SVC\n",
    "from sklearn.svm import LinearSVC\n",
    "from sklearn.tree import DecisionTreeClassifier\n",
    "from sklearn.ensemble import RandomForestClassifier, AdaBoostClassifier\n",
    "from sklearn.naive_bayes import GaussianNB\n",
    "from sklearn.linear_model import LogisticRegression\n",
    "\n",
    "from catboost import CatBoostClassifier"
   ]
  },
  {
   "cell_type": "code",
   "execution_count": null,
   "metadata": {},
   "outputs": [],
   "source": []
  },
  {
   "cell_type": "code",
   "execution_count": null,
   "metadata": {},
   "outputs": [],
   "source": []
  },
  {
   "cell_type": "code",
   "execution_count": 4,
   "metadata": {},
   "outputs": [],
   "source": [
    "DATA = './data'\n",
    "DATA_OWN = './data_own'\n",
    "CLICKSTREAM = 'alfabattle2_abattle_clickstream'\n",
    "MODELS = './models'\n",
    "UTILS = './utils'"
   ]
  },
  {
   "cell_type": "code",
   "execution_count": null,
   "metadata": {},
   "outputs": [],
   "source": []
  },
  {
   "cell_type": "markdown",
   "metadata": {},
   "source": [
    "## prepare data, test / training sets"
   ]
  },
  {
   "cell_type": "code",
   "execution_count": 5,
   "metadata": {},
   "outputs": [
    {
     "data": {
      "text/html": [
       "<div>\n",
       "<style scoped>\n",
       "    .dataframe tbody tr th:only-of-type {\n",
       "        vertical-align: middle;\n",
       "    }\n",
       "\n",
       "    .dataframe tbody tr th {\n",
       "        vertical-align: top;\n",
       "    }\n",
       "\n",
       "    .dataframe thead th {\n",
       "        text-align: right;\n",
       "    }\n",
       "</style>\n",
       "<table border=\"1\" class=\"dataframe\">\n",
       "  <thead>\n",
       "    <tr style=\"text-align: right;\">\n",
       "      <th></th>\n",
       "      <th>session_id</th>\n",
       "      <th>client_pin</th>\n",
       "      <th>timestamp</th>\n",
       "      <th>multi_class_target</th>\n",
       "    </tr>\n",
       "  </thead>\n",
       "  <tbody>\n",
       "    <tr>\n",
       "      <th>0</th>\n",
       "      <td>0000029e72e5fcde6a9f29c3a3ed198f</td>\n",
       "      <td>7cf9221322a0e2fdefb1b998b8f2ab29</td>\n",
       "      <td>2020-06-15 14:01:12</td>\n",
       "      <td>main_screen</td>\n",
       "    </tr>\n",
       "    <tr>\n",
       "      <th>1</th>\n",
       "      <td>00063dffa47b0fe5556b2b9e8beddb6a</td>\n",
       "      <td>5f16c0ab27a806fd08db3122921adf3a</td>\n",
       "      <td>2020-03-21 12:59:34</td>\n",
       "      <td>invest</td>\n",
       "    </tr>\n",
       "    <tr>\n",
       "      <th>2</th>\n",
       "      <td>0007857f36d268ec46fcb7305538a1c7</td>\n",
       "      <td>ec868fc2b388293cf10e18ee9518d72f</td>\n",
       "      <td>2020-01-24 18:18:55</td>\n",
       "      <td>statement</td>\n",
       "    </tr>\n",
       "    <tr>\n",
       "      <th>3</th>\n",
       "      <td>000a7f25fc3609cdfda54c5f059aab00</td>\n",
       "      <td>91f55a33d7502c1a1fa5da7ff2f7b648</td>\n",
       "      <td>2020-03-15 19:50:23</td>\n",
       "      <td>main_screen</td>\n",
       "    </tr>\n",
       "    <tr>\n",
       "      <th>4</th>\n",
       "      <td>000b746d6616669663feaa1474ac97f1</td>\n",
       "      <td>3ef1020bda95ce7836d2680fa553ecb7</td>\n",
       "      <td>2020-02-20 07:56:58</td>\n",
       "      <td>main_screen</td>\n",
       "    </tr>\n",
       "  </tbody>\n",
       "</table>\n",
       "</div>"
      ],
      "text/plain": [
       "                         session_id                        client_pin  \\\n",
       "0  0000029e72e5fcde6a9f29c3a3ed198f  7cf9221322a0e2fdefb1b998b8f2ab29   \n",
       "1  00063dffa47b0fe5556b2b9e8beddb6a  5f16c0ab27a806fd08db3122921adf3a   \n",
       "2  0007857f36d268ec46fcb7305538a1c7  ec868fc2b388293cf10e18ee9518d72f   \n",
       "3  000a7f25fc3609cdfda54c5f059aab00  91f55a33d7502c1a1fa5da7ff2f7b648   \n",
       "4  000b746d6616669663feaa1474ac97f1  3ef1020bda95ce7836d2680fa553ecb7   \n",
       "\n",
       "            timestamp multi_class_target  \n",
       "0 2020-06-15 14:01:12        main_screen  \n",
       "1 2020-03-21 12:59:34             invest  \n",
       "2 2020-01-24 18:18:55          statement  \n",
       "3 2020-03-15 19:50:23        main_screen  \n",
       "4 2020-02-20 07:56:58        main_screen  "
      ]
     },
     "execution_count": 5,
     "metadata": {},
     "output_type": "execute_result"
    }
   ],
   "source": [
    "data = pd.read_csv(os.path.join(DATA, 'alfabattle2_abattle_train_target.csv'), parse_dates=['timestamp'])\n",
    "data.head()"
   ]
  },
  {
   "cell_type": "code",
   "execution_count": 6,
   "metadata": {},
   "outputs": [],
   "source": [
    "def get_time_of_day(inp_hour):\n",
    "    if (inp_hour >= 12) and (inp_hour < 18):\n",
    "        return 'day'\n",
    "    elif (inp_hour >= 6) and (inp_hour < 12):\n",
    "        return 'morning'\n",
    "    elif (inp_hour >= 18) and (inp_hour <= 23):\n",
    "        return 'evening'\n",
    "    else:\n",
    "        return 'night'"
   ]
  },
  {
   "cell_type": "code",
   "execution_count": 7,
   "metadata": {},
   "outputs": [
    {
     "name": "stdout",
     "output_type": "stream",
     "text": [
      "CPU times: user 44.1 s, sys: 811 ms, total: 44.9 s\n",
      "Wall time: 43.3 s\n"
     ]
    },
    {
     "data": {
      "text/html": [
       "<div>\n",
       "<style scoped>\n",
       "    .dataframe tbody tr th:only-of-type {\n",
       "        vertical-align: middle;\n",
       "    }\n",
       "\n",
       "    .dataframe tbody tr th {\n",
       "        vertical-align: top;\n",
       "    }\n",
       "\n",
       "    .dataframe thead th {\n",
       "        text-align: right;\n",
       "    }\n",
       "</style>\n",
       "<table border=\"1\" class=\"dataframe\">\n",
       "  <thead>\n",
       "    <tr style=\"text-align: right;\">\n",
       "      <th></th>\n",
       "      <th>session_id</th>\n",
       "      <th>client_pin</th>\n",
       "      <th>timestamp</th>\n",
       "      <th>multi_class_target</th>\n",
       "      <th>dom</th>\n",
       "      <th>dow</th>\n",
       "      <th>hour</th>\n",
       "      <th>tod</th>\n",
       "    </tr>\n",
       "  </thead>\n",
       "  <tbody>\n",
       "    <tr>\n",
       "      <th>0</th>\n",
       "      <td>0000029e72e5fcde6a9f29c3a3ed198f</td>\n",
       "      <td>7cf9221322a0e2fdefb1b998b8f2ab29</td>\n",
       "      <td>2020-06-15 14:01:12</td>\n",
       "      <td>main_screen</td>\n",
       "      <td>15</td>\n",
       "      <td>0</td>\n",
       "      <td>14</td>\n",
       "      <td>day</td>\n",
       "    </tr>\n",
       "    <tr>\n",
       "      <th>1</th>\n",
       "      <td>00063dffa47b0fe5556b2b9e8beddb6a</td>\n",
       "      <td>5f16c0ab27a806fd08db3122921adf3a</td>\n",
       "      <td>2020-03-21 12:59:34</td>\n",
       "      <td>invest</td>\n",
       "      <td>21</td>\n",
       "      <td>5</td>\n",
       "      <td>12</td>\n",
       "      <td>day</td>\n",
       "    </tr>\n",
       "    <tr>\n",
       "      <th>2</th>\n",
       "      <td>0007857f36d268ec46fcb7305538a1c7</td>\n",
       "      <td>ec868fc2b388293cf10e18ee9518d72f</td>\n",
       "      <td>2020-01-24 18:18:55</td>\n",
       "      <td>statement</td>\n",
       "      <td>24</td>\n",
       "      <td>4</td>\n",
       "      <td>18</td>\n",
       "      <td>evening</td>\n",
       "    </tr>\n",
       "    <tr>\n",
       "      <th>3</th>\n",
       "      <td>000a7f25fc3609cdfda54c5f059aab00</td>\n",
       "      <td>91f55a33d7502c1a1fa5da7ff2f7b648</td>\n",
       "      <td>2020-03-15 19:50:23</td>\n",
       "      <td>main_screen</td>\n",
       "      <td>15</td>\n",
       "      <td>6</td>\n",
       "      <td>19</td>\n",
       "      <td>evening</td>\n",
       "    </tr>\n",
       "    <tr>\n",
       "      <th>4</th>\n",
       "      <td>000b746d6616669663feaa1474ac97f1</td>\n",
       "      <td>3ef1020bda95ce7836d2680fa553ecb7</td>\n",
       "      <td>2020-02-20 07:56:58</td>\n",
       "      <td>main_screen</td>\n",
       "      <td>20</td>\n",
       "      <td>3</td>\n",
       "      <td>7</td>\n",
       "      <td>morning</td>\n",
       "    </tr>\n",
       "  </tbody>\n",
       "</table>\n",
       "</div>"
      ],
      "text/plain": [
       "                         session_id                        client_pin  \\\n",
       "0  0000029e72e5fcde6a9f29c3a3ed198f  7cf9221322a0e2fdefb1b998b8f2ab29   \n",
       "1  00063dffa47b0fe5556b2b9e8beddb6a  5f16c0ab27a806fd08db3122921adf3a   \n",
       "2  0007857f36d268ec46fcb7305538a1c7  ec868fc2b388293cf10e18ee9518d72f   \n",
       "3  000a7f25fc3609cdfda54c5f059aab00  91f55a33d7502c1a1fa5da7ff2f7b648   \n",
       "4  000b746d6616669663feaa1474ac97f1  3ef1020bda95ce7836d2680fa553ecb7   \n",
       "\n",
       "            timestamp multi_class_target  dom  dow  hour      tod  \n",
       "0 2020-06-15 14:01:12        main_screen   15    0    14      day  \n",
       "1 2020-03-21 12:59:34             invest   21    5    12      day  \n",
       "2 2020-01-24 18:18:55          statement   24    4    18  evening  \n",
       "3 2020-03-15 19:50:23        main_screen   15    6    19  evening  \n",
       "4 2020-02-20 07:56:58        main_screen   20    3     7  morning  "
      ]
     },
     "execution_count": 7,
     "metadata": {},
     "output_type": "execute_result"
    }
   ],
   "source": [
    "%%time\n",
    "data['dom']  = data.timestamp.apply(lambda x: x.day)\n",
    "data['dow']  = data.timestamp.apply(lambda x: x.weekday())\n",
    "data['hour'] = data.timestamp.apply(lambda x: x.hour)\n",
    "data['tod']  = data.hour.apply(get_time_of_day)\n",
    "\n",
    "data.head()"
   ]
  },
  {
   "cell_type": "code",
   "execution_count": 8,
   "metadata": {},
   "outputs": [
    {
     "data": {
      "text/plain": [
       "Index(['dom', 'dow', 'hour', 'tod'], dtype='object')"
      ]
     },
     "execution_count": 8,
     "metadata": {},
     "output_type": "execute_result"
    }
   ],
   "source": [
    "data.keys()[4:]"
   ]
  },
  {
   "cell_type": "code",
   "execution_count": 9,
   "metadata": {},
   "outputs": [],
   "source": [
    "target = data['multi_class_target']"
   ]
  },
  {
   "cell_type": "code",
   "execution_count": 10,
   "metadata": {},
   "outputs": [],
   "source": [
    "#lb_dom  = LabelBinarizer().fit(data['dom'])\n",
    "#lb_dow  = LabelBinarizer().fit(data['dow'])\n",
    "#lb_hour = LabelBinarizer().fit(data['hour'])\n",
    "#lb_tod  = LabelBinarizer().fit(data['tod'])"
   ]
  },
  {
   "cell_type": "code",
   "execution_count": 11,
   "metadata": {},
   "outputs": [],
   "source": [
    "#dom_features  = ['dom_'  + str(el) for el in lb_dom.classes_]\n",
    "#dow_features  = ['dow_'  + str(el) for el in lb_dow.classes_]\n",
    "#hour_features = ['hour_' + str(el) for el in lb_hour.classes_]\n",
    "#tod_features  = ['tod_'  + str(el) for el in lb_tod.classes_]"
   ]
  },
  {
   "cell_type": "code",
   "execution_count": 12,
   "metadata": {},
   "outputs": [],
   "source": [
    "#%%time\n",
    "#dom_prep  = lb_dom.transform(data['dom'])\n",
    "#dow_prep  = lb_dow.transform(data['dow'])\n",
    "#hour_prep = lb_hour.transform(data['hour'])\n",
    "#tod_prep =  lb_tod.transform(data['tod'])\n",
    "\n",
    "#dom_prep.shape, dow_prep.shape, hour_prep.shape, tod_prep.shape"
   ]
  },
  {
   "cell_type": "markdown",
   "metadata": {},
   "source": [
    "saving LabelBinarizer for using in prepare to submit part"
   ]
  },
  {
   "cell_type": "code",
   "execution_count": 13,
   "metadata": {},
   "outputs": [],
   "source": [
    "#pickle.dump(lb_dom,  open((os.path.join(UTILS, 'lb_dom.pkl')),  'wb'))\n",
    "#pickle.dump(lb_dow,  open((os.path.join(UTILS, 'lb_dow.pkl')),  'wb'))\n",
    "#pickle.dump(lb_hour, open((os.path.join(UTILS, 'lb_hour.pkl')), 'wb'))\n",
    "#pickle.dump(lb_tod,  open((os.path.join(UTILS, 'lb_tod.pkl')),  'wb'))"
   ]
  },
  {
   "cell_type": "code",
   "execution_count": null,
   "metadata": {},
   "outputs": [],
   "source": []
  },
  {
   "cell_type": "raw",
   "metadata": {},
   "source": [
    "%%time\n",
    "data = data.join(pd.DataFrame(dom_prep,  columns = dom_features), how='inner')\n",
    "data = data.join(pd.DataFrame(dow_prep,  columns = dow_features), how='inner')\n",
    "data = data.join(pd.DataFrame(hour_prep, columns = hour_features), how='inner')\n",
    "data = data.join(pd.DataFrame(tod_prep,  columns = tod_features), how='inner')"
   ]
  },
  {
   "cell_type": "code",
   "execution_count": null,
   "metadata": {},
   "outputs": [],
   "source": []
  },
  {
   "cell_type": "markdown",
   "metadata": {},
   "source": [
    "merge current data with statistics"
   ]
  },
  {
   "cell_type": "code",
   "execution_count": 52,
   "metadata": {},
   "outputs": [],
   "source": [
    "client_freq_targ = pd.read_csv(os.path.join(DATA_OWN, 'client_freq.csv'))\n",
    "client_diff_freq_dow = pd.read_csv(os.path.join(DATA_OWN, 'client_diff_freq_dow.csv'))\n",
    "client_diff_freq_tod = pd.read_csv(os.path.join(DATA_OWN, 'client_diff_freq_tod.csv'))"
   ]
  },
  {
   "cell_type": "code",
   "execution_count": 15,
   "metadata": {},
   "outputs": [
    {
     "data": {
      "text/plain": [
       "Index(['client_pin', 'client_freq_main_screen', 'client_freq_statement',\n",
       "       'client_freq_credit_info', 'client_freq_own_transfer',\n",
       "       'client_freq_mobile_recharge', 'client_freq_phone_money_transfer',\n",
       "       'client_freq_card2card_transfer', 'client_freq_chat',\n",
       "       'client_freq_card_recharge', 'client_freq_invest'],\n",
       "      dtype='object')"
      ]
     },
     "execution_count": 15,
     "metadata": {},
     "output_type": "execute_result"
    }
   ],
   "source": [
    "client_freq_targ.keys()"
   ]
  },
  {
   "cell_type": "code",
   "execution_count": 16,
   "metadata": {},
   "outputs": [],
   "source": [
    "data = data.merge(client_freq_targ, how= 'left', on='client_pin', validate='many_to_one')"
   ]
  },
  {
   "cell_type": "code",
   "execution_count": 17,
   "metadata": {},
   "outputs": [],
   "source": [
    "#client_freq_features = ['client_freq_main_screen', 'client_freq_statement',\n",
    "#       'client_freq_credit_info', 'client_freq_own_transfer',\n",
    "#       'client_freq_mobile_recharge', 'client_freq_phone_money_transfer',\n",
    "#       'client_freq_card2card_transfer', 'client_freq_chat',\n",
    "#       'client_freq_card_recharge', 'client_freq_invest']\n",
    "client_freq_features = client_freq_targ.keys()[1:]"
   ]
  },
  {
   "cell_type": "code",
   "execution_count": null,
   "metadata": {},
   "outputs": [],
   "source": []
  },
  {
   "cell_type": "code",
   "execution_count": null,
   "metadata": {},
   "outputs": [],
   "source": [
    "new_df = pd.merge(A_df, B_df,  how='left', left_on='[A_c1,c2]', right_on = '[B_c1,c2]')"
   ]
  },
  {
   "cell_type": "code",
   "execution_count": null,
   "metadata": {},
   "outputs": [],
   "source": []
  },
  {
   "cell_type": "code",
   "execution_count": null,
   "metadata": {},
   "outputs": [],
   "source": []
  },
  {
   "cell_type": "code",
   "execution_count": 18,
   "metadata": {},
   "outputs": [],
   "source": [
    "glob_diff_freq_dom  = pd.read_csv(os.path.join(DATA_OWN, 'glob_diff_freq_dom.csv'))\n",
    "glob_diff_freq_dow  = pd.read_csv(os.path.join(DATA_OWN, 'glob_diff_freq_dow.csv'))\n",
    "glob_diff_freq_hour = pd.read_csv(os.path.join(DATA_OWN, 'glob_diff_freq_hour.csv'))\n",
    "glob_diff_freq_tod  = pd.read_csv(os.path.join(DATA_OWN, 'glob_diff_freq_tod.csv'))"
   ]
  },
  {
   "cell_type": "code",
   "execution_count": 19,
   "metadata": {},
   "outputs": [],
   "source": [
    "glob_diff_freq_dom.columns  = ['dom_'  + el for el in glob_diff_freq_dom.keys()]\n",
    "glob_diff_freq_dow.columns  = ['dow_'  + el for el in glob_diff_freq_dow.keys()]\n",
    "glob_diff_freq_hour.columns = ['hour_' + el for el in glob_diff_freq_hour.keys()]\n",
    "glob_diff_freq_tod.columns  = ['tod_'  + el for el in glob_diff_freq_tod.keys()]"
   ]
  },
  {
   "cell_type": "code",
   "execution_count": 20,
   "metadata": {},
   "outputs": [],
   "source": [
    "glob_diff_freq_dom = glob_diff_freq_dom.rename(  columns={'dom_dom': 'dom'})\n",
    "glob_diff_freq_dow = glob_diff_freq_dow.rename(  columns={'dow_dow': 'dow'})\n",
    "glob_diff_freq_hour = glob_diff_freq_hour.rename(columns={'hour_hour': 'hour'})\n",
    "glob_diff_freq_tod = glob_diff_freq_tod.rename(  columns={'tod_tod': 'tod'})\n",
    "\n",
    "#glob_freq_dom.keys(), glob_freq_dow.keys(), glob_freq_hour.keys(), glob_freq_tod.keys(), "
   ]
  },
  {
   "cell_type": "code",
   "execution_count": 21,
   "metadata": {},
   "outputs": [],
   "source": [
    "dom_diff_freq_features  = [el for el in glob_diff_freq_dom.keys()[1:]]\n",
    "dow_diff_freq_features  = [el for el in glob_diff_freq_dow.keys()[1:]]\n",
    "hour_diff_freq_features = [el for el in glob_diff_freq_hour.keys()[1:]]\n",
    "tod_diff_freq_features  = [el for el in glob_diff_freq_tod.keys()[1:]]"
   ]
  },
  {
   "cell_type": "code",
   "execution_count": null,
   "metadata": {},
   "outputs": [],
   "source": []
  },
  {
   "cell_type": "code",
   "execution_count": null,
   "metadata": {},
   "outputs": [],
   "source": []
  },
  {
   "cell_type": "code",
   "execution_count": null,
   "metadata": {},
   "outputs": [],
   "source": []
  },
  {
   "cell_type": "code",
   "execution_count": null,
   "metadata": {},
   "outputs": [],
   "source": []
  },
  {
   "cell_type": "code",
   "execution_count": 22,
   "metadata": {},
   "outputs": [
    {
     "data": {
      "text/plain": [
       "(5065350, 18)"
      ]
     },
     "execution_count": 22,
     "metadata": {},
     "output_type": "execute_result"
    }
   ],
   "source": [
    "data.shape"
   ]
  },
  {
   "cell_type": "code",
   "execution_count": 23,
   "metadata": {},
   "outputs": [
    {
     "data": {
      "text/plain": [
       "(5065350, 28)"
      ]
     },
     "execution_count": 23,
     "metadata": {},
     "output_type": "execute_result"
    }
   ],
   "source": [
    "data = data.merge(glob_diff_freq_dom, how= 'left', on='dom', validate='many_to_one')\n",
    "data.shape"
   ]
  },
  {
   "cell_type": "code",
   "execution_count": 24,
   "metadata": {},
   "outputs": [
    {
     "data": {
      "text/plain": [
       "(5065350, 38)"
      ]
     },
     "execution_count": 24,
     "metadata": {},
     "output_type": "execute_result"
    }
   ],
   "source": [
    "data = data.merge(glob_diff_freq_dow, how= 'left', on='dow', validate='many_to_one')\n",
    "data.shape"
   ]
  },
  {
   "cell_type": "code",
   "execution_count": 25,
   "metadata": {},
   "outputs": [
    {
     "data": {
      "text/plain": [
       "(5065350, 48)"
      ]
     },
     "execution_count": 25,
     "metadata": {},
     "output_type": "execute_result"
    }
   ],
   "source": [
    "data = data.merge(glob_diff_freq_hour, how= 'left', on='hour', validate='many_to_one')\n",
    "data.shape"
   ]
  },
  {
   "cell_type": "code",
   "execution_count": 26,
   "metadata": {},
   "outputs": [
    {
     "data": {
      "text/plain": [
       "(5065350, 58)"
      ]
     },
     "execution_count": 26,
     "metadata": {},
     "output_type": "execute_result"
    }
   ],
   "source": [
    "data = data.merge(glob_diff_freq_tod, how= 'left', on='tod', validate='many_to_one')\n",
    "data.shape"
   ]
  },
  {
   "cell_type": "code",
   "execution_count": null,
   "metadata": {},
   "outputs": [],
   "source": []
  },
  {
   "cell_type": "code",
   "execution_count": null,
   "metadata": {},
   "outputs": [],
   "source": []
  },
  {
   "cell_type": "code",
   "execution_count": 27,
   "metadata": {},
   "outputs": [
    {
     "data": {
      "text/html": [
       "<div>\n",
       "<style scoped>\n",
       "    .dataframe tbody tr th:only-of-type {\n",
       "        vertical-align: middle;\n",
       "    }\n",
       "\n",
       "    .dataframe tbody tr th {\n",
       "        vertical-align: top;\n",
       "    }\n",
       "\n",
       "    .dataframe thead th {\n",
       "        text-align: right;\n",
       "    }\n",
       "</style>\n",
       "<table border=\"1\" class=\"dataframe\">\n",
       "  <thead>\n",
       "    <tr style=\"text-align: right;\">\n",
       "      <th></th>\n",
       "      <th>session_id</th>\n",
       "      <th>client_pin</th>\n",
       "      <th>timestamp</th>\n",
       "      <th>multi_class_target</th>\n",
       "      <th>dom</th>\n",
       "      <th>dow</th>\n",
       "      <th>hour</th>\n",
       "      <th>tod</th>\n",
       "      <th>client_freq_main_screen</th>\n",
       "      <th>client_freq_statement</th>\n",
       "      <th>...</th>\n",
       "      <th>tod_diff_glob_freq_main_screen</th>\n",
       "      <th>tod_diff_glob_freq_statement</th>\n",
       "      <th>tod_diff_glob_freq_credit_info</th>\n",
       "      <th>tod_diff_glob_freq_own_transfer</th>\n",
       "      <th>tod_diff_glob_freq_mobile_recharge</th>\n",
       "      <th>tod_diff_glob_freq_phone_money_transfer</th>\n",
       "      <th>tod_diff_glob_freq_card2card_transfer</th>\n",
       "      <th>tod_diff_glob_freq_chat</th>\n",
       "      <th>tod_diff_glob_freq_card_recharge</th>\n",
       "      <th>tod_diff_glob_freq_invest</th>\n",
       "    </tr>\n",
       "  </thead>\n",
       "  <tbody>\n",
       "    <tr>\n",
       "      <th>1642635</th>\n",
       "      <td>10cdd51f7b1b5cd443fc31095fccded2</td>\n",
       "      <td>7bc3293d0d9d743996be456f7fe0f8ec</td>\n",
       "      <td>2020-05-05 07:15:04</td>\n",
       "      <td>main_screen</td>\n",
       "      <td>5</td>\n",
       "      <td>1</td>\n",
       "      <td>7</td>\n",
       "      <td>morning</td>\n",
       "      <td>0.728155</td>\n",
       "      <td>0.032362</td>\n",
       "      <td>...</td>\n",
       "      <td>-0.007052</td>\n",
       "      <td>0.016034</td>\n",
       "      <td>-0.004793</td>\n",
       "      <td>0.002914</td>\n",
       "      <td>-0.013680</td>\n",
       "      <td>0.000881</td>\n",
       "      <td>0.003722</td>\n",
       "      <td>0.001396</td>\n",
       "      <td>0.000394</td>\n",
       "      <td>0.000184</td>\n",
       "    </tr>\n",
       "    <tr>\n",
       "      <th>1263355</th>\n",
       "      <td>5b17b19aaeff3a643909d2dd30ee3066</td>\n",
       "      <td>d2c319fdc55d4fe17f66384d1d33dcd5</td>\n",
       "      <td>2020-01-26 18:26:06</td>\n",
       "      <td>statement</td>\n",
       "      <td>26</td>\n",
       "      <td>6</td>\n",
       "      <td>18</td>\n",
       "      <td>evening</td>\n",
       "      <td>0.294118</td>\n",
       "      <td>0.388235</td>\n",
       "      <td>...</td>\n",
       "      <td>0.018425</td>\n",
       "      <td>-0.016537</td>\n",
       "      <td>-0.001558</td>\n",
       "      <td>-0.001434</td>\n",
       "      <td>0.006193</td>\n",
       "      <td>0.000416</td>\n",
       "      <td>-0.003130</td>\n",
       "      <td>-0.001105</td>\n",
       "      <td>0.000214</td>\n",
       "      <td>-0.001486</td>\n",
       "    </tr>\n",
       "    <tr>\n",
       "      <th>3969526</th>\n",
       "      <td>eaa436bb9ac7c3d22045ffd419bed1c2</td>\n",
       "      <td>e7be82099ec955416ce4c26d95b4a7c5</td>\n",
       "      <td>2020-07-19 11:14:56</td>\n",
       "      <td>main_screen</td>\n",
       "      <td>19</td>\n",
       "      <td>6</td>\n",
       "      <td>11</td>\n",
       "      <td>morning</td>\n",
       "      <td>0.689775</td>\n",
       "      <td>0.230503</td>\n",
       "      <td>...</td>\n",
       "      <td>-0.007052</td>\n",
       "      <td>0.016034</td>\n",
       "      <td>-0.004793</td>\n",
       "      <td>0.002914</td>\n",
       "      <td>-0.013680</td>\n",
       "      <td>0.000881</td>\n",
       "      <td>0.003722</td>\n",
       "      <td>0.001396</td>\n",
       "      <td>0.000394</td>\n",
       "      <td>0.000184</td>\n",
       "    </tr>\n",
       "    <tr>\n",
       "      <th>1604883</th>\n",
       "      <td>33eed529a16a8baacaf54aaca6a9aec3</td>\n",
       "      <td>5d1d937ef5f1774b038b6d08083d96b8</td>\n",
       "      <td>2020-06-23 15:37:15</td>\n",
       "      <td>main_screen</td>\n",
       "      <td>23</td>\n",
       "      <td>1</td>\n",
       "      <td>15</td>\n",
       "      <td>day</td>\n",
       "      <td>0.734177</td>\n",
       "      <td>0.113924</td>\n",
       "      <td>...</td>\n",
       "      <td>-0.006382</td>\n",
       "      <td>-0.003040</td>\n",
       "      <td>0.008693</td>\n",
       "      <td>-0.003441</td>\n",
       "      <td>0.010104</td>\n",
       "      <td>-0.003059</td>\n",
       "      <td>-0.002092</td>\n",
       "      <td>-0.000810</td>\n",
       "      <td>-0.001044</td>\n",
       "      <td>0.001070</td>\n",
       "    </tr>\n",
       "    <tr>\n",
       "      <th>3538142</th>\n",
       "      <td>9f3b63e0db8430f84867159aa3d89c3a</td>\n",
       "      <td>264623c97164cf7e92c4eee045b8c20d</td>\n",
       "      <td>2020-07-21 17:29:45</td>\n",
       "      <td>own_transfer</td>\n",
       "      <td>21</td>\n",
       "      <td>1</td>\n",
       "      <td>17</td>\n",
       "      <td>day</td>\n",
       "      <td>0.068282</td>\n",
       "      <td>0.286344</td>\n",
       "      <td>...</td>\n",
       "      <td>-0.006382</td>\n",
       "      <td>-0.003040</td>\n",
       "      <td>0.008693</td>\n",
       "      <td>-0.003441</td>\n",
       "      <td>0.010104</td>\n",
       "      <td>-0.003059</td>\n",
       "      <td>-0.002092</td>\n",
       "      <td>-0.000810</td>\n",
       "      <td>-0.001044</td>\n",
       "      <td>0.001070</td>\n",
       "    </tr>\n",
       "    <tr>\n",
       "      <th>984654</th>\n",
       "      <td>925533593d8fe3c3646fcbbdc12eb1ce</td>\n",
       "      <td>5c6244105f41f2ed3ae413b09246d178</td>\n",
       "      <td>2020-08-31 07:09:26</td>\n",
       "      <td>phone_money_transfer</td>\n",
       "      <td>31</td>\n",
       "      <td>0</td>\n",
       "      <td>7</td>\n",
       "      <td>morning</td>\n",
       "      <td>0.115789</td>\n",
       "      <td>0.168421</td>\n",
       "      <td>...</td>\n",
       "      <td>-0.007052</td>\n",
       "      <td>0.016034</td>\n",
       "      <td>-0.004793</td>\n",
       "      <td>0.002914</td>\n",
       "      <td>-0.013680</td>\n",
       "      <td>0.000881</td>\n",
       "      <td>0.003722</td>\n",
       "      <td>0.001396</td>\n",
       "      <td>0.000394</td>\n",
       "      <td>0.000184</td>\n",
       "    </tr>\n",
       "    <tr>\n",
       "      <th>387500</th>\n",
       "      <td>22f739e0dd17ef4a7ffb076cf39775d5</td>\n",
       "      <td>5aa858721854f5152e6afcf72cf7f841</td>\n",
       "      <td>2020-03-12 20:20:55</td>\n",
       "      <td>own_transfer</td>\n",
       "      <td>12</td>\n",
       "      <td>3</td>\n",
       "      <td>20</td>\n",
       "      <td>evening</td>\n",
       "      <td>0.246753</td>\n",
       "      <td>0.246753</td>\n",
       "      <td>...</td>\n",
       "      <td>0.018425</td>\n",
       "      <td>-0.016537</td>\n",
       "      <td>-0.001558</td>\n",
       "      <td>-0.001434</td>\n",
       "      <td>0.006193</td>\n",
       "      <td>0.000416</td>\n",
       "      <td>-0.003130</td>\n",
       "      <td>-0.001105</td>\n",
       "      <td>0.000214</td>\n",
       "      <td>-0.001486</td>\n",
       "    </tr>\n",
       "    <tr>\n",
       "      <th>4661123</th>\n",
       "      <td>104ba8b6ee820ca384bc4aa2c1047487</td>\n",
       "      <td>6380935485a90762a8614f82d5862b77</td>\n",
       "      <td>2020-04-27 23:10:17</td>\n",
       "      <td>statement</td>\n",
       "      <td>27</td>\n",
       "      <td>0</td>\n",
       "      <td>23</td>\n",
       "      <td>evening</td>\n",
       "      <td>0.423841</td>\n",
       "      <td>0.281457</td>\n",
       "      <td>...</td>\n",
       "      <td>0.018425</td>\n",
       "      <td>-0.016537</td>\n",
       "      <td>-0.001558</td>\n",
       "      <td>-0.001434</td>\n",
       "      <td>0.006193</td>\n",
       "      <td>0.000416</td>\n",
       "      <td>-0.003130</td>\n",
       "      <td>-0.001105</td>\n",
       "      <td>0.000214</td>\n",
       "      <td>-0.001486</td>\n",
       "    </tr>\n",
       "    <tr>\n",
       "      <th>3419992</th>\n",
       "      <td>cf02582b3733c4674d7d0b44a9818d55</td>\n",
       "      <td>20df32f11a71353b2cfa27cfd257d85d</td>\n",
       "      <td>2020-04-30 12:36:11</td>\n",
       "      <td>statement</td>\n",
       "      <td>30</td>\n",
       "      <td>3</td>\n",
       "      <td>12</td>\n",
       "      <td>day</td>\n",
       "      <td>0.065789</td>\n",
       "      <td>0.184211</td>\n",
       "      <td>...</td>\n",
       "      <td>-0.006382</td>\n",
       "      <td>-0.003040</td>\n",
       "      <td>0.008693</td>\n",
       "      <td>-0.003441</td>\n",
       "      <td>0.010104</td>\n",
       "      <td>-0.003059</td>\n",
       "      <td>-0.002092</td>\n",
       "      <td>-0.000810</td>\n",
       "      <td>-0.001044</td>\n",
       "      <td>0.001070</td>\n",
       "    </tr>\n",
       "    <tr>\n",
       "      <th>823613</th>\n",
       "      <td>9c8b37884e6e9b35b7e5f051ce8ffaf7</td>\n",
       "      <td>aea49410e6e294ec7ea3c7d43ea71c1c</td>\n",
       "      <td>2020-03-07 11:51:35</td>\n",
       "      <td>main_screen</td>\n",
       "      <td>7</td>\n",
       "      <td>5</td>\n",
       "      <td>11</td>\n",
       "      <td>morning</td>\n",
       "      <td>0.866667</td>\n",
       "      <td>0.066667</td>\n",
       "      <td>...</td>\n",
       "      <td>-0.007052</td>\n",
       "      <td>0.016034</td>\n",
       "      <td>-0.004793</td>\n",
       "      <td>0.002914</td>\n",
       "      <td>-0.013680</td>\n",
       "      <td>0.000881</td>\n",
       "      <td>0.003722</td>\n",
       "      <td>0.001396</td>\n",
       "      <td>0.000394</td>\n",
       "      <td>0.000184</td>\n",
       "    </tr>\n",
       "  </tbody>\n",
       "</table>\n",
       "<p>10 rows × 58 columns</p>\n",
       "</div>"
      ],
      "text/plain": [
       "                               session_id                        client_pin  \\\n",
       "1642635  10cdd51f7b1b5cd443fc31095fccded2  7bc3293d0d9d743996be456f7fe0f8ec   \n",
       "1263355  5b17b19aaeff3a643909d2dd30ee3066  d2c319fdc55d4fe17f66384d1d33dcd5   \n",
       "3969526  eaa436bb9ac7c3d22045ffd419bed1c2  e7be82099ec955416ce4c26d95b4a7c5   \n",
       "1604883  33eed529a16a8baacaf54aaca6a9aec3  5d1d937ef5f1774b038b6d08083d96b8   \n",
       "3538142  9f3b63e0db8430f84867159aa3d89c3a  264623c97164cf7e92c4eee045b8c20d   \n",
       "984654   925533593d8fe3c3646fcbbdc12eb1ce  5c6244105f41f2ed3ae413b09246d178   \n",
       "387500   22f739e0dd17ef4a7ffb076cf39775d5  5aa858721854f5152e6afcf72cf7f841   \n",
       "4661123  104ba8b6ee820ca384bc4aa2c1047487  6380935485a90762a8614f82d5862b77   \n",
       "3419992  cf02582b3733c4674d7d0b44a9818d55  20df32f11a71353b2cfa27cfd257d85d   \n",
       "823613   9c8b37884e6e9b35b7e5f051ce8ffaf7  aea49410e6e294ec7ea3c7d43ea71c1c   \n",
       "\n",
       "                  timestamp    multi_class_target  dom  dow  hour      tod  \\\n",
       "1642635 2020-05-05 07:15:04           main_screen    5    1     7  morning   \n",
       "1263355 2020-01-26 18:26:06             statement   26    6    18  evening   \n",
       "3969526 2020-07-19 11:14:56           main_screen   19    6    11  morning   \n",
       "1604883 2020-06-23 15:37:15           main_screen   23    1    15      day   \n",
       "3538142 2020-07-21 17:29:45          own_transfer   21    1    17      day   \n",
       "984654  2020-08-31 07:09:26  phone_money_transfer   31    0     7  morning   \n",
       "387500  2020-03-12 20:20:55          own_transfer   12    3    20  evening   \n",
       "4661123 2020-04-27 23:10:17             statement   27    0    23  evening   \n",
       "3419992 2020-04-30 12:36:11             statement   30    3    12      day   \n",
       "823613  2020-03-07 11:51:35           main_screen    7    5    11  morning   \n",
       "\n",
       "         client_freq_main_screen  client_freq_statement  ...  \\\n",
       "1642635                 0.728155               0.032362  ...   \n",
       "1263355                 0.294118               0.388235  ...   \n",
       "3969526                 0.689775               0.230503  ...   \n",
       "1604883                 0.734177               0.113924  ...   \n",
       "3538142                 0.068282               0.286344  ...   \n",
       "984654                  0.115789               0.168421  ...   \n",
       "387500                  0.246753               0.246753  ...   \n",
       "4661123                 0.423841               0.281457  ...   \n",
       "3419992                 0.065789               0.184211  ...   \n",
       "823613                  0.866667               0.066667  ...   \n",
       "\n",
       "         tod_diff_glob_freq_main_screen  tod_diff_glob_freq_statement  \\\n",
       "1642635                       -0.007052                      0.016034   \n",
       "1263355                        0.018425                     -0.016537   \n",
       "3969526                       -0.007052                      0.016034   \n",
       "1604883                       -0.006382                     -0.003040   \n",
       "3538142                       -0.006382                     -0.003040   \n",
       "984654                        -0.007052                      0.016034   \n",
       "387500                         0.018425                     -0.016537   \n",
       "4661123                        0.018425                     -0.016537   \n",
       "3419992                       -0.006382                     -0.003040   \n",
       "823613                        -0.007052                      0.016034   \n",
       "\n",
       "         tod_diff_glob_freq_credit_info  tod_diff_glob_freq_own_transfer  \\\n",
       "1642635                       -0.004793                         0.002914   \n",
       "1263355                       -0.001558                        -0.001434   \n",
       "3969526                       -0.004793                         0.002914   \n",
       "1604883                        0.008693                        -0.003441   \n",
       "3538142                        0.008693                        -0.003441   \n",
       "984654                        -0.004793                         0.002914   \n",
       "387500                        -0.001558                        -0.001434   \n",
       "4661123                       -0.001558                        -0.001434   \n",
       "3419992                        0.008693                        -0.003441   \n",
       "823613                        -0.004793                         0.002914   \n",
       "\n",
       "         tod_diff_glob_freq_mobile_recharge  \\\n",
       "1642635                           -0.013680   \n",
       "1263355                            0.006193   \n",
       "3969526                           -0.013680   \n",
       "1604883                            0.010104   \n",
       "3538142                            0.010104   \n",
       "984654                            -0.013680   \n",
       "387500                             0.006193   \n",
       "4661123                            0.006193   \n",
       "3419992                            0.010104   \n",
       "823613                            -0.013680   \n",
       "\n",
       "         tod_diff_glob_freq_phone_money_transfer  \\\n",
       "1642635                                 0.000881   \n",
       "1263355                                 0.000416   \n",
       "3969526                                 0.000881   \n",
       "1604883                                -0.003059   \n",
       "3538142                                -0.003059   \n",
       "984654                                  0.000881   \n",
       "387500                                  0.000416   \n",
       "4661123                                 0.000416   \n",
       "3419992                                -0.003059   \n",
       "823613                                  0.000881   \n",
       "\n",
       "         tod_diff_glob_freq_card2card_transfer  tod_diff_glob_freq_chat  \\\n",
       "1642635                               0.003722                 0.001396   \n",
       "1263355                              -0.003130                -0.001105   \n",
       "3969526                               0.003722                 0.001396   \n",
       "1604883                              -0.002092                -0.000810   \n",
       "3538142                              -0.002092                -0.000810   \n",
       "984654                                0.003722                 0.001396   \n",
       "387500                               -0.003130                -0.001105   \n",
       "4661123                              -0.003130                -0.001105   \n",
       "3419992                              -0.002092                -0.000810   \n",
       "823613                                0.003722                 0.001396   \n",
       "\n",
       "         tod_diff_glob_freq_card_recharge  tod_diff_glob_freq_invest  \n",
       "1642635                          0.000394                   0.000184  \n",
       "1263355                          0.000214                  -0.001486  \n",
       "3969526                          0.000394                   0.000184  \n",
       "1604883                         -0.001044                   0.001070  \n",
       "3538142                         -0.001044                   0.001070  \n",
       "984654                           0.000394                   0.000184  \n",
       "387500                           0.000214                  -0.001486  \n",
       "4661123                          0.000214                  -0.001486  \n",
       "3419992                         -0.001044                   0.001070  \n",
       "823613                           0.000394                   0.000184  \n",
       "\n",
       "[10 rows x 58 columns]"
      ]
     },
     "execution_count": 27,
     "metadata": {},
     "output_type": "execute_result"
    }
   ],
   "source": [
    "data.sample(10)"
   ]
  },
  {
   "cell_type": "code",
   "execution_count": 28,
   "metadata": {},
   "outputs": [
    {
     "name": "stdout",
     "output_type": "stream",
     "text": [
      "CPU times: user 5.82 s, sys: 230 ms, total: 6.05 s\n",
      "Wall time: 6.34 s\n"
     ]
    },
    {
     "data": {
      "text/plain": [
       "((3393784, 58), (1671566, 58), (3393784,), (1671566,))"
      ]
     },
     "execution_count": 28,
     "metadata": {},
     "output_type": "execute_result"
    }
   ],
   "source": [
    "%%time\n",
    "X_train, X_val, y_train, y_val = train_test_split(data, target, test_size=0.33, random_state=42)\n",
    "X_train.shape, X_val.shape, y_train.shape, y_val.shape"
   ]
  },
  {
   "cell_type": "code",
   "execution_count": null,
   "metadata": {},
   "outputs": [],
   "source": []
  },
  {
   "cell_type": "code",
   "execution_count": null,
   "metadata": {},
   "outputs": [],
   "source": []
  },
  {
   "cell_type": "code",
   "execution_count": 43,
   "metadata": {},
   "outputs": [],
   "source": [
    "#f1 = make_scorer(f1_score , average='macro')"
   ]
  },
  {
   "cell_type": "code",
   "execution_count": 61,
   "metadata": {},
   "outputs": [
    {
     "name": "stdout",
     "output_type": "stream",
     "text": [
      "50 ['client_freq_main_screen', 'client_freq_statement', 'client_freq_credit_info', 'client_freq_own_transfer', 'client_freq_mobile_recharge', 'client_freq_phone_money_transfer', 'client_freq_card2card_transfer', 'client_freq_chat', 'client_freq_card_recharge', 'client_freq_invest', 'dom_diff_glob_freq_main_screen', 'dom_diff_glob_freq_statement', 'dom_diff_glob_freq_credit_info', 'dom_diff_glob_freq_own_transfer', 'dom_diff_glob_freq_mobile_recharge', 'dom_diff_glob_freq_phone_money_transfer', 'dom_diff_glob_freq_card2card_transfer', 'dom_diff_glob_freq_chat', 'dom_diff_glob_freq_card_recharge', 'dom_diff_glob_freq_invest', 'dow_diff_glob_freq_main_screen', 'dow_diff_glob_freq_statement', 'dow_diff_glob_freq_credit_info', 'dow_diff_glob_freq_own_transfer', 'dow_diff_glob_freq_mobile_recharge', 'dow_diff_glob_freq_phone_money_transfer', 'dow_diff_glob_freq_card2card_transfer', 'dow_diff_glob_freq_chat', 'dow_diff_glob_freq_card_recharge', 'dow_diff_glob_freq_invest', 'hour_diff_glob_freq_main_screen', 'hour_diff_glob_freq_statement', 'hour_diff_glob_freq_credit_info', 'hour_diff_glob_freq_own_transfer', 'hour_diff_glob_freq_mobile_recharge', 'hour_diff_glob_freq_phone_money_transfer', 'hour_diff_glob_freq_card2card_transfer', 'hour_diff_glob_freq_chat', 'hour_diff_glob_freq_card_recharge', 'hour_diff_glob_freq_invest', 'tod_diff_glob_freq_main_screen', 'tod_diff_glob_freq_statement', 'tod_diff_glob_freq_credit_info', 'tod_diff_glob_freq_own_transfer', 'tod_diff_glob_freq_mobile_recharge', 'tod_diff_glob_freq_phone_money_transfer', 'tod_diff_glob_freq_card2card_transfer', 'tod_diff_glob_freq_chat', 'tod_diff_glob_freq_card_recharge', 'tod_diff_glob_freq_invest']\n"
     ]
    }
   ],
   "source": [
    "using_features = []\n",
    "using_features.extend(client_freq_features)\n",
    "using_features.extend(dom_diff_freq_features)\n",
    "using_features.extend(dow_diff_freq_features)\n",
    "using_features.extend(hour_diff_freq_features)\n",
    "using_features.extend(tod_diff_freq_features)\n",
    "\n",
    "print(len(using_features), using_features)"
   ]
  },
  {
   "cell_type": "code",
   "execution_count": null,
   "metadata": {},
   "outputs": [],
   "source": []
  },
  {
   "cell_type": "markdown",
   "metadata": {},
   "source": [
    "## check classifiers with check time of work"
   ]
  },
  {
   "cell_type": "raw",
   "metadata": {},
   "source": [
    "SGDClassifier\n",
    "MLPClassifier\n",
    "KNeighborsClassifier\n",
    "SVC\n",
    "RandomForestClassifier, AdaBoostClassifier\n",
    "GaussianNB"
   ]
  },
  {
   "cell_type": "code",
   "execution_count": null,
   "metadata": {},
   "outputs": [],
   "source": []
  },
  {
   "cell_type": "code",
   "execution_count": null,
   "metadata": {},
   "outputs": [],
   "source": [
    "#clf_sgd_log   = SGDClassifier(loss = 'log', class_weight='balanced', n_jobs=-1)\n",
    "\n",
    "#clf_knn  = KNeighborsClassifier()\n",
    "#clf_svc  = SVC()\n",
    "clf_gaus = GaussianNB()"
   ]
  },
  {
   "cell_type": "code",
   "execution_count": 47,
   "metadata": {},
   "outputs": [
    {
     "name": "stdout",
     "output_type": "stream",
     "text": [
      "{'main_screen', 'invest', 'card2card_transfer', 'card_recharge', 'chat', 'statement', 'credit_info', 'mobile_recharge', 'phone_money_transfer', 'own_transfer'}\n",
      "0.5868694385982964\n",
      "CPU times: user 1min 33s, sys: 4.09 s, total: 1min 37s\n",
      "Wall time: 47.3 s\n"
     ]
    }
   ],
   "source": [
    "%%time\n",
    "#clf_sgd_hinge = SGDClassifier(loss = 'hinge', class_weight='balanced', n_jobs=-1)\n",
    "clf_sgd_hinge = SGDClassifier(loss = 'hinge', n_jobs=-1)\n",
    "clf_sgd_hinge.fit(X_train[using_features], y_train)\n",
    "pred_sgd_hinge = clf_sgd_hinge.predict(X_val[using_features])\n",
    "print(len(set(pred_sgd_hinge)), set(pred_sgd_hinge))\n",
    "print(f1_score(y_val, pred_sgd_hinge, average  = 'micro'))"
   ]
  },
  {
   "cell_type": "code",
   "execution_count": null,
   "metadata": {},
   "outputs": [],
   "source": [
    "%%time\n",
    "#clf_sgd_perc  = SGDClassifier(loss = 'perceptron', class_weight='balanced', n_jobs=-1)\n",
    "clf_sgd_perc  = SGDClassifier(loss = 'perceptron', n_jobs=-1)\n",
    "clf_sgd_perc.fit(X_train[using_features], y_train)\n",
    "pred_sgd_perc = clf_sgd_perc.predict(X_val[using_features])\n",
    "print(len(set(pred_sgd_perc)), set(pred_sgd_perc))\n",
    "print(f1_score(y_val, pred_sgd_perc, average  = 'micro'))"
   ]
  },
  {
   "cell_type": "code",
   "execution_count": null,
   "metadata": {},
   "outputs": [],
   "source": [
    "%%time\n",
    "# 9 min\n",
    "\n",
    "clf_mlp  = MLPClassifier((200, 50), learning_rate = 'adaptive', activation='logistic', verbose = True)\n",
    "clf_mlp.fit(X_train[using_features], y_train)\n",
    "pred_mlp = clf_mlp.predict(X_val[using_features])\n",
    "print(set(pred_mlp))\n",
    "print(f1_score(y_val, pred_mlp, average  = 'micro'))"
   ]
  },
  {
   "cell_type": "code",
   "execution_count": null,
   "metadata": {},
   "outputs": [],
   "source": [
    "%%time\n",
    "# TOOO LONG\n",
    "\n",
    "#clf_knn.fit(X_train[using_features], y_train)\n",
    "#pred_knn = clf_knn.predict(X_val[using_features])\n",
    "#print(set(pred_knn))\n",
    "#print(f1_score(y_val, pred_knn, average  = 'micro'))"
   ]
  },
  {
   "cell_type": "code",
   "execution_count": null,
   "metadata": {},
   "outputs": [],
   "source": [
    "%%time\n",
    "# TOOO LONG\n",
    "\n",
    "#clf_svc.fit(X_train[using_features], y_train)\n",
    "#pred_svc = clf_svc.predict(X_val[using_features])\n",
    "#print(set(pred_svc))\n",
    "#print(f1_score(y_val, pred_svc, average  = 'micro'))"
   ]
  },
  {
   "cell_type": "code",
   "execution_count": null,
   "metadata": {},
   "outputs": [],
   "source": [
    "%%time\n",
    "# 24 min\n",
    "\n",
    "clf_rf   = RandomForestClassifier(n_jobs = -1, verbose = 1) \n",
    "clf_rf.fit(X_train[using_features], y_train)\n",
    "pred_rf = clf_rf.predict(X_val[using_features])\n",
    "print(set(pred_rf))\n",
    "print(f1_score(y_val, pred_rf, average  = 'micro'))"
   ]
  },
  {
   "cell_type": "code",
   "execution_count": null,
   "metadata": {},
   "outputs": [],
   "source": [
    "%%time\n",
    "clf_gaus.fit(X_train[using_features], y_train)\n",
    "pred_gaus = clf_gaus.predict(X_val[using_features])\n",
    "print(set(pred_gaus))\n",
    "print(f1_score(y_val, pred_gaus, average  = 'micro'))"
   ]
  },
  {
   "cell_type": "code",
   "execution_count": 51,
   "metadata": {},
   "outputs": [
    {
     "name": "stdout",
     "output_type": "stream",
     "text": [
      "{'main_screen', 'invest', 'card2card_transfer', 'card_recharge', 'chat', 'statement', 'credit_info', 'mobile_recharge', 'phone_money_transfer', 'own_transfer'}\n",
      "0.5780519584629025\n",
      "CPU times: user 1h 56min 44s, sys: 42.1 s, total: 1h 57min 26s\n",
      "Wall time: 2h 47s\n"
     ]
    }
   ],
   "source": [
    "%%time\n",
    "\n",
    "\n",
    "adaboost_inp_clf = DecisionTreeClassifier()\n",
    "clf_ab   = AdaBoostClassifier(adaboost_inp_clf)\n",
    "clf_ab.fit(X_train[using_features], y_train)\n",
    "pred_ab = clf_ab.predict(X_val[using_features])\n",
    "print(len(set(pred_ab)), set(pred_ab))\n",
    "print(f1_score(y_val, pred_ab, average  = 'micro'))"
   ]
  },
  {
   "cell_type": "code",
   "execution_count": 55,
   "metadata": {},
   "outputs": [
    {
     "name": "stderr",
     "output_type": "stream",
     "text": [
      "/home/voloch/Anaconda3/lib/python3.7/site-packages/sklearn/linear_model/logistic.py:432: FutureWarning: Default solver will be changed to 'lbfgs' in 0.22. Specify a solver to silence this warning.\n",
      "  FutureWarning)\n",
      "/home/voloch/Anaconda3/lib/python3.7/site-packages/sklearn/linear_model/logistic.py:469: FutureWarning: Default multi_class will be changed to 'auto' in 0.22. Specify the multi_class option to silence this warning.\n",
      "  \"this warning.\", FutureWarning)\n",
      "/home/voloch/Anaconda3/lib/python3.7/site-packages/sklearn/linear_model/logistic.py:1544: UserWarning: 'n_jobs' > 1 does not have any effect when 'solver' is set to 'liblinear'. Got 'n_jobs' = 4.\n",
      "  \" = {}.\".format(effective_n_jobs(self.n_jobs)))\n"
     ]
    },
    {
     "name": "stdout",
     "output_type": "stream",
     "text": [
      "[LibLinear]{'main_screen', 'invest', 'card2card_transfer', 'card_recharge', 'chat', 'statement', 'credit_info', 'mobile_recharge', 'phone_money_transfer', 'own_transfer'}\n",
      "0.5946699083374513\n",
      "CPU times: user 10min 33s, sys: 11.6 s, total: 10min 45s\n",
      "Wall time: 11min 26s\n"
     ]
    }
   ],
   "source": [
    "%%time\n",
    "\n",
    "clf_lr = LogisticRegression(n_jobs = -1, verbose = 1)\n",
    "clf_lr.fit(X_train[using_features], y_train)\n",
    "pred_lr = clf_lr.predict(X_val[using_features])\n",
    "print(len(set(pred_lr)), set(pred_lr))\n",
    "print(f1_score(y_val, pred_lr, average  = 'micro'))"
   ]
  },
  {
   "cell_type": "code",
   "execution_count": 64,
   "metadata": {},
   "outputs": [
    {
     "name": "stdout",
     "output_type": "stream",
     "text": [
      "10 {'main_screen', 'invest', 'card2card_transfer', 'card_recharge', 'chat', 'statement', 'credit_info', 'mobile_recharge', 'phone_money_transfer', 'own_transfer'}\n"
     ]
    }
   ],
   "source": [
    "print(len(set(pred_lr)), set(pred_lr))"
   ]
  },
  {
   "cell_type": "code",
   "execution_count": 57,
   "metadata": {},
   "outputs": [
    {
     "name": "stdout",
     "output_type": "stream",
     "text": [
      "{'main_screen', 'invest', 'card2card_transfer', 'card_recharge', 'chat', 'statement', 'credit_info', 'mobile_recharge', 'phone_money_transfer', 'own_transfer'}\n",
      "0.5954105312024772\n",
      "CPU times: user 10min 39s, sys: 3.54 s, total: 10min 43s\n",
      "Wall time: 11min 3s\n"
     ]
    }
   ],
   "source": [
    "%%time\n",
    "\n",
    "clf_lrsvc = LinearSVC() # loss = ‘hinge’\n",
    "clf_lrsvc.fit(X_train[using_features], y_train)\n",
    "pred_lrsvc = clf_lrsvc.predict(X_val[using_features])\n",
    "print(len(set(pred_lrsvc)), set(pred_lrsvc))\n",
    "print(f1_score(y_val, pred_lrsvc, average  = 'micro'))"
   ]
  },
  {
   "cell_type": "code",
   "execution_count": 60,
   "metadata": {},
   "outputs": [
    {
     "name": "stderr",
     "output_type": "stream",
     "text": [
      "/home/voloch/Anaconda3/lib/python3.7/site-packages/sklearn/svm/base.py:929: ConvergenceWarning: Liblinear failed to converge, increase the number of iterations.\n",
      "  \"the number of iterations.\", ConvergenceWarning)\n"
     ]
    },
    {
     "name": "stdout",
     "output_type": "stream",
     "text": [
      "{'main_screen', 'invest', 'card2card_transfer', 'card_recharge', 'chat', 'statement', 'credit_info', 'mobile_recharge', 'phone_money_transfer', 'own_transfer'}\n",
      "0.5753664527754214\n",
      "CPU times: user 11min 34s, sys: 7.3 s, total: 11min 41s\n",
      "Wall time: 13min 44s\n"
     ]
    }
   ],
   "source": [
    "%%time\n",
    "\n",
    "clf_lrsvc_hinge = LinearSVC( loss = 'hinge')\n",
    "clf_lrsvc_hinge.fit(X_train[using_features], y_train)\n",
    "pred_lrsvc_hinge = clf_lrsvc_hinge.predict(X_val[using_features])\n",
    "print(len(set(pred_lrsvc_hinge)), set(pred_lrsvc_hinge))\n",
    "print(f1_score(y_val, pred_lrsvc_hinge, average  = 'micro'))"
   ]
  },
  {
   "cell_type": "code",
   "execution_count": null,
   "metadata": {},
   "outputs": [],
   "source": []
  },
  {
   "cell_type": "code",
   "execution_count": null,
   "metadata": {},
   "outputs": [],
   "source": [
    "%%time\n",
    "clf_cb = CatBoostClassifier()\n",
    "clf_cb.fit(X_train[using_features], y_train)\n",
    "pred_cb = clf_cb.predict(X_val[using_features])\n",
    "#print(set(pred_cb))\n",
    "print(f1_score(y_val, pred_cb, average  = 'micro'))"
   ]
  },
  {
   "cell_type": "code",
   "execution_count": null,
   "metadata": {},
   "outputs": [],
   "source": []
  },
  {
   "cell_type": "code",
   "execution_count": null,
   "metadata": {},
   "outputs": [],
   "source": [
    "pred_list = [pred_sgd, pred_mlp, pred_knn, pred_svc, pred_rf, pred_ab, pred_gaus, pred_cb]"
   ]
  },
  {
   "cell_type": "code",
   "execution_count": null,
   "metadata": {},
   "outputs": [],
   "source": [
    "#for el in itertools.permutations(pred_list):\n",
    "#    pred_all = []\n",
    "#    pred_all = []"
   ]
  },
  {
   "cell_type": "code",
   "execution_count": null,
   "metadata": {},
   "outputs": [],
   "source": [
    "def set_pred(idx):\n",
    "    \n",
    "    return Counter( \\\n",
    "                   pred_sgd[idx], \\\n",
    "                   pred_mlp[idx], \\\n",
    "                   pred_knn[idx], \\\n",
    "                   pred_svc[idx], \\\n",
    "                   pred_rf[idx], \\\n",
    "                   pred_ab[idx], \\\n",
    "                   pred_gaus[idx], \\\n",
    "                   pred_cb[idx], \\\n",
    "                  ).most_common()[0][0]"
   ]
  },
  {
   "cell_type": "code",
   "execution_count": null,
   "metadata": {},
   "outputs": [],
   "source": [
    "pred_all = [set_pred(el) for el in range(len(y_val))]\n",
    "print(f1_score(y_val, pred_all, average  = 'micro'))"
   ]
  },
  {
   "cell_type": "code",
   "execution_count": null,
   "metadata": {},
   "outputs": [],
   "source": []
  },
  {
   "cell_type": "code",
   "execution_count": null,
   "metadata": {},
   "outputs": [],
   "source": []
  },
  {
   "cell_type": "code",
   "execution_count": null,
   "metadata": {},
   "outputs": [],
   "source": []
  },
  {
   "cell_type": "markdown",
   "metadata": {},
   "source": [
    "## classifiers GridSearch"
   ]
  },
  {
   "cell_type": "code",
   "execution_count": null,
   "metadata": {},
   "outputs": [],
   "source": []
  },
  {
   "cell_type": "code",
   "execution_count": null,
   "metadata": {},
   "outputs": [],
   "source": []
  },
  {
   "cell_type": "code",
   "execution_count": null,
   "metadata": {},
   "outputs": [],
   "source": []
  },
  {
   "cell_type": "code",
   "execution_count": null,
   "metadata": {},
   "outputs": [],
   "source": []
  },
  {
   "cell_type": "markdown",
   "metadata": {},
   "source": [
    "## study best models on full data"
   ]
  },
  {
   "cell_type": "code",
   "execution_count": null,
   "metadata": {},
   "outputs": [],
   "source": [
    "clf_sgd = SGDClassifier(loss = 'hinge', n_jobs=-1)\n",
    "#clf_sgd_log   = SGDClassifier(loss = 'log', n_jobs=-1)\n",
    "#clf_sgd  = SGDClassifier(loss = 'perceptron', n_jobs=-1)\n",
    "\n",
    "clf_mlp  = MLPClassifier()\n",
    "#clf_knn  = KNeighborsClassifier()\n",
    "clf_svc  = SVC()\n",
    "clf_rf   = RandomForestClassifier() \n",
    "clf_ab   = AdaBoostClassifier()\n",
    "clf_gaus = GaussianNB()"
   ]
  },
  {
   "cell_type": "code",
   "execution_count": null,
   "metadata": {},
   "outputs": [],
   "source": [
    "%%time\n",
    "clf_sgd.fit(data[using_features], target)"
   ]
  },
  {
   "cell_type": "markdown",
   "metadata": {},
   "source": [
    "## save models"
   ]
  },
  {
   "cell_type": "code",
   "execution_count": 68,
   "metadata": {},
   "outputs": [
    {
     "name": "stdout",
     "output_type": "stream",
     "text": [
      "CPU times: user 976 µs, sys: 9 µs, total: 985 µs\n",
      "Wall time: 3 ms\n"
     ]
    }
   ],
   "source": [
    "%%time\n",
    "#pickle.dump(clf_sgd, open(os.path.join(MODELS, 'clf_sgd.pkl'), 'wb'))\n",
    "#pickle.dump(clf_mlp, open(os.path.join(MODELS, 'clf_mlp.pkl'), 'wb'))\n",
    "#pickle.dump(clf_knn, open(os.path.join(MODELS, 'clf_knn.pkl'), 'wb'))\n",
    "#pickle.dump(clf_lr, open(os.path.join(MODELS, 'clf_lr.pkl'), 'wb'))\n",
    "pickle.dump(clf_lrsvc, open(os.path.join(MODELS, 'clf_lrsvc.pkl'), 'wb'))\n",
    "#pickle.dump(clf_svc, open(os.path.join(MODELS, 'clf_svc.pkl'), 'wb'))\n",
    "#pickle.dump(clf_rf,  open(os.path.join(MODELS, 'clf_rf.pkl'),  'wb'))\n",
    "#pickle.dump(clf_ab,  open(os.path.join(MODELS, 'clf_ab.pkl'),  'wb'))\n",
    "#pickle.dump(clf_gaus,open(os.path.join(MODELS, 'clf_gaus.pkl'),'wb'))\n",
    "            \n",
    "#clf_cb.save_model(os.path.join(MODELS, 'clf_cb.cbm'), format='cbm')"
   ]
  },
  {
   "cell_type": "code",
   "execution_count": null,
   "metadata": {},
   "outputs": [],
   "source": []
  }
 ],
 "metadata": {
  "kernelspec": {
   "display_name": "Python 3",
   "language": "python",
   "name": "python3"
  },
  "language_info": {
   "codemirror_mode": {
    "name": "ipython",
    "version": 3
   },
   "file_extension": ".py",
   "mimetype": "text/x-python",
   "name": "python",
   "nbconvert_exporter": "python",
   "pygments_lexer": "ipython3",
   "version": "3.7.4"
  }
 },
 "nbformat": 4,
 "nbformat_minor": 4
}
