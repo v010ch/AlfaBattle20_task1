{
 "cells": [
  {
   "cell_type": "code",
   "execution_count": 1,
   "metadata": {},
   "outputs": [
    {
     "name": "stderr",
     "output_type": "stream",
     "text": [
      "C:\\Users\\_v010ch_\\Anaconda3\\lib\\site-packages\\tqdm\\std.py:697: FutureWarning: The Panel class is removed from pandas. Accessing it from the top-level namespace will also be removed in the next version\n",
      "  from pandas import Panel\n"
     ]
    }
   ],
   "source": [
    "import os\n",
    "from glob import glob\n",
    "import pandas as pd\n",
    "import numpy as np\n",
    "import itertools\n",
    "from collections import Counter\n",
    "\n",
    "\n",
    "import pickle\n",
    "import gc\n",
    "\n",
    "from tqdm import tqdm\n",
    "tqdm.pandas()"
   ]
  },
  {
   "cell_type": "code",
   "execution_count": 2,
   "metadata": {},
   "outputs": [],
   "source": [
    "from sklearn.preprocessing import LabelBinarizer, OneHotEncoder"
   ]
  },
  {
   "cell_type": "code",
   "execution_count": null,
   "metadata": {},
   "outputs": [],
   "source": []
  },
  {
   "cell_type": "code",
   "execution_count": 3,
   "metadata": {},
   "outputs": [],
   "source": [
    "DATA = './data'\n",
    "DATA_OWN = './data_own'\n",
    "CLICKSTREAM = 'alfabattle2_abattle_clickstream'\n",
    "MODELS = './models'\n",
    "UTILS = './utils'"
   ]
  },
  {
   "cell_type": "code",
   "execution_count": null,
   "metadata": {},
   "outputs": [],
   "source": []
  },
  {
   "cell_type": "markdown",
   "metadata": {},
   "source": [
    "## prepare data, test / training sets"
   ]
  },
  {
   "cell_type": "code",
   "execution_count": 4,
   "metadata": {},
   "outputs": [
    {
     "data": {
      "text/html": [
       "<div>\n",
       "<style scoped>\n",
       "    .dataframe tbody tr th:only-of-type {\n",
       "        vertical-align: middle;\n",
       "    }\n",
       "\n",
       "    .dataframe tbody tr th {\n",
       "        vertical-align: top;\n",
       "    }\n",
       "\n",
       "    .dataframe thead th {\n",
       "        text-align: right;\n",
       "    }\n",
       "</style>\n",
       "<table border=\"1\" class=\"dataframe\">\n",
       "  <thead>\n",
       "    <tr style=\"text-align: right;\">\n",
       "      <th></th>\n",
       "      <th>session_id</th>\n",
       "      <th>client_pin</th>\n",
       "      <th>timestamp</th>\n",
       "      <th>multi_class_target</th>\n",
       "    </tr>\n",
       "  </thead>\n",
       "  <tbody>\n",
       "    <tr>\n",
       "      <th>0</th>\n",
       "      <td>0000029e72e5fcde6a9f29c3a3ed198f</td>\n",
       "      <td>7cf9221322a0e2fdefb1b998b8f2ab29</td>\n",
       "      <td>2020-06-15 14:01:12</td>\n",
       "      <td>main_screen</td>\n",
       "    </tr>\n",
       "    <tr>\n",
       "      <th>1</th>\n",
       "      <td>00063dffa47b0fe5556b2b9e8beddb6a</td>\n",
       "      <td>5f16c0ab27a806fd08db3122921adf3a</td>\n",
       "      <td>2020-03-21 12:59:34</td>\n",
       "      <td>invest</td>\n",
       "    </tr>\n",
       "    <tr>\n",
       "      <th>2</th>\n",
       "      <td>0007857f36d268ec46fcb7305538a1c7</td>\n",
       "      <td>ec868fc2b388293cf10e18ee9518d72f</td>\n",
       "      <td>2020-01-24 18:18:55</td>\n",
       "      <td>statement</td>\n",
       "    </tr>\n",
       "    <tr>\n",
       "      <th>3</th>\n",
       "      <td>000a7f25fc3609cdfda54c5f059aab00</td>\n",
       "      <td>91f55a33d7502c1a1fa5da7ff2f7b648</td>\n",
       "      <td>2020-03-15 19:50:23</td>\n",
       "      <td>main_screen</td>\n",
       "    </tr>\n",
       "    <tr>\n",
       "      <th>4</th>\n",
       "      <td>000b746d6616669663feaa1474ac97f1</td>\n",
       "      <td>3ef1020bda95ce7836d2680fa553ecb7</td>\n",
       "      <td>2020-02-20 07:56:58</td>\n",
       "      <td>main_screen</td>\n",
       "    </tr>\n",
       "  </tbody>\n",
       "</table>\n",
       "</div>"
      ],
      "text/plain": [
       "                         session_id                        client_pin  \\\n",
       "0  0000029e72e5fcde6a9f29c3a3ed198f  7cf9221322a0e2fdefb1b998b8f2ab29   \n",
       "1  00063dffa47b0fe5556b2b9e8beddb6a  5f16c0ab27a806fd08db3122921adf3a   \n",
       "2  0007857f36d268ec46fcb7305538a1c7  ec868fc2b388293cf10e18ee9518d72f   \n",
       "3  000a7f25fc3609cdfda54c5f059aab00  91f55a33d7502c1a1fa5da7ff2f7b648   \n",
       "4  000b746d6616669663feaa1474ac97f1  3ef1020bda95ce7836d2680fa553ecb7   \n",
       "\n",
       "            timestamp multi_class_target  \n",
       "0 2020-06-15 14:01:12        main_screen  \n",
       "1 2020-03-21 12:59:34             invest  \n",
       "2 2020-01-24 18:18:55          statement  \n",
       "3 2020-03-15 19:50:23        main_screen  \n",
       "4 2020-02-20 07:56:58        main_screen  "
      ]
     },
     "execution_count": 4,
     "metadata": {},
     "output_type": "execute_result"
    }
   ],
   "source": [
    "data = pd.read_csv(os.path.join(DATA, 'alfabattle2_abattle_train_target.csv'), parse_dates=['timestamp'])\n",
    "data.head()"
   ]
  },
  {
   "cell_type": "code",
   "execution_count": 5,
   "metadata": {},
   "outputs": [],
   "source": [
    "def get_time_of_day(inp_hour):\n",
    "    if (inp_hour >= 12) and (inp_hour < 18):\n",
    "        return 'day'\n",
    "    elif (inp_hour >= 6) and (inp_hour < 12):\n",
    "        return 'morning'\n",
    "    elif (inp_hour >= 18) and (inp_hour <= 23):\n",
    "        return 'evening'\n",
    "    else:\n",
    "        return 'night'"
   ]
  },
  {
   "cell_type": "code",
   "execution_count": 6,
   "metadata": {},
   "outputs": [
    {
     "name": "stdout",
     "output_type": "stream",
     "text": [
      "Wall time: 49.6 s\n"
     ]
    },
    {
     "data": {
      "text/html": [
       "<div>\n",
       "<style scoped>\n",
       "    .dataframe tbody tr th:only-of-type {\n",
       "        vertical-align: middle;\n",
       "    }\n",
       "\n",
       "    .dataframe tbody tr th {\n",
       "        vertical-align: top;\n",
       "    }\n",
       "\n",
       "    .dataframe thead th {\n",
       "        text-align: right;\n",
       "    }\n",
       "</style>\n",
       "<table border=\"1\" class=\"dataframe\">\n",
       "  <thead>\n",
       "    <tr style=\"text-align: right;\">\n",
       "      <th></th>\n",
       "      <th>session_id</th>\n",
       "      <th>client_pin</th>\n",
       "      <th>timestamp</th>\n",
       "      <th>multi_class_target</th>\n",
       "      <th>dom</th>\n",
       "      <th>dow</th>\n",
       "      <th>hour</th>\n",
       "      <th>tod</th>\n",
       "    </tr>\n",
       "  </thead>\n",
       "  <tbody>\n",
       "    <tr>\n",
       "      <th>0</th>\n",
       "      <td>0000029e72e5fcde6a9f29c3a3ed198f</td>\n",
       "      <td>7cf9221322a0e2fdefb1b998b8f2ab29</td>\n",
       "      <td>2020-06-15 14:01:12</td>\n",
       "      <td>main_screen</td>\n",
       "      <td>15</td>\n",
       "      <td>0</td>\n",
       "      <td>14</td>\n",
       "      <td>day</td>\n",
       "    </tr>\n",
       "    <tr>\n",
       "      <th>1</th>\n",
       "      <td>00063dffa47b0fe5556b2b9e8beddb6a</td>\n",
       "      <td>5f16c0ab27a806fd08db3122921adf3a</td>\n",
       "      <td>2020-03-21 12:59:34</td>\n",
       "      <td>invest</td>\n",
       "      <td>21</td>\n",
       "      <td>5</td>\n",
       "      <td>12</td>\n",
       "      <td>day</td>\n",
       "    </tr>\n",
       "    <tr>\n",
       "      <th>2</th>\n",
       "      <td>0007857f36d268ec46fcb7305538a1c7</td>\n",
       "      <td>ec868fc2b388293cf10e18ee9518d72f</td>\n",
       "      <td>2020-01-24 18:18:55</td>\n",
       "      <td>statement</td>\n",
       "      <td>24</td>\n",
       "      <td>4</td>\n",
       "      <td>18</td>\n",
       "      <td>evening</td>\n",
       "    </tr>\n",
       "    <tr>\n",
       "      <th>3</th>\n",
       "      <td>000a7f25fc3609cdfda54c5f059aab00</td>\n",
       "      <td>91f55a33d7502c1a1fa5da7ff2f7b648</td>\n",
       "      <td>2020-03-15 19:50:23</td>\n",
       "      <td>main_screen</td>\n",
       "      <td>15</td>\n",
       "      <td>6</td>\n",
       "      <td>19</td>\n",
       "      <td>evening</td>\n",
       "    </tr>\n",
       "    <tr>\n",
       "      <th>4</th>\n",
       "      <td>000b746d6616669663feaa1474ac97f1</td>\n",
       "      <td>3ef1020bda95ce7836d2680fa553ecb7</td>\n",
       "      <td>2020-02-20 07:56:58</td>\n",
       "      <td>main_screen</td>\n",
       "      <td>20</td>\n",
       "      <td>3</td>\n",
       "      <td>7</td>\n",
       "      <td>morning</td>\n",
       "    </tr>\n",
       "  </tbody>\n",
       "</table>\n",
       "</div>"
      ],
      "text/plain": [
       "                         session_id                        client_pin  \\\n",
       "0  0000029e72e5fcde6a9f29c3a3ed198f  7cf9221322a0e2fdefb1b998b8f2ab29   \n",
       "1  00063dffa47b0fe5556b2b9e8beddb6a  5f16c0ab27a806fd08db3122921adf3a   \n",
       "2  0007857f36d268ec46fcb7305538a1c7  ec868fc2b388293cf10e18ee9518d72f   \n",
       "3  000a7f25fc3609cdfda54c5f059aab00  91f55a33d7502c1a1fa5da7ff2f7b648   \n",
       "4  000b746d6616669663feaa1474ac97f1  3ef1020bda95ce7836d2680fa553ecb7   \n",
       "\n",
       "            timestamp multi_class_target  dom  dow  hour      tod  \n",
       "0 2020-06-15 14:01:12        main_screen   15    0    14      day  \n",
       "1 2020-03-21 12:59:34             invest   21    5    12      day  \n",
       "2 2020-01-24 18:18:55          statement   24    4    18  evening  \n",
       "3 2020-03-15 19:50:23        main_screen   15    6    19  evening  \n",
       "4 2020-02-20 07:56:58        main_screen   20    3     7  morning  "
      ]
     },
     "execution_count": 6,
     "metadata": {},
     "output_type": "execute_result"
    }
   ],
   "source": [
    "%%time\n",
    "data['dom']  = data.timestamp.apply(lambda x: x.day)\n",
    "data['dow']  = data.timestamp.apply(lambda x: x.weekday())\n",
    "data['hour'] = data.timestamp.apply(lambda x: x.hour)\n",
    "data['tod']  = data.hour.apply(get_time_of_day)\n",
    "\n",
    "data.head()"
   ]
  },
  {
   "cell_type": "code",
   "execution_count": 7,
   "metadata": {},
   "outputs": [
    {
     "data": {
      "text/plain": [
       "Index(['dom', 'dow', 'hour', 'tod'], dtype='object')"
      ]
     },
     "execution_count": 7,
     "metadata": {},
     "output_type": "execute_result"
    }
   ],
   "source": [
    "data.keys()[4:]"
   ]
  },
  {
   "cell_type": "code",
   "execution_count": 8,
   "metadata": {},
   "outputs": [],
   "source": [
    "#target = data['multi_class_target']"
   ]
  },
  {
   "cell_type": "code",
   "execution_count": 9,
   "metadata": {},
   "outputs": [],
   "source": [
    "#lb_dom  = LabelBinarizer().fit(data['dom'])\n",
    "#lb_dow  = LabelBinarizer().fit(data['dow'])\n",
    "#lb_hour = LabelBinarizer().fit(data['hour'])\n",
    "#lb_tod  = LabelBinarizer().fit(data['tod'])"
   ]
  },
  {
   "cell_type": "code",
   "execution_count": 10,
   "metadata": {},
   "outputs": [],
   "source": [
    "#dom_features  = ['dom_'  + str(el) for el in lb_dom.classes_]\n",
    "#dow_features  = ['dow_'  + str(el) for el in lb_dow.classes_]\n",
    "#hour_features = ['hour_' + str(el) for el in lb_hour.classes_]\n",
    "#tod_features  = ['tod_'  + str(el) for el in lb_tod.classes_]"
   ]
  },
  {
   "cell_type": "code",
   "execution_count": 11,
   "metadata": {},
   "outputs": [],
   "source": [
    "#%%time\n",
    "#dom_prep  = lb_dom.transform(data['dom'])\n",
    "#dow_prep  = lb_dow.transform(data['dow'])\n",
    "#hour_prep = lb_hour.transform(data['hour'])\n",
    "#tod_prep =  lb_tod.transform(data['tod'])\n",
    "\n",
    "#dom_prep.shape, dow_prep.shape, hour_prep.shape, tod_prep.shape"
   ]
  },
  {
   "cell_type": "markdown",
   "metadata": {},
   "source": [
    "saving LabelBinarizer for using in prepare to submit part"
   ]
  },
  {
   "cell_type": "code",
   "execution_count": 12,
   "metadata": {},
   "outputs": [],
   "source": [
    "#pickle.dump(lb_dom,  open((os.path.join(UTILS, 'lb_dom.pkl')),  'wb'))\n",
    "#pickle.dump(lb_dow,  open((os.path.join(UTILS, 'lb_dow.pkl')),  'wb'))\n",
    "#pickle.dump(lb_hour, open((os.path.join(UTILS, 'lb_hour.pkl')), 'wb'))\n",
    "#pickle.dump(lb_tod,  open((os.path.join(UTILS, 'lb_tod.pkl')),  'wb'))"
   ]
  },
  {
   "cell_type": "code",
   "execution_count": null,
   "metadata": {},
   "outputs": [],
   "source": []
  },
  {
   "cell_type": "raw",
   "metadata": {},
   "source": [
    "%%time\n",
    "data = data.join(pd.DataFrame(dom_prep,  columns = dom_features), how='inner')\n",
    "data = data.join(pd.DataFrame(dow_prep,  columns = dow_features), how='inner')\n",
    "data = data.join(pd.DataFrame(hour_prep, columns = hour_features), how='inner')\n",
    "data = data.join(pd.DataFrame(tod_prep,  columns = tod_features), how='inner')"
   ]
  },
  {
   "cell_type": "code",
   "execution_count": null,
   "metadata": {},
   "outputs": [],
   "source": []
  },
  {
   "cell_type": "markdown",
   "metadata": {},
   "source": [
    "## merge current data with client statistics"
   ]
  },
  {
   "cell_type": "code",
   "execution_count": 13,
   "metadata": {},
   "outputs": [
    {
     "name": "stdout",
     "output_type": "stream",
     "text": [
      "Wall time: 1.28 s\n"
     ]
    }
   ],
   "source": [
    "%%time \n",
    "client_freq_targ = pd.read_csv(os.path.join(DATA_OWN, 'client_freq.csv'))\n",
    "client_diff_freq_dow = pd.read_csv(os.path.join(DATA_OWN, 'client_diff_freq_dow.csv'))\n",
    "client_diff_freq_tod = pd.read_csv(os.path.join(DATA_OWN, 'client_diff_freq_tod.csv'))"
   ]
  },
  {
   "cell_type": "code",
   "execution_count": 14,
   "metadata": {},
   "outputs": [
    {
     "data": {
      "text/plain": [
       "(Index(['client_pin', 'dow', 'dow_diff_client_freq_main_screen',\n",
       "        'dow_diff_client_freq_statement', 'dow_diff_client_freq_credit_info',\n",
       "        'dow_diff_client_freq_own_transfer',\n",
       "        'dow_diff_client_freq_mobile_recharge',\n",
       "        'dow_diff_client_freq_phone_money_transfer',\n",
       "        'dow_diff_client_freq_card2card_transfer', 'dow_diff_client_freq_chat',\n",
       "        'dow_diff_client_freq_card_recharge', 'dow_diff_client_freq_invest'],\n",
       "       dtype='object'),\n",
       " Index(['client_pin', 'tod', 'tod_diff_client_freq_main_screen',\n",
       "        'tod_diff_client_freq_statement', 'tod_diff_client_freq_credit_info',\n",
       "        'tod_diff_client_freq_own_transfer',\n",
       "        'tod_diff_client_freq_mobile_recharge',\n",
       "        'tod_diff_client_freq_phone_money_transfer',\n",
       "        'tod_diff_client_freq_card2card_transfer', 'tod_diff_client_freq_chat',\n",
       "        'tod_diff_client_freq_card_recharge', 'tod_diff_client_freq_invest'],\n",
       "       dtype='object'))"
      ]
     },
     "execution_count": 14,
     "metadata": {},
     "output_type": "execute_result"
    }
   ],
   "source": [
    "col = ['client_pin', 'dow']\n",
    "col.extend(['dow_'+el for el in client_diff_freq_dow.keys()[2:]])\n",
    "client_diff_freq_dow.columns = col\n",
    "\n",
    "\n",
    "col = ['client_pin', 'tod']\n",
    "col.extend(['tod_'+el for el in client_diff_freq_tod.keys()[2:]])\n",
    "client_diff_freq_tod.columns = col\n",
    "client_diff_freq_dow.keys(), client_diff_freq_tod.keys()"
   ]
  },
  {
   "cell_type": "code",
   "execution_count": null,
   "metadata": {},
   "outputs": [],
   "source": []
  },
  {
   "cell_type": "code",
   "execution_count": 15,
   "metadata": {},
   "outputs": [],
   "source": [
    "data = data.merge(client_freq_targ, how= 'left', on='client_pin', validate='many_to_one')\n",
    "data.shape"
   ]
  },
  {
   "cell_type": "code",
   "execution_count": 16,
   "metadata": {},
   "outputs": [],
   "source": [
    "#client_freq_features = ['client_freq_main_screen', 'client_freq_statement',\n",
    "#       'client_freq_credit_info', 'client_freq_own_transfer',\n",
    "#       'client_freq_mobile_recharge', 'client_freq_phone_money_transfer',\n",
    "#       'client_freq_card2card_transfer', 'client_freq_chat',\n",
    "#       'client_freq_card_recharge', 'client_freq_invest']\n",
    "#client_freq_features = client_freq_targ.keys()[1:]"
   ]
  },
  {
   "cell_type": "code",
   "execution_count": 17,
   "metadata": {},
   "outputs": [
    {
     "data": {
      "text/html": [
       "<div>\n",
       "<style scoped>\n",
       "    .dataframe tbody tr th:only-of-type {\n",
       "        vertical-align: middle;\n",
       "    }\n",
       "\n",
       "    .dataframe tbody tr th {\n",
       "        vertical-align: top;\n",
       "    }\n",
       "\n",
       "    .dataframe thead th {\n",
       "        text-align: right;\n",
       "    }\n",
       "</style>\n",
       "<table border=\"1\" class=\"dataframe\">\n",
       "  <thead>\n",
       "    <tr style=\"text-align: right;\">\n",
       "      <th></th>\n",
       "      <th>session_id</th>\n",
       "      <th>client_pin</th>\n",
       "      <th>timestamp</th>\n",
       "      <th>multi_class_target</th>\n",
       "      <th>dom</th>\n",
       "      <th>dow</th>\n",
       "      <th>hour</th>\n",
       "      <th>tod</th>\n",
       "      <th>client_freq_main_screen</th>\n",
       "      <th>client_freq_statement</th>\n",
       "      <th>client_freq_credit_info</th>\n",
       "      <th>client_freq_own_transfer</th>\n",
       "      <th>client_freq_mobile_recharge</th>\n",
       "      <th>client_freq_phone_money_transfer</th>\n",
       "      <th>client_freq_card2card_transfer</th>\n",
       "      <th>client_freq_chat</th>\n",
       "      <th>client_freq_card_recharge</th>\n",
       "      <th>client_freq_invest</th>\n",
       "    </tr>\n",
       "  </thead>\n",
       "  <tbody>\n",
       "    <tr>\n",
       "      <th>0</th>\n",
       "      <td>0000029e72e5fcde6a9f29c3a3ed198f</td>\n",
       "      <td>7cf9221322a0e2fdefb1b998b8f2ab29</td>\n",
       "      <td>2020-06-15 14:01:12</td>\n",
       "      <td>main_screen</td>\n",
       "      <td>15</td>\n",
       "      <td>0</td>\n",
       "      <td>14</td>\n",
       "      <td>day</td>\n",
       "      <td>0.133333</td>\n",
       "      <td>0.380952</td>\n",
       "      <td>0.000000</td>\n",
       "      <td>0.000000</td>\n",
       "      <td>0.066667</td>\n",
       "      <td>0.142857</td>\n",
       "      <td>0.276190</td>\n",
       "      <td>0.000000</td>\n",
       "      <td>0.000000</td>\n",
       "      <td>0.000000</td>\n",
       "    </tr>\n",
       "    <tr>\n",
       "      <th>1</th>\n",
       "      <td>00063dffa47b0fe5556b2b9e8beddb6a</td>\n",
       "      <td>5f16c0ab27a806fd08db3122921adf3a</td>\n",
       "      <td>2020-03-21 12:59:34</td>\n",
       "      <td>invest</td>\n",
       "      <td>21</td>\n",
       "      <td>5</td>\n",
       "      <td>12</td>\n",
       "      <td>day</td>\n",
       "      <td>0.389706</td>\n",
       "      <td>0.573529</td>\n",
       "      <td>0.000000</td>\n",
       "      <td>0.007353</td>\n",
       "      <td>0.000000</td>\n",
       "      <td>0.000000</td>\n",
       "      <td>0.000000</td>\n",
       "      <td>0.022059</td>\n",
       "      <td>0.000000</td>\n",
       "      <td>0.007353</td>\n",
       "    </tr>\n",
       "    <tr>\n",
       "      <th>2</th>\n",
       "      <td>0007857f36d268ec46fcb7305538a1c7</td>\n",
       "      <td>ec868fc2b388293cf10e18ee9518d72f</td>\n",
       "      <td>2020-01-24 18:18:55</td>\n",
       "      <td>statement</td>\n",
       "      <td>24</td>\n",
       "      <td>4</td>\n",
       "      <td>18</td>\n",
       "      <td>evening</td>\n",
       "      <td>0.116279</td>\n",
       "      <td>0.465116</td>\n",
       "      <td>0.000000</td>\n",
       "      <td>0.046512</td>\n",
       "      <td>0.279070</td>\n",
       "      <td>0.069767</td>\n",
       "      <td>0.000000</td>\n",
       "      <td>0.023256</td>\n",
       "      <td>0.000000</td>\n",
       "      <td>0.000000</td>\n",
       "    </tr>\n",
       "    <tr>\n",
       "      <th>3</th>\n",
       "      <td>000a7f25fc3609cdfda54c5f059aab00</td>\n",
       "      <td>91f55a33d7502c1a1fa5da7ff2f7b648</td>\n",
       "      <td>2020-03-15 19:50:23</td>\n",
       "      <td>main_screen</td>\n",
       "      <td>15</td>\n",
       "      <td>6</td>\n",
       "      <td>19</td>\n",
       "      <td>evening</td>\n",
       "      <td>0.457831</td>\n",
       "      <td>0.449799</td>\n",
       "      <td>0.000000</td>\n",
       "      <td>0.004016</td>\n",
       "      <td>0.032129</td>\n",
       "      <td>0.008032</td>\n",
       "      <td>0.024096</td>\n",
       "      <td>0.012048</td>\n",
       "      <td>0.004016</td>\n",
       "      <td>0.008032</td>\n",
       "    </tr>\n",
       "    <tr>\n",
       "      <th>4</th>\n",
       "      <td>000b746d6616669663feaa1474ac97f1</td>\n",
       "      <td>3ef1020bda95ce7836d2680fa553ecb7</td>\n",
       "      <td>2020-02-20 07:56:58</td>\n",
       "      <td>main_screen</td>\n",
       "      <td>20</td>\n",
       "      <td>3</td>\n",
       "      <td>7</td>\n",
       "      <td>morning</td>\n",
       "      <td>0.600000</td>\n",
       "      <td>0.066667</td>\n",
       "      <td>0.266667</td>\n",
       "      <td>0.000000</td>\n",
       "      <td>0.000000</td>\n",
       "      <td>0.000000</td>\n",
       "      <td>0.000000</td>\n",
       "      <td>0.000000</td>\n",
       "      <td>0.066667</td>\n",
       "      <td>0.000000</td>\n",
       "    </tr>\n",
       "  </tbody>\n",
       "</table>\n",
       "</div>"
      ],
      "text/plain": [
       "                         session_id                        client_pin  \\\n",
       "0  0000029e72e5fcde6a9f29c3a3ed198f  7cf9221322a0e2fdefb1b998b8f2ab29   \n",
       "1  00063dffa47b0fe5556b2b9e8beddb6a  5f16c0ab27a806fd08db3122921adf3a   \n",
       "2  0007857f36d268ec46fcb7305538a1c7  ec868fc2b388293cf10e18ee9518d72f   \n",
       "3  000a7f25fc3609cdfda54c5f059aab00  91f55a33d7502c1a1fa5da7ff2f7b648   \n",
       "4  000b746d6616669663feaa1474ac97f1  3ef1020bda95ce7836d2680fa553ecb7   \n",
       "\n",
       "            timestamp multi_class_target  dom  dow  hour      tod  \\\n",
       "0 2020-06-15 14:01:12        main_screen   15    0    14      day   \n",
       "1 2020-03-21 12:59:34             invest   21    5    12      day   \n",
       "2 2020-01-24 18:18:55          statement   24    4    18  evening   \n",
       "3 2020-03-15 19:50:23        main_screen   15    6    19  evening   \n",
       "4 2020-02-20 07:56:58        main_screen   20    3     7  morning   \n",
       "\n",
       "   client_freq_main_screen  client_freq_statement  client_freq_credit_info  \\\n",
       "0                 0.133333               0.380952                 0.000000   \n",
       "1                 0.389706               0.573529                 0.000000   \n",
       "2                 0.116279               0.465116                 0.000000   \n",
       "3                 0.457831               0.449799                 0.000000   \n",
       "4                 0.600000               0.066667                 0.266667   \n",
       "\n",
       "   client_freq_own_transfer  client_freq_mobile_recharge  \\\n",
       "0                  0.000000                     0.066667   \n",
       "1                  0.007353                     0.000000   \n",
       "2                  0.046512                     0.279070   \n",
       "3                  0.004016                     0.032129   \n",
       "4                  0.000000                     0.000000   \n",
       "\n",
       "   client_freq_phone_money_transfer  client_freq_card2card_transfer  \\\n",
       "0                          0.142857                        0.276190   \n",
       "1                          0.000000                        0.000000   \n",
       "2                          0.069767                        0.000000   \n",
       "3                          0.008032                        0.024096   \n",
       "4                          0.000000                        0.000000   \n",
       "\n",
       "   client_freq_chat  client_freq_card_recharge  client_freq_invest  \n",
       "0          0.000000                   0.000000            0.000000  \n",
       "1          0.022059                   0.000000            0.007353  \n",
       "2          0.023256                   0.000000            0.000000  \n",
       "3          0.012048                   0.004016            0.008032  \n",
       "4          0.000000                   0.066667            0.000000  "
      ]
     },
     "execution_count": 17,
     "metadata": {},
     "output_type": "execute_result"
    }
   ],
   "source": [
    "#data.head()"
   ]
  },
  {
   "cell_type": "code",
   "execution_count": null,
   "metadata": {},
   "outputs": [],
   "source": []
  },
  {
   "cell_type": "code",
   "execution_count": 18,
   "metadata": {},
   "outputs": [],
   "source": [
    "data = pd.merge(data, client_diff_freq_dow,  how='left', left_on=['client_pin', 'dow'], right_on = ['client_pin','dow'])\n",
    "data.shape"
   ]
  },
  {
   "cell_type": "code",
   "execution_count": 19,
   "metadata": {},
   "outputs": [
    {
     "data": {
      "text/html": [
       "<div>\n",
       "<style scoped>\n",
       "    .dataframe tbody tr th:only-of-type {\n",
       "        vertical-align: middle;\n",
       "    }\n",
       "\n",
       "    .dataframe tbody tr th {\n",
       "        vertical-align: top;\n",
       "    }\n",
       "\n",
       "    .dataframe thead th {\n",
       "        text-align: right;\n",
       "    }\n",
       "</style>\n",
       "<table border=\"1\" class=\"dataframe\">\n",
       "  <thead>\n",
       "    <tr style=\"text-align: right;\">\n",
       "      <th></th>\n",
       "      <th>session_id</th>\n",
       "      <th>client_pin</th>\n",
       "      <th>timestamp</th>\n",
       "      <th>multi_class_target</th>\n",
       "      <th>dom</th>\n",
       "      <th>dow</th>\n",
       "      <th>hour</th>\n",
       "      <th>tod</th>\n",
       "      <th>client_freq_main_screen</th>\n",
       "      <th>client_freq_statement</th>\n",
       "      <th>...</th>\n",
       "      <th>dow_diff_client_freq_main_screen</th>\n",
       "      <th>dow_diff_client_freq_statement</th>\n",
       "      <th>dow_diff_client_freq_credit_info</th>\n",
       "      <th>dow_diff_client_freq_own_transfer</th>\n",
       "      <th>dow_diff_client_freq_mobile_recharge</th>\n",
       "      <th>dow_diff_client_freq_phone_money_transfer</th>\n",
       "      <th>dow_diff_client_freq_card2card_transfer</th>\n",
       "      <th>dow_diff_client_freq_chat</th>\n",
       "      <th>dow_diff_client_freq_card_recharge</th>\n",
       "      <th>dow_diff_client_freq_invest</th>\n",
       "    </tr>\n",
       "  </thead>\n",
       "  <tbody>\n",
       "    <tr>\n",
       "      <th>0</th>\n",
       "      <td>0000029e72e5fcde6a9f29c3a3ed198f</td>\n",
       "      <td>7cf9221322a0e2fdefb1b998b8f2ab29</td>\n",
       "      <td>2020-06-15 14:01:12</td>\n",
       "      <td>main_screen</td>\n",
       "      <td>15</td>\n",
       "      <td>0</td>\n",
       "      <td>14</td>\n",
       "      <td>day</td>\n",
       "      <td>0.133333</td>\n",
       "      <td>0.380952</td>\n",
       "      <td>...</td>\n",
       "      <td>0.008333</td>\n",
       "      <td>0.193452</td>\n",
       "      <td>0.000000</td>\n",
       "      <td>0.000000</td>\n",
       "      <td>0.004167</td>\n",
       "      <td>0.017857</td>\n",
       "      <td>-0.223810</td>\n",
       "      <td>0.000000</td>\n",
       "      <td>0.000000</td>\n",
       "      <td>0.000000</td>\n",
       "    </tr>\n",
       "    <tr>\n",
       "      <th>1</th>\n",
       "      <td>00063dffa47b0fe5556b2b9e8beddb6a</td>\n",
       "      <td>5f16c0ab27a806fd08db3122921adf3a</td>\n",
       "      <td>2020-03-21 12:59:34</td>\n",
       "      <td>invest</td>\n",
       "      <td>21</td>\n",
       "      <td>5</td>\n",
       "      <td>12</td>\n",
       "      <td>day</td>\n",
       "      <td>0.389706</td>\n",
       "      <td>0.573529</td>\n",
       "      <td>...</td>\n",
       "      <td>-0.022059</td>\n",
       "      <td>0.044118</td>\n",
       "      <td>0.000000</td>\n",
       "      <td>0.007353</td>\n",
       "      <td>0.000000</td>\n",
       "      <td>0.000000</td>\n",
       "      <td>0.000000</td>\n",
       "      <td>0.022059</td>\n",
       "      <td>0.000000</td>\n",
       "      <td>-0.051471</td>\n",
       "    </tr>\n",
       "    <tr>\n",
       "      <th>2</th>\n",
       "      <td>0007857f36d268ec46fcb7305538a1c7</td>\n",
       "      <td>ec868fc2b388293cf10e18ee9518d72f</td>\n",
       "      <td>2020-01-24 18:18:55</td>\n",
       "      <td>statement</td>\n",
       "      <td>24</td>\n",
       "      <td>4</td>\n",
       "      <td>18</td>\n",
       "      <td>evening</td>\n",
       "      <td>0.116279</td>\n",
       "      <td>0.465116</td>\n",
       "      <td>...</td>\n",
       "      <td>0.116279</td>\n",
       "      <td>-0.368217</td>\n",
       "      <td>0.000000</td>\n",
       "      <td>-0.036822</td>\n",
       "      <td>0.195736</td>\n",
       "      <td>0.069767</td>\n",
       "      <td>0.000000</td>\n",
       "      <td>0.023256</td>\n",
       "      <td>0.000000</td>\n",
       "      <td>0.000000</td>\n",
       "    </tr>\n",
       "    <tr>\n",
       "      <th>3</th>\n",
       "      <td>000a7f25fc3609cdfda54c5f059aab00</td>\n",
       "      <td>91f55a33d7502c1a1fa5da7ff2f7b648</td>\n",
       "      <td>2020-03-15 19:50:23</td>\n",
       "      <td>main_screen</td>\n",
       "      <td>15</td>\n",
       "      <td>6</td>\n",
       "      <td>19</td>\n",
       "      <td>evening</td>\n",
       "      <td>0.457831</td>\n",
       "      <td>0.449799</td>\n",
       "      <td>...</td>\n",
       "      <td>-0.226379</td>\n",
       "      <td>0.291904</td>\n",
       "      <td>0.000000</td>\n",
       "      <td>-0.048616</td>\n",
       "      <td>0.032129</td>\n",
       "      <td>0.008032</td>\n",
       "      <td>-0.028535</td>\n",
       "      <td>-0.040583</td>\n",
       "      <td>0.004016</td>\n",
       "      <td>0.008032</td>\n",
       "    </tr>\n",
       "    <tr>\n",
       "      <th>4</th>\n",
       "      <td>000b746d6616669663feaa1474ac97f1</td>\n",
       "      <td>3ef1020bda95ce7836d2680fa553ecb7</td>\n",
       "      <td>2020-02-20 07:56:58</td>\n",
       "      <td>main_screen</td>\n",
       "      <td>20</td>\n",
       "      <td>3</td>\n",
       "      <td>7</td>\n",
       "      <td>morning</td>\n",
       "      <td>0.600000</td>\n",
       "      <td>0.066667</td>\n",
       "      <td>...</td>\n",
       "      <td>0.100000</td>\n",
       "      <td>0.066667</td>\n",
       "      <td>-0.233333</td>\n",
       "      <td>0.000000</td>\n",
       "      <td>0.000000</td>\n",
       "      <td>0.000000</td>\n",
       "      <td>0.000000</td>\n",
       "      <td>0.000000</td>\n",
       "      <td>0.066667</td>\n",
       "      <td>0.000000</td>\n",
       "    </tr>\n",
       "  </tbody>\n",
       "</table>\n",
       "<p>5 rows × 28 columns</p>\n",
       "</div>"
      ],
      "text/plain": [
       "                         session_id                        client_pin  \\\n",
       "0  0000029e72e5fcde6a9f29c3a3ed198f  7cf9221322a0e2fdefb1b998b8f2ab29   \n",
       "1  00063dffa47b0fe5556b2b9e8beddb6a  5f16c0ab27a806fd08db3122921adf3a   \n",
       "2  0007857f36d268ec46fcb7305538a1c7  ec868fc2b388293cf10e18ee9518d72f   \n",
       "3  000a7f25fc3609cdfda54c5f059aab00  91f55a33d7502c1a1fa5da7ff2f7b648   \n",
       "4  000b746d6616669663feaa1474ac97f1  3ef1020bda95ce7836d2680fa553ecb7   \n",
       "\n",
       "            timestamp multi_class_target  dom  dow  hour      tod  \\\n",
       "0 2020-06-15 14:01:12        main_screen   15    0    14      day   \n",
       "1 2020-03-21 12:59:34             invest   21    5    12      day   \n",
       "2 2020-01-24 18:18:55          statement   24    4    18  evening   \n",
       "3 2020-03-15 19:50:23        main_screen   15    6    19  evening   \n",
       "4 2020-02-20 07:56:58        main_screen   20    3     7  morning   \n",
       "\n",
       "   client_freq_main_screen  client_freq_statement  ...  \\\n",
       "0                 0.133333               0.380952  ...   \n",
       "1                 0.389706               0.573529  ...   \n",
       "2                 0.116279               0.465116  ...   \n",
       "3                 0.457831               0.449799  ...   \n",
       "4                 0.600000               0.066667  ...   \n",
       "\n",
       "   dow_diff_client_freq_main_screen  dow_diff_client_freq_statement  \\\n",
       "0                          0.008333                        0.193452   \n",
       "1                         -0.022059                        0.044118   \n",
       "2                          0.116279                       -0.368217   \n",
       "3                         -0.226379                        0.291904   \n",
       "4                          0.100000                        0.066667   \n",
       "\n",
       "   dow_diff_client_freq_credit_info  dow_diff_client_freq_own_transfer  \\\n",
       "0                          0.000000                           0.000000   \n",
       "1                          0.000000                           0.007353   \n",
       "2                          0.000000                          -0.036822   \n",
       "3                          0.000000                          -0.048616   \n",
       "4                         -0.233333                           0.000000   \n",
       "\n",
       "   dow_diff_client_freq_mobile_recharge  \\\n",
       "0                              0.004167   \n",
       "1                              0.000000   \n",
       "2                              0.195736   \n",
       "3                              0.032129   \n",
       "4                              0.000000   \n",
       "\n",
       "   dow_diff_client_freq_phone_money_transfer  \\\n",
       "0                                   0.017857   \n",
       "1                                   0.000000   \n",
       "2                                   0.069767   \n",
       "3                                   0.008032   \n",
       "4                                   0.000000   \n",
       "\n",
       "   dow_diff_client_freq_card2card_transfer  dow_diff_client_freq_chat  \\\n",
       "0                                -0.223810                   0.000000   \n",
       "1                                 0.000000                   0.022059   \n",
       "2                                 0.000000                   0.023256   \n",
       "3                                -0.028535                  -0.040583   \n",
       "4                                 0.000000                   0.000000   \n",
       "\n",
       "   dow_diff_client_freq_card_recharge  dow_diff_client_freq_invest  \n",
       "0                            0.000000                     0.000000  \n",
       "1                            0.000000                    -0.051471  \n",
       "2                            0.000000                     0.000000  \n",
       "3                            0.004016                     0.008032  \n",
       "4                            0.066667                     0.000000  \n",
       "\n",
       "[5 rows x 28 columns]"
      ]
     },
     "execution_count": 19,
     "metadata": {},
     "output_type": "execute_result"
    }
   ],
   "source": [
    "#data.head()"
   ]
  },
  {
   "cell_type": "code",
   "execution_count": null,
   "metadata": {},
   "outputs": [],
   "source": []
  },
  {
   "cell_type": "code",
   "execution_count": 20,
   "metadata": {},
   "outputs": [
    {
     "data": {
      "text/plain": [
       "(5065350, 38)"
      ]
     },
     "execution_count": 20,
     "metadata": {},
     "output_type": "execute_result"
    }
   ],
   "source": [
    "data = pd.merge(data, client_diff_freq_tod,  how='left', left_on=['client_pin', 'tod'], right_on = ['client_pin','tod'])\n",
    "data.shape"
   ]
  },
  {
   "cell_type": "code",
   "execution_count": 21,
   "metadata": {},
   "outputs": [],
   "source": [
    "#new_df = pd.merge(A_df, B_df,  how='left', left_on='[A_c1,c2]', right_on = '[B_c1,c2]')"
   ]
  },
  {
   "cell_type": "code",
   "execution_count": null,
   "metadata": {},
   "outputs": [],
   "source": []
  },
  {
   "cell_type": "code",
   "execution_count": null,
   "metadata": {},
   "outputs": [],
   "source": []
  },
  {
   "cell_type": "markdown",
   "metadata": {},
   "source": [
    "## merge current data with global statistics"
   ]
  },
  {
   "cell_type": "code",
   "execution_count": 23,
   "metadata": {},
   "outputs": [],
   "source": [
    "glob_diff_freq_dom  = pd.read_csv(os.path.join(DATA_OWN, 'glob_diff_freq_dom.csv'))\n",
    "glob_diff_freq_dow  = pd.read_csv(os.path.join(DATA_OWN, 'glob_diff_freq_dow.csv'))\n",
    "glob_diff_freq_hour = pd.read_csv(os.path.join(DATA_OWN, 'glob_diff_freq_hour.csv'))\n",
    "glob_diff_freq_tod  = pd.read_csv(os.path.join(DATA_OWN, 'glob_diff_freq_tod.csv'))"
   ]
  },
  {
   "cell_type": "code",
   "execution_count": 24,
   "metadata": {},
   "outputs": [],
   "source": [
    "glob_diff_freq_dom.columns  = ['dom_'  + el for el in glob_diff_freq_dom.keys()]\n",
    "glob_diff_freq_dow.columns  = ['dow_'  + el for el in glob_diff_freq_dow.keys()]\n",
    "glob_diff_freq_hour.columns = ['hour_' + el for el in glob_diff_freq_hour.keys()]\n",
    "glob_diff_freq_tod.columns  = ['tod_'  + el for el in glob_diff_freq_tod.keys()]"
   ]
  },
  {
   "cell_type": "code",
   "execution_count": 25,
   "metadata": {},
   "outputs": [],
   "source": [
    "glob_diff_freq_dom = glob_diff_freq_dom.rename(  columns={'dom_dom': 'dom'})\n",
    "glob_diff_freq_dow = glob_diff_freq_dow.rename(  columns={'dow_dow': 'dow'})\n",
    "glob_diff_freq_hour = glob_diff_freq_hour.rename(columns={'hour_hour': 'hour'})\n",
    "glob_diff_freq_tod = glob_diff_freq_tod.rename(  columns={'tod_tod': 'tod'})\n",
    "\n",
    "#glob_freq_dom.keys(), glob_freq_dow.keys(), glob_freq_hour.keys(), glob_freq_tod.keys(), "
   ]
  },
  {
   "cell_type": "code",
   "execution_count": 26,
   "metadata": {},
   "outputs": [],
   "source": [
    "dom_diff_freq_features  = [el for el in glob_diff_freq_dom.keys()[1:]]\n",
    "dow_diff_freq_features  = [el for el in glob_diff_freq_dow.keys()[1:]]\n",
    "hour_diff_freq_features = [el for el in glob_diff_freq_hour.keys()[1:]]\n",
    "tod_diff_freq_features  = [el for el in glob_diff_freq_tod.keys()[1:]]"
   ]
  },
  {
   "cell_type": "code",
   "execution_count": null,
   "metadata": {},
   "outputs": [],
   "source": []
  },
  {
   "cell_type": "code",
   "execution_count": null,
   "metadata": {},
   "outputs": [],
   "source": []
  },
  {
   "cell_type": "code",
   "execution_count": 27,
   "metadata": {},
   "outputs": [
    {
     "data": {
      "text/plain": [
       "(5065350, 38)"
      ]
     },
     "execution_count": 27,
     "metadata": {},
     "output_type": "execute_result"
    }
   ],
   "source": [
    "data.shape"
   ]
  },
  {
   "cell_type": "code",
   "execution_count": 28,
   "metadata": {},
   "outputs": [
    {
     "data": {
      "text/plain": [
       "(5065350, 48)"
      ]
     },
     "execution_count": 28,
     "metadata": {},
     "output_type": "execute_result"
    }
   ],
   "source": [
    "data = data.merge(glob_diff_freq_dom, how= 'left', on='dom', validate='many_to_one')\n",
    "data.shape"
   ]
  },
  {
   "cell_type": "code",
   "execution_count": 29,
   "metadata": {},
   "outputs": [
    {
     "data": {
      "text/plain": [
       "(5065350, 58)"
      ]
     },
     "execution_count": 29,
     "metadata": {},
     "output_type": "execute_result"
    }
   ],
   "source": [
    "data = data.merge(glob_diff_freq_dow, how= 'left', on='dow', validate='many_to_one')\n",
    "data.shape"
   ]
  },
  {
   "cell_type": "code",
   "execution_count": 30,
   "metadata": {},
   "outputs": [
    {
     "data": {
      "text/plain": [
       "(5065350, 68)"
      ]
     },
     "execution_count": 30,
     "metadata": {},
     "output_type": "execute_result"
    }
   ],
   "source": [
    "data = data.merge(glob_diff_freq_hour, how= 'left', on='hour', validate='many_to_one')\n",
    "data.shape"
   ]
  },
  {
   "cell_type": "code",
   "execution_count": 31,
   "metadata": {},
   "outputs": [
    {
     "data": {
      "text/plain": [
       "(5065350, 78)"
      ]
     },
     "execution_count": 31,
     "metadata": {},
     "output_type": "execute_result"
    }
   ],
   "source": [
    "data = data.merge(glob_diff_freq_tod, how= 'left', on='tod', validate='many_to_one')\n",
    "data.shape"
   ]
  },
  {
   "cell_type": "code",
   "execution_count": null,
   "metadata": {},
   "outputs": [],
   "source": []
  },
  {
   "cell_type": "code",
   "execution_count": 32,
   "metadata": {},
   "outputs": [
    {
     "data": {
      "text/html": [
       "<div>\n",
       "<style scoped>\n",
       "    .dataframe tbody tr th:only-of-type {\n",
       "        vertical-align: middle;\n",
       "    }\n",
       "\n",
       "    .dataframe tbody tr th {\n",
       "        vertical-align: top;\n",
       "    }\n",
       "\n",
       "    .dataframe thead th {\n",
       "        text-align: right;\n",
       "    }\n",
       "</style>\n",
       "<table border=\"1\" class=\"dataframe\">\n",
       "  <thead>\n",
       "    <tr style=\"text-align: right;\">\n",
       "      <th></th>\n",
       "      <th>session_id</th>\n",
       "      <th>client_pin</th>\n",
       "      <th>timestamp</th>\n",
       "      <th>multi_class_target</th>\n",
       "      <th>dom</th>\n",
       "      <th>dow</th>\n",
       "      <th>hour</th>\n",
       "      <th>tod</th>\n",
       "      <th>client_freq_main_screen</th>\n",
       "      <th>client_freq_statement</th>\n",
       "      <th>...</th>\n",
       "      <th>tod_diff_glob_freq_main_screen</th>\n",
       "      <th>tod_diff_glob_freq_statement</th>\n",
       "      <th>tod_diff_glob_freq_credit_info</th>\n",
       "      <th>tod_diff_glob_freq_own_transfer</th>\n",
       "      <th>tod_diff_glob_freq_mobile_recharge</th>\n",
       "      <th>tod_diff_glob_freq_phone_money_transfer</th>\n",
       "      <th>tod_diff_glob_freq_card2card_transfer</th>\n",
       "      <th>tod_diff_glob_freq_chat</th>\n",
       "      <th>tod_diff_glob_freq_card_recharge</th>\n",
       "      <th>tod_diff_glob_freq_invest</th>\n",
       "    </tr>\n",
       "  </thead>\n",
       "  <tbody>\n",
       "    <tr>\n",
       "      <th>785514</th>\n",
       "      <td>bf5e3588ba61a5fbef38062d3a823760</td>\n",
       "      <td>faa1246ed8285734b897c901d420c57a</td>\n",
       "      <td>2020-08-26 14:39:47</td>\n",
       "      <td>phone_money_transfer</td>\n",
       "      <td>26</td>\n",
       "      <td>2</td>\n",
       "      <td>14</td>\n",
       "      <td>day</td>\n",
       "      <td>0.618321</td>\n",
       "      <td>0.091603</td>\n",
       "      <td>...</td>\n",
       "      <td>-0.006382</td>\n",
       "      <td>-0.003040</td>\n",
       "      <td>0.008693</td>\n",
       "      <td>-0.003441</td>\n",
       "      <td>0.010104</td>\n",
       "      <td>-0.003059</td>\n",
       "      <td>-0.002092</td>\n",
       "      <td>-0.000810</td>\n",
       "      <td>-0.001044</td>\n",
       "      <td>0.001070</td>\n",
       "    </tr>\n",
       "    <tr>\n",
       "      <th>3110251</th>\n",
       "      <td>843982312af414ac6a47341322e53566</td>\n",
       "      <td>a6ea5a85b701a8574908b874ed81242a</td>\n",
       "      <td>2020-07-20 19:59:00</td>\n",
       "      <td>main_screen</td>\n",
       "      <td>20</td>\n",
       "      <td>0</td>\n",
       "      <td>19</td>\n",
       "      <td>evening</td>\n",
       "      <td>0.828042</td>\n",
       "      <td>0.047619</td>\n",
       "      <td>...</td>\n",
       "      <td>0.018425</td>\n",
       "      <td>-0.016537</td>\n",
       "      <td>-0.001558</td>\n",
       "      <td>-0.001434</td>\n",
       "      <td>0.006193</td>\n",
       "      <td>0.000416</td>\n",
       "      <td>-0.003130</td>\n",
       "      <td>-0.001105</td>\n",
       "      <td>0.000214</td>\n",
       "      <td>-0.001486</td>\n",
       "    </tr>\n",
       "    <tr>\n",
       "      <th>3258115</th>\n",
       "      <td>d346cb2304f7f9734201382e96d31b67</td>\n",
       "      <td>ec353db18ba30e03d51c5dda0b8645cf</td>\n",
       "      <td>2020-01-15 20:25:30</td>\n",
       "      <td>credit_info</td>\n",
       "      <td>15</td>\n",
       "      <td>2</td>\n",
       "      <td>20</td>\n",
       "      <td>evening</td>\n",
       "      <td>0.211538</td>\n",
       "      <td>0.019231</td>\n",
       "      <td>...</td>\n",
       "      <td>0.018425</td>\n",
       "      <td>-0.016537</td>\n",
       "      <td>-0.001558</td>\n",
       "      <td>-0.001434</td>\n",
       "      <td>0.006193</td>\n",
       "      <td>0.000416</td>\n",
       "      <td>-0.003130</td>\n",
       "      <td>-0.001105</td>\n",
       "      <td>0.000214</td>\n",
       "      <td>-0.001486</td>\n",
       "    </tr>\n",
       "    <tr>\n",
       "      <th>818663</th>\n",
       "      <td>5f7f329c5c5ee8c3ac8a0e452e967650</td>\n",
       "      <td>79bb572e625ec0d6dba2bdb9eed36bad</td>\n",
       "      <td>2020-05-28 11:49:08</td>\n",
       "      <td>main_screen</td>\n",
       "      <td>28</td>\n",
       "      <td>3</td>\n",
       "      <td>11</td>\n",
       "      <td>morning</td>\n",
       "      <td>0.309322</td>\n",
       "      <td>0.516949</td>\n",
       "      <td>...</td>\n",
       "      <td>-0.007052</td>\n",
       "      <td>0.016034</td>\n",
       "      <td>-0.004793</td>\n",
       "      <td>0.002914</td>\n",
       "      <td>-0.013680</td>\n",
       "      <td>0.000881</td>\n",
       "      <td>0.003722</td>\n",
       "      <td>0.001396</td>\n",
       "      <td>0.000394</td>\n",
       "      <td>0.000184</td>\n",
       "    </tr>\n",
       "    <tr>\n",
       "      <th>2356154</th>\n",
       "      <td>462c52e20e68ba29ac6c80e5bf49af3e</td>\n",
       "      <td>4a1253dc81abfdb8f2e03d4ff00dad71</td>\n",
       "      <td>2020-08-11 09:45:23</td>\n",
       "      <td>statement</td>\n",
       "      <td>11</td>\n",
       "      <td>1</td>\n",
       "      <td>9</td>\n",
       "      <td>morning</td>\n",
       "      <td>0.150794</td>\n",
       "      <td>0.071429</td>\n",
       "      <td>...</td>\n",
       "      <td>-0.007052</td>\n",
       "      <td>0.016034</td>\n",
       "      <td>-0.004793</td>\n",
       "      <td>0.002914</td>\n",
       "      <td>-0.013680</td>\n",
       "      <td>0.000881</td>\n",
       "      <td>0.003722</td>\n",
       "      <td>0.001396</td>\n",
       "      <td>0.000394</td>\n",
       "      <td>0.000184</td>\n",
       "    </tr>\n",
       "    <tr>\n",
       "      <th>2509077</th>\n",
       "      <td>d2ec87646518929ca0fd8607f32543ce</td>\n",
       "      <td>726ad13c8275bc3b4bb00aa0cbbbfa42</td>\n",
       "      <td>2020-08-07 08:30:28</td>\n",
       "      <td>credit_info</td>\n",
       "      <td>7</td>\n",
       "      <td>4</td>\n",
       "      <td>8</td>\n",
       "      <td>morning</td>\n",
       "      <td>0.052632</td>\n",
       "      <td>0.000000</td>\n",
       "      <td>...</td>\n",
       "      <td>-0.007052</td>\n",
       "      <td>0.016034</td>\n",
       "      <td>-0.004793</td>\n",
       "      <td>0.002914</td>\n",
       "      <td>-0.013680</td>\n",
       "      <td>0.000881</td>\n",
       "      <td>0.003722</td>\n",
       "      <td>0.001396</td>\n",
       "      <td>0.000394</td>\n",
       "      <td>0.000184</td>\n",
       "    </tr>\n",
       "    <tr>\n",
       "      <th>2106008</th>\n",
       "      <td>e78d74a1d3556342aced3562dd066c0a</td>\n",
       "      <td>e19fd65b9589ebbe3476be224ceb2b67</td>\n",
       "      <td>2020-01-30 18:28:45</td>\n",
       "      <td>main_screen</td>\n",
       "      <td>30</td>\n",
       "      <td>3</td>\n",
       "      <td>18</td>\n",
       "      <td>evening</td>\n",
       "      <td>0.452830</td>\n",
       "      <td>0.339623</td>\n",
       "      <td>...</td>\n",
       "      <td>0.018425</td>\n",
       "      <td>-0.016537</td>\n",
       "      <td>-0.001558</td>\n",
       "      <td>-0.001434</td>\n",
       "      <td>0.006193</td>\n",
       "      <td>0.000416</td>\n",
       "      <td>-0.003130</td>\n",
       "      <td>-0.001105</td>\n",
       "      <td>0.000214</td>\n",
       "      <td>-0.001486</td>\n",
       "    </tr>\n",
       "    <tr>\n",
       "      <th>3554852</th>\n",
       "      <td>70368912655a02c07826a1e1e4264575</td>\n",
       "      <td>8169b1a62eb3ee10028208835a0acad7</td>\n",
       "      <td>2020-07-22 05:38:02</td>\n",
       "      <td>main_screen</td>\n",
       "      <td>22</td>\n",
       "      <td>2</td>\n",
       "      <td>5</td>\n",
       "      <td>night</td>\n",
       "      <td>0.618625</td>\n",
       "      <td>0.039911</td>\n",
       "      <td>...</td>\n",
       "      <td>0.002702</td>\n",
       "      <td>0.004453</td>\n",
       "      <td>-0.022015</td>\n",
       "      <td>0.011315</td>\n",
       "      <td>-0.018217</td>\n",
       "      <td>0.011603</td>\n",
       "      <td>0.006227</td>\n",
       "      <td>0.002242</td>\n",
       "      <td>0.003320</td>\n",
       "      <td>-0.001628</td>\n",
       "    </tr>\n",
       "    <tr>\n",
       "      <th>3940002</th>\n",
       "      <td>7752a55cc56e1540fb2be91bf866134e</td>\n",
       "      <td>ec717d740b5c76a99a9dda7d96382491</td>\n",
       "      <td>2020-03-01 11:11:07</td>\n",
       "      <td>main_screen</td>\n",
       "      <td>1</td>\n",
       "      <td>6</td>\n",
       "      <td>11</td>\n",
       "      <td>morning</td>\n",
       "      <td>0.728086</td>\n",
       "      <td>0.228980</td>\n",
       "      <td>...</td>\n",
       "      <td>-0.007052</td>\n",
       "      <td>0.016034</td>\n",
       "      <td>-0.004793</td>\n",
       "      <td>0.002914</td>\n",
       "      <td>-0.013680</td>\n",
       "      <td>0.000881</td>\n",
       "      <td>0.003722</td>\n",
       "      <td>0.001396</td>\n",
       "      <td>0.000394</td>\n",
       "      <td>0.000184</td>\n",
       "    </tr>\n",
       "    <tr>\n",
       "      <th>4160718</th>\n",
       "      <td>5b59be9d1f2e8859cda4dff9caf7591d</td>\n",
       "      <td>4769d09e7f4eabb4857e1d4dd9f00fee</td>\n",
       "      <td>2020-02-25 20:36:29</td>\n",
       "      <td>statement</td>\n",
       "      <td>25</td>\n",
       "      <td>1</td>\n",
       "      <td>20</td>\n",
       "      <td>evening</td>\n",
       "      <td>0.213043</td>\n",
       "      <td>0.373913</td>\n",
       "      <td>...</td>\n",
       "      <td>0.018425</td>\n",
       "      <td>-0.016537</td>\n",
       "      <td>-0.001558</td>\n",
       "      <td>-0.001434</td>\n",
       "      <td>0.006193</td>\n",
       "      <td>0.000416</td>\n",
       "      <td>-0.003130</td>\n",
       "      <td>-0.001105</td>\n",
       "      <td>0.000214</td>\n",
       "      <td>-0.001486</td>\n",
       "    </tr>\n",
       "  </tbody>\n",
       "</table>\n",
       "<p>10 rows × 78 columns</p>\n",
       "</div>"
      ],
      "text/plain": [
       "                               session_id                        client_pin  \\\n",
       "785514   bf5e3588ba61a5fbef38062d3a823760  faa1246ed8285734b897c901d420c57a   \n",
       "3110251  843982312af414ac6a47341322e53566  a6ea5a85b701a8574908b874ed81242a   \n",
       "3258115  d346cb2304f7f9734201382e96d31b67  ec353db18ba30e03d51c5dda0b8645cf   \n",
       "818663   5f7f329c5c5ee8c3ac8a0e452e967650  79bb572e625ec0d6dba2bdb9eed36bad   \n",
       "2356154  462c52e20e68ba29ac6c80e5bf49af3e  4a1253dc81abfdb8f2e03d4ff00dad71   \n",
       "2509077  d2ec87646518929ca0fd8607f32543ce  726ad13c8275bc3b4bb00aa0cbbbfa42   \n",
       "2106008  e78d74a1d3556342aced3562dd066c0a  e19fd65b9589ebbe3476be224ceb2b67   \n",
       "3554852  70368912655a02c07826a1e1e4264575  8169b1a62eb3ee10028208835a0acad7   \n",
       "3940002  7752a55cc56e1540fb2be91bf866134e  ec717d740b5c76a99a9dda7d96382491   \n",
       "4160718  5b59be9d1f2e8859cda4dff9caf7591d  4769d09e7f4eabb4857e1d4dd9f00fee   \n",
       "\n",
       "                  timestamp    multi_class_target  dom  dow  hour      tod  \\\n",
       "785514  2020-08-26 14:39:47  phone_money_transfer   26    2    14      day   \n",
       "3110251 2020-07-20 19:59:00           main_screen   20    0    19  evening   \n",
       "3258115 2020-01-15 20:25:30           credit_info   15    2    20  evening   \n",
       "818663  2020-05-28 11:49:08           main_screen   28    3    11  morning   \n",
       "2356154 2020-08-11 09:45:23             statement   11    1     9  morning   \n",
       "2509077 2020-08-07 08:30:28           credit_info    7    4     8  morning   \n",
       "2106008 2020-01-30 18:28:45           main_screen   30    3    18  evening   \n",
       "3554852 2020-07-22 05:38:02           main_screen   22    2     5    night   \n",
       "3940002 2020-03-01 11:11:07           main_screen    1    6    11  morning   \n",
       "4160718 2020-02-25 20:36:29             statement   25    1    20  evening   \n",
       "\n",
       "         client_freq_main_screen  client_freq_statement  ...  \\\n",
       "785514                  0.618321               0.091603  ...   \n",
       "3110251                 0.828042               0.047619  ...   \n",
       "3258115                 0.211538               0.019231  ...   \n",
       "818663                  0.309322               0.516949  ...   \n",
       "2356154                 0.150794               0.071429  ...   \n",
       "2509077                 0.052632               0.000000  ...   \n",
       "2106008                 0.452830               0.339623  ...   \n",
       "3554852                 0.618625               0.039911  ...   \n",
       "3940002                 0.728086               0.228980  ...   \n",
       "4160718                 0.213043               0.373913  ...   \n",
       "\n",
       "         tod_diff_glob_freq_main_screen  tod_diff_glob_freq_statement  \\\n",
       "785514                        -0.006382                     -0.003040   \n",
       "3110251                        0.018425                     -0.016537   \n",
       "3258115                        0.018425                     -0.016537   \n",
       "818663                        -0.007052                      0.016034   \n",
       "2356154                       -0.007052                      0.016034   \n",
       "2509077                       -0.007052                      0.016034   \n",
       "2106008                        0.018425                     -0.016537   \n",
       "3554852                        0.002702                      0.004453   \n",
       "3940002                       -0.007052                      0.016034   \n",
       "4160718                        0.018425                     -0.016537   \n",
       "\n",
       "         tod_diff_glob_freq_credit_info  tod_diff_glob_freq_own_transfer  \\\n",
       "785514                         0.008693                        -0.003441   \n",
       "3110251                       -0.001558                        -0.001434   \n",
       "3258115                       -0.001558                        -0.001434   \n",
       "818663                        -0.004793                         0.002914   \n",
       "2356154                       -0.004793                         0.002914   \n",
       "2509077                       -0.004793                         0.002914   \n",
       "2106008                       -0.001558                        -0.001434   \n",
       "3554852                       -0.022015                         0.011315   \n",
       "3940002                       -0.004793                         0.002914   \n",
       "4160718                       -0.001558                        -0.001434   \n",
       "\n",
       "         tod_diff_glob_freq_mobile_recharge  \\\n",
       "785514                             0.010104   \n",
       "3110251                            0.006193   \n",
       "3258115                            0.006193   \n",
       "818663                            -0.013680   \n",
       "2356154                           -0.013680   \n",
       "2509077                           -0.013680   \n",
       "2106008                            0.006193   \n",
       "3554852                           -0.018217   \n",
       "3940002                           -0.013680   \n",
       "4160718                            0.006193   \n",
       "\n",
       "         tod_diff_glob_freq_phone_money_transfer  \\\n",
       "785514                                 -0.003059   \n",
       "3110251                                 0.000416   \n",
       "3258115                                 0.000416   \n",
       "818663                                  0.000881   \n",
       "2356154                                 0.000881   \n",
       "2509077                                 0.000881   \n",
       "2106008                                 0.000416   \n",
       "3554852                                 0.011603   \n",
       "3940002                                 0.000881   \n",
       "4160718                                 0.000416   \n",
       "\n",
       "         tod_diff_glob_freq_card2card_transfer  tod_diff_glob_freq_chat  \\\n",
       "785514                               -0.002092                -0.000810   \n",
       "3110251                              -0.003130                -0.001105   \n",
       "3258115                              -0.003130                -0.001105   \n",
       "818663                                0.003722                 0.001396   \n",
       "2356154                               0.003722                 0.001396   \n",
       "2509077                               0.003722                 0.001396   \n",
       "2106008                              -0.003130                -0.001105   \n",
       "3554852                               0.006227                 0.002242   \n",
       "3940002                               0.003722                 0.001396   \n",
       "4160718                              -0.003130                -0.001105   \n",
       "\n",
       "         tod_diff_glob_freq_card_recharge  tod_diff_glob_freq_invest  \n",
       "785514                          -0.001044                   0.001070  \n",
       "3110251                          0.000214                  -0.001486  \n",
       "3258115                          0.000214                  -0.001486  \n",
       "818663                           0.000394                   0.000184  \n",
       "2356154                          0.000394                   0.000184  \n",
       "2509077                          0.000394                   0.000184  \n",
       "2106008                          0.000214                  -0.001486  \n",
       "3554852                          0.003320                  -0.001628  \n",
       "3940002                          0.000394                   0.000184  \n",
       "4160718                          0.000214                  -0.001486  \n",
       "\n",
       "[10 rows x 78 columns]"
      ]
     },
     "execution_count": 32,
     "metadata": {},
     "output_type": "execute_result"
    }
   ],
   "source": [
    "data.sample(10)"
   ]
  },
  {
   "cell_type": "code",
   "execution_count": null,
   "metadata": {},
   "outputs": [],
   "source": []
  },
  {
   "cell_type": "code",
   "execution_count": null,
   "metadata": {},
   "outputs": [],
   "source": []
  },
  {
   "cell_type": "code",
   "execution_count": null,
   "metadata": {},
   "outputs": [],
   "source": [
    "#f1 = make_scorer(f1_score , average='macro')"
   ]
  },
  {
   "cell_type": "markdown",
   "metadata": {},
   "source": [
    "### create using features list"
   ]
  },
  {
   "cell_type": "raw",
   "metadata": {},
   "source": [
    "using_features = []\n",
    "using_features.extend(client_freq_features)\n",
    "using_features.extend(dom_diff_freq_features)\n",
    "using_features.extend(dow_diff_freq_features)\n",
    "using_features.extend(hour_diff_freq_features)\n",
    "using_features.extend(tod_diff_freq_features)\n",
    "\n",
    "print(len(using_features), using_features)"
   ]
  },
  {
   "cell_type": "code",
   "execution_count": 39,
   "metadata": {},
   "outputs": [],
   "source": [
    "using_features = data.keys()[8:]\n",
    "#print(using_features)"
   ]
  },
  {
   "cell_type": "code",
   "execution_count": null,
   "metadata": {},
   "outputs": [],
   "source": []
  },
  {
   "cell_type": "markdown",
   "metadata": {},
   "source": [
    "## saving"
   ]
  },
  {
   "cell_type": "code",
   "execution_count": 42,
   "metadata": {},
   "outputs": [
    {
     "name": "stdout",
     "output_type": "stream",
     "text": [
      "Wall time: 8min 47s\n"
     ]
    }
   ],
   "source": [
    "%%time\n",
    "data.to_csv(os.path.join(DATA_OWN, 'data_train.csv'))"
   ]
  },
  {
   "cell_type": "code",
   "execution_count": 43,
   "metadata": {},
   "outputs": [
    {
     "name": "stdout",
     "output_type": "stream",
     "text": [
      "Wall time: 0 ns\n"
     ]
    }
   ],
   "source": [
    "%%time\n",
    "pickle.dump(using_features, open(os.path.join(DATA_OWN, 'using_features.pkl'), 'wb'))"
   ]
  },
  {
   "cell_type": "code",
   "execution_count": null,
   "metadata": {},
   "outputs": [],
   "source": []
  },
  {
   "cell_type": "code",
   "execution_count": null,
   "metadata": {},
   "outputs": [],
   "source": []
  },
  {
   "cell_type": "code",
   "execution_count": null,
   "metadata": {},
   "outputs": [],
   "source": []
  }
 ],
 "metadata": {
  "kernelspec": {
   "display_name": "Python 3",
   "language": "python",
   "name": "python3"
  },
  "language_info": {
   "codemirror_mode": {
    "name": "ipython",
    "version": 3
   },
   "file_extension": ".py",
   "mimetype": "text/x-python",
   "name": "python",
   "nbconvert_exporter": "python",
   "pygments_lexer": "ipython3",
   "version": "3.7.9"
  }
 },
 "nbformat": 4,
 "nbformat_minor": 4
}
