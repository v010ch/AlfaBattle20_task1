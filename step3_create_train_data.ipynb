{
 "cells": [
  {
   "cell_type": "code",
   "execution_count": 1,
   "metadata": {},
   "outputs": [
    {
     "name": "stderr",
     "output_type": "stream",
     "text": [
      "C:\\Users\\_v010ch_\\Anaconda3\\lib\\site-packages\\tqdm\\std.py:697: FutureWarning: The Panel class is removed from pandas. Accessing it from the top-level namespace will also be removed in the next version\n",
      "  from pandas import Panel\n"
     ]
    }
   ],
   "source": [
    "import os\n",
    "from glob import glob\n",
    "import pandas as pd\n",
    "import numpy as np\n",
    "import itertools\n",
    "from collections import Counter\n",
    "\n",
    "\n",
    "import pickle\n",
    "import gc\n",
    "\n",
    "from tqdm import tqdm\n",
    "tqdm.pandas()"
   ]
  },
  {
   "cell_type": "code",
   "execution_count": 2,
   "metadata": {},
   "outputs": [],
   "source": [
    "from sklearn.preprocessing import LabelBinarizer, OneHotEncoder"
   ]
  },
  {
   "cell_type": "code",
   "execution_count": null,
   "metadata": {},
   "outputs": [],
   "source": []
  },
  {
   "cell_type": "code",
   "execution_count": 3,
   "metadata": {},
   "outputs": [],
   "source": [
    "DATA = os.path.join('.', 'data')\n",
    "DATA_OWN = os.path.join('.', 'data_own')\n",
    "CLICKSTREAM = 'alfabattle2_abattle_clickstream'\n",
    "MODELS = os.path.join('.', 'models')\n",
    "UTILS = os.path.join('.', 'utils')\n",
    "SUBM = os.path.join('.', 'submissions')"
   ]
  },
  {
   "cell_type": "code",
   "execution_count": null,
   "metadata": {},
   "outputs": [],
   "source": []
  },
  {
   "cell_type": "markdown",
   "metadata": {},
   "source": [
    "## prepare data, test / training sets"
   ]
  },
  {
   "cell_type": "code",
   "execution_count": 4,
   "metadata": {},
   "outputs": [
    {
     "data": {
      "text/html": [
       "<div>\n",
       "<style scoped>\n",
       "    .dataframe tbody tr th:only-of-type {\n",
       "        vertical-align: middle;\n",
       "    }\n",
       "\n",
       "    .dataframe tbody tr th {\n",
       "        vertical-align: top;\n",
       "    }\n",
       "\n",
       "    .dataframe thead th {\n",
       "        text-align: right;\n",
       "    }\n",
       "</style>\n",
       "<table border=\"1\" class=\"dataframe\">\n",
       "  <thead>\n",
       "    <tr style=\"text-align: right;\">\n",
       "      <th></th>\n",
       "      <th>session_id</th>\n",
       "      <th>client_pin</th>\n",
       "      <th>timestamp</th>\n",
       "      <th>multi_class_target</th>\n",
       "    </tr>\n",
       "  </thead>\n",
       "  <tbody>\n",
       "    <tr>\n",
       "      <th>0</th>\n",
       "      <td>0000029e72e5fcde6a9f29c3a3ed198f</td>\n",
       "      <td>7cf9221322a0e2fdefb1b998b8f2ab29</td>\n",
       "      <td>2020-06-15 14:01:12</td>\n",
       "      <td>main_screen</td>\n",
       "    </tr>\n",
       "    <tr>\n",
       "      <th>1</th>\n",
       "      <td>00063dffa47b0fe5556b2b9e8beddb6a</td>\n",
       "      <td>5f16c0ab27a806fd08db3122921adf3a</td>\n",
       "      <td>2020-03-21 12:59:34</td>\n",
       "      <td>invest</td>\n",
       "    </tr>\n",
       "    <tr>\n",
       "      <th>2</th>\n",
       "      <td>0007857f36d268ec46fcb7305538a1c7</td>\n",
       "      <td>ec868fc2b388293cf10e18ee9518d72f</td>\n",
       "      <td>2020-01-24 18:18:55</td>\n",
       "      <td>statement</td>\n",
       "    </tr>\n",
       "    <tr>\n",
       "      <th>3</th>\n",
       "      <td>000a7f25fc3609cdfda54c5f059aab00</td>\n",
       "      <td>91f55a33d7502c1a1fa5da7ff2f7b648</td>\n",
       "      <td>2020-03-15 19:50:23</td>\n",
       "      <td>main_screen</td>\n",
       "    </tr>\n",
       "    <tr>\n",
       "      <th>4</th>\n",
       "      <td>000b746d6616669663feaa1474ac97f1</td>\n",
       "      <td>3ef1020bda95ce7836d2680fa553ecb7</td>\n",
       "      <td>2020-02-20 07:56:58</td>\n",
       "      <td>main_screen</td>\n",
       "    </tr>\n",
       "  </tbody>\n",
       "</table>\n",
       "</div>"
      ],
      "text/plain": [
       "                         session_id                        client_pin  \\\n",
       "0  0000029e72e5fcde6a9f29c3a3ed198f  7cf9221322a0e2fdefb1b998b8f2ab29   \n",
       "1  00063dffa47b0fe5556b2b9e8beddb6a  5f16c0ab27a806fd08db3122921adf3a   \n",
       "2  0007857f36d268ec46fcb7305538a1c7  ec868fc2b388293cf10e18ee9518d72f   \n",
       "3  000a7f25fc3609cdfda54c5f059aab00  91f55a33d7502c1a1fa5da7ff2f7b648   \n",
       "4  000b746d6616669663feaa1474ac97f1  3ef1020bda95ce7836d2680fa553ecb7   \n",
       "\n",
       "            timestamp multi_class_target  \n",
       "0 2020-06-15 14:01:12        main_screen  \n",
       "1 2020-03-21 12:59:34             invest  \n",
       "2 2020-01-24 18:18:55          statement  \n",
       "3 2020-03-15 19:50:23        main_screen  \n",
       "4 2020-02-20 07:56:58        main_screen  "
      ]
     },
     "execution_count": 4,
     "metadata": {},
     "output_type": "execute_result"
    }
   ],
   "source": [
    "data = pd.read_csv(os.path.join(DATA, 'alfabattle2_abattle_train_target.csv'), parse_dates=['timestamp'])\n",
    "data.head()"
   ]
  },
  {
   "cell_type": "code",
   "execution_count": 5,
   "metadata": {},
   "outputs": [],
   "source": [
    "def get_time_of_day(inp_hour):\n",
    "    if (inp_hour >= 12) and (inp_hour < 18):\n",
    "        return 'day'\n",
    "    elif (inp_hour >= 6) and (inp_hour < 12):\n",
    "        return 'morning'\n",
    "    elif (inp_hour >= 18) and (inp_hour <= 23):\n",
    "        return 'evening'\n",
    "    else:\n",
    "        return 'night'"
   ]
  },
  {
   "cell_type": "code",
   "execution_count": 6,
   "metadata": {},
   "outputs": [
    {
     "name": "stdout",
     "output_type": "stream",
     "text": [
      "Wall time: 46.1 s\n"
     ]
    },
    {
     "data": {
      "text/html": [
       "<div>\n",
       "<style scoped>\n",
       "    .dataframe tbody tr th:only-of-type {\n",
       "        vertical-align: middle;\n",
       "    }\n",
       "\n",
       "    .dataframe tbody tr th {\n",
       "        vertical-align: top;\n",
       "    }\n",
       "\n",
       "    .dataframe thead th {\n",
       "        text-align: right;\n",
       "    }\n",
       "</style>\n",
       "<table border=\"1\" class=\"dataframe\">\n",
       "  <thead>\n",
       "    <tr style=\"text-align: right;\">\n",
       "      <th></th>\n",
       "      <th>session_id</th>\n",
       "      <th>client_pin</th>\n",
       "      <th>timestamp</th>\n",
       "      <th>multi_class_target</th>\n",
       "      <th>dom</th>\n",
       "      <th>dow</th>\n",
       "      <th>hour</th>\n",
       "      <th>tod</th>\n",
       "    </tr>\n",
       "  </thead>\n",
       "  <tbody>\n",
       "    <tr>\n",
       "      <th>0</th>\n",
       "      <td>0000029e72e5fcde6a9f29c3a3ed198f</td>\n",
       "      <td>7cf9221322a0e2fdefb1b998b8f2ab29</td>\n",
       "      <td>2020-06-15 14:01:12</td>\n",
       "      <td>main_screen</td>\n",
       "      <td>15</td>\n",
       "      <td>0</td>\n",
       "      <td>14</td>\n",
       "      <td>day</td>\n",
       "    </tr>\n",
       "    <tr>\n",
       "      <th>1</th>\n",
       "      <td>00063dffa47b0fe5556b2b9e8beddb6a</td>\n",
       "      <td>5f16c0ab27a806fd08db3122921adf3a</td>\n",
       "      <td>2020-03-21 12:59:34</td>\n",
       "      <td>invest</td>\n",
       "      <td>21</td>\n",
       "      <td>5</td>\n",
       "      <td>12</td>\n",
       "      <td>day</td>\n",
       "    </tr>\n",
       "    <tr>\n",
       "      <th>2</th>\n",
       "      <td>0007857f36d268ec46fcb7305538a1c7</td>\n",
       "      <td>ec868fc2b388293cf10e18ee9518d72f</td>\n",
       "      <td>2020-01-24 18:18:55</td>\n",
       "      <td>statement</td>\n",
       "      <td>24</td>\n",
       "      <td>4</td>\n",
       "      <td>18</td>\n",
       "      <td>evening</td>\n",
       "    </tr>\n",
       "    <tr>\n",
       "      <th>3</th>\n",
       "      <td>000a7f25fc3609cdfda54c5f059aab00</td>\n",
       "      <td>91f55a33d7502c1a1fa5da7ff2f7b648</td>\n",
       "      <td>2020-03-15 19:50:23</td>\n",
       "      <td>main_screen</td>\n",
       "      <td>15</td>\n",
       "      <td>6</td>\n",
       "      <td>19</td>\n",
       "      <td>evening</td>\n",
       "    </tr>\n",
       "    <tr>\n",
       "      <th>4</th>\n",
       "      <td>000b746d6616669663feaa1474ac97f1</td>\n",
       "      <td>3ef1020bda95ce7836d2680fa553ecb7</td>\n",
       "      <td>2020-02-20 07:56:58</td>\n",
       "      <td>main_screen</td>\n",
       "      <td>20</td>\n",
       "      <td>3</td>\n",
       "      <td>7</td>\n",
       "      <td>morning</td>\n",
       "    </tr>\n",
       "  </tbody>\n",
       "</table>\n",
       "</div>"
      ],
      "text/plain": [
       "                         session_id                        client_pin  \\\n",
       "0  0000029e72e5fcde6a9f29c3a3ed198f  7cf9221322a0e2fdefb1b998b8f2ab29   \n",
       "1  00063dffa47b0fe5556b2b9e8beddb6a  5f16c0ab27a806fd08db3122921adf3a   \n",
       "2  0007857f36d268ec46fcb7305538a1c7  ec868fc2b388293cf10e18ee9518d72f   \n",
       "3  000a7f25fc3609cdfda54c5f059aab00  91f55a33d7502c1a1fa5da7ff2f7b648   \n",
       "4  000b746d6616669663feaa1474ac97f1  3ef1020bda95ce7836d2680fa553ecb7   \n",
       "\n",
       "            timestamp multi_class_target  dom  dow  hour      tod  \n",
       "0 2020-06-15 14:01:12        main_screen   15    0    14      day  \n",
       "1 2020-03-21 12:59:34             invest   21    5    12      day  \n",
       "2 2020-01-24 18:18:55          statement   24    4    18  evening  \n",
       "3 2020-03-15 19:50:23        main_screen   15    6    19  evening  \n",
       "4 2020-02-20 07:56:58        main_screen   20    3     7  morning  "
      ]
     },
     "execution_count": 6,
     "metadata": {},
     "output_type": "execute_result"
    }
   ],
   "source": [
    "%%time\n",
    "data['dom']  = data.timestamp.apply(lambda x: x.day)\n",
    "data['dow']  = data.timestamp.apply(lambda x: x.weekday())\n",
    "data['hour'] = data.timestamp.apply(lambda x: x.hour)\n",
    "data['tod']  = data.hour.apply(get_time_of_day)\n",
    "\n",
    "data.head()"
   ]
  },
  {
   "cell_type": "code",
   "execution_count": 7,
   "metadata": {},
   "outputs": [
    {
     "data": {
      "text/plain": [
       "Index(['dom', 'dow', 'hour', 'tod'], dtype='object')"
      ]
     },
     "execution_count": 7,
     "metadata": {},
     "output_type": "execute_result"
    }
   ],
   "source": [
    "data.keys()[4:]"
   ]
  },
  {
   "cell_type": "code",
   "execution_count": 8,
   "metadata": {},
   "outputs": [],
   "source": [
    "#target = data['multi_class_target']"
   ]
  },
  {
   "cell_type": "code",
   "execution_count": 9,
   "metadata": {},
   "outputs": [],
   "source": [
    "#lb_dom  = LabelBinarizer().fit(data['dom'])\n",
    "#lb_dow  = LabelBinarizer().fit(data['dow'])\n",
    "#lb_hour = LabelBinarizer().fit(data['hour'])\n",
    "#lb_tod  = LabelBinarizer().fit(data['tod'])"
   ]
  },
  {
   "cell_type": "code",
   "execution_count": 10,
   "metadata": {},
   "outputs": [],
   "source": [
    "#dom_features  = ['dom_'  + str(el) for el in lb_dom.classes_]\n",
    "#dow_features  = ['dow_'  + str(el) for el in lb_dow.classes_]\n",
    "#hour_features = ['hour_' + str(el) for el in lb_hour.classes_]\n",
    "#tod_features  = ['tod_'  + str(el) for el in lb_tod.classes_]"
   ]
  },
  {
   "cell_type": "code",
   "execution_count": 11,
   "metadata": {},
   "outputs": [],
   "source": [
    "#%%time\n",
    "#dom_prep  = lb_dom.transform(data['dom'])\n",
    "#dow_prep  = lb_dow.transform(data['dow'])\n",
    "#hour_prep = lb_hour.transform(data['hour'])\n",
    "#tod_prep =  lb_tod.transform(data['tod'])\n",
    "\n",
    "#dom_prep.shape, dow_prep.shape, hour_prep.shape, tod_prep.shape"
   ]
  },
  {
   "cell_type": "markdown",
   "metadata": {},
   "source": [
    "saving LabelBinarizer for using in prepare to submit part"
   ]
  },
  {
   "cell_type": "code",
   "execution_count": 12,
   "metadata": {},
   "outputs": [],
   "source": [
    "#pickle.dump(lb_dom,  open((os.path.join(UTILS, 'lb_dom.pkl')),  'wb'))\n",
    "#pickle.dump(lb_dow,  open((os.path.join(UTILS, 'lb_dow.pkl')),  'wb'))\n",
    "#pickle.dump(lb_hour, open((os.path.join(UTILS, 'lb_hour.pkl')), 'wb'))\n",
    "#pickle.dump(lb_tod,  open((os.path.join(UTILS, 'lb_tod.pkl')),  'wb'))"
   ]
  },
  {
   "cell_type": "code",
   "execution_count": null,
   "metadata": {},
   "outputs": [],
   "source": []
  },
  {
   "cell_type": "raw",
   "metadata": {},
   "source": [
    "%%time\n",
    "data = data.join(pd.DataFrame(dom_prep,  columns = dom_features), how='inner')\n",
    "data = data.join(pd.DataFrame(dow_prep,  columns = dow_features), how='inner')\n",
    "data = data.join(pd.DataFrame(hour_prep, columns = hour_features), how='inner')\n",
    "data = data.join(pd.DataFrame(tod_prep,  columns = tod_features), how='inner')"
   ]
  },
  {
   "cell_type": "code",
   "execution_count": null,
   "metadata": {},
   "outputs": [],
   "source": []
  },
  {
   "cell_type": "markdown",
   "metadata": {},
   "source": [
    "## merge current data with client statistics"
   ]
  },
  {
   "cell_type": "code",
   "execution_count": 13,
   "metadata": {},
   "outputs": [
    {
     "name": "stdout",
     "output_type": "stream",
     "text": [
      "Wall time: 4.74 s\n"
     ]
    }
   ],
   "source": [
    "%%time \n",
    "client_freq_targ = pd.read_csv(os.path.join(DATA_OWN, 'client_freq.csv'))\n",
    "client_diff_freq_dow = pd.read_csv(os.path.join(DATA_OWN, 'client_diff_freq_dow.csv'))\n",
    "client_diff_freq_tod = pd.read_csv(os.path.join(DATA_OWN, 'client_diff_freq_tod.csv'))"
   ]
  },
  {
   "cell_type": "code",
   "execution_count": 14,
   "metadata": {},
   "outputs": [
    {
     "data": {
      "text/plain": [
       "(Index(['client_pin', 'dow', 'dow_diff_client_freq_main_screen',\n",
       "        'dow_diff_client_freq_statement', 'dow_diff_client_freq_credit_info',\n",
       "        'dow_diff_client_freq_own_transfer',\n",
       "        'dow_diff_client_freq_mobile_recharge',\n",
       "        'dow_diff_client_freq_phone_money_transfer',\n",
       "        'dow_diff_client_freq_card2card_transfer', 'dow_diff_client_freq_chat',\n",
       "        'dow_diff_client_freq_card_recharge', 'dow_diff_client_freq_invest'],\n",
       "       dtype='object'),\n",
       " Index(['client_pin', 'tod', 'tod_diff_client_freq_main_screen',\n",
       "        'tod_diff_client_freq_statement', 'tod_diff_client_freq_credit_info',\n",
       "        'tod_diff_client_freq_own_transfer',\n",
       "        'tod_diff_client_freq_mobile_recharge',\n",
       "        'tod_diff_client_freq_phone_money_transfer',\n",
       "        'tod_diff_client_freq_card2card_transfer', 'tod_diff_client_freq_chat',\n",
       "        'tod_diff_client_freq_card_recharge', 'tod_diff_client_freq_invest'],\n",
       "       dtype='object'))"
      ]
     },
     "execution_count": 14,
     "metadata": {},
     "output_type": "execute_result"
    }
   ],
   "source": [
    "col = ['client_pin', 'dow']\n",
    "col.extend(['dow_'+el for el in client_diff_freq_dow.keys()[2:]])\n",
    "client_diff_freq_dow.columns = col\n",
    "\n",
    "\n",
    "col = ['client_pin', 'tod']\n",
    "col.extend(['tod_'+el for el in client_diff_freq_tod.keys()[2:]])\n",
    "client_diff_freq_tod.columns = col\n",
    "client_diff_freq_dow.keys(), client_diff_freq_tod.keys()"
   ]
  },
  {
   "cell_type": "code",
   "execution_count": null,
   "metadata": {},
   "outputs": [],
   "source": []
  },
  {
   "cell_type": "code",
   "execution_count": 15,
   "metadata": {},
   "outputs": [
    {
     "data": {
      "text/plain": [
       "(5065350, 18)"
      ]
     },
     "execution_count": 15,
     "metadata": {},
     "output_type": "execute_result"
    }
   ],
   "source": [
    "data = data.merge(client_freq_targ, how= 'left', on='client_pin', validate='many_to_one')\n",
    "data.shape"
   ]
  },
  {
   "cell_type": "code",
   "execution_count": 16,
   "metadata": {},
   "outputs": [],
   "source": [
    "#client_freq_features = ['client_freq_main_screen', 'client_freq_statement',\n",
    "#       'client_freq_credit_info', 'client_freq_own_transfer',\n",
    "#       'client_freq_mobile_recharge', 'client_freq_phone_money_transfer',\n",
    "#       'client_freq_card2card_transfer', 'client_freq_chat',\n",
    "#       'client_freq_card_recharge', 'client_freq_invest']\n",
    "#client_freq_features = client_freq_targ.keys()[1:]"
   ]
  },
  {
   "cell_type": "code",
   "execution_count": 17,
   "metadata": {},
   "outputs": [],
   "source": [
    "#data.head()"
   ]
  },
  {
   "cell_type": "code",
   "execution_count": null,
   "metadata": {},
   "outputs": [],
   "source": []
  },
  {
   "cell_type": "code",
   "execution_count": 18,
   "metadata": {},
   "outputs": [
    {
     "data": {
      "text/plain": [
       "(5065350, 28)"
      ]
     },
     "execution_count": 18,
     "metadata": {},
     "output_type": "execute_result"
    }
   ],
   "source": [
    "data = pd.merge(data, client_diff_freq_dow,  how='left', left_on=['client_pin', 'dow'], right_on = ['client_pin','dow'])\n",
    "data.shape"
   ]
  },
  {
   "cell_type": "code",
   "execution_count": 19,
   "metadata": {},
   "outputs": [],
   "source": [
    "#data.head()"
   ]
  },
  {
   "cell_type": "code",
   "execution_count": null,
   "metadata": {},
   "outputs": [],
   "source": []
  },
  {
   "cell_type": "code",
   "execution_count": 20,
   "metadata": {},
   "outputs": [
    {
     "data": {
      "text/plain": [
       "(5065350, 38)"
      ]
     },
     "execution_count": 20,
     "metadata": {},
     "output_type": "execute_result"
    }
   ],
   "source": [
    "data = pd.merge(data, client_diff_freq_tod,  how='left', left_on=['client_pin', 'tod'], right_on = ['client_pin','tod'])\n",
    "data.shape"
   ]
  },
  {
   "cell_type": "code",
   "execution_count": 21,
   "metadata": {},
   "outputs": [],
   "source": [
    "#new_df = pd.merge(A_df, B_df,  how='left', left_on='[A_c1,c2]', right_on = '[B_c1,c2]')"
   ]
  },
  {
   "cell_type": "code",
   "execution_count": null,
   "metadata": {},
   "outputs": [],
   "source": []
  },
  {
   "cell_type": "code",
   "execution_count": null,
   "metadata": {},
   "outputs": [],
   "source": []
  },
  {
   "cell_type": "markdown",
   "metadata": {},
   "source": [
    "## merge current data with global statistics"
   ]
  },
  {
   "cell_type": "code",
   "execution_count": 22,
   "metadata": {},
   "outputs": [],
   "source": [
    "glob_diff_freq_dom  = pd.read_csv(os.path.join(DATA_OWN, 'glob_diff_freq_dom.csv'))\n",
    "glob_diff_freq_dow  = pd.read_csv(os.path.join(DATA_OWN, 'glob_diff_freq_dow.csv'))\n",
    "glob_diff_freq_hour = pd.read_csv(os.path.join(DATA_OWN, 'glob_diff_freq_hour.csv'))\n",
    "glob_diff_freq_tod  = pd.read_csv(os.path.join(DATA_OWN, 'glob_diff_freq_tod.csv'))"
   ]
  },
  {
   "cell_type": "code",
   "execution_count": 23,
   "metadata": {},
   "outputs": [],
   "source": [
    "glob_diff_freq_dom.columns  = ['dom_'  + el for el in glob_diff_freq_dom.keys()]\n",
    "glob_diff_freq_dow.columns  = ['dow_'  + el for el in glob_diff_freq_dow.keys()]\n",
    "glob_diff_freq_hour.columns = ['hour_' + el for el in glob_diff_freq_hour.keys()]\n",
    "glob_diff_freq_tod.columns  = ['tod_'  + el for el in glob_diff_freq_tod.keys()]"
   ]
  },
  {
   "cell_type": "code",
   "execution_count": 24,
   "metadata": {},
   "outputs": [],
   "source": [
    "glob_diff_freq_dom = glob_diff_freq_dom.rename(  columns={'dom_dom': 'dom'})\n",
    "glob_diff_freq_dow = glob_diff_freq_dow.rename(  columns={'dow_dow': 'dow'})\n",
    "glob_diff_freq_hour = glob_diff_freq_hour.rename(columns={'hour_hour': 'hour'})\n",
    "glob_diff_freq_tod = glob_diff_freq_tod.rename(  columns={'tod_tod': 'tod'})\n",
    "\n",
    "#glob_freq_dom.keys(), glob_freq_dow.keys(), glob_freq_hour.keys(), glob_freq_tod.keys(), "
   ]
  },
  {
   "cell_type": "code",
   "execution_count": 25,
   "metadata": {},
   "outputs": [],
   "source": [
    "dom_diff_freq_features  = [el for el in glob_diff_freq_dom.keys()[1:]]\n",
    "dow_diff_freq_features  = [el for el in glob_diff_freq_dow.keys()[1:]]\n",
    "hour_diff_freq_features = [el for el in glob_diff_freq_hour.keys()[1:]]\n",
    "tod_diff_freq_features  = [el for el in glob_diff_freq_tod.keys()[1:]]"
   ]
  },
  {
   "cell_type": "code",
   "execution_count": null,
   "metadata": {},
   "outputs": [],
   "source": []
  },
  {
   "cell_type": "code",
   "execution_count": null,
   "metadata": {},
   "outputs": [],
   "source": []
  },
  {
   "cell_type": "code",
   "execution_count": 26,
   "metadata": {},
   "outputs": [
    {
     "data": {
      "text/plain": [
       "(5065350, 38)"
      ]
     },
     "execution_count": 26,
     "metadata": {},
     "output_type": "execute_result"
    }
   ],
   "source": [
    "data.shape"
   ]
  },
  {
   "cell_type": "code",
   "execution_count": 27,
   "metadata": {},
   "outputs": [
    {
     "data": {
      "text/plain": [
       "(5065350, 48)"
      ]
     },
     "execution_count": 27,
     "metadata": {},
     "output_type": "execute_result"
    }
   ],
   "source": [
    "data = data.merge(glob_diff_freq_dom, how= 'left', on='dom', validate='many_to_one')\n",
    "data.shape"
   ]
  },
  {
   "cell_type": "code",
   "execution_count": 28,
   "metadata": {},
   "outputs": [
    {
     "data": {
      "text/plain": [
       "(5065350, 58)"
      ]
     },
     "execution_count": 28,
     "metadata": {},
     "output_type": "execute_result"
    }
   ],
   "source": [
    "data = data.merge(glob_diff_freq_dow, how= 'left', on='dow', validate='many_to_one')\n",
    "data.shape"
   ]
  },
  {
   "cell_type": "code",
   "execution_count": 29,
   "metadata": {},
   "outputs": [
    {
     "data": {
      "text/plain": [
       "(5065350, 68)"
      ]
     },
     "execution_count": 29,
     "metadata": {},
     "output_type": "execute_result"
    }
   ],
   "source": [
    "data = data.merge(glob_diff_freq_hour, how= 'left', on='hour', validate='many_to_one')\n",
    "data.shape"
   ]
  },
  {
   "cell_type": "code",
   "execution_count": 30,
   "metadata": {},
   "outputs": [
    {
     "data": {
      "text/plain": [
       "(5065350, 78)"
      ]
     },
     "execution_count": 30,
     "metadata": {},
     "output_type": "execute_result"
    }
   ],
   "source": [
    "data = data.merge(glob_diff_freq_tod, how= 'left', on='tod', validate='many_to_one')\n",
    "data.shape"
   ]
  },
  {
   "cell_type": "code",
   "execution_count": null,
   "metadata": {},
   "outputs": [],
   "source": []
  },
  {
   "cell_type": "code",
   "execution_count": null,
   "metadata": {},
   "outputs": [],
   "source": []
  },
  {
   "cell_type": "markdown",
   "metadata": {},
   "source": [
    "### Add last known target"
   ]
  },
  {
   "cell_type": "code",
   "execution_count": 31,
   "metadata": {},
   "outputs": [],
   "source": [
    "last_target = pd.read_csv(os.path.join(DATA_OWN, 'last_target_begore.csv'), parse_dates=['timestamp'])\n",
    "last_target.drop('Unnamed: 0', axis = 1, inplace = True)"
   ]
  },
  {
   "cell_type": "code",
   "execution_count": 32,
   "metadata": {},
   "outputs": [
    {
     "name": "stdout",
     "output_type": "stream",
     "text": [
      "Wall time: 15.6 s\n"
     ]
    }
   ],
   "source": [
    "%%time\n",
    "data = data.merge(last_target, how= 'left', on=['client_pin', 'timestamp'], validate='one_to_one')\n",
    "#last_target_begore"
   ]
  },
  {
   "cell_type": "code",
   "execution_count": 33,
   "metadata": {},
   "outputs": [
    {
     "name": "stdout",
     "output_type": "stream",
     "text": [
      "Wall time: 29.3 s\n"
     ]
    }
   ],
   "source": [
    "%%time\n",
    "lb_last_target  = LabelBinarizer().fit(data['last_target_begore'])\n",
    "last_targetdom_features  = ['lt_' + str(el) for el in lb_last_target.classes_]\n",
    "lt_prep = lb_last_target.transform(data['last_target_begore'])\n",
    "data = data.join(pd.DataFrame(lt_prep,  columns = last_targetdom_features), how='inner')\n",
    "data.drop('last_target_begore', axis = 1, inplace = True)"
   ]
  },
  {
   "cell_type": "code",
   "execution_count": 34,
   "metadata": {},
   "outputs": [
    {
     "data": {
      "text/html": [
       "<div>\n",
       "<style scoped>\n",
       "    .dataframe tbody tr th:only-of-type {\n",
       "        vertical-align: middle;\n",
       "    }\n",
       "\n",
       "    .dataframe tbody tr th {\n",
       "        vertical-align: top;\n",
       "    }\n",
       "\n",
       "    .dataframe thead th {\n",
       "        text-align: right;\n",
       "    }\n",
       "</style>\n",
       "<table border=\"1\" class=\"dataframe\">\n",
       "  <thead>\n",
       "    <tr style=\"text-align: right;\">\n",
       "      <th></th>\n",
       "      <th>session_id</th>\n",
       "      <th>client_pin</th>\n",
       "      <th>timestamp</th>\n",
       "      <th>multi_class_target</th>\n",
       "      <th>dom</th>\n",
       "      <th>dow</th>\n",
       "      <th>hour</th>\n",
       "      <th>tod</th>\n",
       "      <th>client_freq_main_screen</th>\n",
       "      <th>client_freq_statement</th>\n",
       "      <th>...</th>\n",
       "      <th>lt_card_recharge</th>\n",
       "      <th>lt_chat</th>\n",
       "      <th>lt_credit_info</th>\n",
       "      <th>lt_first_appear</th>\n",
       "      <th>lt_invest</th>\n",
       "      <th>lt_main_screen</th>\n",
       "      <th>lt_mobile_recharge</th>\n",
       "      <th>lt_own_transfer</th>\n",
       "      <th>lt_phone_money_transfer</th>\n",
       "      <th>lt_statement</th>\n",
       "    </tr>\n",
       "  </thead>\n",
       "  <tbody>\n",
       "    <tr>\n",
       "      <th>0</th>\n",
       "      <td>0000029e72e5fcde6a9f29c3a3ed198f</td>\n",
       "      <td>7cf9221322a0e2fdefb1b998b8f2ab29</td>\n",
       "      <td>2020-06-15 14:01:12</td>\n",
       "      <td>main_screen</td>\n",
       "      <td>15</td>\n",
       "      <td>0</td>\n",
       "      <td>14</td>\n",
       "      <td>day</td>\n",
       "      <td>0.133333</td>\n",
       "      <td>0.380952</td>\n",
       "      <td>...</td>\n",
       "      <td>0</td>\n",
       "      <td>0</td>\n",
       "      <td>0</td>\n",
       "      <td>0</td>\n",
       "      <td>0</td>\n",
       "      <td>0</td>\n",
       "      <td>0</td>\n",
       "      <td>0</td>\n",
       "      <td>0</td>\n",
       "      <td>1</td>\n",
       "    </tr>\n",
       "    <tr>\n",
       "      <th>1</th>\n",
       "      <td>00063dffa47b0fe5556b2b9e8beddb6a</td>\n",
       "      <td>5f16c0ab27a806fd08db3122921adf3a</td>\n",
       "      <td>2020-03-21 12:59:34</td>\n",
       "      <td>invest</td>\n",
       "      <td>21</td>\n",
       "      <td>5</td>\n",
       "      <td>12</td>\n",
       "      <td>day</td>\n",
       "      <td>0.389706</td>\n",
       "      <td>0.573529</td>\n",
       "      <td>...</td>\n",
       "      <td>0</td>\n",
       "      <td>0</td>\n",
       "      <td>0</td>\n",
       "      <td>0</td>\n",
       "      <td>0</td>\n",
       "      <td>1</td>\n",
       "      <td>0</td>\n",
       "      <td>0</td>\n",
       "      <td>0</td>\n",
       "      <td>0</td>\n",
       "    </tr>\n",
       "    <tr>\n",
       "      <th>2</th>\n",
       "      <td>0007857f36d268ec46fcb7305538a1c7</td>\n",
       "      <td>ec868fc2b388293cf10e18ee9518d72f</td>\n",
       "      <td>2020-01-24 18:18:55</td>\n",
       "      <td>statement</td>\n",
       "      <td>24</td>\n",
       "      <td>4</td>\n",
       "      <td>18</td>\n",
       "      <td>evening</td>\n",
       "      <td>0.116279</td>\n",
       "      <td>0.465116</td>\n",
       "      <td>...</td>\n",
       "      <td>0</td>\n",
       "      <td>0</td>\n",
       "      <td>0</td>\n",
       "      <td>0</td>\n",
       "      <td>0</td>\n",
       "      <td>0</td>\n",
       "      <td>0</td>\n",
       "      <td>0</td>\n",
       "      <td>0</td>\n",
       "      <td>1</td>\n",
       "    </tr>\n",
       "    <tr>\n",
       "      <th>3</th>\n",
       "      <td>000a7f25fc3609cdfda54c5f059aab00</td>\n",
       "      <td>91f55a33d7502c1a1fa5da7ff2f7b648</td>\n",
       "      <td>2020-03-15 19:50:23</td>\n",
       "      <td>main_screen</td>\n",
       "      <td>15</td>\n",
       "      <td>6</td>\n",
       "      <td>19</td>\n",
       "      <td>evening</td>\n",
       "      <td>0.457831</td>\n",
       "      <td>0.449799</td>\n",
       "      <td>...</td>\n",
       "      <td>0</td>\n",
       "      <td>0</td>\n",
       "      <td>0</td>\n",
       "      <td>0</td>\n",
       "      <td>0</td>\n",
       "      <td>0</td>\n",
       "      <td>0</td>\n",
       "      <td>0</td>\n",
       "      <td>0</td>\n",
       "      <td>1</td>\n",
       "    </tr>\n",
       "    <tr>\n",
       "      <th>4</th>\n",
       "      <td>000b746d6616669663feaa1474ac97f1</td>\n",
       "      <td>3ef1020bda95ce7836d2680fa553ecb7</td>\n",
       "      <td>2020-02-20 07:56:58</td>\n",
       "      <td>main_screen</td>\n",
       "      <td>20</td>\n",
       "      <td>3</td>\n",
       "      <td>7</td>\n",
       "      <td>morning</td>\n",
       "      <td>0.600000</td>\n",
       "      <td>0.066667</td>\n",
       "      <td>...</td>\n",
       "      <td>0</td>\n",
       "      <td>0</td>\n",
       "      <td>0</td>\n",
       "      <td>0</td>\n",
       "      <td>0</td>\n",
       "      <td>1</td>\n",
       "      <td>0</td>\n",
       "      <td>0</td>\n",
       "      <td>0</td>\n",
       "      <td>0</td>\n",
       "    </tr>\n",
       "  </tbody>\n",
       "</table>\n",
       "<p>5 rows × 89 columns</p>\n",
       "</div>"
      ],
      "text/plain": [
       "                         session_id                        client_pin  \\\n",
       "0  0000029e72e5fcde6a9f29c3a3ed198f  7cf9221322a0e2fdefb1b998b8f2ab29   \n",
       "1  00063dffa47b0fe5556b2b9e8beddb6a  5f16c0ab27a806fd08db3122921adf3a   \n",
       "2  0007857f36d268ec46fcb7305538a1c7  ec868fc2b388293cf10e18ee9518d72f   \n",
       "3  000a7f25fc3609cdfda54c5f059aab00  91f55a33d7502c1a1fa5da7ff2f7b648   \n",
       "4  000b746d6616669663feaa1474ac97f1  3ef1020bda95ce7836d2680fa553ecb7   \n",
       "\n",
       "            timestamp multi_class_target  dom  dow  hour      tod  \\\n",
       "0 2020-06-15 14:01:12        main_screen   15    0    14      day   \n",
       "1 2020-03-21 12:59:34             invest   21    5    12      day   \n",
       "2 2020-01-24 18:18:55          statement   24    4    18  evening   \n",
       "3 2020-03-15 19:50:23        main_screen   15    6    19  evening   \n",
       "4 2020-02-20 07:56:58        main_screen   20    3     7  morning   \n",
       "\n",
       "   client_freq_main_screen  client_freq_statement  ...  lt_card_recharge  \\\n",
       "0                 0.133333               0.380952  ...                 0   \n",
       "1                 0.389706               0.573529  ...                 0   \n",
       "2                 0.116279               0.465116  ...                 0   \n",
       "3                 0.457831               0.449799  ...                 0   \n",
       "4                 0.600000               0.066667  ...                 0   \n",
       "\n",
       "   lt_chat  lt_credit_info  lt_first_appear  lt_invest  lt_main_screen  \\\n",
       "0        0               0                0          0               0   \n",
       "1        0               0                0          0               1   \n",
       "2        0               0                0          0               0   \n",
       "3        0               0                0          0               0   \n",
       "4        0               0                0          0               1   \n",
       "\n",
       "   lt_mobile_recharge  lt_own_transfer  lt_phone_money_transfer  lt_statement  \n",
       "0                   0                0                        0             1  \n",
       "1                   0                0                        0             0  \n",
       "2                   0                0                        0             1  \n",
       "3                   0                0                        0             1  \n",
       "4                   0                0                        0             0  \n",
       "\n",
       "[5 rows x 89 columns]"
      ]
     },
     "execution_count": 34,
     "metadata": {},
     "output_type": "execute_result"
    }
   ],
   "source": [
    "data.head()"
   ]
  },
  {
   "cell_type": "code",
   "execution_count": 35,
   "metadata": {},
   "outputs": [],
   "source": [
    "pickle.dump(lb_last_target, open(os.path.join(UTILS, 'lb_last_target.pkl'), 'wb'))"
   ]
  },
  {
   "cell_type": "code",
   "execution_count": null,
   "metadata": {},
   "outputs": [],
   "source": []
  },
  {
   "cell_type": "code",
   "execution_count": null,
   "metadata": {},
   "outputs": [],
   "source": []
  },
  {
   "cell_type": "markdown",
   "metadata": {},
   "source": [
    "### ADD relations time spend past target was"
   ]
  },
  {
   "cell_type": "code",
   "execution_count": 42,
   "metadata": {},
   "outputs": [],
   "source": [
    "data_relations = pd.read_csv(os.path.join(DATA_OWN, 'relations_time_past_targ.csv'), parse_dates=['timestamp'])\n",
    "data_relations.drop('Unnamed: 0', inplace = True, axis = 1)"
   ]
  },
  {
   "cell_type": "code",
   "execution_count": 43,
   "metadata": {},
   "outputs": [],
   "source": [
    "data = data.merge(data_relations, how= 'left', on=['client_pin', 'timestamp'], validate='one_to_one')"
   ]
  },
  {
   "cell_type": "code",
   "execution_count": null,
   "metadata": {},
   "outputs": [],
   "source": [
    "#data_relations.head()"
   ]
  },
  {
   "cell_type": "code",
   "execution_count": null,
   "metadata": {},
   "outputs": [],
   "source": []
  },
  {
   "cell_type": "code",
   "execution_count": null,
   "metadata": {},
   "outputs": [],
   "source": []
  },
  {
   "cell_type": "code",
   "execution_count": 45,
   "metadata": {},
   "outputs": [],
   "source": [
    "#data.sample(10)"
   ]
  },
  {
   "cell_type": "code",
   "execution_count": null,
   "metadata": {},
   "outputs": [],
   "source": []
  },
  {
   "cell_type": "code",
   "execution_count": null,
   "metadata": {},
   "outputs": [],
   "source": []
  },
  {
   "cell_type": "code",
   "execution_count": null,
   "metadata": {},
   "outputs": [],
   "source": [
    "#f1 = make_scorer(f1_score , average='macro')"
   ]
  },
  {
   "cell_type": "markdown",
   "metadata": {},
   "source": [
    "### create using features list"
   ]
  },
  {
   "cell_type": "raw",
   "metadata": {},
   "source": [
    "using_features = []\n",
    "using_features.extend(client_freq_features)\n",
    "using_features.extend(dom_diff_freq_features)\n",
    "using_features.extend(dow_diff_freq_features)\n",
    "using_features.extend(hour_diff_freq_features)\n",
    "using_features.extend(tod_diff_freq_features)\n",
    "\n",
    "print(len(using_features), using_features)"
   ]
  },
  {
   "cell_type": "code",
   "execution_count": 46,
   "metadata": {},
   "outputs": [
    {
     "name": "stdout",
     "output_type": "stream",
     "text": [
      "91\n"
     ]
    }
   ],
   "source": [
    "using_features = data.keys()[8:]\n",
    "print(len(using_features))\n",
    "#print(using_features)"
   ]
  },
  {
   "cell_type": "code",
   "execution_count": null,
   "metadata": {},
   "outputs": [],
   "source": []
  },
  {
   "cell_type": "markdown",
   "metadata": {},
   "source": [
    "## saving"
   ]
  },
  {
   "cell_type": "code",
   "execution_count": 51,
   "metadata": {},
   "outputs": [
    {
     "name": "stdout",
     "output_type": "stream",
     "text": [
      "Wall time: 9min 14s\n"
     ]
    }
   ],
   "source": [
    "%%time\n",
    "#81 - 8min 57s\n",
    "#91 - 9min 14s\n",
    "\n",
    "data.to_csv(os.path.join(DATA_OWN, 'data_train.csv'))"
   ]
  },
  {
   "cell_type": "code",
   "execution_count": 52,
   "metadata": {},
   "outputs": [
    {
     "name": "stdout",
     "output_type": "stream",
     "text": [
      "Wall time: 206 ms\n"
     ]
    }
   ],
   "source": [
    "%%time\n",
    "pickle.dump(using_features, open(os.path.join(DATA_OWN, 'using_features.pkl'), 'wb'))"
   ]
  },
  {
   "cell_type": "code",
   "execution_count": null,
   "metadata": {},
   "outputs": [],
   "source": []
  },
  {
   "cell_type": "code",
   "execution_count": null,
   "metadata": {},
   "outputs": [],
   "source": []
  },
  {
   "cell_type": "markdown",
   "metadata": {},
   "source": [
    "#### Set dtypes for reduse mem usage"
   ]
  },
  {
   "cell_type": "code",
   "execution_count": 40,
   "metadata": {},
   "outputs": [
    {
     "name": "stdout",
     "output_type": "stream",
     "text": [
      "Wall time: 27.6 ms\n"
     ]
    }
   ],
   "source": [
    "%%time\n",
    "using_features = pickle.load(open(os.path.join(DATA_OWN, 'using_features.pkl'), 'rb'))"
   ]
  },
  {
   "cell_type": "code",
   "execution_count": 47,
   "metadata": {},
   "outputs": [
    {
     "name": "stdout",
     "output_type": "stream",
     "text": [
      "{\n",
      "'client_freq_main_screen': np.float32, # np.int8,\n",
      "'client_freq_statement': np.float32, # np.int8,\n",
      "'client_freq_credit_info': np.float32, # np.int8,\n",
      "'client_freq_own_transfer': np.float32, # np.int8,\n",
      "'client_freq_mobile_recharge': np.float32, # np.int8,\n",
      "'client_freq_phone_money_transfer': np.float32, # np.int8,\n",
      "'client_freq_card2card_transfer': np.float32, # np.int8,\n",
      "'client_freq_chat': np.float32, # np.int8,\n",
      "'client_freq_card_recharge': np.float32, # np.int8,\n",
      "'client_freq_invest': np.float32, # np.int8,\n",
      "'dow_diff_client_freq_main_screen': np.float32, # np.int8,\n",
      "'dow_diff_client_freq_statement': np.float32, # np.int8,\n",
      "'dow_diff_client_freq_credit_info': np.float32, # np.int8,\n",
      "'dow_diff_client_freq_own_transfer': np.float32, # np.int8,\n",
      "'dow_diff_client_freq_mobile_recharge': np.float32, # np.int8,\n",
      "'dow_diff_client_freq_phone_money_transfer': np.float32, # np.int8,\n",
      "'dow_diff_client_freq_card2card_transfer': np.float32, # np.int8,\n",
      "'dow_diff_client_freq_chat': np.float32, # np.int8,\n",
      "'dow_diff_client_freq_card_recharge': np.float32, # np.int8,\n",
      "'dow_diff_client_freq_invest': np.float32, # np.int8,\n",
      "'tod_diff_client_freq_main_screen': np.float32, # np.int8,\n",
      "'tod_diff_client_freq_statement': np.float32, # np.int8,\n",
      "'tod_diff_client_freq_credit_info': np.float32, # np.int8,\n",
      "'tod_diff_client_freq_own_transfer': np.float32, # np.int8,\n",
      "'tod_diff_client_freq_mobile_recharge': np.float32, # np.int8,\n",
      "'tod_diff_client_freq_phone_money_transfer': np.float32, # np.int8,\n",
      "'tod_diff_client_freq_card2card_transfer': np.float32, # np.int8,\n",
      "'tod_diff_client_freq_chat': np.float32, # np.int8,\n",
      "'tod_diff_client_freq_card_recharge': np.float32, # np.int8,\n",
      "'tod_diff_client_freq_invest': np.float32, # np.int8,\n",
      "'dom_diff_glob_freq_main_screen': np.float32, # np.int8,\n",
      "'dom_diff_glob_freq_statement': np.float32, # np.int8,\n",
      "'dom_diff_glob_freq_credit_info': np.float32, # np.int8,\n",
      "'dom_diff_glob_freq_own_transfer': np.float32, # np.int8,\n",
      "'dom_diff_glob_freq_mobile_recharge': np.float32, # np.int8,\n",
      "'dom_diff_glob_freq_phone_money_transfer': np.float32, # np.int8,\n",
      "'dom_diff_glob_freq_card2card_transfer': np.float32, # np.int8,\n",
      "'dom_diff_glob_freq_chat': np.float32, # np.int8,\n",
      "'dom_diff_glob_freq_card_recharge': np.float32, # np.int8,\n",
      "'dom_diff_glob_freq_invest': np.float32, # np.int8,\n",
      "'dow_diff_glob_freq_main_screen': np.float32, # np.int8,\n",
      "'dow_diff_glob_freq_statement': np.float32, # np.int8,\n",
      "'dow_diff_glob_freq_credit_info': np.float32, # np.int8,\n",
      "'dow_diff_glob_freq_own_transfer': np.float32, # np.int8,\n",
      "'dow_diff_glob_freq_mobile_recharge': np.float32, # np.int8,\n",
      "'dow_diff_glob_freq_phone_money_transfer': np.float32, # np.int8,\n",
      "'dow_diff_glob_freq_card2card_transfer': np.float32, # np.int8,\n",
      "'dow_diff_glob_freq_chat': np.float32, # np.int8,\n",
      "'dow_diff_glob_freq_card_recharge': np.float32, # np.int8,\n",
      "'dow_diff_glob_freq_invest': np.float32, # np.int8,\n",
      "'hour_diff_glob_freq_main_screen': np.float32, # np.int8,\n",
      "'hour_diff_glob_freq_statement': np.float32, # np.int8,\n",
      "'hour_diff_glob_freq_credit_info': np.float32, # np.int8,\n",
      "'hour_diff_glob_freq_own_transfer': np.float32, # np.int8,\n",
      "'hour_diff_glob_freq_mobile_recharge': np.float32, # np.int8,\n",
      "'hour_diff_glob_freq_phone_money_transfer': np.float32, # np.int8,\n",
      "'hour_diff_glob_freq_card2card_transfer': np.float32, # np.int8,\n",
      "'hour_diff_glob_freq_chat': np.float32, # np.int8,\n",
      "'hour_diff_glob_freq_card_recharge': np.float32, # np.int8,\n",
      "'hour_diff_glob_freq_invest': np.float32, # np.int8,\n",
      "'tod_diff_glob_freq_main_screen': np.float32, # np.int8,\n",
      "'tod_diff_glob_freq_statement': np.float32, # np.int8,\n",
      "'tod_diff_glob_freq_credit_info': np.float32, # np.int8,\n",
      "'tod_diff_glob_freq_own_transfer': np.float32, # np.int8,\n",
      "'tod_diff_glob_freq_mobile_recharge': np.float32, # np.int8,\n",
      "'tod_diff_glob_freq_phone_money_transfer': np.float32, # np.int8,\n",
      "'tod_diff_glob_freq_card2card_transfer': np.float32, # np.int8,\n",
      "'tod_diff_glob_freq_chat': np.float32, # np.int8,\n",
      "'tod_diff_glob_freq_card_recharge': np.float32, # np.int8,\n",
      "'tod_diff_glob_freq_invest': np.float32, # np.int8,\n",
      "'lt_card2card_transfer': np.int8,\n",
      "'lt_card_recharge': np.int8,\n",
      "'lt_chat': np.int8,\n",
      "'lt_credit_info': np.int8,\n",
      "'lt_first_appear': np.int8,\n",
      "'lt_invest': np.int8,\n",
      "'lt_main_screen': np.int8,\n",
      "'lt_mobile_recharge': np.int8,\n",
      "'lt_own_transfer': np.int8,\n",
      "'lt_phone_money_transfer': np.int8,\n",
      "'lt_statement': np.int8,\n",
      "'relations_time_past_targ_main_screen': np.float32, # np.int8,\n",
      "'relations_time_past_targ_statement': np.float32, # np.int8,\n",
      "'relations_time_past_targ_credit_info': np.float32, # np.int8,\n",
      "'relations_time_past_targ_own_transfer': np.float32, # np.int8,\n",
      "'relations_time_past_targ_mobile_recharge': np.float32, # np.int8,\n",
      "'relations_time_past_targ_phone_money_transfer': np.float32, # np.int8,\n",
      "'relations_time_past_targ_card2card_transfer': np.float32, # np.int8,\n",
      "'relations_time_past_targ_chat': np.float32, # np.int8,\n",
      "'relations_time_past_targ_card_recharge': np.float32, # np.int8,\n",
      "'relations_time_past_targ_invest': np.float32, # np.int8,\n",
      "}\n"
     ]
    }
   ],
   "source": [
    "print(\"{\")\n",
    "for el in using_features:\n",
    "    if el.startswith('lt'):\n",
    "        print(\"'\" + el + \"': np.int8,\")\n",
    "    else:\n",
    "        print(\"'\" + el + \"': np.float32, # np.int8,\")\n",
    "print(\"}\")"
   ]
  },
  {
   "cell_type": "code",
   "execution_count": 48,
   "metadata": {},
   "outputs": [],
   "source": [
    "load_dtypes = {\n",
    "'client_freq_main_screen': np.float32, # np.int8,\n",
    "'client_freq_statement': np.float32, # np.int8,\n",
    "'client_freq_credit_info': np.float32, # np.int8,\n",
    "'client_freq_own_transfer': np.float32, # np.int8,\n",
    "'client_freq_mobile_recharge': np.float32, # np.int8,\n",
    "'client_freq_phone_money_transfer': np.float32, # np.int8,\n",
    "'client_freq_card2card_transfer': np.float32, # np.int8,\n",
    "'client_freq_chat': np.float32, # np.int8,\n",
    "'client_freq_card_recharge': np.float32, # np.int8,\n",
    "'client_freq_invest': np.float32, # np.int8,\n",
    "'dow_diff_client_freq_main_screen': np.float32, # np.int8,\n",
    "'dow_diff_client_freq_statement': np.float32, # np.int8,\n",
    "'dow_diff_client_freq_credit_info': np.float32, # np.int8,\n",
    "'dow_diff_client_freq_own_transfer': np.float32, # np.int8,\n",
    "'dow_diff_client_freq_mobile_recharge': np.float32, # np.int8,\n",
    "'dow_diff_client_freq_phone_money_transfer': np.float32, # np.int8,\n",
    "'dow_diff_client_freq_card2card_transfer': np.float32, # np.int8,\n",
    "'dow_diff_client_freq_chat': np.float32, # np.int8,\n",
    "'dow_diff_client_freq_card_recharge': np.float32, # np.int8,\n",
    "'dow_diff_client_freq_invest': np.float32, # np.int8,\n",
    "'tod_diff_client_freq_main_screen': np.float32, # np.int8,\n",
    "'tod_diff_client_freq_statement': np.float32, # np.int8,\n",
    "'tod_diff_client_freq_credit_info': np.float32, # np.int8,\n",
    "'tod_diff_client_freq_own_transfer': np.float32, # np.int8,\n",
    "'tod_diff_client_freq_mobile_recharge': np.float32, # np.int8,\n",
    "'tod_diff_client_freq_phone_money_transfer': np.float32, # np.int8,\n",
    "'tod_diff_client_freq_card2card_transfer': np.float32, # np.int8,\n",
    "'tod_diff_client_freq_chat': np.float32, # np.int8,\n",
    "'tod_diff_client_freq_card_recharge': np.float32, # np.int8,\n",
    "'tod_diff_client_freq_invest': np.float32, # np.int8,\n",
    "'dom_diff_glob_freq_main_screen': np.float32, # np.int8,\n",
    "'dom_diff_glob_freq_statement': np.float32, # np.int8,\n",
    "'dom_diff_glob_freq_credit_info': np.float32, # np.int8,\n",
    "'dom_diff_glob_freq_own_transfer': np.float32, # np.int8,\n",
    "'dom_diff_glob_freq_mobile_recharge': np.float32, # np.int8,\n",
    "'dom_diff_glob_freq_phone_money_transfer': np.float32, # np.int8,\n",
    "'dom_diff_glob_freq_card2card_transfer': np.float32, # np.int8,\n",
    "'dom_diff_glob_freq_chat': np.float32, # np.int8,\n",
    "'dom_diff_glob_freq_card_recharge': np.float32, # np.int8,\n",
    "'dom_diff_glob_freq_invest': np.float32, # np.int8,\n",
    "'dow_diff_glob_freq_main_screen': np.float32, # np.int8,\n",
    "'dow_diff_glob_freq_statement': np.float32, # np.int8,\n",
    "'dow_diff_glob_freq_credit_info': np.float32, # np.int8,\n",
    "'dow_diff_glob_freq_own_transfer': np.float32, # np.int8,\n",
    "'dow_diff_glob_freq_mobile_recharge': np.float32, # np.int8,\n",
    "'dow_diff_glob_freq_phone_money_transfer': np.float32, # np.int8,\n",
    "'dow_diff_glob_freq_card2card_transfer': np.float32, # np.int8,\n",
    "'dow_diff_glob_freq_chat': np.float32, # np.int8,\n",
    "'dow_diff_glob_freq_card_recharge': np.float32, # np.int8,\n",
    "'dow_diff_glob_freq_invest': np.float32, # np.int8,\n",
    "'hour_diff_glob_freq_main_screen': np.float32, # np.int8,\n",
    "'hour_diff_glob_freq_statement': np.float32, # np.int8,\n",
    "'hour_diff_glob_freq_credit_info': np.float32, # np.int8,\n",
    "'hour_diff_glob_freq_own_transfer': np.float32, # np.int8,\n",
    "'hour_diff_glob_freq_mobile_recharge': np.float32, # np.int8,\n",
    "'hour_diff_glob_freq_phone_money_transfer': np.float32, # np.int8,\n",
    "'hour_diff_glob_freq_card2card_transfer': np.float32, # np.int8,\n",
    "'hour_diff_glob_freq_chat': np.float32, # np.int8,\n",
    "'hour_diff_glob_freq_card_recharge': np.float32, # np.int8,\n",
    "'hour_diff_glob_freq_invest': np.float32, # np.int8,\n",
    "'tod_diff_glob_freq_main_screen': np.float32, # np.int8,\n",
    "'tod_diff_glob_freq_statement': np.float32, # np.int8,\n",
    "'tod_diff_glob_freq_credit_info': np.float32, # np.int8,\n",
    "'tod_diff_glob_freq_own_transfer': np.float32, # np.int8,\n",
    "'tod_diff_glob_freq_mobile_recharge': np.float32, # np.int8,\n",
    "'tod_diff_glob_freq_phone_money_transfer': np.float32, # np.int8,\n",
    "'tod_diff_glob_freq_card2card_transfer': np.float32, # np.int8,\n",
    "'tod_diff_glob_freq_chat': np.float32, # np.int8,\n",
    "'tod_diff_glob_freq_card_recharge': np.float32, # np.int8,\n",
    "'tod_diff_glob_freq_invest': np.float32, # np.int8,\n",
    "'lt_card2card_transfer': np.int8,\n",
    "'lt_card_recharge': np.int8,\n",
    "'lt_chat': np.int8,\n",
    "'lt_credit_info': np.int8,\n",
    "'lt_first_appear': np.int8,\n",
    "'lt_invest': np.int8,\n",
    "'lt_main_screen': np.int8,\n",
    "'lt_mobile_recharge': np.int8,\n",
    "'lt_own_transfer': np.int8,\n",
    "'lt_phone_money_transfer': np.int8,\n",
    "'lt_statement': np.int8,\n",
    "'relations_time_past_targ_main_screen': np.float32, # np.int8,\n",
    "'relations_time_past_targ_statement': np.float32, # np.int8,\n",
    "'relations_time_past_targ_credit_info': np.float32, # np.int8,\n",
    "'relations_time_past_targ_own_transfer': np.float32, # np.int8,\n",
    "'relations_time_past_targ_mobile_recharge': np.float32, # np.int8,\n",
    "'relations_time_past_targ_phone_money_transfer': np.float32, # np.int8,\n",
    "'relations_time_past_targ_card2card_transfer': np.float32, # np.int8,\n",
    "'relations_time_past_targ_chat': np.float32, # np.int8,\n",
    "'relations_time_past_targ_card_recharge': np.float32, # np.int8,\n",
    "'relations_time_past_targ_invest': np.float32, # np.int8,\n",
    "}"
   ]
  },
  {
   "cell_type": "code",
   "execution_count": 50,
   "metadata": {},
   "outputs": [],
   "source": [
    "pickle.dump(load_dtypes, open(os.path.join(UTILS, 'load_dtypes.pkl'), 'wb'))"
   ]
  },
  {
   "cell_type": "code",
   "execution_count": null,
   "metadata": {},
   "outputs": [],
   "source": [
    "#load_dtypes = pickle.load(open(os.path.join(UTILS, 'load_dtypes.pkl'), 'rb'))"
   ]
  },
  {
   "cell_type": "code",
   "execution_count": null,
   "metadata": {},
   "outputs": [],
   "source": []
  },
  {
   "cell_type": "code",
   "execution_count": null,
   "metadata": {},
   "outputs": [],
   "source": []
  }
 ],
 "metadata": {
  "kernelspec": {
   "display_name": "Python 3",
   "language": "python",
   "name": "python3"
  },
  "language_info": {
   "codemirror_mode": {
    "name": "ipython",
    "version": 3
   },
   "file_extension": ".py",
   "mimetype": "text/x-python",
   "name": "python",
   "nbconvert_exporter": "python",
   "pygments_lexer": "ipython3",
   "version": "3.7.9"
  }
 },
 "nbformat": 4,
 "nbformat_minor": 4
}
