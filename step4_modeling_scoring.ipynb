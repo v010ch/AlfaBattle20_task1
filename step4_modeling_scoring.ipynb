{
 "cells": [
  {
   "cell_type": "code",
   "execution_count": 2,
   "metadata": {},
   "outputs": [
    {
     "name": "stderr",
     "output_type": "stream",
     "text": [
      "C:\\Users\\_v010ch_\\Anaconda3\\lib\\site-packages\\tqdm\\std.py:697: FutureWarning: The Panel class is removed from pandas. Accessing it from the top-level namespace will also be removed in the next version\n",
      "  from pandas import Panel\n"
     ]
    }
   ],
   "source": [
    "import os\n",
    "from glob import glob\n",
    "import pandas as pd\n",
    "import numpy as np\n",
    "import itertools\n",
    "from collections import Counter\n",
    "\n",
    "\n",
    "import pickle\n",
    "import gc\n",
    "\n",
    "from tqdm import tqdm\n",
    "tqdm.pandas()"
   ]
  },
  {
   "cell_type": "code",
   "execution_count": 3,
   "metadata": {},
   "outputs": [],
   "source": [
    "from sklearn.preprocessing import LabelBinarizer, OneHotEncoder\n",
    "\n",
    "from sklearn.model_selection import GridSearchCV\n",
    "from sklearn.model_selection import train_test_split\n",
    "\n",
    "from sklearn.metrics import f1_score, make_scorer"
   ]
  },
  {
   "cell_type": "code",
   "execution_count": 4,
   "metadata": {},
   "outputs": [],
   "source": [
    "from sklearn.linear_model import SGDClassifier\n",
    "from sklearn.neural_network import MLPClassifier\n",
    "#from sklearn.svm import SVC\n",
    "from sklearn.svm import LinearSVC\n",
    "from sklearn.linear_model import LogisticRegression\n",
    "\n",
    "from catboost import CatBoostClassifier"
   ]
  },
  {
   "cell_type": "code",
   "execution_count": null,
   "metadata": {},
   "outputs": [],
   "source": []
  },
  {
   "cell_type": "code",
   "execution_count": null,
   "metadata": {},
   "outputs": [],
   "source": []
  },
  {
   "cell_type": "code",
   "execution_count": 5,
   "metadata": {},
   "outputs": [],
   "source": [
    "DATA = './data'\n",
    "DATA_OWN = './data_own'\n",
    "CLICKSTREAM = 'alfabattle2_abattle_clickstream'\n",
    "MODELS = './models'\n",
    "UTILS = './utils'"
   ]
  },
  {
   "cell_type": "code",
   "execution_count": null,
   "metadata": {},
   "outputs": [],
   "source": []
  },
  {
   "cell_type": "markdown",
   "metadata": {},
   "source": [
    "## load data, features"
   ]
  },
  {
   "cell_type": "code",
   "execution_count": 6,
   "metadata": {},
   "outputs": [
    {
     "name": "stdout",
     "output_type": "stream",
     "text": [
      "Wall time: 1min 30s\n"
     ]
    },
    {
     "data": {
      "text/html": [
       "<div>\n",
       "<style scoped>\n",
       "    .dataframe tbody tr th:only-of-type {\n",
       "        vertical-align: middle;\n",
       "    }\n",
       "\n",
       "    .dataframe tbody tr th {\n",
       "        vertical-align: top;\n",
       "    }\n",
       "\n",
       "    .dataframe thead th {\n",
       "        text-align: right;\n",
       "    }\n",
       "</style>\n",
       "<table border=\"1\" class=\"dataframe\">\n",
       "  <thead>\n",
       "    <tr style=\"text-align: right;\">\n",
       "      <th></th>\n",
       "      <th>Unnamed: 0</th>\n",
       "      <th>session_id</th>\n",
       "      <th>client_pin</th>\n",
       "      <th>timestamp</th>\n",
       "      <th>multi_class_target</th>\n",
       "      <th>dom</th>\n",
       "      <th>dow</th>\n",
       "      <th>hour</th>\n",
       "      <th>tod</th>\n",
       "      <th>client_freq_main_screen</th>\n",
       "      <th>...</th>\n",
       "      <th>tod_diff_glob_freq_main_screen</th>\n",
       "      <th>tod_diff_glob_freq_statement</th>\n",
       "      <th>tod_diff_glob_freq_credit_info</th>\n",
       "      <th>tod_diff_glob_freq_own_transfer</th>\n",
       "      <th>tod_diff_glob_freq_mobile_recharge</th>\n",
       "      <th>tod_diff_glob_freq_phone_money_transfer</th>\n",
       "      <th>tod_diff_glob_freq_card2card_transfer</th>\n",
       "      <th>tod_diff_glob_freq_chat</th>\n",
       "      <th>tod_diff_glob_freq_card_recharge</th>\n",
       "      <th>tod_diff_glob_freq_invest</th>\n",
       "    </tr>\n",
       "  </thead>\n",
       "  <tbody>\n",
       "    <tr>\n",
       "      <th>0</th>\n",
       "      <td>0</td>\n",
       "      <td>0000029e72e5fcde6a9f29c3a3ed198f</td>\n",
       "      <td>7cf9221322a0e2fdefb1b998b8f2ab29</td>\n",
       "      <td>2020-06-15 14:01:12</td>\n",
       "      <td>main_screen</td>\n",
       "      <td>15</td>\n",
       "      <td>0</td>\n",
       "      <td>14</td>\n",
       "      <td>day</td>\n",
       "      <td>0.133333</td>\n",
       "      <td>...</td>\n",
       "      <td>-0.006382</td>\n",
       "      <td>-0.003040</td>\n",
       "      <td>0.008693</td>\n",
       "      <td>-0.003441</td>\n",
       "      <td>0.010104</td>\n",
       "      <td>-0.003059</td>\n",
       "      <td>-0.002092</td>\n",
       "      <td>-0.000810</td>\n",
       "      <td>-0.001044</td>\n",
       "      <td>0.001070</td>\n",
       "    </tr>\n",
       "    <tr>\n",
       "      <th>1</th>\n",
       "      <td>1</td>\n",
       "      <td>00063dffa47b0fe5556b2b9e8beddb6a</td>\n",
       "      <td>5f16c0ab27a806fd08db3122921adf3a</td>\n",
       "      <td>2020-03-21 12:59:34</td>\n",
       "      <td>invest</td>\n",
       "      <td>21</td>\n",
       "      <td>5</td>\n",
       "      <td>12</td>\n",
       "      <td>day</td>\n",
       "      <td>0.389706</td>\n",
       "      <td>...</td>\n",
       "      <td>-0.006382</td>\n",
       "      <td>-0.003040</td>\n",
       "      <td>0.008693</td>\n",
       "      <td>-0.003441</td>\n",
       "      <td>0.010104</td>\n",
       "      <td>-0.003059</td>\n",
       "      <td>-0.002092</td>\n",
       "      <td>-0.000810</td>\n",
       "      <td>-0.001044</td>\n",
       "      <td>0.001070</td>\n",
       "    </tr>\n",
       "    <tr>\n",
       "      <th>2</th>\n",
       "      <td>2</td>\n",
       "      <td>0007857f36d268ec46fcb7305538a1c7</td>\n",
       "      <td>ec868fc2b388293cf10e18ee9518d72f</td>\n",
       "      <td>2020-01-24 18:18:55</td>\n",
       "      <td>statement</td>\n",
       "      <td>24</td>\n",
       "      <td>4</td>\n",
       "      <td>18</td>\n",
       "      <td>evening</td>\n",
       "      <td>0.116279</td>\n",
       "      <td>...</td>\n",
       "      <td>0.018425</td>\n",
       "      <td>-0.016537</td>\n",
       "      <td>-0.001558</td>\n",
       "      <td>-0.001434</td>\n",
       "      <td>0.006193</td>\n",
       "      <td>0.000416</td>\n",
       "      <td>-0.003130</td>\n",
       "      <td>-0.001105</td>\n",
       "      <td>0.000214</td>\n",
       "      <td>-0.001486</td>\n",
       "    </tr>\n",
       "    <tr>\n",
       "      <th>3</th>\n",
       "      <td>3</td>\n",
       "      <td>000a7f25fc3609cdfda54c5f059aab00</td>\n",
       "      <td>91f55a33d7502c1a1fa5da7ff2f7b648</td>\n",
       "      <td>2020-03-15 19:50:23</td>\n",
       "      <td>main_screen</td>\n",
       "      <td>15</td>\n",
       "      <td>6</td>\n",
       "      <td>19</td>\n",
       "      <td>evening</td>\n",
       "      <td>0.457831</td>\n",
       "      <td>...</td>\n",
       "      <td>0.018425</td>\n",
       "      <td>-0.016537</td>\n",
       "      <td>-0.001558</td>\n",
       "      <td>-0.001434</td>\n",
       "      <td>0.006193</td>\n",
       "      <td>0.000416</td>\n",
       "      <td>-0.003130</td>\n",
       "      <td>-0.001105</td>\n",
       "      <td>0.000214</td>\n",
       "      <td>-0.001486</td>\n",
       "    </tr>\n",
       "    <tr>\n",
       "      <th>4</th>\n",
       "      <td>4</td>\n",
       "      <td>000b746d6616669663feaa1474ac97f1</td>\n",
       "      <td>3ef1020bda95ce7836d2680fa553ecb7</td>\n",
       "      <td>2020-02-20 07:56:58</td>\n",
       "      <td>main_screen</td>\n",
       "      <td>20</td>\n",
       "      <td>3</td>\n",
       "      <td>7</td>\n",
       "      <td>morning</td>\n",
       "      <td>0.600000</td>\n",
       "      <td>...</td>\n",
       "      <td>-0.007052</td>\n",
       "      <td>0.016034</td>\n",
       "      <td>-0.004793</td>\n",
       "      <td>0.002914</td>\n",
       "      <td>-0.013680</td>\n",
       "      <td>0.000881</td>\n",
       "      <td>0.003722</td>\n",
       "      <td>0.001396</td>\n",
       "      <td>0.000394</td>\n",
       "      <td>0.000184</td>\n",
       "    </tr>\n",
       "  </tbody>\n",
       "</table>\n",
       "<p>5 rows × 79 columns</p>\n",
       "</div>"
      ],
      "text/plain": [
       "   Unnamed: 0                        session_id  \\\n",
       "0           0  0000029e72e5fcde6a9f29c3a3ed198f   \n",
       "1           1  00063dffa47b0fe5556b2b9e8beddb6a   \n",
       "2           2  0007857f36d268ec46fcb7305538a1c7   \n",
       "3           3  000a7f25fc3609cdfda54c5f059aab00   \n",
       "4           4  000b746d6616669663feaa1474ac97f1   \n",
       "\n",
       "                         client_pin           timestamp multi_class_target  \\\n",
       "0  7cf9221322a0e2fdefb1b998b8f2ab29 2020-06-15 14:01:12        main_screen   \n",
       "1  5f16c0ab27a806fd08db3122921adf3a 2020-03-21 12:59:34             invest   \n",
       "2  ec868fc2b388293cf10e18ee9518d72f 2020-01-24 18:18:55          statement   \n",
       "3  91f55a33d7502c1a1fa5da7ff2f7b648 2020-03-15 19:50:23        main_screen   \n",
       "4  3ef1020bda95ce7836d2680fa553ecb7 2020-02-20 07:56:58        main_screen   \n",
       "\n",
       "   dom  dow  hour      tod  client_freq_main_screen  ...  \\\n",
       "0   15    0    14      day                 0.133333  ...   \n",
       "1   21    5    12      day                 0.389706  ...   \n",
       "2   24    4    18  evening                 0.116279  ...   \n",
       "3   15    6    19  evening                 0.457831  ...   \n",
       "4   20    3     7  morning                 0.600000  ...   \n",
       "\n",
       "   tod_diff_glob_freq_main_screen  tod_diff_glob_freq_statement  \\\n",
       "0                       -0.006382                     -0.003040   \n",
       "1                       -0.006382                     -0.003040   \n",
       "2                        0.018425                     -0.016537   \n",
       "3                        0.018425                     -0.016537   \n",
       "4                       -0.007052                      0.016034   \n",
       "\n",
       "   tod_diff_glob_freq_credit_info  tod_diff_glob_freq_own_transfer  \\\n",
       "0                        0.008693                        -0.003441   \n",
       "1                        0.008693                        -0.003441   \n",
       "2                       -0.001558                        -0.001434   \n",
       "3                       -0.001558                        -0.001434   \n",
       "4                       -0.004793                         0.002914   \n",
       "\n",
       "   tod_diff_glob_freq_mobile_recharge  \\\n",
       "0                            0.010104   \n",
       "1                            0.010104   \n",
       "2                            0.006193   \n",
       "3                            0.006193   \n",
       "4                           -0.013680   \n",
       "\n",
       "   tod_diff_glob_freq_phone_money_transfer  \\\n",
       "0                                -0.003059   \n",
       "1                                -0.003059   \n",
       "2                                 0.000416   \n",
       "3                                 0.000416   \n",
       "4                                 0.000881   \n",
       "\n",
       "   tod_diff_glob_freq_card2card_transfer  tod_diff_glob_freq_chat  \\\n",
       "0                              -0.002092                -0.000810   \n",
       "1                              -0.002092                -0.000810   \n",
       "2                              -0.003130                -0.001105   \n",
       "3                              -0.003130                -0.001105   \n",
       "4                               0.003722                 0.001396   \n",
       "\n",
       "   tod_diff_glob_freq_card_recharge  tod_diff_glob_freq_invest  \n",
       "0                         -0.001044                   0.001070  \n",
       "1                         -0.001044                   0.001070  \n",
       "2                          0.000214                  -0.001486  \n",
       "3                          0.000214                  -0.001486  \n",
       "4                          0.000394                   0.000184  \n",
       "\n",
       "[5 rows x 79 columns]"
      ]
     },
     "execution_count": 6,
     "metadata": {},
     "output_type": "execute_result"
    }
   ],
   "source": [
    "%%time\n",
    "data_train = pd.read_csv(os.path.join(DATA_OWN, 'data_train.csv'), parse_dates=['timestamp'])\n",
    "data_train.head()"
   ]
  },
  {
   "cell_type": "code",
   "execution_count": 7,
   "metadata": {},
   "outputs": [
    {
     "data": {
      "text/plain": [
       "False"
      ]
     },
     "execution_count": 7,
     "metadata": {},
     "output_type": "execute_result"
    }
   ],
   "source": [
    "(data_train.isnull().values.any())"
   ]
  },
  {
   "cell_type": "code",
   "execution_count": 7,
   "metadata": {},
   "outputs": [],
   "source": [
    "target = data_train.multi_class_target"
   ]
  },
  {
   "cell_type": "code",
   "execution_count": 10,
   "metadata": {},
   "outputs": [
    {
     "name": "stdout",
     "output_type": "stream",
     "text": [
      "Wall time: 11.4 s\n"
     ]
    },
    {
     "data": {
      "text/plain": [
       "((3393784, 79), (1671566, 79), (3393784,), (1671566,))"
      ]
     },
     "execution_count": 10,
     "metadata": {},
     "output_type": "execute_result"
    }
   ],
   "source": [
    "%%time\n",
    "X_train, X_val, y_train, y_val = train_test_split(data_train, target, test_size=0.33, random_state=42)\n",
    "X_train.shape, X_val.shape, y_train.shape, y_val.shape"
   ]
  },
  {
   "cell_type": "code",
   "execution_count": 11,
   "metadata": {},
   "outputs": [],
   "source": [
    "using_features = pickle.load(open(os.path.join(DATA_OWN, 'using_features.pkl'), 'rb'))"
   ]
  },
  {
   "cell_type": "code",
   "execution_count": null,
   "metadata": {},
   "outputs": [],
   "source": []
  },
  {
   "cell_type": "code",
   "execution_count": 43,
   "metadata": {},
   "outputs": [],
   "source": [
    "#f1 = make_scorer(f1_score , average='macro')"
   ]
  },
  {
   "cell_type": "code",
   "execution_count": null,
   "metadata": {},
   "outputs": [],
   "source": []
  },
  {
   "cell_type": "markdown",
   "metadata": {},
   "source": [
    "## check classifiers with check time of work"
   ]
  },
  {
   "cell_type": "code",
   "execution_count": null,
   "metadata": {},
   "outputs": [],
   "source": []
  },
  {
   "cell_type": "code",
   "execution_count": null,
   "metadata": {},
   "outputs": [],
   "source": [
    "#clf_sgd_log   = SGDClassifier(loss = 'log', class_weight='balanced', n_jobs=-1)\n",
    "\n",
    "#clf_knn  = KNeighborsClassifier()\n",
    "#clf_svc  = SVC()\n",
    "#clf_gaus = GaussianNB()"
   ]
  },
  {
   "cell_type": "code",
   "execution_count": 12,
   "metadata": {},
   "outputs": [
    {
     "name": "stdout",
     "output_type": "stream",
     "text": [
      "10 {'statement', 'chat', 'card2card_transfer', 'mobile_recharge', 'invest', 'main_screen', 'own_transfer', 'card_recharge', 'credit_info', 'phone_money_transfer'}\n",
      "0.6399196920731817\n",
      "Wall time: 53.8 s\n"
     ]
    }
   ],
   "source": [
    "%%time\n",
    "#clf_sgd_hinge = SGDClassifier(loss = 'hinge', class_weight='balanced', n_jobs=-1)\n",
    "clf_sgd_hinge = SGDClassifier(loss = 'hinge', n_jobs=-1)\n",
    "clf_sgd_hinge.fit(X_train[using_features], y_train)\n",
    "pred_sgd_hinge = clf_sgd_hinge.predict(X_val[using_features])\n",
    "print(len(set(pred_sgd_hinge)), set(pred_sgd_hinge))\n",
    "print(f1_score(y_val, pred_sgd_hinge, average  = 'micro'))"
   ]
  },
  {
   "cell_type": "code",
   "execution_count": null,
   "metadata": {},
   "outputs": [],
   "source": [
    "#%%time\n",
    "#clf_sgd_perc  = SGDClassifier(loss = 'perceptron', class_weight='balanced', n_jobs=-1)\n",
    "#clf_sgd_perc  = SGDClassifier(loss = 'perceptron', n_jobs=-1)\n",
    "#clf_sgd_perc.fit(X_train[using_features], y_train)\n",
    "#pred_sgd_perc = clf_sgd_perc.predict(X_val[using_features])\n",
    "#rint(len(set(pred_sgd_perc)), set(pred_sgd_perc))\n",
    "#rint(f1_score(y_val, pred_sgd_perc, average  = 'micro'))"
   ]
  },
  {
   "cell_type": "code",
   "execution_count": null,
   "metadata": {},
   "outputs": [],
   "source": [
    "%%time\n",
    "# 9 min\n",
    "\n",
    "clf_mlp  = MLPClassifier((200, 50), learning_rate = 'adaptive', activation='logistic', verbose = True)\n",
    "clf_mlp.fit(X_train[using_features], y_train)\n",
    "pred_mlp = clf_mlp.predict(X_val[using_features])\n",
    "print(set(pred_mlp))\n",
    "print(f1_score(y_val, pred_mlp, average  = 'micro'))"
   ]
  },
  {
   "cell_type": "code",
   "execution_count": null,
   "metadata": {},
   "outputs": [],
   "source": [
    "#%%time\n",
    "# TOOO LONG\n",
    "\n",
    "#clf_svc.fit(X_train[using_features], y_train)\n",
    "#pred_svc = clf_svc.predict(X_val[using_features])\n",
    "#print(set(pred_svc))\n",
    "#print(f1_score(y_val, pred_svc, average  = 'micro'))"
   ]
  },
  {
   "cell_type": "code",
   "execution_count": null,
   "metadata": {},
   "outputs": [],
   "source": [
    "#%%time\n",
    "# 24 min\n",
    "#\n",
    "#clf_rf   = RandomForestClassifier(n_jobs = -1, verbose = 1) \n",
    "#clf_rf.fit(X_train[using_features], y_train)\n",
    "#pred_rf = clf_rf.predict(X_val[using_features])\n",
    "#print(set(pred_rf))\n",
    "#print(f1_score(y_val, pred_rf, average  = 'micro'))"
   ]
  },
  {
   "cell_type": "code",
   "execution_count": null,
   "metadata": {},
   "outputs": [],
   "source": [
    "#%%time\n",
    "#clf_gaus.fit(X_train[using_features], y_train)\n",
    "#pred_gaus = clf_gaus.predict(X_val[using_features])\n",
    "#print(set(pred_gaus))\n",
    "#print(f1_score(y_val, pred_gaus, average  = 'micro'))"
   ]
  },
  {
   "cell_type": "code",
   "execution_count": 15,
   "metadata": {},
   "outputs": [],
   "source": [
    "#%%time\n",
    "#\n",
    "#\n",
    "#adaboost_inp_clf = DecisionTreeClassifier()\n",
    "#clf_ab   = AdaBoostClassifier(adaboost_inp_clf)\n",
    "#clf_ab.fit(X_train[using_features], y_train)\n",
    "#pred_ab = clf_ab.predict(X_val[using_features])\n",
    "#rint(len(set(pred_ab)), set(pred_ab))\n",
    "#print(f1_score(y_val, pred_ab, average  = 'micro'))"
   ]
  },
  {
   "cell_type": "code",
   "execution_count": 13,
   "metadata": {},
   "outputs": [
    {
     "name": "stderr",
     "output_type": "stream",
     "text": [
      "[Parallel(n_jobs=-1)]: Using backend LokyBackend with 8 concurrent workers.\n",
      "[Parallel(n_jobs=-1)]: Done   1 out of   1 | elapsed:  8.3min finished\n"
     ]
    },
    {
     "name": "stdout",
     "output_type": "stream",
     "text": [
      "10 {'statement', 'chat', 'card2card_transfer', 'mobile_recharge', 'invest', 'main_screen', 'own_transfer', 'card_recharge', 'credit_info', 'phone_money_transfer'}\n",
      "0.64655239458089\n",
      "Wall time: 8min 40s\n"
     ]
    }
   ],
   "source": [
    "%%time\n",
    "\n",
    "clf_lr = LogisticRegression(n_jobs = -1, verbose = 1) #‘liblinear’,\n",
    "clf_lr.fit(X_train[using_features], y_train)\n",
    "pred_lr = clf_lr.predict(X_val[using_features])\n",
    "print(len(set(pred_lr)), set(pred_lr))\n",
    "print(f1_score(y_val, pred_lr, average  = 'micro'))"
   ]
  },
  {
   "cell_type": "code",
   "execution_count": 14,
   "metadata": {},
   "outputs": [
    {
     "name": "stdout",
     "output_type": "stream",
     "text": [
      "10 {'statement', 'chat', 'card2card_transfer', 'mobile_recharge', 'invest', 'main_screen', 'own_transfer', 'card_recharge', 'credit_info', 'phone_money_transfer'}\n",
      "0.6485319754050992\n",
      "Wall time: 16min 34s\n"
     ]
    }
   ],
   "source": [
    "%%time\n",
    "\n",
    "clf_lrsvc = LinearSVC(verbose = 1) # loss = ‘hinge’\n",
    "clf_lrsvc.fit(X_train[using_features], y_train)\n",
    "pred_lrsvc = clf_lrsvc.predict(X_val[using_features])\n",
    "print(len(set(pred_lrsvc)), set(pred_lrsvc))\n",
    "print(f1_score(y_val, pred_lrsvc, average  = 'micro'))"
   ]
  },
  {
   "cell_type": "code",
   "execution_count": 1,
   "metadata": {},
   "outputs": [],
   "source": [
    "#%%time\n",
    "#\n",
    "#clf_lrsvc_hinge = LinearSVC( loss = 'hinge')\n",
    "#clf_lrsvc_hinge.fit(X_train[using_features], y_train)\n",
    "#pred_lrsvc_hinge = clf_lrsvc_hinge.predict(X_val[using_features])\n",
    "#print(len(set(pred_lrsvc_hinge)), set(pred_lrsvc_hinge))\n",
    "#print(f1_score(y_val, pred_lrsvc_hinge, average  = 'micro'))"
   ]
  },
  {
   "cell_type": "code",
   "execution_count": null,
   "metadata": {},
   "outputs": [],
   "source": []
  },
  {
   "cell_type": "code",
   "execution_count": null,
   "metadata": {},
   "outputs": [],
   "source": [
    "#%%time\n",
    "#clf_cb = CatBoostClassifier()\n",
    "#clf_cb.fit(X_train[using_features], y_train)\n",
    "#pred_cb = clf_cb.predict(X_val[using_features])\n",
    "#print(set(pred_cb))\n",
    "#print(f1_score(y_val, pred_cb, average  = 'micro'))"
   ]
  },
  {
   "cell_type": "code",
   "execution_count": null,
   "metadata": {},
   "outputs": [],
   "source": []
  },
  {
   "cell_type": "markdown",
   "metadata": {},
   "source": [
    "### saw how many give us stack"
   ]
  },
  {
   "cell_type": "code",
   "execution_count": 19,
   "metadata": {},
   "outputs": [
    {
     "name": "stdout",
     "output_type": "stream",
     "text": [
      "Wall time: 8.68 s\n"
     ]
    }
   ],
   "source": [
    "%%time\n",
    "pred_stack = [''] * pred_sgd_hinge.shape[0]\n",
    "for idx in range(pred_sgd_hinge.shape[0]):\n",
    "    cnt = Counter([\n",
    "                   pred_sgd_hinge[idx], \n",
    "                   #pred_mlp[idx], \n",
    "                   pred_lr[idx], \n",
    "                   pred_lrsvc[idx]\n",
    "               ]).most_common()\n",
    "    pred_stack[idx] = cnt[0][0]\n",
    "    \n",
    "    if cnt[0][0] == cnt[1][0]:\n",
    "        print('terrible!')"
   ]
  },
  {
   "cell_type": "code",
   "execution_count": 21,
   "metadata": {},
   "outputs": [
    {
     "name": "stdout",
     "output_type": "stream",
     "text": [
      "0.648381218569892\n"
     ]
    }
   ],
   "source": [
    "print(f1_score(y_val, pred_stack, average  = 'micro'))"
   ]
  },
  {
   "cell_type": "code",
   "execution_count": null,
   "metadata": {},
   "outputs": [],
   "source": []
  },
  {
   "cell_type": "code",
   "execution_count": null,
   "metadata": {},
   "outputs": [],
   "source": []
  },
  {
   "cell_type": "code",
   "execution_count": null,
   "metadata": {},
   "outputs": [],
   "source": []
  },
  {
   "cell_type": "markdown",
   "metadata": {},
   "source": [
    "## classifiers GridSearch"
   ]
  },
  {
   "cell_type": "code",
   "execution_count": null,
   "metadata": {},
   "outputs": [],
   "source": []
  },
  {
   "cell_type": "code",
   "execution_count": null,
   "metadata": {},
   "outputs": [],
   "source": []
  },
  {
   "cell_type": "code",
   "execution_count": null,
   "metadata": {},
   "outputs": [],
   "source": []
  },
  {
   "cell_type": "code",
   "execution_count": null,
   "metadata": {},
   "outputs": [],
   "source": []
  },
  {
   "cell_type": "markdown",
   "metadata": {},
   "source": [
    "## study best models on full data"
   ]
  },
  {
   "cell_type": "code",
   "execution_count": null,
   "metadata": {},
   "outputs": [],
   "source": []
  },
  {
   "cell_type": "code",
   "execution_count": 23,
   "metadata": {},
   "outputs": [
    {
     "name": "stdout",
     "output_type": "stream",
     "text": [
      "Wall time: 59.7 s\n"
     ]
    },
    {
     "data": {
      "text/plain": [
       "SGDClassifier(n_jobs=-1)"
      ]
     },
     "execution_count": 23,
     "metadata": {},
     "output_type": "execute_result"
    }
   ],
   "source": [
    "%%time\n",
    "clf_sgd_hinge = SGDClassifier(loss = 'hinge', n_jobs=-1)\n",
    "clf_sgd_hinge.fit(data_train[using_features], target)"
   ]
  },
  {
   "cell_type": "code",
   "execution_count": null,
   "metadata": {},
   "outputs": [],
   "source": [
    "%%time\n",
    "clf_mlp  = MLPClassifier((200, 50), learning_rate = 'adaptive', activation='logistic', verbose = True)\n",
    "clf_mlp.fit(data_train[using_features], target)"
   ]
  },
  {
   "cell_type": "code",
   "execution_count": 24,
   "metadata": {},
   "outputs": [
    {
     "name": "stderr",
     "output_type": "stream",
     "text": [
      "[Parallel(n_jobs=-1)]: Using backend LokyBackend with 8 concurrent workers.\n",
      "[Parallel(n_jobs=-1)]: Done   1 out of   1 | elapsed: 13.5min finished\n"
     ]
    },
    {
     "data": {
      "text/plain": [
       "LogisticRegression(n_jobs=-1, verbose=1)"
      ]
     },
     "execution_count": 24,
     "metadata": {},
     "output_type": "execute_result"
    }
   ],
   "source": [
    "%%time\n",
    "clf_lr = LogisticRegression(n_jobs = -1, verbose = 1)\n",
    "clf_lr.fit(data_train[using_features], target)"
   ]
  },
  {
   "cell_type": "code",
   "execution_count": 25,
   "metadata": {},
   "outputs": [
    {
     "name": "stdout",
     "output_type": "stream",
     "text": [
      "[LibLinear]Wall time: 24min 18s\n"
     ]
    },
    {
     "data": {
      "text/plain": [
       "LinearSVC(verbose=True)"
      ]
     },
     "execution_count": 25,
     "metadata": {},
     "output_type": "execute_result"
    }
   ],
   "source": [
    "%%time\n",
    "clf_lrsvc = LinearSVC(verbose = True) # loss = ‘hinge’\n",
    "clf_lrsvc.fit(data_train[using_features], target)"
   ]
  },
  {
   "cell_type": "code",
   "execution_count": null,
   "metadata": {},
   "outputs": [],
   "source": []
  },
  {
   "cell_type": "code",
   "execution_count": null,
   "metadata": {},
   "outputs": [],
   "source": []
  },
  {
   "cell_type": "markdown",
   "metadata": {},
   "source": [
    "## save models"
   ]
  },
  {
   "cell_type": "code",
   "execution_count": 26,
   "metadata": {},
   "outputs": [
    {
     "name": "stdout",
     "output_type": "stream",
     "text": [
      "Wall time: 501 ms\n"
     ]
    }
   ],
   "source": [
    "%%time\n",
    "pickle.dump(clf_sgd_hinge, open(os.path.join(MODELS, 'clf_sgd.pkl'), 'wb'))\n",
    "#pickle.dump(clf_mlp, open(os.path.join(MODELS, 'clf_mlp.pkl'), 'wb'))\n",
    "pickle.dump(clf_lr, open(os.path.join(MODELS, 'clf_lr.pkl'), 'wb'))\n",
    "pickle.dump(clf_lrsvc, open(os.path.join(MODELS, 'clf_lrsvc.pkl'), 'wb'))\n",
    "#pickle.dump(clf_svc, open(os.path.join(MODELS, 'clf_svc.pkl'), 'wb'))\n",
    "#pickle.dump(clf_rf,  open(os.path.join(MODELS, 'clf_rf.pkl'),  'wb'))\n",
    "            \n",
    "#clf_cb.save_model(os.path.join(MODELS, 'clf_cb.cbm'), format='cbm')"
   ]
  },
  {
   "cell_type": "code",
   "execution_count": null,
   "metadata": {},
   "outputs": [],
   "source": []
  }
 ],
 "metadata": {
  "kernelspec": {
   "display_name": "Python 3",
   "language": "python",
   "name": "python3"
  },
  "language_info": {
   "codemirror_mode": {
    "name": "ipython",
    "version": 3
   },
   "file_extension": ".py",
   "mimetype": "text/x-python",
   "name": "python",
   "nbconvert_exporter": "python",
   "pygments_lexer": "ipython3",
   "version": "3.7.9"
  }
 },
 "nbformat": 4,
 "nbformat_minor": 4
}
