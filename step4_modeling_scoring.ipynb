{
 "cells": [
  {
   "cell_type": "code",
   "execution_count": 1,
   "metadata": {},
   "outputs": [],
   "source": [
    "import os\n",
    "from glob import glob\n",
    "import pandas as pd\n",
    "import numpy as np\n",
    "import itertools\n",
    "from collections import Counter\n",
    "\n",
    "\n",
    "import pickle\n",
    "import gc\n",
    "\n",
    "from tqdm.notebook import tqdm\n",
    "#tqdm.pandas()"
   ]
  },
  {
   "cell_type": "code",
   "execution_count": 2,
   "metadata": {},
   "outputs": [],
   "source": [
    "from sklearn.preprocessing import LabelBinarizer, OneHotEncoder\n",
    "from sklearn.preprocessing import OrdinalEncoder\n",
    "\n",
    "from sklearn.model_selection import GridSearchCV\n",
    "from sklearn.model_selection import train_test_split\n",
    "\n",
    "from sklearn.metrics import f1_score, make_scorer"
   ]
  },
  {
   "cell_type": "code",
   "execution_count": 3,
   "metadata": {},
   "outputs": [],
   "source": [
    "from sklearn.linear_model import SGDClassifier\n",
    "from sklearn.neural_network import MLPClassifier\n",
    "#from sklearn.svm import SVC\n",
    "from sklearn.svm import LinearSVC\n",
    "from sklearn.linear_model import LogisticRegression\n",
    "\n",
    "from catboost import CatBoostClassifier\n",
    "import lightgbm as lgb\n",
    "from lightgbm import LGBMClassifier\n",
    "import xgboost as xgb"
   ]
  },
  {
   "cell_type": "code",
   "execution_count": null,
   "metadata": {},
   "outputs": [],
   "source": []
  },
  {
   "cell_type": "code",
   "execution_count": null,
   "metadata": {},
   "outputs": [],
   "source": []
  },
  {
   "cell_type": "code",
   "execution_count": 4,
   "metadata": {},
   "outputs": [],
   "source": [
    "DATA = os.path.join('.', 'data')\n",
    "DATA_OWN = os.path.join('.', 'data_own')\n",
    "CLICKSTREAM = 'alfabattle2_abattle_clickstream'\n",
    "MODELS = os.path.join('.', 'models')\n",
    "UTILS = os.path.join('.', 'utils')\n",
    "SUBM = os.path.join('.', 'submissions')"
   ]
  },
  {
   "cell_type": "code",
   "execution_count": null,
   "metadata": {},
   "outputs": [],
   "source": []
  },
  {
   "cell_type": "markdown",
   "metadata": {},
   "source": [
    "## load data, features"
   ]
  },
  {
   "cell_type": "code",
   "execution_count": 5,
   "metadata": {},
   "outputs": [],
   "source": [
    "load_dtypes = pickle.load(open(os.path.join(UTILS, 'load_dtypes.pkl'), 'rb'))"
   ]
  },
  {
   "cell_type": "code",
   "execution_count": 6,
   "metadata": {},
   "outputs": [
    {
     "data": {
      "text/plain": [
       "91"
      ]
     },
     "execution_count": 6,
     "metadata": {},
     "output_type": "execute_result"
    }
   ],
   "source": [
    "using_features = pickle.load(open(os.path.join(DATA_OWN, 'using_features.pkl'), 'rb'))\n",
    "len(using_features)"
   ]
  },
  {
   "cell_type": "code",
   "execution_count": null,
   "metadata": {},
   "outputs": [],
   "source": []
  },
  {
   "cell_type": "code",
   "execution_count": 7,
   "metadata": {},
   "outputs": [],
   "source": [
    "load_col = list(using_features)\n",
    "load_col.extend(['client_pin', 'timestamp', 'multi_class_target'])"
   ]
  },
  {
   "cell_type": "code",
   "execution_count": null,
   "metadata": {},
   "outputs": [],
   "source": []
  },
  {
   "cell_type": "code",
   "execution_count": 8,
   "metadata": {},
   "outputs": [
    {
     "name": "stdout",
     "output_type": "stream",
     "text": [
      "Wall time: 1min 33s\n"
     ]
    },
    {
     "data": {
      "text/html": [
       "<div>\n",
       "<style scoped>\n",
       "    .dataframe tbody tr th:only-of-type {\n",
       "        vertical-align: middle;\n",
       "    }\n",
       "\n",
       "    .dataframe tbody tr th {\n",
       "        vertical-align: top;\n",
       "    }\n",
       "\n",
       "    .dataframe thead th {\n",
       "        text-align: right;\n",
       "    }\n",
       "</style>\n",
       "<table border=\"1\" class=\"dataframe\">\n",
       "  <thead>\n",
       "    <tr style=\"text-align: right;\">\n",
       "      <th></th>\n",
       "      <th>client_pin</th>\n",
       "      <th>timestamp</th>\n",
       "      <th>multi_class_target</th>\n",
       "      <th>client_freq_main_screen</th>\n",
       "      <th>client_freq_statement</th>\n",
       "      <th>client_freq_credit_info</th>\n",
       "      <th>client_freq_own_transfer</th>\n",
       "      <th>client_freq_mobile_recharge</th>\n",
       "      <th>client_freq_phone_money_transfer</th>\n",
       "      <th>client_freq_card2card_transfer</th>\n",
       "      <th>...</th>\n",
       "      <th>relations_time_past_targ_main_screen</th>\n",
       "      <th>relations_time_past_targ_statement</th>\n",
       "      <th>relations_time_past_targ_credit_info</th>\n",
       "      <th>relations_time_past_targ_own_transfer</th>\n",
       "      <th>relations_time_past_targ_mobile_recharge</th>\n",
       "      <th>relations_time_past_targ_phone_money_transfer</th>\n",
       "      <th>relations_time_past_targ_card2card_transfer</th>\n",
       "      <th>relations_time_past_targ_chat</th>\n",
       "      <th>relations_time_past_targ_card_recharge</th>\n",
       "      <th>relations_time_past_targ_invest</th>\n",
       "    </tr>\n",
       "  </thead>\n",
       "  <tbody>\n",
       "    <tr>\n",
       "      <th>0</th>\n",
       "      <td>7cf9221322a0e2fdefb1b998b8f2ab29</td>\n",
       "      <td>2020-06-15 14:01:12</td>\n",
       "      <td>main_screen</td>\n",
       "      <td>0.133333</td>\n",
       "      <td>0.380952</td>\n",
       "      <td>0.000000</td>\n",
       "      <td>0.000000</td>\n",
       "      <td>0.066667</td>\n",
       "      <td>0.142857</td>\n",
       "      <td>0.276190</td>\n",
       "      <td>...</td>\n",
       "      <td>1.307955</td>\n",
       "      <td>0.163198</td>\n",
       "      <td>0.000000</td>\n",
       "      <td>0.000000</td>\n",
       "      <td>1.046685</td>\n",
       "      <td>0.341562</td>\n",
       "      <td>1.533734</td>\n",
       "      <td>0.000000</td>\n",
       "      <td>0.000000</td>\n",
       "      <td>0.000000</td>\n",
       "    </tr>\n",
       "    <tr>\n",
       "      <th>1</th>\n",
       "      <td>5f16c0ab27a806fd08db3122921adf3a</td>\n",
       "      <td>2020-03-21 12:59:34</td>\n",
       "      <td>invest</td>\n",
       "      <td>0.389706</td>\n",
       "      <td>0.573529</td>\n",
       "      <td>0.000000</td>\n",
       "      <td>0.007353</td>\n",
       "      <td>0.000000</td>\n",
       "      <td>0.000000</td>\n",
       "      <td>0.000000</td>\n",
       "      <td>...</td>\n",
       "      <td>0.032518</td>\n",
       "      <td>2.121950</td>\n",
       "      <td>0.000000</td>\n",
       "      <td>0.706016</td>\n",
       "      <td>0.000000</td>\n",
       "      <td>0.000000</td>\n",
       "      <td>0.000000</td>\n",
       "      <td>1.837007</td>\n",
       "      <td>0.000000</td>\n",
       "      <td>1.374358</td>\n",
       "    </tr>\n",
       "    <tr>\n",
       "      <th>2</th>\n",
       "      <td>ec868fc2b388293cf10e18ee9518d72f</td>\n",
       "      <td>2020-01-24 18:18:55</td>\n",
       "      <td>statement</td>\n",
       "      <td>0.116279</td>\n",
       "      <td>0.465116</td>\n",
       "      <td>0.000000</td>\n",
       "      <td>0.046512</td>\n",
       "      <td>0.279070</td>\n",
       "      <td>0.069767</td>\n",
       "      <td>0.000000</td>\n",
       "      <td>...</td>\n",
       "      <td>0.280475</td>\n",
       "      <td>0.009147</td>\n",
       "      <td>0.000000</td>\n",
       "      <td>0.421385</td>\n",
       "      <td>1.205900</td>\n",
       "      <td>0.271085</td>\n",
       "      <td>0.000000</td>\n",
       "      <td>0.234015</td>\n",
       "      <td>0.000000</td>\n",
       "      <td>0.000000</td>\n",
       "    </tr>\n",
       "    <tr>\n",
       "      <th>3</th>\n",
       "      <td>91f55a33d7502c1a1fa5da7ff2f7b648</td>\n",
       "      <td>2020-03-15 19:50:23</td>\n",
       "      <td>main_screen</td>\n",
       "      <td>0.457831</td>\n",
       "      <td>0.449799</td>\n",
       "      <td>0.000000</td>\n",
       "      <td>0.004016</td>\n",
       "      <td>0.032129</td>\n",
       "      <td>0.008032</td>\n",
       "      <td>0.024096</td>\n",
       "      <td>...</td>\n",
       "      <td>6.314792</td>\n",
       "      <td>0.452830</td>\n",
       "      <td>0.000000</td>\n",
       "      <td>0.575543</td>\n",
       "      <td>0.363213</td>\n",
       "      <td>1.093542</td>\n",
       "      <td>0.614683</td>\n",
       "      <td>0.580554</td>\n",
       "      <td>0.530097</td>\n",
       "      <td>1.346742</td>\n",
       "    </tr>\n",
       "    <tr>\n",
       "      <th>4</th>\n",
       "      <td>3ef1020bda95ce7836d2680fa553ecb7</td>\n",
       "      <td>2020-02-20 07:56:58</td>\n",
       "      <td>main_screen</td>\n",
       "      <td>0.600000</td>\n",
       "      <td>0.066667</td>\n",
       "      <td>0.266667</td>\n",
       "      <td>0.000000</td>\n",
       "      <td>0.000000</td>\n",
       "      <td>0.000000</td>\n",
       "      <td>0.000000</td>\n",
       "      <td>...</td>\n",
       "      <td>0.107516</td>\n",
       "      <td>0.446540</td>\n",
       "      <td>0.446022</td>\n",
       "      <td>0.000000</td>\n",
       "      <td>0.000000</td>\n",
       "      <td>0.000000</td>\n",
       "      <td>0.000000</td>\n",
       "      <td>0.000000</td>\n",
       "      <td>0.371353</td>\n",
       "      <td>0.000000</td>\n",
       "    </tr>\n",
       "  </tbody>\n",
       "</table>\n",
       "<p>5 rows × 94 columns</p>\n",
       "</div>"
      ],
      "text/plain": [
       "                         client_pin           timestamp multi_class_target  \\\n",
       "0  7cf9221322a0e2fdefb1b998b8f2ab29 2020-06-15 14:01:12        main_screen   \n",
       "1  5f16c0ab27a806fd08db3122921adf3a 2020-03-21 12:59:34             invest   \n",
       "2  ec868fc2b388293cf10e18ee9518d72f 2020-01-24 18:18:55          statement   \n",
       "3  91f55a33d7502c1a1fa5da7ff2f7b648 2020-03-15 19:50:23        main_screen   \n",
       "4  3ef1020bda95ce7836d2680fa553ecb7 2020-02-20 07:56:58        main_screen   \n",
       "\n",
       "   client_freq_main_screen  client_freq_statement  client_freq_credit_info  \\\n",
       "0                 0.133333               0.380952                 0.000000   \n",
       "1                 0.389706               0.573529                 0.000000   \n",
       "2                 0.116279               0.465116                 0.000000   \n",
       "3                 0.457831               0.449799                 0.000000   \n",
       "4                 0.600000               0.066667                 0.266667   \n",
       "\n",
       "   client_freq_own_transfer  client_freq_mobile_recharge  \\\n",
       "0                  0.000000                     0.066667   \n",
       "1                  0.007353                     0.000000   \n",
       "2                  0.046512                     0.279070   \n",
       "3                  0.004016                     0.032129   \n",
       "4                  0.000000                     0.000000   \n",
       "\n",
       "   client_freq_phone_money_transfer  client_freq_card2card_transfer  ...  \\\n",
       "0                          0.142857                        0.276190  ...   \n",
       "1                          0.000000                        0.000000  ...   \n",
       "2                          0.069767                        0.000000  ...   \n",
       "3                          0.008032                        0.024096  ...   \n",
       "4                          0.000000                        0.000000  ...   \n",
       "\n",
       "   relations_time_past_targ_main_screen  relations_time_past_targ_statement  \\\n",
       "0                              1.307955                            0.163198   \n",
       "1                              0.032518                            2.121950   \n",
       "2                              0.280475                            0.009147   \n",
       "3                              6.314792                            0.452830   \n",
       "4                              0.107516                            0.446540   \n",
       "\n",
       "   relations_time_past_targ_credit_info  \\\n",
       "0                              0.000000   \n",
       "1                              0.000000   \n",
       "2                              0.000000   \n",
       "3                              0.000000   \n",
       "4                              0.446022   \n",
       "\n",
       "   relations_time_past_targ_own_transfer  \\\n",
       "0                               0.000000   \n",
       "1                               0.706016   \n",
       "2                               0.421385   \n",
       "3                               0.575543   \n",
       "4                               0.000000   \n",
       "\n",
       "   relations_time_past_targ_mobile_recharge  \\\n",
       "0                                  1.046685   \n",
       "1                                  0.000000   \n",
       "2                                  1.205900   \n",
       "3                                  0.363213   \n",
       "4                                  0.000000   \n",
       "\n",
       "   relations_time_past_targ_phone_money_transfer  \\\n",
       "0                                       0.341562   \n",
       "1                                       0.000000   \n",
       "2                                       0.271085   \n",
       "3                                       1.093542   \n",
       "4                                       0.000000   \n",
       "\n",
       "   relations_time_past_targ_card2card_transfer  relations_time_past_targ_chat  \\\n",
       "0                                     1.533734                       0.000000   \n",
       "1                                     0.000000                       1.837007   \n",
       "2                                     0.000000                       0.234015   \n",
       "3                                     0.614683                       0.580554   \n",
       "4                                     0.000000                       0.000000   \n",
       "\n",
       "   relations_time_past_targ_card_recharge  relations_time_past_targ_invest  \n",
       "0                                0.000000                         0.000000  \n",
       "1                                0.000000                         1.374358  \n",
       "2                                0.000000                         0.000000  \n",
       "3                                0.530097                         1.346742  \n",
       "4                                0.371353                         0.000000  \n",
       "\n",
       "[5 rows x 94 columns]"
      ]
     },
     "execution_count": 8,
     "metadata": {},
     "output_type": "execute_result"
    }
   ],
   "source": [
    "%%time\n",
    "data_train = pd.read_csv(os.path.join(DATA_OWN, 'data_train.csv'), parse_dates=['timestamp'], usecols=load_col, dtype=load_dtypes)\n",
    "#data_train = pd.read_csv(os.path.join(DATA_OWN, 'data_train.csv'), usecols=load_col, dtype=load_dtypes)\n",
    "data_train.head()"
   ]
  },
  {
   "cell_type": "code",
   "execution_count": 9,
   "metadata": {},
   "outputs": [
    {
     "data": {
      "text/plain": [
       "False"
      ]
     },
     "execution_count": 9,
     "metadata": {},
     "output_type": "execute_result"
    }
   ],
   "source": [
    "(data_train.isnull().values.any())"
   ]
  },
  {
   "cell_type": "code",
   "execution_count": 10,
   "metadata": {},
   "outputs": [],
   "source": [
    "target = data_train.multi_class_target\n",
    "data_train.drop('multi_class_target', axis = 1, inplace = True)"
   ]
  },
  {
   "cell_type": "code",
   "execution_count": 11,
   "metadata": {},
   "outputs": [
    {
     "name": "stdout",
     "output_type": "stream",
     "text": [
      "Wall time: 10.8 s\n"
     ]
    },
    {
     "data": {
      "text/plain": [
       "((3393784, 93), (1671566, 93), (3393784,), (1671566,))"
      ]
     },
     "execution_count": 11,
     "metadata": {},
     "output_type": "execute_result"
    }
   ],
   "source": [
    "%%time\n",
    "X_train, X_val, y_train, y_val = train_test_split(data_train, target, test_size=0.33, random_state=42)\n",
    "X_train.shape, X_val.shape, y_train.shape, y_val.shape"
   ]
  },
  {
   "cell_type": "code",
   "execution_count": null,
   "metadata": {},
   "outputs": [],
   "source": [
    "#using_features = pickle.load(open(os.path.join(DATA_OWN, 'using_features.pkl'), 'rb'))\n",
    "#len(using_features)"
   ]
  },
  {
   "cell_type": "code",
   "execution_count": null,
   "metadata": {},
   "outputs": [],
   "source": []
  },
  {
   "cell_type": "code",
   "execution_count": null,
   "metadata": {},
   "outputs": [],
   "source": [
    "#f1 = make_scorer(f1_score , average='macro')"
   ]
  },
  {
   "cell_type": "code",
   "execution_count": null,
   "metadata": {},
   "outputs": [],
   "source": []
  },
  {
   "cell_type": "markdown",
   "metadata": {},
   "source": [
    "## check classifiers with check time of work"
   ]
  },
  {
   "cell_type": "code",
   "execution_count": null,
   "metadata": {},
   "outputs": [],
   "source": []
  },
  {
   "cell_type": "code",
   "execution_count": null,
   "metadata": {},
   "outputs": [],
   "source": [
    "#clf_sgd_log   = SGDClassifier(loss = 'log', class_weight='balanced', n_jobs=-1)\n",
    "\n",
    "#clf_knn  = KNeighborsClassifier()\n",
    "#clf_svc  = SVC()\n",
    "#clf_gaus = GaussianNB()"
   ]
  },
  {
   "cell_type": "code",
   "execution_count": null,
   "metadata": {},
   "outputs": [],
   "source": [
    "%%time\n",
    "#clf_sgd_hinge = SGDClassifier(loss = 'hinge', class_weight='balanced', n_jobs=-1)\n",
    "clf_sgd_hinge = SGDClassifier(loss = 'hinge', n_jobs=-1)\n",
    "clf_sgd_hinge.fit(X_train[using_features], y_train)\n",
    "pred_sgd_hinge = clf_sgd_hinge.predict(X_val[using_features])\n",
    "print(len(set(pred_sgd_hinge)), set(pred_sgd_hinge))\n",
    "print(f1_score(y_val, pred_sgd_hinge, average  = 'micro'))"
   ]
  },
  {
   "cell_type": "code",
   "execution_count": null,
   "metadata": {},
   "outputs": [],
   "source": [
    "#%%time\n",
    "#clf_sgd_perc  = SGDClassifier(loss = 'perceptron', class_weight='balanced', n_jobs=-1)\n",
    "#clf_sgd_perc  = SGDClassifier(loss = 'perceptron', n_jobs=-1)\n",
    "#clf_sgd_perc.fit(X_train[using_features], y_train)\n",
    "#pred_sgd_perc = clf_sgd_perc.predict(X_val[using_features])\n",
    "#rint(len(set(pred_sgd_perc)), set(pred_sgd_perc))\n",
    "#rint(f1_score(y_val, pred_sgd_perc, average  = 'micro'))"
   ]
  },
  {
   "cell_type": "code",
   "execution_count": null,
   "metadata": {},
   "outputs": [],
   "source": [
    "%%time\n",
    "# 9 min\n",
    "# 91 - 1h 10min 53s\n",
    "\n",
    "clf_mlp  = MLPClassifier((200, 50), learning_rate = 'adaptive', activation='logistic', verbose = True)\n",
    "clf_mlp.fit(X_train[using_features], y_train)\n",
    "pred_mlp = clf_mlp.predict(X_val[using_features])\n",
    "print(len(set(pred_mlp)), set(pred_mlp))\n",
    "print(f1_score(y_val, pred_mlp, average  = 'micro'))"
   ]
  },
  {
   "cell_type": "code",
   "execution_count": null,
   "metadata": {},
   "outputs": [],
   "source": [
    "%%time\n",
    "# 81 - 8min 23s\n",
    "# 91 - 8min 40s\n",
    "\n",
    "clf_lr = LogisticRegression(n_jobs = -1, verbose = 1) #‘liblinear’,\n",
    "clf_lr.fit(X_train[using_features], y_train)\n",
    "pred_lr = clf_lr.predict(X_val[using_features])\n",
    "print(len(set(pred_lr)), set(pred_lr))\n",
    "print(f1_score(y_val, pred_lr, average  = 'micro'))"
   ]
  },
  {
   "cell_type": "code",
   "execution_count": null,
   "metadata": {},
   "outputs": [],
   "source": [
    "%%time\n",
    "# 81 - 17min 29s\n",
    "# 91 - 4h 4min 35s\n",
    "clf_lrsvc = LinearSVC(verbose = 1) # loss = ‘hinge’\n",
    "clf_lrsvc.fit(X_train[using_features], y_train)\n",
    "pred_lrsvc = clf_lrsvc.predict(X_val[using_features])\n",
    "print(len(set(pred_lrsvc)), set(pred_lrsvc))\n",
    "print(f1_score(y_val, pred_lrsvc, average  = 'micro'))"
   ]
  },
  {
   "cell_type": "code",
   "execution_count": null,
   "metadata": {},
   "outputs": [],
   "source": [
    "%%time \n",
    "# 81 - 5min 38s\n",
    "# 91 - 5min 21s\n",
    "\n",
    "clf_lgbm = LGBMClassifier( silent = False) # loss = ‘hinge’\n",
    "clf_lgbm.fit(X_train[using_features], y_train)\n",
    "pred_lgbm = clf_lgbm.predict(X_val[using_features])\n",
    "print(len(set(pred_lgbm)), set(pred_lgbm))\n",
    "print(f1_score(y_val, pred_lgbm, average  = 'micro'))"
   ]
  },
  {
   "cell_type": "markdown",
   "metadata": {},
   "source": [
    "## XGBoost"
   ]
  },
  {
   "cell_type": "code",
   "execution_count": null,
   "metadata": {},
   "outputs": [],
   "source": []
  },
  {
   "cell_type": "code",
   "execution_count": null,
   "metadata": {},
   "outputs": [],
   "source": []
  },
  {
   "cell_type": "code",
   "execution_count": null,
   "metadata": {},
   "outputs": [],
   "source": [
    "target_encoder = OrdinalEncoder().fit(y_train.values.reshape(-1, 1))\n",
    "y_train_int = target_encoder.transform(y_train.values.reshape(-1, 1))\n",
    "y_val_int   = target_encoder.transform(y_val.values.reshape(-1, 1))"
   ]
  },
  {
   "cell_type": "code",
   "execution_count": null,
   "metadata": {},
   "outputs": [],
   "source": [
    "pickle.dump(target_encoder, open(os.path.join(UTILS, 'oe_target.pkl'), 'wb'))"
   ]
  },
  {
   "cell_type": "code",
   "execution_count": null,
   "metadata": {},
   "outputs": [],
   "source": [
    "%%time\n",
    "xgb_params = {\n",
    "    'tree_method':'gpu_hist',\n",
    "    \"objective\": \"multi:softmax\",\n",
    "    \"eta\": 0.3,\n",
    "    \"num_class\": 10,\n",
    "    #\"max_depth\": 10,\n",
    "    #\"nthread\": 4,\n",
    "    \"eval_metric\": \"mlogloss\",\n",
    "    #\"print.every.n\": 10\n",
    "    \"verbosity\": 2,\n",
    "}\n",
    "\n",
    "part_size = int(X_train.shape[0] / 4)\n",
    "progress_result = {}\n",
    "total_progress = []\n",
    "Deval = xgb.DMatrix(X_val[using_features], label=y_val_int)\n",
    "\n",
    "\n",
    "for part in range(4):\n",
    "    #print(part*part_size, (part+1)*part_size)\n",
    "    print('part ' + str(part) + '  eta: ' +  str(xgb_params['eta']))\n",
    "    \n",
    "    if part != 3:\n",
    "        Dtrain = xgb.DMatrix(X_train[using_features][part * part_size : (part + 1) * part_size], \n",
    "                             label = y_train_int[part * part_size : (part + 1) * part_size])\n",
    "    else:\n",
    "        Dtrain = xgb.DMatrix(X_train[using_features][part * part_size : ], \n",
    "                             label = y_train_int[part * part_size : ])  \n",
    "        \n",
    "    eval_sets = [(Dtrain, 'train'), (Deval, 'eval')]\n",
    "    if part == 0:\n",
    "        model = xgb.train(xgb_params, Dtrain, \n",
    "                           num_boost_round = 50,\n",
    "                           evals = eval_sets,        \n",
    "                           #early_stopping_rounds = 10, \n",
    "                           evals_result = progress_result, \n",
    "                         )\n",
    "    else:\n",
    "        model = xgb.train(xgb_params, Dtrain, \n",
    "                           num_boost_round = 50,\n",
    "                           xgb_model = model,\n",
    "                           evals = eval_sets,        \n",
    "                           #early_stopping_rounds = 10, \n",
    "                           evals_result = progress_result,\n",
    "                         )\n",
    "    \n",
    "    total_progress.append(progress_result)\n",
    "    \n",
    "    ##\n",
    "    ##\n",
    "    ## THIS PART SHOULD BE CHECKED IN SANDBOX\n",
    "    ## DOWNGREADE ETA GIVE ONLY 0.666830 ON \n",
    "    ## num_boost_round = 30 AND START ETA 0.5\n",
    "    ## train-mlogloss:0.79863 eval-mlogloss:0.80901\n",
    "    ## better to start with eta 0.3\n",
    "    ##\n",
    "    ##\n",
    "    #if np.argmin(progress_result['eval']['mlogloss']) < (len(progress_result['eval']['mlogloss']) - 6 - 1):\n",
    "    #    #break\n",
    "    #    xgb_params.update({'eta': xgb_params['eta'] / 2}) #part\n",
    "    #    print('eta downgraded to ' + str(xgb_params['eta']))\n",
    "    \n",
    "    # without update/refresh parameters getting 0.669192\n",
    "    #xgb_params.update({#'process_type': 'update',    # 0.66732872\n",
    "                       #'updater'     : 'refresh',\n",
    "                       #'refresh_leaf': True\n",
    "    #                  })\n",
    "    \n",
    "print('done!')"
   ]
  },
  {
   "cell_type": "code",
   "execution_count": null,
   "metadata": {},
   "outputs": [],
   "source": [
    "pred_xgb = model.predict(Deval)\n",
    "print(f1_score(y_val_int, pred_xgb, average  = 'micro'))"
   ]
  },
  {
   "cell_type": "code",
   "execution_count": null,
   "metadata": {},
   "outputs": [],
   "source": []
  },
  {
   "cell_type": "code",
   "execution_count": null,
   "metadata": {},
   "outputs": [],
   "source": []
  },
  {
   "cell_type": "code",
   "execution_count": null,
   "metadata": {},
   "outputs": [],
   "source": []
  },
  {
   "cell_type": "code",
   "execution_count": null,
   "metadata": {},
   "outputs": [],
   "source": [
    "#%%time\n",
    "#clf_cb = CatBoostClassifier()\n",
    "#clf_cb.fit(X_train[using_features], y_train)\n",
    "#pred_cb = clf_cb.predict(X_val[using_features])\n",
    "#print(set(pred_cb))\n",
    "#print(f1_score(y_val, pred_cb, average  = 'micro'))"
   ]
  },
  {
   "cell_type": "code",
   "execution_count": null,
   "metadata": {},
   "outputs": [],
   "source": []
  },
  {
   "cell_type": "markdown",
   "metadata": {},
   "source": [
    "### saw how many give us stack"
   ]
  },
  {
   "cell_type": "code",
   "execution_count": null,
   "metadata": {},
   "outputs": [],
   "source": [
    "%%time\n",
    "pred_stack = [''] * pred_sgd_hinge.shape[0]\n",
    "collisions = 0\n",
    "for idx in range(pred_sgd_hinge.shape[0]):\n",
    "    cnt = Counter([\n",
    "                   pred_sgd_hinge[idx], \n",
    "                   #pred_mlp[idx], \n",
    "                   pred_lr[idx], \n",
    "                   pred_lrsvc[idx]\n",
    "               ]).most_common()\n",
    "    pred_stack[idx] = cnt[0][0]\n",
    "    \n",
    "    if len(cnt) > 1 and cnt[0][1] == cnt[1][1]:\n",
    "        collisions += 1\n",
    "    #    print('terrible!')\n",
    "    #    print(cnt[0], cnt[1])"
   ]
  },
  {
   "cell_type": "code",
   "execution_count": null,
   "metadata": {},
   "outputs": [],
   "source": [
    "print(f1_score(y_val, pred_stack, average  = 'micro'), (collisions/pred_sgd_hinge.shape[0]))"
   ]
  },
  {
   "cell_type": "code",
   "execution_count": null,
   "metadata": {},
   "outputs": [],
   "source": [
    "stack_df = pd.DataFrame({'SGD':pred_sgd_hinge, 'logit':pred_lr, 'linear_svc':pred_lrsvc})\n",
    "cat_ftrs = ['SGD', 'logit', 'linear_svc']"
   ]
  },
  {
   "cell_type": "code",
   "execution_count": null,
   "metadata": {},
   "outputs": [],
   "source": [
    "#cb_stack = CatBoostClassifier(loss_function='Logloss', cat_features=cat_ftrs)\n",
    "cb_stack = CatBoostClassifier(cat_features=cat_ftrs)\n",
    "cb_stack.fit(stack_df, y_val)\n",
    "pred_stack_cb = cb_stack.predict(X_val[using_features])\n",
    "print(len(set(pred_stack_cb)), set(pred_stack_cb))\n",
    "print(f1_score(y_val, pred_stack_cb, average  = 'micro'))"
   ]
  },
  {
   "cell_type": "code",
   "execution_count": null,
   "metadata": {},
   "outputs": [],
   "source": [
    "pred_stack_cb = cb_stack.predict(stack_df)\n",
    "print(len(set(pred_stack_cb[:, 0])), set(pred_stack_cb[:, 0]))\n",
    "print(f1_score(y_val, pred_stack_cb[:, 0], average  = 'micro'))"
   ]
  },
  {
   "cell_type": "code",
   "execution_count": null,
   "metadata": {},
   "outputs": [],
   "source": [
    "#dataset = cb.Pool(X, y, cat_features=['d'])"
   ]
  },
  {
   "cell_type": "code",
   "execution_count": null,
   "metadata": {},
   "outputs": [],
   "source": []
  },
  {
   "cell_type": "markdown",
   "metadata": {},
   "source": [
    "## study best models on full data"
   ]
  },
  {
   "cell_type": "code",
   "execution_count": null,
   "metadata": {},
   "outputs": [],
   "source": []
  },
  {
   "cell_type": "code",
   "execution_count": null,
   "metadata": {},
   "outputs": [],
   "source": [
    "%%time\n",
    "# 91 - 45min 1s ????\n",
    "\n",
    "clf_sgd_hinge = SGDClassifier(loss = 'hinge', n_jobs=-1)\n",
    "clf_sgd_hinge.fit(data_train[using_features], target)"
   ]
  },
  {
   "cell_type": "code",
   "execution_count": null,
   "metadata": {},
   "outputs": [],
   "source": [
    "%%time\n",
    "# 91 - 1h 28min 38s\n",
    "clf_mlp  = MLPClassifier((200, 50), learning_rate = 'adaptive', activation='logistic', verbose = True)\n",
    "clf_mlp.fit(data_train[using_features], target)"
   ]
  },
  {
   "cell_type": "code",
   "execution_count": null,
   "metadata": {},
   "outputs": [],
   "source": [
    "%%time\n",
    "# 81 - 13min 29s\n",
    "# 91 - 1h 13min 58s\n",
    "clf_lr = LogisticRegression(n_jobs = -1, verbose = 2)\n",
    "clf_lr.fit(data_train[using_features], target)"
   ]
  },
  {
   "cell_type": "code",
   "execution_count": null,
   "metadata": {},
   "outputs": [],
   "source": [
    "%%time\n",
    "#81 - 27min 9s\n",
    "\n",
    "#clf_lrsvc = LinearSVC(verbose = True) # loss = ‘hinge’\n",
    "#clf_lrsvc.fit(data_train[using_features], target)"
   ]
  },
  {
   "cell_type": "code",
   "execution_count": null,
   "metadata": {},
   "outputs": [],
   "source": [
    "clf_lgbm = LGBMClassifier( silent = False) # loss = ‘hinge’\n",
    "clf_lgbm.fit(data_train[using_features], target)"
   ]
  },
  {
   "cell_type": "code",
   "execution_count": null,
   "metadata": {},
   "outputs": [],
   "source": []
  },
  {
   "cell_type": "code",
   "execution_count": null,
   "metadata": {
    "jupyter": {
     "source_hidden": true
    }
   },
   "outputs": [],
   "source": [
    "%%time\n",
    "xgb_params = {\n",
    "    'tree_method':'gpu_hist',\n",
    "    \"objective\": \"multi:softmax\",\n",
    "    \"eta\": 0.3,\n",
    "    \"num_class\": 10,\n",
    "    #\"max_depth\": 10,\n",
    "    #\"nthread\": 4,\n",
    "    \"eval_metric\": \"mlogloss\",\n",
    "    #\"print.every.n\": 10\n",
    "    \"verbosity\": 2,\n",
    "}\n",
    "\n",
    "target_int = target_encoder.transform(target.values.reshape(-1, 1))\n",
    "part_size = int(data_train.shape[0] / 4)\n",
    "\n",
    "#progress_result = {}\n",
    "#total_progress = []\n",
    "\n",
    "\n",
    "for part in range(4):\n",
    "    #print(part*part_size, (part+1)*part_size)\n",
    "    print('part ' + str(part) + '  eta: ' +  str(xgb_params['eta']))\n",
    "    \n",
    "    if part != 3:\n",
    "        Dtrain = xgb.DMatrix(data_train[using_features][part * part_size : (part + 1) * part_size], \n",
    "                             label = target_int[part * part_size : (part + 1) * part_size])\n",
    "    else:\n",
    "        Dtrain = xgb.DMatrix(data_train[using_features][part * part_size : ], \n",
    "                             label = target_int[part * part_size : ])  \n",
    "        \n",
    "    eval_sets = [(Dtrain, 'train'), (Deval, 'eval')]\n",
    "    if part == 0:\n",
    "        model_xgb = xgb.train(xgb_params, Dtrain, \n",
    "                           num_boost_round = 50,\n",
    "                           #early_stopping_rounds = 10, \n",
    "                         )\n",
    "    else:\n",
    "        model_xgb = xgb.train(xgb_params, Dtrain, \n",
    "                           num_boost_round = 50,\n",
    "                           xgb_model = model_xgb,\n",
    "                           #early_stopping_rounds = 10, \n",
    "                         )\n",
    "    \n",
    "#    total_progress.append(progress_result)\n",
    "    \n",
    "    ##\n",
    "    ##\n",
    "    ## THIS PART SHOULD BE CHECKED IN SANDBOX\n",
    "    ## DOWNGREADE ETA GIVE ONLY 0.666830 ON \n",
    "    ## num_boost_round = 30 AND START ETA 0.5\n",
    "    ## train-mlogloss:0.79863 eval-mlogloss:0.80901\n",
    "    ## better to start with eta 0.3\n",
    "    ##\n",
    "    ##\n",
    "    #if np.argmin(progress_result['eval']['mlogloss']) < (len(progress_result['eval']['mlogloss']) - 6 - 1):\n",
    "    #    #break\n",
    "    #    xgb_params.update({'eta': xgb_params['eta'] / 2}) #part\n",
    "    #    print('eta downgraded to ' + str(xgb_params['eta']))\n",
    "    \n",
    "    # without update/refresh parameters getting 0.669192\n",
    "    #xgb_params.update({#'process_type': 'update',    # 0.66732872\n",
    "                       #'updater'     : 'refresh',\n",
    "                       #'refresh_leaf': True\n",
    "    #                  })\n",
    "    \n",
    "print('done!')"
   ]
  },
  {
   "cell_type": "code",
   "execution_count": null,
   "metadata": {},
   "outputs": [],
   "source": []
  },
  {
   "cell_type": "code",
   "execution_count": null,
   "metadata": {},
   "outputs": [],
   "source": []
  },
  {
   "cell_type": "markdown",
   "metadata": {},
   "source": [
    "## save models"
   ]
  },
  {
   "cell_type": "code",
   "execution_count": null,
   "metadata": {},
   "outputs": [],
   "source": [
    "%%time\n",
    "pickle.dump(clf_sgd_hinge, open(os.path.join(MODELS, 'clf_sgd.pkl'), 'wb'))\n",
    "pickle.dump(clf_mlp, open(os.path.join(MODELS, 'clf_mlp.pkl'), 'wb'))\n",
    "pickle.dump(clf_lr, open(os.path.join(MODELS, 'clf_lr.pkl'), 'wb'))\n",
    "pickle.dump(clf_lgbm, open(os.path.join(MODELS, 'clf_lgbm.pkl'), 'wb'))\n",
    "\n",
    "model_xgb.save_model(os.path.join(MODELS, 'clf_xgb.json')\n",
    "#clf_cb.save_model(os.path.join(MODELS, 'clf_cb.cbm'), format='cbm')\n",
    "\n",
    "\n",
    "#lgb.save(clf_lgbm, os.path.join(MODELS, 'clf_lgbm.lgb'), num_iteration = NULL)\n",
    "#clf_lgbm.save_model(os.path.join(MODELS, 'clf_lgbm.txt'))\n",
    "\n",
    "#pickle.dump(clf_lrsvc, open(os.path.join(MODELS, 'clf_lrsvc.pkl'), 'wb'))\n",
    "#pickle.dump(clf_svc, open(os.path.join(MODELS, 'clf_svc.pkl'), 'wb'))\n",
    "#pickle.dump(clf_rf,  open(os.path.join(MODELS, 'clf_rf.pkl'),  'wb'))\n",
    "\n",
    "\n",
    "pickle.dump(clf_lgbm, open(os.path.join(MODELS, 'clf_lgbm.pkl'), 'wb'))"
   ]
  },
  {
   "cell_type": "code",
   "execution_count": null,
   "metadata": {},
   "outputs": [],
   "source": [
    "model_xgb.save_model(os.path.join(MODELS, 'clf_xgb.json'))"
   ]
  },
  {
   "cell_type": "code",
   "execution_count": null,
   "metadata": {},
   "outputs": [],
   "source": []
  },
  {
   "cell_type": "code",
   "execution_count": null,
   "metadata": {},
   "outputs": [],
   "source": []
  },
  {
   "cell_type": "code",
   "execution_count": null,
   "metadata": {},
   "outputs": [],
   "source": []
  }
 ],
 "metadata": {
  "kernelspec": {
   "display_name": "Python 3",
   "language": "python",
   "name": "python3"
  },
  "language_info": {
   "codemirror_mode": {
    "name": "ipython",
    "version": 3
   },
   "file_extension": ".py",
   "mimetype": "text/x-python",
   "name": "python",
   "nbconvert_exporter": "python",
   "pygments_lexer": "ipython3",
   "version": "3.7.9"
  }
 },
 "nbformat": 4,
 "nbformat_minor": 4
}
