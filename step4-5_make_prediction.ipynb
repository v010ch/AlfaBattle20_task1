{
 "cells": [
  {
   "cell_type": "code",
   "execution_count": 21,
   "metadata": {},
   "outputs": [
    {
     "name": "stderr",
     "output_type": "stream",
     "text": [
      "C:\\Users\\_v010ch_\\Anaconda3\\lib\\site-packages\\tqdm\\std.py:697: FutureWarning: The Panel class is removed from pandas. Accessing it from the top-level namespace will also be removed in the next version\n",
      "  from pandas import Panel\n"
     ]
    }
   ],
   "source": [
    "import os\n",
    "from glob import glob\n",
    "\n",
    "import pandas as pd\n",
    "import numpy as np\n",
    "from collections import Counter\n",
    "\n",
    "import pickle\n",
    "import gc\n",
    "\n",
    "from tqdm import tqdm\n",
    "tqdm.pandas()"
   ]
  },
  {
   "cell_type": "code",
   "execution_count": 22,
   "metadata": {},
   "outputs": [],
   "source": [
    "import catboost as cb"
   ]
  },
  {
   "cell_type": "code",
   "execution_count": 64,
   "metadata": {},
   "outputs": [],
   "source": [
    "DATA = './data'\n",
    "DATA_OWN = './data_own'\n",
    "CLICKSTREAM = 'alfabattle2_abattle_clickstream'\n",
    "MODELS = './models'\n",
    "UTILS = './utils'\n",
    "SUBM = './submissions'"
   ]
  },
  {
   "cell_type": "code",
   "execution_count": null,
   "metadata": {},
   "outputs": [],
   "source": []
  },
  {
   "cell_type": "code",
   "execution_count": null,
   "metadata": {},
   "outputs": [],
   "source": []
  },
  {
   "cell_type": "code",
   "execution_count": 3,
   "metadata": {},
   "outputs": [
    {
     "data": {
      "text/html": [
       "<div>\n",
       "<style scoped>\n",
       "    .dataframe tbody tr th:only-of-type {\n",
       "        vertical-align: middle;\n",
       "    }\n",
       "\n",
       "    .dataframe tbody tr th {\n",
       "        vertical-align: top;\n",
       "    }\n",
       "\n",
       "    .dataframe thead th {\n",
       "        text-align: right;\n",
       "    }\n",
       "</style>\n",
       "<table border=\"1\" class=\"dataframe\">\n",
       "  <thead>\n",
       "    <tr style=\"text-align: right;\">\n",
       "      <th></th>\n",
       "      <th>client_pin</th>\n",
       "      <th>timestamp</th>\n",
       "    </tr>\n",
       "  </thead>\n",
       "  <tbody>\n",
       "    <tr>\n",
       "      <th>0</th>\n",
       "      <td>f0c674b2bb4dc64be607029271d706ec</td>\n",
       "      <td>2020-08-01 00:00:53</td>\n",
       "    </tr>\n",
       "    <tr>\n",
       "      <th>1</th>\n",
       "      <td>90725b54ce77576883813d87749df6bd</td>\n",
       "      <td>2020-08-01 00:02:57</td>\n",
       "    </tr>\n",
       "    <tr>\n",
       "      <th>2</th>\n",
       "      <td>eb0f82d74c7b7bd5eafbd5b5f8cb3e2a</td>\n",
       "      <td>2020-08-01 00:03:14</td>\n",
       "    </tr>\n",
       "    <tr>\n",
       "      <th>3</th>\n",
       "      <td>831bf4c0ecccc55e536b8cfb9153d672</td>\n",
       "      <td>2020-08-01 00:04:44</td>\n",
       "    </tr>\n",
       "    <tr>\n",
       "      <th>4</th>\n",
       "      <td>3f1a5a1c492ce877af833113e59c5797</td>\n",
       "      <td>2020-08-01 00:06:40</td>\n",
       "    </tr>\n",
       "  </tbody>\n",
       "</table>\n",
       "</div>"
      ],
      "text/plain": [
       "                         client_pin           timestamp\n",
       "0  f0c674b2bb4dc64be607029271d706ec 2020-08-01 00:00:53\n",
       "1  90725b54ce77576883813d87749df6bd 2020-08-01 00:02:57\n",
       "2  eb0f82d74c7b7bd5eafbd5b5f8cb3e2a 2020-08-01 00:03:14\n",
       "3  831bf4c0ecccc55e536b8cfb9153d672 2020-08-01 00:04:44\n",
       "4  3f1a5a1c492ce877af833113e59c5797 2020-08-01 00:06:40"
      ]
     },
     "execution_count": 3,
     "metadata": {},
     "output_type": "execute_result"
    }
   ],
   "source": [
    "data = pd.read_csv(os.path.join(DATA, 'alfabattle2_prediction_session_timestamp.csv'), parse_dates=['timestamp'])\n",
    "data.head()"
   ]
  },
  {
   "cell_type": "code",
   "execution_count": 5,
   "metadata": {},
   "outputs": [
    {
     "data": {
      "text/html": [
       "<div>\n",
       "<style scoped>\n",
       "    .dataframe tbody tr th:only-of-type {\n",
       "        vertical-align: middle;\n",
       "    }\n",
       "\n",
       "    .dataframe tbody tr th {\n",
       "        vertical-align: top;\n",
       "    }\n",
       "\n",
       "    .dataframe thead th {\n",
       "        text-align: right;\n",
       "    }\n",
       "</style>\n",
       "<table border=\"1\" class=\"dataframe\">\n",
       "  <thead>\n",
       "    <tr style=\"text-align: right;\">\n",
       "      <th></th>\n",
       "      <th>client_pin</th>\n",
       "      <th>prediction</th>\n",
       "    </tr>\n",
       "  </thead>\n",
       "  <tbody>\n",
       "    <tr>\n",
       "      <th>0</th>\n",
       "      <td>f0c674b2bb4dc64be607029271d706ec</td>\n",
       "      <td>credit_info</td>\n",
       "    </tr>\n",
       "    <tr>\n",
       "      <th>1</th>\n",
       "      <td>90725b54ce77576883813d87749df6bd</td>\n",
       "      <td>credit_info</td>\n",
       "    </tr>\n",
       "    <tr>\n",
       "      <th>2</th>\n",
       "      <td>eb0f82d74c7b7bd5eafbd5b5f8cb3e2a</td>\n",
       "      <td>own_transfer</td>\n",
       "    </tr>\n",
       "    <tr>\n",
       "      <th>3</th>\n",
       "      <td>831bf4c0ecccc55e536b8cfb9153d672</td>\n",
       "      <td>statement</td>\n",
       "    </tr>\n",
       "    <tr>\n",
       "      <th>4</th>\n",
       "      <td>3f1a5a1c492ce877af833113e59c5797</td>\n",
       "      <td>invest</td>\n",
       "    </tr>\n",
       "  </tbody>\n",
       "</table>\n",
       "</div>"
      ],
      "text/plain": [
       "                         client_pin    prediction\n",
       "0  f0c674b2bb4dc64be607029271d706ec   credit_info\n",
       "1  90725b54ce77576883813d87749df6bd   credit_info\n",
       "2  eb0f82d74c7b7bd5eafbd5b5f8cb3e2a  own_transfer\n",
       "3  831bf4c0ecccc55e536b8cfb9153d672     statement\n",
       "4  3f1a5a1c492ce877af833113e59c5797        invest"
      ]
     },
     "execution_count": 5,
     "metadata": {},
     "output_type": "execute_result"
    }
   ],
   "source": [
    "subm = pd.read_csv(os.path.join(DATA, 'alfabattle2_abattle_sample_prediction.csv'))\n",
    "subm.head()"
   ]
  },
  {
   "cell_type": "code",
   "execution_count": 15,
   "metadata": {},
   "outputs": [],
   "source": [
    "def get_time_of_day(inp_hour):\n",
    "    if (inp_hour >= 12) and (inp_hour < 18):\n",
    "        return 'day'\n",
    "    elif (inp_hour >= 6) and (inp_hour < 12):\n",
    "        return 'morning'\n",
    "    elif (inp_hour >= 18) and (inp_hour <= 23):\n",
    "        return 'evening'\n",
    "    else:\n",
    "        return 'night'"
   ]
  },
  {
   "cell_type": "code",
   "execution_count": 16,
   "metadata": {},
   "outputs": [
    {
     "name": "stdout",
     "output_type": "stream",
     "text": [
      "Wall time: 842 ms\n"
     ]
    }
   ],
   "source": [
    "%%time\n",
    "data['dom']  = data.timestamp.apply(lambda x: x.day)\n",
    "data['dow']  = data.timestamp.apply(lambda x: x.weekday())\n",
    "data['hour'] = data.timestamp.apply(lambda x: x.hour)\n",
    "data['tod']  = data.hour.apply(get_time_of_day)"
   ]
  },
  {
   "cell_type": "code",
   "execution_count": 19,
   "metadata": {},
   "outputs": [
    {
     "data": {
      "text/html": [
       "<div>\n",
       "<style scoped>\n",
       "    .dataframe tbody tr th:only-of-type {\n",
       "        vertical-align: middle;\n",
       "    }\n",
       "\n",
       "    .dataframe tbody tr th {\n",
       "        vertical-align: top;\n",
       "    }\n",
       "\n",
       "    .dataframe thead th {\n",
       "        text-align: right;\n",
       "    }\n",
       "</style>\n",
       "<table border=\"1\" class=\"dataframe\">\n",
       "  <thead>\n",
       "    <tr style=\"text-align: right;\">\n",
       "      <th></th>\n",
       "      <th>client_pin</th>\n",
       "      <th>timestamp</th>\n",
       "      <th>dom</th>\n",
       "      <th>dow</th>\n",
       "      <th>hour</th>\n",
       "      <th>tod</th>\n",
       "    </tr>\n",
       "  </thead>\n",
       "  <tbody>\n",
       "    <tr>\n",
       "      <th>0</th>\n",
       "      <td>f0c674b2bb4dc64be607029271d706ec</td>\n",
       "      <td>2020-08-01 00:00:53</td>\n",
       "      <td>1</td>\n",
       "      <td>5</td>\n",
       "      <td>0</td>\n",
       "      <td>night</td>\n",
       "    </tr>\n",
       "    <tr>\n",
       "      <th>1</th>\n",
       "      <td>90725b54ce77576883813d87749df6bd</td>\n",
       "      <td>2020-08-01 00:02:57</td>\n",
       "      <td>1</td>\n",
       "      <td>5</td>\n",
       "      <td>0</td>\n",
       "      <td>night</td>\n",
       "    </tr>\n",
       "    <tr>\n",
       "      <th>2</th>\n",
       "      <td>eb0f82d74c7b7bd5eafbd5b5f8cb3e2a</td>\n",
       "      <td>2020-08-01 00:03:14</td>\n",
       "      <td>1</td>\n",
       "      <td>5</td>\n",
       "      <td>0</td>\n",
       "      <td>night</td>\n",
       "    </tr>\n",
       "    <tr>\n",
       "      <th>3</th>\n",
       "      <td>831bf4c0ecccc55e536b8cfb9153d672</td>\n",
       "      <td>2020-08-01 00:04:44</td>\n",
       "      <td>1</td>\n",
       "      <td>5</td>\n",
       "      <td>0</td>\n",
       "      <td>night</td>\n",
       "    </tr>\n",
       "    <tr>\n",
       "      <th>4</th>\n",
       "      <td>3f1a5a1c492ce877af833113e59c5797</td>\n",
       "      <td>2020-08-01 00:06:40</td>\n",
       "      <td>1</td>\n",
       "      <td>5</td>\n",
       "      <td>0</td>\n",
       "      <td>night</td>\n",
       "    </tr>\n",
       "  </tbody>\n",
       "</table>\n",
       "</div>"
      ],
      "text/plain": [
       "                         client_pin           timestamp  dom  dow  hour    tod\n",
       "0  f0c674b2bb4dc64be607029271d706ec 2020-08-01 00:00:53    1    5     0  night\n",
       "1  90725b54ce77576883813d87749df6bd 2020-08-01 00:02:57    1    5     0  night\n",
       "2  eb0f82d74c7b7bd5eafbd5b5f8cb3e2a 2020-08-01 00:03:14    1    5     0  night\n",
       "3  831bf4c0ecccc55e536b8cfb9153d672 2020-08-01 00:04:44    1    5     0  night\n",
       "4  3f1a5a1c492ce877af833113e59c5797 2020-08-01 00:06:40    1    5     0  night"
      ]
     },
     "execution_count": 19,
     "metadata": {},
     "output_type": "execute_result"
    }
   ],
   "source": [
    "data.head()"
   ]
  },
  {
   "cell_type": "code",
   "execution_count": null,
   "metadata": {},
   "outputs": [],
   "source": []
  },
  {
   "cell_type": "markdown",
   "metadata": {},
   "source": [
    "loading LabelBinarizer"
   ]
  },
  {
   "cell_type": "code",
   "execution_count": 93,
   "metadata": {},
   "outputs": [],
   "source": [
    "lb_dom  = pickle.load(open((os.path.join(UTILS, 'lb_dom.pkl')),  'rb'))\n",
    "lb_dow  = pickle.load(open((os.path.join(UTILS, 'lb_dow.pkl')),  'rb'))\n",
    "lb_hour = pickle.load(open((os.path.join(UTILS, 'lb_hour.pkl')), 'rb'))\n",
    "lb_tod  = pickle.load(open((os.path.join(UTILS, 'lb_tod.pkl')),  'rb'))"
   ]
  },
  {
   "cell_type": "code",
   "execution_count": 94,
   "metadata": {},
   "outputs": [],
   "source": [
    "dom_features  = ['dom_'  + str(el) for el in lb_dom.classes_]\n",
    "dow_features  = ['dow_'  + str(el) for el in lb_dow.classes_]\n",
    "hour_features = ['hour_' + str(el) for el in lb_hour.classes_]\n",
    "tod_features  = ['tod_'  + str(el) for el in lb_tod.classes_]"
   ]
  },
  {
   "cell_type": "code",
   "execution_count": null,
   "metadata": {},
   "outputs": [],
   "source": []
  },
  {
   "cell_type": "code",
   "execution_count": null,
   "metadata": {},
   "outputs": [],
   "source": []
  },
  {
   "cell_type": "markdown",
   "metadata": {},
   "source": [
    "merge data with statistics"
   ]
  },
  {
   "cell_type": "code",
   "execution_count": 46,
   "metadata": {},
   "outputs": [],
   "source": [
    "client_freq_targ = pd.read_csv(os.path.join(DATA_OWN, 'client_freq_targ.csv'))\n",
    "data = data.merge(client_freq_targ, how= 'left', on='client_pin', validate='many_to_one')"
   ]
  },
  {
   "cell_type": "code",
   "execution_count": 47,
   "metadata": {},
   "outputs": [],
   "source": [
    "client_freq_features = ['client_freq_main_screen', 'client_freq_statement',\n",
    "       'client_freq_credit_info', 'client_freq_own_transfer',\n",
    "       'client_freq_mobile_recharge', 'client_freq_phone_money_transfer',\n",
    "       'client_freq_card2card_transfer', 'client_freq_chat',\n",
    "       'client_freq_card_recharge', 'client_freq_invest']"
   ]
  },
  {
   "cell_type": "code",
   "execution_count": 25,
   "metadata": {},
   "outputs": [],
   "source": [
    "glob_freq_dom  = pd.read_csv(os.path.join(DATA_OWN, 'glob_freq_dom.csv'))\n",
    "glob_freq_dow  = pd.read_csv(os.path.join(DATA_OWN, 'glob_freq_dow.csv'))\n",
    "glob_freq_hour = pd.read_csv(os.path.join(DATA_OWN, 'glob_freq_hour.csv'))\n",
    "glob_freq_tod  = pd.read_csv(os.path.join(DATA_OWN, 'glob_freq_tod.csv'))"
   ]
  },
  {
   "cell_type": "code",
   "execution_count": 26,
   "metadata": {},
   "outputs": [],
   "source": [
    "glob_freq_dom.columns  = ['dom_'  + el for el in glob_freq_dom.keys()]\n",
    "glob_freq_dow.columns  = ['dow_'  + el for el in glob_freq_dow.keys()]\n",
    "glob_freq_hour.columns = ['hour_' + el for el in glob_freq_hour.keys()]\n",
    "glob_freq_tod.columns  = ['tod_'  + el for el in glob_freq_tod.keys()]"
   ]
  },
  {
   "cell_type": "code",
   "execution_count": 27,
   "metadata": {},
   "outputs": [],
   "source": [
    "glob_freq_dom = glob_freq_dom.rename(  columns={'dom_dom': 'dom'})\n",
    "glob_freq_dow = glob_freq_dow.rename(  columns={'dow_dow': 'dow'})\n",
    "glob_freq_hour = glob_freq_hour.rename(columns={'hour_hour': 'hour'})\n",
    "glob_freq_tod = glob_freq_tod.rename(  columns={'tod_tod': 'tod'})\n",
    "\n",
    "#glob_freq_dom.keys(), glob_freq_dow.keys(), glob_freq_hour.keys(), glob_freq_tod.keys(), "
   ]
  },
  {
   "cell_type": "code",
   "execution_count": 28,
   "metadata": {},
   "outputs": [],
   "source": [
    "dom_freq_features  = [el for el in glob_freq_dom.keys()[1:]]\n",
    "dow_freq_features  = [el for el in glob_freq_dow.keys()[1:]]\n",
    "hour_freq_features = [el for el in glob_freq_hour.keys()[1:]]\n",
    "tod_freq_features  = [el for el in glob_freq_tod.keys()[1:]]"
   ]
  },
  {
   "cell_type": "code",
   "execution_count": null,
   "metadata": {},
   "outputs": [],
   "source": []
  },
  {
   "cell_type": "code",
   "execution_count": 29,
   "metadata": {},
   "outputs": [
    {
     "data": {
      "text/plain": [
       "(79268, 6)"
      ]
     },
     "execution_count": 29,
     "metadata": {},
     "output_type": "execute_result"
    }
   ],
   "source": [
    "data.shape"
   ]
  },
  {
   "cell_type": "code",
   "execution_count": 30,
   "metadata": {},
   "outputs": [
    {
     "data": {
      "text/plain": [
       "(79268, 46)"
      ]
     },
     "execution_count": 30,
     "metadata": {},
     "output_type": "execute_result"
    }
   ],
   "source": [
    "data = data.merge(glob_freq_dom, how= 'left', on='dom', validate='many_to_one')\n",
    "data = data.merge(glob_freq_dow, how= 'left', on='dow', validate='many_to_one')\n",
    "data = data.merge(glob_freq_hour, how= 'left', on='hour', validate='many_to_one')\n",
    "data = data.merge(glob_freq_tod, how= 'left', on='tod', validate='many_to_one')\n",
    "data.shape"
   ]
  },
  {
   "cell_type": "code",
   "execution_count": null,
   "metadata": {},
   "outputs": [],
   "source": []
  },
  {
   "cell_type": "code",
   "execution_count": null,
   "metadata": {},
   "outputs": [],
   "source": []
  },
  {
   "cell_type": "markdown",
   "metadata": {},
   "source": [
    "## load models"
   ]
  },
  {
   "cell_type": "code",
   "execution_count": 55,
   "metadata": {},
   "outputs": [],
   "source": [
    "clf_sgd = pickle.load(open(os.path.join(MODELS, 'clf_sgd.pkl'), 'rb'))\n",
    "#clf_mlp = pickle.loads(os.paht.join(MODELS, 'clf_mlp.pkl'))\n",
    "#clf_knn = pickle.loads(os.paht.join(MODELS, 'clf_knn.pkl'))\n",
    "#clf_svc = pickle.loads(os.paht.join(MODELS, 'clf_svc.pkl'))\n",
    "#clf_rf  = pickle.loads(os.paht.join(MODELS, 'clf_rf.pkl'))\n",
    "#clf_ab  = pickle.loads(os.paht.join(MODELS, 'clf_ab.pkl'))\n",
    "#clf_gaus= pickle.loads(os.paht.join(MODELS, 'clf_gauss.pkl'))\n",
    "\n",
    "#clf_cb  = cb.load_model(os.paht.join(MODELS, 'clf_cb.cbm'), format='cbm')"
   ]
  },
  {
   "cell_type": "code",
   "execution_count": null,
   "metadata": {},
   "outputs": [],
   "source": []
  },
  {
   "cell_type": "markdown",
   "metadata": {},
   "source": [
    "## make predictions"
   ]
  },
  {
   "cell_type": "code",
   "execution_count": 56,
   "metadata": {},
   "outputs": [
    {
     "name": "stdout",
     "output_type": "stream",
     "text": [
      "['client_freq_main_screen', 'client_freq_statement', 'client_freq_credit_info', 'client_freq_own_transfer', 'client_freq_mobile_recharge', 'client_freq_phone_money_transfer', 'client_freq_card2card_transfer', 'client_freq_chat', 'client_freq_card_recharge', 'client_freq_invest', 'dom_glob_freq_main_screen', 'dom_glob_freq_statement', 'dom_glob_freq_credit_info', 'dom_glob_freq_own_transfer', 'dom_glob_freq_mobile_recharge', 'dom_glob_freq_phone_money_transfer', 'dom_glob_freq_card2card_transfer', 'dom_glob_freq_chat', 'dom_glob_freq_card_recharge', 'dom_glob_freq_invest', 'dow_glob_freq_main_screen', 'dow_glob_freq_statement', 'dow_glob_freq_credit_info', 'dow_glob_freq_own_transfer', 'dow_glob_freq_mobile_recharge', 'dow_glob_freq_phone_money_transfer', 'dow_glob_freq_card2card_transfer', 'dow_glob_freq_chat', 'dow_glob_freq_card_recharge', 'dow_glob_freq_invest', 'hour_glob_freq_main_screen', 'hour_glob_freq_statement', 'hour_glob_freq_credit_info', 'hour_glob_freq_own_transfer', 'hour_glob_freq_mobile_recharge', 'hour_glob_freq_phone_money_transfer', 'hour_glob_freq_card2card_transfer', 'hour_glob_freq_chat', 'hour_glob_freq_card_recharge', 'hour_glob_freq_invest', 'tod_glob_freq_main_screen', 'tod_glob_freq_statement', 'tod_glob_freq_credit_info', 'tod_glob_freq_own_transfer', 'tod_glob_freq_mobile_recharge', 'tod_glob_freq_phone_money_transfer', 'tod_glob_freq_card2card_transfer', 'tod_glob_freq_chat', 'tod_glob_freq_card_recharge', 'tod_glob_freq_invest']\n"
     ]
    }
   ],
   "source": [
    "using_features = \\\n",
    "                 client_freq_features + \\\n",
    "                 dom_freq_features + \\\n",
    "                 dow_freq_features + \\\n",
    "                 hour_freq_features + \\\n",
    "                 tod_freq_features \n",
    "\n",
    "\n",
    "                 # dates as a features \\\n",
    "                 #dom_features + \\\n",
    "                 #dow_features + \\\n",
    "                 #hour_features + \\\n",
    "                 #tod_features \n",
    "                 #\n",
    "print(using_features)"
   ]
  },
  {
   "cell_type": "code",
   "execution_count": null,
   "metadata": {},
   "outputs": [],
   "source": []
  },
  {
   "cell_type": "code",
   "execution_count": 57,
   "metadata": {},
   "outputs": [],
   "source": [
    "pred_sgd = clf_sgd.predict(data[using_features])"
   ]
  },
  {
   "cell_type": "code",
   "execution_count": 39,
   "metadata": {},
   "outputs": [],
   "source": [
    "#pred_mlp = clf_mlp.predict(data[using_features])"
   ]
  },
  {
   "cell_type": "code",
   "execution_count": 40,
   "metadata": {},
   "outputs": [],
   "source": [
    "#pred_knn = clf_knn.predict(data[using_features])"
   ]
  },
  {
   "cell_type": "code",
   "execution_count": 41,
   "metadata": {},
   "outputs": [],
   "source": [
    "#pred_svc = clf_svc.predict(data[using_features])"
   ]
  },
  {
   "cell_type": "code",
   "execution_count": 42,
   "metadata": {},
   "outputs": [],
   "source": [
    "#pred_rf = clf_rf.predict(data[using_features])"
   ]
  },
  {
   "cell_type": "code",
   "execution_count": 43,
   "metadata": {},
   "outputs": [],
   "source": [
    "#pred_ab = clf_ab.predict(data[using_features])"
   ]
  },
  {
   "cell_type": "code",
   "execution_count": 44,
   "metadata": {},
   "outputs": [],
   "source": [
    "#pred_gaus = clf_gau.predict(data[using_features])"
   ]
  },
  {
   "cell_type": "code",
   "execution_count": 45,
   "metadata": {},
   "outputs": [],
   "source": [
    "#pred_cb = clf_cb.predict(data[using_features])"
   ]
  },
  {
   "cell_type": "code",
   "execution_count": null,
   "metadata": {},
   "outputs": [],
   "source": []
  },
  {
   "cell_type": "markdown",
   "metadata": {},
   "source": [
    "## make submit"
   ]
  },
  {
   "cell_type": "code",
   "execution_count": 99,
   "metadata": {},
   "outputs": [],
   "source": [
    "subm = pd.read_csv(os.path.join(DATA, 'alfabattle2_abattle_sample_prediction.csv'))"
   ]
  },
  {
   "cell_type": "code",
   "execution_count": 105,
   "metadata": {},
   "outputs": [],
   "source": [
    "subm.to_csv(os.path.join(SUBM, 'subm_client_4glob_sgd.csv'), index = False)"
   ]
  },
  {
   "cell_type": "code",
   "execution_count": null,
   "metadata": {},
   "outputs": [],
   "source": []
  }
 ],
 "metadata": {
  "kernelspec": {
   "display_name": "Python 3",
   "language": "python",
   "name": "python3"
  },
  "language_info": {
   "codemirror_mode": {
    "name": "ipython",
    "version": 3
   },
   "file_extension": ".py",
   "mimetype": "text/x-python",
   "name": "python",
   "nbconvert_exporter": "python",
   "pygments_lexer": "ipython3",
   "version": "3.7.9"
  }
 },
 "nbformat": 4,
 "nbformat_minor": 4
}
