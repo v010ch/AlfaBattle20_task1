{
 "cells": [
  {
   "cell_type": "code",
   "execution_count": 28,
   "metadata": {},
   "outputs": [],
   "source": [
    "import os\n",
    "from glob import glob\n",
    "\n",
    "import pandas as pd\n",
    "import numpy as np\n",
    "from collections import Counter\n",
    "\n",
    "import pickle\n",
    "import gc\n",
    "\n",
    "from tqdm.notebook import tqdm\n",
    "#tqdm.pandas()"
   ]
  },
  {
   "cell_type": "code",
   "execution_count": 29,
   "metadata": {},
   "outputs": [],
   "source": [
    "from sklearn.preprocessing import LabelBinarizer, OneHotEncoder\n",
    "\n",
    "from sklearn.model_selection import GridSearchCV\n",
    "from sklearn.model_selection import train_test_split\n",
    "\n",
    "from sklearn.metrics import f1_score, make_scorer"
   ]
  },
  {
   "cell_type": "code",
   "execution_count": 30,
   "metadata": {},
   "outputs": [],
   "source": [
    "from sklearn.linear_model import SGDClassifier\n",
    "from sklearn.neural_network import MLPClassifier\n",
    "#from sklearn.svm import SVC\n",
    "from sklearn.svm import LinearSVC\n",
    "from sklearn.linear_model import LogisticRegression\n",
    "\n",
    "import xgboost as xgb\n",
    "import catboost as cb\n",
    "from catboost import CatBoostClassifier"
   ]
  },
  {
   "cell_type": "code",
   "execution_count": null,
   "metadata": {},
   "outputs": [],
   "source": []
  },
  {
   "cell_type": "code",
   "execution_count": 31,
   "metadata": {},
   "outputs": [],
   "source": [
    "DATA = os.path.join('.', 'data')\n",
    "DATA_OWN = os.path.join('.', 'data_own')\n",
    "CLICKSTREAM = 'alfabattle2_abattle_clickstream'\n",
    "MODELS = os.path.join('.', 'models')\n",
    "UTILS = os.path.join('.', 'utils')\n",
    "SUBM = os.path.join('.', 'submissions')"
   ]
  },
  {
   "cell_type": "code",
   "execution_count": null,
   "metadata": {},
   "outputs": [],
   "source": []
  },
  {
   "cell_type": "markdown",
   "metadata": {},
   "source": [
    "# load data / submit / features"
   ]
  },
  {
   "cell_type": "code",
   "execution_count": 32,
   "metadata": {},
   "outputs": [],
   "source": [
    "load_dtypes = pickle.load(open(os.path.join(UTILS, 'load_dtypes.pkl'), 'rb'))"
   ]
  },
  {
   "cell_type": "code",
   "execution_count": 33,
   "metadata": {},
   "outputs": [],
   "source": [
    "using_features = pickle.load(open(os.path.join(DATA_OWN, 'using_features.pkl'), 'rb'))"
   ]
  },
  {
   "cell_type": "code",
   "execution_count": 34,
   "metadata": {},
   "outputs": [
    {
     "data": {
      "text/html": [
       "<div>\n",
       "<style scoped>\n",
       "    .dataframe tbody tr th:only-of-type {\n",
       "        vertical-align: middle;\n",
       "    }\n",
       "\n",
       "    .dataframe tbody tr th {\n",
       "        vertical-align: top;\n",
       "    }\n",
       "\n",
       "    .dataframe thead th {\n",
       "        text-align: right;\n",
       "    }\n",
       "</style>\n",
       "<table border=\"1\" class=\"dataframe\">\n",
       "  <thead>\n",
       "    <tr style=\"text-align: right;\">\n",
       "      <th></th>\n",
       "      <th>client_freq_main_screen</th>\n",
       "      <th>client_freq_statement</th>\n",
       "      <th>client_freq_credit_info</th>\n",
       "      <th>client_freq_own_transfer</th>\n",
       "      <th>client_freq_mobile_recharge</th>\n",
       "      <th>client_freq_phone_money_transfer</th>\n",
       "      <th>client_freq_card2card_transfer</th>\n",
       "      <th>client_freq_chat</th>\n",
       "      <th>client_freq_card_recharge</th>\n",
       "      <th>client_freq_invest</th>\n",
       "      <th>...</th>\n",
       "      <th>relations_time_past_targ_main_screen</th>\n",
       "      <th>relations_time_past_targ_statement</th>\n",
       "      <th>relations_time_past_targ_credit_info</th>\n",
       "      <th>relations_time_past_targ_own_transfer</th>\n",
       "      <th>relations_time_past_targ_mobile_recharge</th>\n",
       "      <th>relations_time_past_targ_phone_money_transfer</th>\n",
       "      <th>relations_time_past_targ_card2card_transfer</th>\n",
       "      <th>relations_time_past_targ_chat</th>\n",
       "      <th>relations_time_past_targ_card_recharge</th>\n",
       "      <th>relations_time_past_targ_invest</th>\n",
       "    </tr>\n",
       "  </thead>\n",
       "  <tbody>\n",
       "    <tr>\n",
       "      <th>0</th>\n",
       "      <td>0.000000</td>\n",
       "      <td>0.000000</td>\n",
       "      <td>0.500000</td>\n",
       "      <td>0.000000</td>\n",
       "      <td>0.000000</td>\n",
       "      <td>0.000000</td>\n",
       "      <td>0.000000</td>\n",
       "      <td>0.000000</td>\n",
       "      <td>0.5</td>\n",
       "      <td>0.0</td>\n",
       "      <td>...</td>\n",
       "      <td>0.000000</td>\n",
       "      <td>0.000000</td>\n",
       "      <td>0.550736</td>\n",
       "      <td>0.000000</td>\n",
       "      <td>0.000000</td>\n",
       "      <td>0.000000</td>\n",
       "      <td>0.000000</td>\n",
       "      <td>0.000000</td>\n",
       "      <td>1.803765</td>\n",
       "      <td>0.0</td>\n",
       "    </tr>\n",
       "    <tr>\n",
       "      <th>1</th>\n",
       "      <td>0.193548</td>\n",
       "      <td>0.580645</td>\n",
       "      <td>0.032258</td>\n",
       "      <td>0.032258</td>\n",
       "      <td>0.064516</td>\n",
       "      <td>0.064516</td>\n",
       "      <td>0.000000</td>\n",
       "      <td>0.032258</td>\n",
       "      <td>0.0</td>\n",
       "      <td>0.0</td>\n",
       "      <td>...</td>\n",
       "      <td>0.719404</td>\n",
       "      <td>5.552509</td>\n",
       "      <td>3.139549</td>\n",
       "      <td>3.248684</td>\n",
       "      <td>4.212135</td>\n",
       "      <td>3.773859</td>\n",
       "      <td>0.000000</td>\n",
       "      <td>0.839439</td>\n",
       "      <td>0.000000</td>\n",
       "      <td>0.0</td>\n",
       "    </tr>\n",
       "    <tr>\n",
       "      <th>2</th>\n",
       "      <td>0.181818</td>\n",
       "      <td>0.363636</td>\n",
       "      <td>0.272727</td>\n",
       "      <td>0.090909</td>\n",
       "      <td>0.000000</td>\n",
       "      <td>0.000000</td>\n",
       "      <td>0.000000</td>\n",
       "      <td>0.090909</td>\n",
       "      <td>0.0</td>\n",
       "      <td>0.0</td>\n",
       "      <td>...</td>\n",
       "      <td>0.006159</td>\n",
       "      <td>2.391634</td>\n",
       "      <td>0.414321</td>\n",
       "      <td>2.391750</td>\n",
       "      <td>0.000000</td>\n",
       "      <td>0.000000</td>\n",
       "      <td>0.000000</td>\n",
       "      <td>2.371550</td>\n",
       "      <td>0.000000</td>\n",
       "      <td>0.0</td>\n",
       "    </tr>\n",
       "    <tr>\n",
       "      <th>3</th>\n",
       "      <td>0.000000</td>\n",
       "      <td>0.777778</td>\n",
       "      <td>0.111111</td>\n",
       "      <td>0.000000</td>\n",
       "      <td>0.000000</td>\n",
       "      <td>0.000000</td>\n",
       "      <td>0.111111</td>\n",
       "      <td>0.000000</td>\n",
       "      <td>0.0</td>\n",
       "      <td>0.0</td>\n",
       "      <td>...</td>\n",
       "      <td>0.000000</td>\n",
       "      <td>0.522153</td>\n",
       "      <td>2.344850</td>\n",
       "      <td>0.000000</td>\n",
       "      <td>0.000000</td>\n",
       "      <td>0.000000</td>\n",
       "      <td>1.771654</td>\n",
       "      <td>0.000000</td>\n",
       "      <td>0.000000</td>\n",
       "      <td>0.0</td>\n",
       "    </tr>\n",
       "    <tr>\n",
       "      <th>4</th>\n",
       "      <td>0.395833</td>\n",
       "      <td>0.187500</td>\n",
       "      <td>0.000000</td>\n",
       "      <td>0.000000</td>\n",
       "      <td>0.312500</td>\n",
       "      <td>0.000000</td>\n",
       "      <td>0.000000</td>\n",
       "      <td>0.104167</td>\n",
       "      <td>0.0</td>\n",
       "      <td>0.0</td>\n",
       "      <td>...</td>\n",
       "      <td>0.041277</td>\n",
       "      <td>0.721598</td>\n",
       "      <td>0.000000</td>\n",
       "      <td>0.000000</td>\n",
       "      <td>0.760100</td>\n",
       "      <td>0.000000</td>\n",
       "      <td>0.000000</td>\n",
       "      <td>0.024920</td>\n",
       "      <td>0.000000</td>\n",
       "      <td>0.0</td>\n",
       "    </tr>\n",
       "  </tbody>\n",
       "</table>\n",
       "<p>5 rows × 91 columns</p>\n",
       "</div>"
      ],
      "text/plain": [
       "   client_freq_main_screen  client_freq_statement  client_freq_credit_info  \\\n",
       "0                 0.000000               0.000000                 0.500000   \n",
       "1                 0.193548               0.580645                 0.032258   \n",
       "2                 0.181818               0.363636                 0.272727   \n",
       "3                 0.000000               0.777778                 0.111111   \n",
       "4                 0.395833               0.187500                 0.000000   \n",
       "\n",
       "   client_freq_own_transfer  client_freq_mobile_recharge  \\\n",
       "0                  0.000000                     0.000000   \n",
       "1                  0.032258                     0.064516   \n",
       "2                  0.090909                     0.000000   \n",
       "3                  0.000000                     0.000000   \n",
       "4                  0.000000                     0.312500   \n",
       "\n",
       "   client_freq_phone_money_transfer  client_freq_card2card_transfer  \\\n",
       "0                          0.000000                        0.000000   \n",
       "1                          0.064516                        0.000000   \n",
       "2                          0.000000                        0.000000   \n",
       "3                          0.000000                        0.111111   \n",
       "4                          0.000000                        0.000000   \n",
       "\n",
       "   client_freq_chat  client_freq_card_recharge  client_freq_invest  ...  \\\n",
       "0          0.000000                        0.5                 0.0  ...   \n",
       "1          0.032258                        0.0                 0.0  ...   \n",
       "2          0.090909                        0.0                 0.0  ...   \n",
       "3          0.000000                        0.0                 0.0  ...   \n",
       "4          0.104167                        0.0                 0.0  ...   \n",
       "\n",
       "   relations_time_past_targ_main_screen  relations_time_past_targ_statement  \\\n",
       "0                              0.000000                            0.000000   \n",
       "1                              0.719404                            5.552509   \n",
       "2                              0.006159                            2.391634   \n",
       "3                              0.000000                            0.522153   \n",
       "4                              0.041277                            0.721598   \n",
       "\n",
       "   relations_time_past_targ_credit_info  \\\n",
       "0                              0.550736   \n",
       "1                              3.139549   \n",
       "2                              0.414321   \n",
       "3                              2.344850   \n",
       "4                              0.000000   \n",
       "\n",
       "   relations_time_past_targ_own_transfer  \\\n",
       "0                               0.000000   \n",
       "1                               3.248684   \n",
       "2                               2.391750   \n",
       "3                               0.000000   \n",
       "4                               0.000000   \n",
       "\n",
       "   relations_time_past_targ_mobile_recharge  \\\n",
       "0                                  0.000000   \n",
       "1                                  4.212135   \n",
       "2                                  0.000000   \n",
       "3                                  0.000000   \n",
       "4                                  0.760100   \n",
       "\n",
       "   relations_time_past_targ_phone_money_transfer  \\\n",
       "0                                       0.000000   \n",
       "1                                       3.773859   \n",
       "2                                       0.000000   \n",
       "3                                       0.000000   \n",
       "4                                       0.000000   \n",
       "\n",
       "   relations_time_past_targ_card2card_transfer  relations_time_past_targ_chat  \\\n",
       "0                                     0.000000                       0.000000   \n",
       "1                                     0.000000                       0.839439   \n",
       "2                                     0.000000                       2.371550   \n",
       "3                                     1.771654                       0.000000   \n",
       "4                                     0.000000                       0.024920   \n",
       "\n",
       "   relations_time_past_targ_card_recharge  relations_time_past_targ_invest  \n",
       "0                                1.803765                              0.0  \n",
       "1                                0.000000                              0.0  \n",
       "2                                0.000000                              0.0  \n",
       "3                                0.000000                              0.0  \n",
       "4                                0.000000                              0.0  \n",
       "\n",
       "[5 rows x 91 columns]"
      ]
     },
     "execution_count": 34,
     "metadata": {},
     "output_type": "execute_result"
    }
   ],
   "source": [
    "#data = pd.read_csv(os.path.join(DATA_OWN, 'data_pred.csv'), parse_dates=['timestamp'])\n",
    "data = pd.read_csv(os.path.join(DATA_OWN, 'data_pred.csv'),  usecols=using_features, dtype=load_dtypes)\n",
    "data.head()"
   ]
  },
  {
   "cell_type": "code",
   "execution_count": 35,
   "metadata": {},
   "outputs": [],
   "source": [
    "if data.isnull().values.any() == True:\n",
    "    print('I have a Bad news for you!')\n",
    "    data.fillna(0, inplace = True)"
   ]
  },
  {
   "cell_type": "code",
   "execution_count": null,
   "metadata": {},
   "outputs": [],
   "source": []
  },
  {
   "cell_type": "code",
   "execution_count": 36,
   "metadata": {},
   "outputs": [
    {
     "data": {
      "text/html": [
       "<div>\n",
       "<style scoped>\n",
       "    .dataframe tbody tr th:only-of-type {\n",
       "        vertical-align: middle;\n",
       "    }\n",
       "\n",
       "    .dataframe tbody tr th {\n",
       "        vertical-align: top;\n",
       "    }\n",
       "\n",
       "    .dataframe thead th {\n",
       "        text-align: right;\n",
       "    }\n",
       "</style>\n",
       "<table border=\"1\" class=\"dataframe\">\n",
       "  <thead>\n",
       "    <tr style=\"text-align: right;\">\n",
       "      <th></th>\n",
       "      <th>client_pin</th>\n",
       "      <th>prediction</th>\n",
       "    </tr>\n",
       "  </thead>\n",
       "  <tbody>\n",
       "    <tr>\n",
       "      <th>0</th>\n",
       "      <td>f0c674b2bb4dc64be607029271d706ec</td>\n",
       "      <td>credit_info</td>\n",
       "    </tr>\n",
       "    <tr>\n",
       "      <th>1</th>\n",
       "      <td>90725b54ce77576883813d87749df6bd</td>\n",
       "      <td>credit_info</td>\n",
       "    </tr>\n",
       "    <tr>\n",
       "      <th>2</th>\n",
       "      <td>eb0f82d74c7b7bd5eafbd5b5f8cb3e2a</td>\n",
       "      <td>own_transfer</td>\n",
       "    </tr>\n",
       "    <tr>\n",
       "      <th>3</th>\n",
       "      <td>831bf4c0ecccc55e536b8cfb9153d672</td>\n",
       "      <td>statement</td>\n",
       "    </tr>\n",
       "    <tr>\n",
       "      <th>4</th>\n",
       "      <td>3f1a5a1c492ce877af833113e59c5797</td>\n",
       "      <td>invest</td>\n",
       "    </tr>\n",
       "  </tbody>\n",
       "</table>\n",
       "</div>"
      ],
      "text/plain": [
       "                         client_pin    prediction\n",
       "0  f0c674b2bb4dc64be607029271d706ec   credit_info\n",
       "1  90725b54ce77576883813d87749df6bd   credit_info\n",
       "2  eb0f82d74c7b7bd5eafbd5b5f8cb3e2a  own_transfer\n",
       "3  831bf4c0ecccc55e536b8cfb9153d672     statement\n",
       "4  3f1a5a1c492ce877af833113e59c5797        invest"
      ]
     },
     "execution_count": 36,
     "metadata": {},
     "output_type": "execute_result"
    }
   ],
   "source": [
    "subm = pd.read_csv(os.path.join(DATA, 'alfabattle2_abattle_sample_prediction.csv'))\n",
    "subm.head()"
   ]
  },
  {
   "cell_type": "code",
   "execution_count": null,
   "metadata": {},
   "outputs": [],
   "source": []
  },
  {
   "cell_type": "markdown",
   "metadata": {},
   "source": [
    "# load models"
   ]
  },
  {
   "cell_type": "code",
   "execution_count": 41,
   "metadata": {},
   "outputs": [],
   "source": [
    "#clf_sgd = pickle.load(open(os.path.join(MODELS, 'clf_sgd.pkl'), 'rb'))\n",
    "#clf_mlp = pickle.load(open(os.path.join(MODELS, 'clf_mlp.pkl'), 'rb'))\n",
    "#clf_lr = pickle.load(open(os.path.join(MODELS, 'clf_lr.pkl'), 'rb'))\n",
    "#clf_lrsvc = pickle.load(open(os.path.join(MODELS, 'clf_lrsvc.pkl'), 'rb'))\n",
    "#clf_svc = pickle.load(os.paht.join(MODELS, 'clf_svc.pkl'))\n",
    "#clf_lgbm = pickle.load(open(os.path.join(MODELS, 'clf_lgbm.pkl'), 'rb'))\n",
    "\n"
   ]
  },
  {
   "cell_type": "code",
   "execution_count": 16,
   "metadata": {},
   "outputs": [],
   "source": [
    "clf_xgb = xgb.Booster()\n",
    "clf_xgb.load_model(os.path.join(MODELS, 'clf_xgb.json'))\n",
    "target_encoder = pickle.load(open(os.path.join(UTILS, 'oe_target.pkl'), 'rb'))"
   ]
  },
  {
   "cell_type": "code",
   "execution_count": 39,
   "metadata": {},
   "outputs": [],
   "source": [
    "clf_cb = CatBoostClassifier()\n",
    "clf_cb  = clf_cb.load_model(os.path.join(MODELS, 'clf_cb.cbm'), format='cbm')"
   ]
  },
  {
   "cell_type": "code",
   "execution_count": null,
   "metadata": {},
   "outputs": [],
   "source": []
  },
  {
   "cell_type": "markdown",
   "metadata": {},
   "source": [
    "# make predictions"
   ]
  },
  {
   "cell_type": "code",
   "execution_count": null,
   "metadata": {},
   "outputs": [],
   "source": []
  },
  {
   "cell_type": "code",
   "execution_count": 11,
   "metadata": {},
   "outputs": [],
   "source": [
    "#pred_sgd = clf_sgd.predict(data[using_features])"
   ]
  },
  {
   "cell_type": "code",
   "execution_count": 13,
   "metadata": {},
   "outputs": [],
   "source": [
    "pred_mlp = clf_mlp.predict(data[using_features])"
   ]
  },
  {
   "cell_type": "code",
   "execution_count": 13,
   "metadata": {},
   "outputs": [],
   "source": [
    "#pred_svc = clf_svc.predict(data[using_features])"
   ]
  },
  {
   "cell_type": "code",
   "execution_count": 12,
   "metadata": {},
   "outputs": [],
   "source": [
    "#pred_lr = clf_lr.predict(data[using_features])"
   ]
  },
  {
   "cell_type": "code",
   "execution_count": 13,
   "metadata": {},
   "outputs": [],
   "source": [
    "#pred_lrsvc = clf_lrsvc.predict(data[using_features])"
   ]
  },
  {
   "cell_type": "code",
   "execution_count": 26,
   "metadata": {},
   "outputs": [],
   "source": [
    "#pred_lgbm = clf_lgbm.predict(data[using_features])"
   ]
  },
  {
   "cell_type": "code",
   "execution_count": 42,
   "metadata": {},
   "outputs": [],
   "source": [
    "pred_cb = clf_cb.predict(data[using_features])"
   ]
  },
  {
   "cell_type": "code",
   "execution_count": 18,
   "metadata": {},
   "outputs": [],
   "source": [
    "pred_xgb_int = clf_xgb.predict(xgb.DMatrix(data[using_features]))"
   ]
  },
  {
   "cell_type": "code",
   "execution_count": 24,
   "metadata": {},
   "outputs": [],
   "source": [
    "pred_xgb = target_encoder.inverse_transform(pred_xgb_int.reshape(-1, 1))"
   ]
  },
  {
   "cell_type": "code",
   "execution_count": null,
   "metadata": {},
   "outputs": [],
   "source": []
  },
  {
   "cell_type": "raw",
   "metadata": {},
   "source": [
    "%%time\n",
    "pred_stack = [''] * pred_sgd.shape[0]\n",
    "for idx in range(pred_sgd.shape[0]):\n",
    "    cnt = Counter([\n",
    "                   pred_sgd[idx], \n",
    "                   #pred_mlp[idx], \n",
    "                   pred_lr[idx], \n",
    "                   pred_lrsvc[idx],\n",
    "                   pred_lgbm[idx],\n",
    "               ]).most_common()\n",
    "    pred_stack[idx] = cnt[0][0]\n",
    "    \n",
    "    #if cnt[0][0] == cnt[1][0]:\n",
    "    #    print('terrible!')"
   ]
  },
  {
   "cell_type": "code",
   "execution_count": null,
   "metadata": {},
   "outputs": [],
   "source": []
  },
  {
   "cell_type": "markdown",
   "metadata": {},
   "source": [
    "# make submit"
   ]
  },
  {
   "cell_type": "code",
   "execution_count": 23,
   "metadata": {},
   "outputs": [],
   "source": [
    "#subm.prediction = pred_stack"
   ]
  },
  {
   "cell_type": "code",
   "execution_count": 43,
   "metadata": {},
   "outputs": [],
   "source": [
    "#subm.prediction = pred_sgd\n",
    "#subm.prediction = pred_mlp\n",
    "#subm.prediction = pred_lr\n",
    "subm.prediction = pred_cb\n",
    "#subm.prediction = pred_lrsvc\n",
    "#subm.prediction = pred_lgbm\n",
    "#subm.prediction = pred_xgb"
   ]
  },
  {
   "cell_type": "code",
   "execution_count": 46,
   "metadata": {},
   "outputs": [],
   "source": [
    "subm.to_csv(os.path.join(SUBM, 'subm_client_6diff_lt_relat_cb.csv'), index = False)"
   ]
  },
  {
   "cell_type": "code",
   "execution_count": null,
   "metadata": {},
   "outputs": [],
   "source": []
  },
  {
   "cell_type": "code",
   "execution_count": null,
   "metadata": {},
   "outputs": [],
   "source": []
  }
 ],
 "metadata": {
  "kernelspec": {
   "display_name": "Python 3",
   "language": "python",
   "name": "python3"
  },
  "language_info": {
   "codemirror_mode": {
    "name": "ipython",
    "version": 3
   },
   "file_extension": ".py",
   "mimetype": "text/x-python",
   "name": "python",
   "nbconvert_exporter": "python",
   "pygments_lexer": "ipython3",
   "version": "3.7.9"
  }
 },
 "nbformat": 4,
 "nbformat_minor": 4
}
