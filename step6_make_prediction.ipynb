{
 "cells": [
  {
   "cell_type": "code",
   "execution_count": 1,
   "metadata": {},
   "outputs": [
    {
     "name": "stderr",
     "output_type": "stream",
     "text": [
      "C:\\Users\\_v010ch_\\Anaconda3\\lib\\site-packages\\tqdm\\std.py:697: FutureWarning: The Panel class is removed from pandas. Accessing it from the top-level namespace will also be removed in the next version\n",
      "  from pandas import Panel\n"
     ]
    }
   ],
   "source": [
    "import os\n",
    "from glob import glob\n",
    "\n",
    "import pandas as pd\n",
    "import numpy as np\n",
    "from collections import Counter\n",
    "\n",
    "import pickle\n",
    "import gc\n",
    "\n",
    "from tqdm import tqdm\n",
    "tqdm.pandas()"
   ]
  },
  {
   "cell_type": "code",
   "execution_count": 2,
   "metadata": {},
   "outputs": [],
   "source": [
    "from sklearn.preprocessing import LabelBinarizer, OneHotEncoder\n",
    "\n",
    "from sklearn.model_selection import GridSearchCV\n",
    "from sklearn.model_selection import train_test_split\n",
    "\n",
    "from sklearn.metrics import f1_score, make_scorer"
   ]
  },
  {
   "cell_type": "code",
   "execution_count": 3,
   "metadata": {},
   "outputs": [],
   "source": [
    "from sklearn.linear_model import SGDClassifier\n",
    "from sklearn.neural_network import MLPClassifier\n",
    "#from sklearn.svm import SVC\n",
    "from sklearn.svm import LinearSVC\n",
    "from sklearn.linear_model import LogisticRegression\n",
    "\n",
    "import catboost as cb\n",
    "from catboost import CatBoostClassifier"
   ]
  },
  {
   "cell_type": "code",
   "execution_count": null,
   "metadata": {},
   "outputs": [],
   "source": []
  },
  {
   "cell_type": "code",
   "execution_count": 4,
   "metadata": {},
   "outputs": [],
   "source": [
    "DATA = './data'\n",
    "DATA_OWN = './data_own'\n",
    "CLICKSTREAM = 'alfabattle2_abattle_clickstream'\n",
    "MODELS = './models'\n",
    "UTILS = './utils'\n",
    "SUBM = './submissions'"
   ]
  },
  {
   "cell_type": "code",
   "execution_count": null,
   "metadata": {},
   "outputs": [],
   "source": []
  },
  {
   "cell_type": "markdown",
   "metadata": {},
   "source": [
    "# load data / submit / features"
   ]
  },
  {
   "cell_type": "code",
   "execution_count": 5,
   "metadata": {},
   "outputs": [],
   "source": [
    "using_features = pickle.load(open(os.path.join(DATA_OWN, 'using_features.pkl'), 'rb'))"
   ]
  },
  {
   "cell_type": "code",
   "execution_count": 7,
   "metadata": {},
   "outputs": [
    {
     "data": {
      "text/html": [
       "<div>\n",
       "<style scoped>\n",
       "    .dataframe tbody tr th:only-of-type {\n",
       "        vertical-align: middle;\n",
       "    }\n",
       "\n",
       "    .dataframe tbody tr th {\n",
       "        vertical-align: top;\n",
       "    }\n",
       "\n",
       "    .dataframe thead th {\n",
       "        text-align: right;\n",
       "    }\n",
       "</style>\n",
       "<table border=\"1\" class=\"dataframe\">\n",
       "  <thead>\n",
       "    <tr style=\"text-align: right;\">\n",
       "      <th></th>\n",
       "      <th>client_freq_main_screen</th>\n",
       "      <th>client_freq_statement</th>\n",
       "      <th>client_freq_credit_info</th>\n",
       "      <th>client_freq_own_transfer</th>\n",
       "      <th>client_freq_mobile_recharge</th>\n",
       "      <th>client_freq_phone_money_transfer</th>\n",
       "      <th>client_freq_card2card_transfer</th>\n",
       "      <th>client_freq_chat</th>\n",
       "      <th>client_freq_card_recharge</th>\n",
       "      <th>client_freq_invest</th>\n",
       "      <th>...</th>\n",
       "      <th>tod_diff_glob_freq_main_screen</th>\n",
       "      <th>tod_diff_glob_freq_statement</th>\n",
       "      <th>tod_diff_glob_freq_credit_info</th>\n",
       "      <th>tod_diff_glob_freq_own_transfer</th>\n",
       "      <th>tod_diff_glob_freq_mobile_recharge</th>\n",
       "      <th>tod_diff_glob_freq_phone_money_transfer</th>\n",
       "      <th>tod_diff_glob_freq_card2card_transfer</th>\n",
       "      <th>tod_diff_glob_freq_chat</th>\n",
       "      <th>tod_diff_glob_freq_card_recharge</th>\n",
       "      <th>tod_diff_glob_freq_invest</th>\n",
       "    </tr>\n",
       "  </thead>\n",
       "  <tbody>\n",
       "    <tr>\n",
       "      <th>0</th>\n",
       "      <td>0.000000</td>\n",
       "      <td>0.000000</td>\n",
       "      <td>0.500000</td>\n",
       "      <td>0.000000</td>\n",
       "      <td>0.000000</td>\n",
       "      <td>0.000000</td>\n",
       "      <td>0.000000</td>\n",
       "      <td>0.000000</td>\n",
       "      <td>0.5</td>\n",
       "      <td>0.0</td>\n",
       "      <td>...</td>\n",
       "      <td>0.002702</td>\n",
       "      <td>0.004453</td>\n",
       "      <td>-0.022015</td>\n",
       "      <td>0.011315</td>\n",
       "      <td>-0.018217</td>\n",
       "      <td>0.011603</td>\n",
       "      <td>0.006227</td>\n",
       "      <td>0.002242</td>\n",
       "      <td>0.00332</td>\n",
       "      <td>-0.001628</td>\n",
       "    </tr>\n",
       "    <tr>\n",
       "      <th>1</th>\n",
       "      <td>0.193548</td>\n",
       "      <td>0.580645</td>\n",
       "      <td>0.032258</td>\n",
       "      <td>0.032258</td>\n",
       "      <td>0.064516</td>\n",
       "      <td>0.064516</td>\n",
       "      <td>0.000000</td>\n",
       "      <td>0.032258</td>\n",
       "      <td>0.0</td>\n",
       "      <td>0.0</td>\n",
       "      <td>...</td>\n",
       "      <td>0.002702</td>\n",
       "      <td>0.004453</td>\n",
       "      <td>-0.022015</td>\n",
       "      <td>0.011315</td>\n",
       "      <td>-0.018217</td>\n",
       "      <td>0.011603</td>\n",
       "      <td>0.006227</td>\n",
       "      <td>0.002242</td>\n",
       "      <td>0.00332</td>\n",
       "      <td>-0.001628</td>\n",
       "    </tr>\n",
       "    <tr>\n",
       "      <th>2</th>\n",
       "      <td>0.181818</td>\n",
       "      <td>0.363636</td>\n",
       "      <td>0.272727</td>\n",
       "      <td>0.090909</td>\n",
       "      <td>0.000000</td>\n",
       "      <td>0.000000</td>\n",
       "      <td>0.000000</td>\n",
       "      <td>0.090909</td>\n",
       "      <td>0.0</td>\n",
       "      <td>0.0</td>\n",
       "      <td>...</td>\n",
       "      <td>0.002702</td>\n",
       "      <td>0.004453</td>\n",
       "      <td>-0.022015</td>\n",
       "      <td>0.011315</td>\n",
       "      <td>-0.018217</td>\n",
       "      <td>0.011603</td>\n",
       "      <td>0.006227</td>\n",
       "      <td>0.002242</td>\n",
       "      <td>0.00332</td>\n",
       "      <td>-0.001628</td>\n",
       "    </tr>\n",
       "    <tr>\n",
       "      <th>3</th>\n",
       "      <td>0.000000</td>\n",
       "      <td>0.777778</td>\n",
       "      <td>0.111111</td>\n",
       "      <td>0.000000</td>\n",
       "      <td>0.000000</td>\n",
       "      <td>0.000000</td>\n",
       "      <td>0.111111</td>\n",
       "      <td>0.000000</td>\n",
       "      <td>0.0</td>\n",
       "      <td>0.0</td>\n",
       "      <td>...</td>\n",
       "      <td>0.002702</td>\n",
       "      <td>0.004453</td>\n",
       "      <td>-0.022015</td>\n",
       "      <td>0.011315</td>\n",
       "      <td>-0.018217</td>\n",
       "      <td>0.011603</td>\n",
       "      <td>0.006227</td>\n",
       "      <td>0.002242</td>\n",
       "      <td>0.00332</td>\n",
       "      <td>-0.001628</td>\n",
       "    </tr>\n",
       "    <tr>\n",
       "      <th>4</th>\n",
       "      <td>0.395833</td>\n",
       "      <td>0.187500</td>\n",
       "      <td>0.000000</td>\n",
       "      <td>0.000000</td>\n",
       "      <td>0.312500</td>\n",
       "      <td>0.000000</td>\n",
       "      <td>0.000000</td>\n",
       "      <td>0.104167</td>\n",
       "      <td>0.0</td>\n",
       "      <td>0.0</td>\n",
       "      <td>...</td>\n",
       "      <td>0.002702</td>\n",
       "      <td>0.004453</td>\n",
       "      <td>-0.022015</td>\n",
       "      <td>0.011315</td>\n",
       "      <td>-0.018217</td>\n",
       "      <td>0.011603</td>\n",
       "      <td>0.006227</td>\n",
       "      <td>0.002242</td>\n",
       "      <td>0.00332</td>\n",
       "      <td>-0.001628</td>\n",
       "    </tr>\n",
       "  </tbody>\n",
       "</table>\n",
       "<p>5 rows × 70 columns</p>\n",
       "</div>"
      ],
      "text/plain": [
       "   client_freq_main_screen  client_freq_statement  client_freq_credit_info  \\\n",
       "0                 0.000000               0.000000                 0.500000   \n",
       "1                 0.193548               0.580645                 0.032258   \n",
       "2                 0.181818               0.363636                 0.272727   \n",
       "3                 0.000000               0.777778                 0.111111   \n",
       "4                 0.395833               0.187500                 0.000000   \n",
       "\n",
       "   client_freq_own_transfer  client_freq_mobile_recharge  \\\n",
       "0                  0.000000                     0.000000   \n",
       "1                  0.032258                     0.064516   \n",
       "2                  0.090909                     0.000000   \n",
       "3                  0.000000                     0.000000   \n",
       "4                  0.000000                     0.312500   \n",
       "\n",
       "   client_freq_phone_money_transfer  client_freq_card2card_transfer  \\\n",
       "0                          0.000000                        0.000000   \n",
       "1                          0.064516                        0.000000   \n",
       "2                          0.000000                        0.000000   \n",
       "3                          0.000000                        0.111111   \n",
       "4                          0.000000                        0.000000   \n",
       "\n",
       "   client_freq_chat  client_freq_card_recharge  client_freq_invest  ...  \\\n",
       "0          0.000000                        0.5                 0.0  ...   \n",
       "1          0.032258                        0.0                 0.0  ...   \n",
       "2          0.090909                        0.0                 0.0  ...   \n",
       "3          0.000000                        0.0                 0.0  ...   \n",
       "4          0.104167                        0.0                 0.0  ...   \n",
       "\n",
       "   tod_diff_glob_freq_main_screen  tod_diff_glob_freq_statement  \\\n",
       "0                        0.002702                      0.004453   \n",
       "1                        0.002702                      0.004453   \n",
       "2                        0.002702                      0.004453   \n",
       "3                        0.002702                      0.004453   \n",
       "4                        0.002702                      0.004453   \n",
       "\n",
       "   tod_diff_glob_freq_credit_info  tod_diff_glob_freq_own_transfer  \\\n",
       "0                       -0.022015                         0.011315   \n",
       "1                       -0.022015                         0.011315   \n",
       "2                       -0.022015                         0.011315   \n",
       "3                       -0.022015                         0.011315   \n",
       "4                       -0.022015                         0.011315   \n",
       "\n",
       "   tod_diff_glob_freq_mobile_recharge  \\\n",
       "0                           -0.018217   \n",
       "1                           -0.018217   \n",
       "2                           -0.018217   \n",
       "3                           -0.018217   \n",
       "4                           -0.018217   \n",
       "\n",
       "   tod_diff_glob_freq_phone_money_transfer  \\\n",
       "0                                 0.011603   \n",
       "1                                 0.011603   \n",
       "2                                 0.011603   \n",
       "3                                 0.011603   \n",
       "4                                 0.011603   \n",
       "\n",
       "   tod_diff_glob_freq_card2card_transfer  tod_diff_glob_freq_chat  \\\n",
       "0                               0.006227                 0.002242   \n",
       "1                               0.006227                 0.002242   \n",
       "2                               0.006227                 0.002242   \n",
       "3                               0.006227                 0.002242   \n",
       "4                               0.006227                 0.002242   \n",
       "\n",
       "   tod_diff_glob_freq_card_recharge  tod_diff_glob_freq_invest  \n",
       "0                           0.00332                  -0.001628  \n",
       "1                           0.00332                  -0.001628  \n",
       "2                           0.00332                  -0.001628  \n",
       "3                           0.00332                  -0.001628  \n",
       "4                           0.00332                  -0.001628  \n",
       "\n",
       "[5 rows x 70 columns]"
      ]
     },
     "execution_count": 7,
     "metadata": {},
     "output_type": "execute_result"
    }
   ],
   "source": [
    "#data = pd.read_csv(os.path.join(DATA_OWN, 'data_pred.csv'), parse_dates=['timestamp'])\n",
    "data = pd.read_csv(os.path.join(DATA_OWN, 'data_pred.csv'), usecols = using_features)\n",
    "data.head()"
   ]
  },
  {
   "cell_type": "code",
   "execution_count": 8,
   "metadata": {},
   "outputs": [
    {
     "name": "stdout",
     "output_type": "stream",
     "text": [
      "I have a Bad news for you!\n"
     ]
    }
   ],
   "source": [
    "if data.isnull().values.any() == True:\n",
    "    print('I have a Bad news for you!')\n",
    "    data.fillna(0, inplace = True)"
   ]
  },
  {
   "cell_type": "code",
   "execution_count": null,
   "metadata": {},
   "outputs": [],
   "source": []
  },
  {
   "cell_type": "code",
   "execution_count": 9,
   "metadata": {},
   "outputs": [
    {
     "data": {
      "text/html": [
       "<div>\n",
       "<style scoped>\n",
       "    .dataframe tbody tr th:only-of-type {\n",
       "        vertical-align: middle;\n",
       "    }\n",
       "\n",
       "    .dataframe tbody tr th {\n",
       "        vertical-align: top;\n",
       "    }\n",
       "\n",
       "    .dataframe thead th {\n",
       "        text-align: right;\n",
       "    }\n",
       "</style>\n",
       "<table border=\"1\" class=\"dataframe\">\n",
       "  <thead>\n",
       "    <tr style=\"text-align: right;\">\n",
       "      <th></th>\n",
       "      <th>client_pin</th>\n",
       "      <th>prediction</th>\n",
       "    </tr>\n",
       "  </thead>\n",
       "  <tbody>\n",
       "    <tr>\n",
       "      <th>0</th>\n",
       "      <td>f0c674b2bb4dc64be607029271d706ec</td>\n",
       "      <td>credit_info</td>\n",
       "    </tr>\n",
       "    <tr>\n",
       "      <th>1</th>\n",
       "      <td>90725b54ce77576883813d87749df6bd</td>\n",
       "      <td>credit_info</td>\n",
       "    </tr>\n",
       "    <tr>\n",
       "      <th>2</th>\n",
       "      <td>eb0f82d74c7b7bd5eafbd5b5f8cb3e2a</td>\n",
       "      <td>own_transfer</td>\n",
       "    </tr>\n",
       "    <tr>\n",
       "      <th>3</th>\n",
       "      <td>831bf4c0ecccc55e536b8cfb9153d672</td>\n",
       "      <td>statement</td>\n",
       "    </tr>\n",
       "    <tr>\n",
       "      <th>4</th>\n",
       "      <td>3f1a5a1c492ce877af833113e59c5797</td>\n",
       "      <td>invest</td>\n",
       "    </tr>\n",
       "  </tbody>\n",
       "</table>\n",
       "</div>"
      ],
      "text/plain": [
       "                         client_pin    prediction\n",
       "0  f0c674b2bb4dc64be607029271d706ec   credit_info\n",
       "1  90725b54ce77576883813d87749df6bd   credit_info\n",
       "2  eb0f82d74c7b7bd5eafbd5b5f8cb3e2a  own_transfer\n",
       "3  831bf4c0ecccc55e536b8cfb9153d672     statement\n",
       "4  3f1a5a1c492ce877af833113e59c5797        invest"
      ]
     },
     "execution_count": 9,
     "metadata": {},
     "output_type": "execute_result"
    }
   ],
   "source": [
    "subm = pd.read_csv(os.path.join(DATA, 'alfabattle2_abattle_sample_prediction.csv'))\n",
    "subm.head()"
   ]
  },
  {
   "cell_type": "code",
   "execution_count": null,
   "metadata": {},
   "outputs": [],
   "source": []
  },
  {
   "cell_type": "markdown",
   "metadata": {},
   "source": [
    "# load models"
   ]
  },
  {
   "cell_type": "code",
   "execution_count": 10,
   "metadata": {},
   "outputs": [],
   "source": [
    "clf_sgd = pickle.load(open(os.path.join(MODELS, 'clf_sgd.pkl'), 'rb'))\n",
    "#clf_mlp = pickle.load(os.paht.join(MODELS, 'clf_mlp.pkl'))\n",
    "clf_lr = pickle.load(open(os.path.join(MODELS, 'clf_lr.pkl'), 'rb'))\n",
    "clf_lrsvc = pickle.load(open(os.path.join(MODELS, 'clf_lrsvc.pkl'), 'rb'))\n",
    "#clf_svc = pickle.load(os.paht.join(MODELS, 'clf_svc.pkl'))\n",
    "\n",
    "#clf_cb  = cb.load_model(os.paht.join(MODELS, 'clf_cb.cbm'), format='cbm')"
   ]
  },
  {
   "cell_type": "code",
   "execution_count": null,
   "metadata": {},
   "outputs": [],
   "source": []
  },
  {
   "cell_type": "markdown",
   "metadata": {},
   "source": [
    "# make predictions"
   ]
  },
  {
   "cell_type": "code",
   "execution_count": null,
   "metadata": {},
   "outputs": [],
   "source": []
  },
  {
   "cell_type": "code",
   "execution_count": 11,
   "metadata": {},
   "outputs": [],
   "source": [
    "pred_sgd = clf_sgd.predict(data[using_features])"
   ]
  },
  {
   "cell_type": "code",
   "execution_count": 12,
   "metadata": {},
   "outputs": [],
   "source": [
    "#pred_mlp = clf_mlp.predict(data[using_features])"
   ]
  },
  {
   "cell_type": "code",
   "execution_count": 13,
   "metadata": {},
   "outputs": [],
   "source": [
    "#pred_svc = clf_svc.predict(data[using_features])"
   ]
  },
  {
   "cell_type": "code",
   "execution_count": 14,
   "metadata": {},
   "outputs": [],
   "source": [
    "pred_lr = clf_lr.predict(data[using_features])"
   ]
  },
  {
   "cell_type": "code",
   "execution_count": 15,
   "metadata": {},
   "outputs": [],
   "source": [
    "pred_lrsvc = clf_lrsvc.predict(data[using_features])"
   ]
  },
  {
   "cell_type": "code",
   "execution_count": 16,
   "metadata": {},
   "outputs": [],
   "source": [
    "#pred_cb = clf_cb.predict(data[using_features])"
   ]
  },
  {
   "cell_type": "code",
   "execution_count": null,
   "metadata": {},
   "outputs": [],
   "source": []
  },
  {
   "cell_type": "code",
   "execution_count": 22,
   "metadata": {},
   "outputs": [
    {
     "name": "stdout",
     "output_type": "stream",
     "text": [
      "Wall time: 304 ms\n"
     ]
    }
   ],
   "source": [
    "%%time\n",
    "pred_stack = [''] * pred_sgd.shape[0]\n",
    "for idx in range(pred_sgd.shape[0]):\n",
    "    cnt = Counter([\n",
    "                   pred_sgd[idx], \n",
    "                   #pred_mlp[idx], \n",
    "                   pred_lr[idx], \n",
    "                   pred_lrsvc[idx]\n",
    "               ]).most_common()\n",
    "    pred_stack[idx] = cnt[0][0]\n",
    "    \n",
    "    #if cnt[0][0] == cnt[1][0]:\n",
    "    #    print('terrible!')"
   ]
  },
  {
   "cell_type": "code",
   "execution_count": null,
   "metadata": {},
   "outputs": [],
   "source": []
  },
  {
   "cell_type": "markdown",
   "metadata": {},
   "source": [
    "# make submit"
   ]
  },
  {
   "cell_type": "code",
   "execution_count": 23,
   "metadata": {},
   "outputs": [],
   "source": [
    "subm.prediction = pred_stack"
   ]
  },
  {
   "cell_type": "code",
   "execution_count": 26,
   "metadata": {},
   "outputs": [],
   "source": [
    "subm.to_csv(os.path.join(SUBM, 'subm_client_6diff_3stack.csv'), index = False)"
   ]
  },
  {
   "cell_type": "code",
   "execution_count": null,
   "metadata": {},
   "outputs": [],
   "source": []
  }
 ],
 "metadata": {
  "kernelspec": {
   "display_name": "Python 3",
   "language": "python",
   "name": "python3"
  },
  "language_info": {
   "codemirror_mode": {
    "name": "ipython",
    "version": 3
   },
   "file_extension": ".py",
   "mimetype": "text/x-python",
   "name": "python",
   "nbconvert_exporter": "python",
   "pygments_lexer": "ipython3",
   "version": "3.7.9"
  }
 },
 "nbformat": 4,
 "nbformat_minor": 4
}
